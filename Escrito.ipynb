{
 "cells": [
  {
   "cell_type": "markdown",
   "id": "f8820a1e",
   "metadata": {},
   "source": [
    "\n",
    "\n",
    "<p align=\"center\">\n",
    "  <img src=\"TEC.PNG\" alt=\"Logo del Tec\" width=\"500\">\n",
    "</p>\n",
    "\n"
   ]
  },
  {
   "cell_type": "markdown",
   "id": "08eb7b42",
   "metadata": {},
   "source": [
    "<div align=\"center\">\n",
    "\n",
    "<h3>Instituto Tecnológico de Estudios Superiores de Monterrey CCM</h3>\n",
    "\n",
    "<p><strong>Análisis de Ciencia de Datos</strong><br>\n",
    "Grupo 242</p>\n",
    "\n",
    "<h3><strong>Reto</strong></h3>\n",
    "<h3>Primer avance<h3>\n",
    "\n",
    "<p>Chiara Bombardieri Balanzá - A01659462<br>\n",
    "Gerardo Javier López García - A016600262<br>\n",
    "Axel Palacios Granados - A01666972 <br>\n",
    "Cristian Cruz Orozco - A01665590 <br>\n",
    "Alejandro Martínez Ochoa - A01657661</p>\n",
    "\n",
    "<p>Febrero - Junio 2025</p>\n",
    "\n",
    "</div>\n"
   ]
  },
  {
   "cell_type": "markdown",
   "id": "e5500323",
   "metadata": {},
   "source": [
    "## Introducción \n",
    "El presente trabajo tiene como finalidad desarrollar un análisis detallado de la base de datos proporcionada por el socio formador. Este análisis se estructuró dividiendo la información en distintos campos clave, con el objetivo de facilitar la comprensión de los datos y extraer conclusiones significativas. Posteriormente, se integraron los hallazgos en un resumen general que permite observar el comportamiento global de las cuentas y partidas presupuestarias.\n",
    "\n",
    "Adicionalmente, se plantea una hipótesis basada en los datos de los primeros tres a cuatro meses del año fiscal. Esta consiste en desarrollar un modelo de machine learning capaz de pronosticar el comportamiento de los gastos a lo largo del año, y detectar si existe la posibilidad de que se supere el presupuesto asignado. Este tipo de herramienta predictiva puede resultar clave para una toma de decisiones más informada y una gestión financiera más eficiente.\n",
    "\n",
    "Cabe destacar que, en este primer avance, únicamente se presenta la hipótesis y su planteamiento general. Su desarrollo completo, así como la validación del modelo propuesto, se llevará a cabo en entregas posteriores del proyecto."
   ]
  },
  {
   "cell_type": "markdown",
   "id": "443b8467",
   "metadata": {},
   "source": [
    "# Desarrollo del primer avance \n",
    "Como se mencionó al inicio, para este proyecto se trabajó con todas las hojas de Excel que nos proporcionó el socio formador. El primer paso fue limpiar los datos de cada una de esas hojas, ya que muchas contenían información repetida, celdas vacías o datos que no eran necesarios para el análisis. Una vez que los datos estuvieron limpios, se dividió la información en varios DataFrames para poder trabajar cada parte por separado y analizarla de manera más ordenada. Todo este proceso fue importante para poder llegar a las gráficas que se mostrarán más adelante."
   ]
  },
  {
   "cell_type": "markdown",
   "id": "93a1ee94",
   "metadata": {},
   "source": [
    "# Data\n",
    "\n",
    "En esta sección del análisis se trabaja con información importante relacionada con el funcionamiento interno del negocio. Específicamente, se incluyen los datos de los distintos procesos que se llevan a cabo, como operaciones financieras con externos. Se analiza información sobre los proveedores que forman parte del ecosistema del negocio. Esto incluye quiénes son, con qué frecuencia participan, y qué tipo de servicios o productos ofrecen. De igual forma, se toma en cuenta a otras personas involucradas, como colaboradores externos o responsables de ciertas áreas.\n",
    "\n",
    "Para organizar mejor todos estos datos, se crearon varios DataFrames. Esto nos permite observar los datos de forma más clara y trabajar con ellos de manera más eficiente."
   ]
  },
  {
   "cell_type": "code",
   "execution_count": 99,
   "id": "7c37f9c6",
   "metadata": {},
   "outputs": [],
   "source": [
    "import pandas as pd\n",
    "import matplotlib.pyplot as plt\n",
    "import plotly.express as px\n",
    "import plotly.graph_objects as go\n",
    "import warnings\n",
    "warnings.filterwarnings(\"ignore\")\n",
    "import numpy as np"
   ]
  },
  {
   "cell_type": "code",
   "execution_count": 100,
   "id": "c6063050",
   "metadata": {},
   "outputs": [
    {
     "data": {
      "text/html": [
       "<div>\n",
       "<style scoped>\n",
       "    .dataframe tbody tr th:only-of-type {\n",
       "        vertical-align: middle;\n",
       "    }\n",
       "\n",
       "    .dataframe tbody tr th {\n",
       "        vertical-align: top;\n",
       "    }\n",
       "\n",
       "    .dataframe thead th {\n",
       "        text-align: right;\n",
       "    }\n",
       "</style>\n",
       "<table border=\"1\" class=\"dataframe\">\n",
       "  <thead>\n",
       "    <tr style=\"text-align: right;\">\n",
       "      <th></th>\n",
       "      <th>CONTROL</th>\n",
       "      <th># CHEQUE</th>\n",
       "      <th>PARTIDA PRESUPUESTAL</th>\n",
       "      <th>UIDD/FOLIO FISCAL</th>\n",
       "      <th>DIRECCION</th>\n",
       "      <th>REGIMEN FISCAL</th>\n",
       "      <th>NOMBRE REGIMEN FISCAL</th>\n",
       "      <th>RFC</th>\n",
       "      <th>STATUS</th>\n",
       "      <th>FECHA DE RECIBIDO</th>\n",
       "      <th>...</th>\n",
       "      <th>Valida</th>\n",
       "      <th>MES</th>\n",
       "      <th>Column1</th>\n",
       "      <th>SUBTOTAL2</th>\n",
       "      <th>IVA3</th>\n",
       "      <th>RET IVA4</th>\n",
       "      <th>RET ISR.1</th>\n",
       "      <th>TOTAL.1</th>\n",
       "      <th>CAMBIOS</th>\n",
       "      <th>Unnamed: 36</th>\n",
       "    </tr>\n",
       "  </thead>\n",
       "  <tbody>\n",
       "    <tr>\n",
       "      <th>0</th>\n",
       "      <td>NaN</td>\n",
       "      <td>NaN</td>\n",
       "      <td>Income (Funding)</td>\n",
       "      <td>NaN</td>\n",
       "      <td>NaN</td>\n",
       "      <td>NaN</td>\n",
       "      <td>NaN</td>\n",
       "      <td>NaN</td>\n",
       "      <td>NaN</td>\n",
       "      <td>NaN</td>\n",
       "      <td>...</td>\n",
       "      <td>Balance</td>\n",
       "      <td>NaN</td>\n",
       "      <td>0</td>\n",
       "      <td>NaN</td>\n",
       "      <td>NaN</td>\n",
       "      <td>NaN</td>\n",
       "      <td>NaN</td>\n",
       "      <td>NaN</td>\n",
       "      <td>NaN</td>\n",
       "      <td>NaN</td>\n",
       "    </tr>\n",
       "    <tr>\n",
       "      <th>1</th>\n",
       "      <td>NaN</td>\n",
       "      <td>NaN</td>\n",
       "      <td>Income (Funding) IVA</td>\n",
       "      <td>NaN</td>\n",
       "      <td>NaN</td>\n",
       "      <td>NaN</td>\n",
       "      <td>NaN</td>\n",
       "      <td>NaN</td>\n",
       "      <td>NaN</td>\n",
       "      <td>NaN</td>\n",
       "      <td>...</td>\n",
       "      <td>Balance</td>\n",
       "      <td>NaN</td>\n",
       "      <td>0</td>\n",
       "      <td>NaN</td>\n",
       "      <td>NaN</td>\n",
       "      <td>NaN</td>\n",
       "      <td>NaN</td>\n",
       "      <td>NaN</td>\n",
       "      <td>NaN</td>\n",
       "      <td>NaN</td>\n",
       "    </tr>\n",
       "    <tr>\n",
       "      <th>2</th>\n",
       "      <td>F1.2</td>\n",
       "      <td>NaN</td>\n",
       "      <td>Income (Funding)</td>\n",
       "      <td>NaN</td>\n",
       "      <td>NaN</td>\n",
       "      <td>Estados Unidos (los)</td>\n",
       "      <td>Estados Unidos (los)</td>\n",
       "      <td>0.00</td>\n",
       "      <td>NaN</td>\n",
       "      <td>NaN</td>\n",
       "      <td>...</td>\n",
       "      <td>Balance</td>\n",
       "      <td>NaN</td>\n",
       "      <td>0</td>\n",
       "      <td>NaN</td>\n",
       "      <td>NaN</td>\n",
       "      <td>NaN</td>\n",
       "      <td>NaN</td>\n",
       "      <td>NaN</td>\n",
       "      <td>NaN</td>\n",
       "      <td>NaN</td>\n",
       "    </tr>\n",
       "    <tr>\n",
       "      <th>3</th>\n",
       "      <td>N001</td>\n",
       "      <td>0001</td>\n",
       "      <td>7007-009</td>\n",
       "      <td>0.00</td>\n",
       "      <td>86127</td>\n",
       "      <td>Régimen Simplificado de Confianza</td>\n",
       "      <td>Régimen Simplificado de Confianza</td>\n",
       "      <td>1.00</td>\n",
       "      <td>NaN</td>\n",
       "      <td>33.00</td>\n",
       "      <td>...</td>\n",
       "      <td>7007-009</td>\n",
       "      <td>NaN</td>\n",
       "      <td>0</td>\n",
       "      <td>NaN</td>\n",
       "      <td>NaN</td>\n",
       "      <td>NaN</td>\n",
       "      <td>NaN</td>\n",
       "      <td>NaN</td>\n",
       "      <td>NaN</td>\n",
       "      <td>-45,135.00</td>\n",
       "    </tr>\n",
       "    <tr>\n",
       "      <th>4</th>\n",
       "      <td>N003</td>\n",
       "      <td>0004</td>\n",
       "      <td>1107-009</td>\n",
       "      <td>1.00</td>\n",
       "      <td>4318</td>\n",
       "      <td>Régimen Simplificado de Confianza</td>\n",
       "      <td>Régimen Simplificado de Confianza</td>\n",
       "      <td>2.00</td>\n",
       "      <td>NaN</td>\n",
       "      <td>40.00</td>\n",
       "      <td>...</td>\n",
       "      <td>1107-009</td>\n",
       "      <td>NaN</td>\n",
       "      <td>0</td>\n",
       "      <td>NaN</td>\n",
       "      <td>NaN</td>\n",
       "      <td>NaN</td>\n",
       "      <td>NaN</td>\n",
       "      <td>NaN</td>\n",
       "      <td>NaN</td>\n",
       "      <td>-45,128.00</td>\n",
       "    </tr>\n",
       "    <tr>\n",
       "      <th>...</th>\n",
       "      <td>...</td>\n",
       "      <td>...</td>\n",
       "      <td>...</td>\n",
       "      <td>...</td>\n",
       "      <td>...</td>\n",
       "      <td>...</td>\n",
       "      <td>...</td>\n",
       "      <td>...</td>\n",
       "      <td>...</td>\n",
       "      <td>...</td>\n",
       "      <td>...</td>\n",
       "      <td>...</td>\n",
       "      <td>...</td>\n",
       "      <td>...</td>\n",
       "      <td>...</td>\n",
       "      <td>...</td>\n",
       "      <td>...</td>\n",
       "      <td>...</td>\n",
       "      <td>...</td>\n",
       "      <td>...</td>\n",
       "      <td>...</td>\n",
       "    </tr>\n",
       "    <tr>\n",
       "      <th>7881</th>\n",
       "      <td>NaN</td>\n",
       "      <td>NaN</td>\n",
       "      <td>NaN</td>\n",
       "      <td>NaN</td>\n",
       "      <td>NaN</td>\n",
       "      <td>NaN</td>\n",
       "      <td>NaN</td>\n",
       "      <td>NaN</td>\n",
       "      <td>NaN</td>\n",
       "      <td>NaN</td>\n",
       "      <td>...</td>\n",
       "      <td>Balance</td>\n",
       "      <td>NaN</td>\n",
       "      <td>0</td>\n",
       "      <td>NaN</td>\n",
       "      <td>NaN</td>\n",
       "      <td>NaN</td>\n",
       "      <td>NaN</td>\n",
       "      <td>NaN</td>\n",
       "      <td>NaN</td>\n",
       "      <td>NaN</td>\n",
       "    </tr>\n",
       "    <tr>\n",
       "      <th>7882</th>\n",
       "      <td>NaN</td>\n",
       "      <td>NaN</td>\n",
       "      <td>NaN</td>\n",
       "      <td>NaN</td>\n",
       "      <td>NaN</td>\n",
       "      <td>NaN</td>\n",
       "      <td>NaN</td>\n",
       "      <td>NaN</td>\n",
       "      <td>NaN</td>\n",
       "      <td>NaN</td>\n",
       "      <td>...</td>\n",
       "      <td>Balance</td>\n",
       "      <td>NaN</td>\n",
       "      <td>0</td>\n",
       "      <td>NaN</td>\n",
       "      <td>NaN</td>\n",
       "      <td>NaN</td>\n",
       "      <td>NaN</td>\n",
       "      <td>NaN</td>\n",
       "      <td>NaN</td>\n",
       "      <td>NaN</td>\n",
       "    </tr>\n",
       "    <tr>\n",
       "      <th>7883</th>\n",
       "      <td>NaN</td>\n",
       "      <td>NaN</td>\n",
       "      <td>NaN</td>\n",
       "      <td>NaN</td>\n",
       "      <td>NaN</td>\n",
       "      <td>NaN</td>\n",
       "      <td>NaN</td>\n",
       "      <td>NaN</td>\n",
       "      <td>NaN</td>\n",
       "      <td>NaN</td>\n",
       "      <td>...</td>\n",
       "      <td>Balance</td>\n",
       "      <td>NaN</td>\n",
       "      <td>0</td>\n",
       "      <td>NaN</td>\n",
       "      <td>NaN</td>\n",
       "      <td>NaN</td>\n",
       "      <td>NaN</td>\n",
       "      <td>NaN</td>\n",
       "      <td>NaN</td>\n",
       "      <td>NaN</td>\n",
       "    </tr>\n",
       "    <tr>\n",
       "      <th>7884</th>\n",
       "      <td>NaN</td>\n",
       "      <td>NaN</td>\n",
       "      <td>NaN</td>\n",
       "      <td>NaN</td>\n",
       "      <td>NaN</td>\n",
       "      <td>NaN</td>\n",
       "      <td>NaN</td>\n",
       "      <td>NaN</td>\n",
       "      <td>NaN</td>\n",
       "      <td>NaN</td>\n",
       "      <td>...</td>\n",
       "      <td>Balance</td>\n",
       "      <td>NaN</td>\n",
       "      <td>0</td>\n",
       "      <td>NaN</td>\n",
       "      <td>NaN</td>\n",
       "      <td>NaN</td>\n",
       "      <td>NaN</td>\n",
       "      <td>NaN</td>\n",
       "      <td>NaN</td>\n",
       "      <td>NaN</td>\n",
       "    </tr>\n",
       "    <tr>\n",
       "      <th>7885</th>\n",
       "      <td>NaN</td>\n",
       "      <td>NaN</td>\n",
       "      <td>NaN</td>\n",
       "      <td>NaN</td>\n",
       "      <td>NaN</td>\n",
       "      <td>NaN</td>\n",
       "      <td>NaN</td>\n",
       "      <td>NaN</td>\n",
       "      <td>NaN</td>\n",
       "      <td>NaN</td>\n",
       "      <td>...</td>\n",
       "      <td>Balance</td>\n",
       "      <td>NaN</td>\n",
       "      <td>0</td>\n",
       "      <td>NaN</td>\n",
       "      <td>NaN</td>\n",
       "      <td>NaN</td>\n",
       "      <td>NaN</td>\n",
       "      <td>NaN</td>\n",
       "      <td>NaN</td>\n",
       "      <td>NaN</td>\n",
       "    </tr>\n",
       "  </tbody>\n",
       "</table>\n",
       "<p>7886 rows × 37 columns</p>\n",
       "</div>"
      ],
      "text/plain": [
       "     CONTROL # CHEQUE  PARTIDA PRESUPUESTAL  UIDD/FOLIO FISCAL DIRECCION  \\\n",
       "0        NaN      NaN      Income (Funding)                NaN       NaN   \n",
       "1        NaN      NaN  Income (Funding) IVA                NaN       NaN   \n",
       "2       F1.2      NaN      Income (Funding)                NaN       NaN   \n",
       "3       N001     0001              7007-009               0.00     86127   \n",
       "4       N003     0004              1107-009               1.00      4318   \n",
       "...      ...      ...                   ...                ...       ...   \n",
       "7881     NaN      NaN                   NaN                NaN       NaN   \n",
       "7882     NaN      NaN                   NaN                NaN       NaN   \n",
       "7883     NaN      NaN                   NaN                NaN       NaN   \n",
       "7884     NaN      NaN                   NaN                NaN       NaN   \n",
       "7885     NaN      NaN                   NaN                NaN       NaN   \n",
       "\n",
       "                         REGIMEN FISCAL              NOMBRE REGIMEN FISCAL  \\\n",
       "0                                   NaN                                NaN   \n",
       "1                                   NaN                                NaN   \n",
       "2                 Estados Unidos (los)               Estados Unidos (los)    \n",
       "3     Régimen Simplificado de Confianza  Régimen Simplificado de Confianza   \n",
       "4     Régimen Simplificado de Confianza  Régimen Simplificado de Confianza   \n",
       "...                                 ...                                ...   \n",
       "7881                                NaN                                NaN   \n",
       "7882                                NaN                                NaN   \n",
       "7883                                NaN                                NaN   \n",
       "7884                                NaN                                NaN   \n",
       "7885                                NaN                                NaN   \n",
       "\n",
       "      RFC STATUS  FECHA DE RECIBIDO  ...    Valida  MES  Column1  SUBTOTAL2  \\\n",
       "0     NaN    NaN                NaN  ...   Balance  NaN        0        NaN   \n",
       "1     NaN    NaN                NaN  ...   Balance  NaN        0        NaN   \n",
       "2    0.00    NaN                NaN  ...   Balance  NaN        0        NaN   \n",
       "3    1.00    NaN              33.00  ...  7007-009  NaN        0        NaN   \n",
       "4    2.00    NaN              40.00  ...  1107-009  NaN        0        NaN   \n",
       "...   ...    ...                ...  ...       ...  ...      ...        ...   \n",
       "7881  NaN    NaN                NaN  ...   Balance  NaN        0        NaN   \n",
       "7882  NaN    NaN                NaN  ...   Balance  NaN        0        NaN   \n",
       "7883  NaN    NaN                NaN  ...   Balance  NaN        0        NaN   \n",
       "7884  NaN    NaN                NaN  ...   Balance  NaN        0        NaN   \n",
       "7885  NaN    NaN                NaN  ...   Balance  NaN        0        NaN   \n",
       "\n",
       "      IVA3 RET IVA4  RET ISR.1 TOTAL.1 CAMBIOS Unnamed: 36  \n",
       "0      NaN      NaN        NaN     NaN     NaN         NaN  \n",
       "1      NaN      NaN        NaN     NaN     NaN         NaN  \n",
       "2      NaN      NaN        NaN     NaN     NaN         NaN  \n",
       "3      NaN      NaN        NaN     NaN     NaN  -45,135.00  \n",
       "4      NaN      NaN        NaN     NaN     NaN  -45,128.00  \n",
       "...    ...      ...        ...     ...     ...         ...  \n",
       "7881   NaN      NaN        NaN     NaN     NaN         NaN  \n",
       "7882   NaN      NaN        NaN     NaN     NaN         NaN  \n",
       "7883   NaN      NaN        NaN     NaN     NaN         NaN  \n",
       "7884   NaN      NaN        NaN     NaN     NaN         NaN  \n",
       "7885   NaN      NaN        NaN     NaN     NaN         NaN  \n",
       "\n",
       "[7886 rows x 37 columns]"
      ]
     },
     "execution_count": 100,
     "metadata": {},
     "output_type": "execute_result"
    }
   ],
   "source": [
    "#Lectura de la base de datos\n",
    "DF=pd.read_excel(\"BASE.xls\", sheet_name=\"Data\")\n",
    "DF"
   ]
  },
  {
   "cell_type": "code",
   "execution_count": 101,
   "id": "84e368d7",
   "metadata": {},
   "outputs": [
    {
     "data": {
      "text/html": [
       "<div>\n",
       "<style scoped>\n",
       "    .dataframe tbody tr th:only-of-type {\n",
       "        vertical-align: middle;\n",
       "    }\n",
       "\n",
       "    .dataframe tbody tr th {\n",
       "        vertical-align: top;\n",
       "    }\n",
       "\n",
       "    .dataframe thead th {\n",
       "        text-align: right;\n",
       "    }\n",
       "</style>\n",
       "<table border=\"1\" class=\"dataframe\">\n",
       "  <thead>\n",
       "    <tr style=\"text-align: right;\">\n",
       "      <th></th>\n",
       "      <th>CONTROL</th>\n",
       "      <th># CHEQUE</th>\n",
       "      <th>PARTIDA PRESUPUESTAL</th>\n",
       "      <th>UIDD/FOLIO FISCAL</th>\n",
       "      <th>DIRECCION</th>\n",
       "      <th>REGIMEN FISCAL</th>\n",
       "      <th>NOMBRE REGIMEN FISCAL</th>\n",
       "      <th>RFC</th>\n",
       "      <th>STATUS</th>\n",
       "      <th>FECHA DE RECIBIDO</th>\n",
       "      <th>...</th>\n",
       "      <th>Valida</th>\n",
       "      <th>MES</th>\n",
       "      <th>Column1</th>\n",
       "      <th>SUBTOTAL2</th>\n",
       "      <th>IVA3</th>\n",
       "      <th>RET IVA4</th>\n",
       "      <th>RET ISR.1</th>\n",
       "      <th>TOTAL.1</th>\n",
       "      <th>CAMBIOS</th>\n",
       "      <th>Unnamed: 36</th>\n",
       "    </tr>\n",
       "  </thead>\n",
       "  <tbody>\n",
       "    <tr>\n",
       "      <th>36</th>\n",
       "      <td>N021</td>\n",
       "      <td>0031</td>\n",
       "      <td>1104-003</td>\n",
       "      <td>22.00</td>\n",
       "      <td>1729</td>\n",
       "      <td>Personas Físicas con Actividades Empresariales...</td>\n",
       "      <td>Personas Físicas con Actividades Empresariales...</td>\n",
       "      <td>9.00</td>\n",
       "      <td>NaN</td>\n",
       "      <td>97.00</td>\n",
       "      <td>...</td>\n",
       "      <td>1104-003</td>\n",
       "      <td>NaN</td>\n",
       "      <td>0</td>\n",
       "      <td>NaN</td>\n",
       "      <td>NaN</td>\n",
       "      <td>NaN</td>\n",
       "      <td>NaN</td>\n",
       "      <td>NaN</td>\n",
       "      <td>NaN</td>\n",
       "      <td>-45,071.00</td>\n",
       "    </tr>\n",
       "    <tr>\n",
       "      <th>81</th>\n",
       "      <td>N051</td>\n",
       "      <td>64</td>\n",
       "      <td>1104-003</td>\n",
       "      <td>56.00</td>\n",
       "      <td>NaN</td>\n",
       "      <td>Personas Físicas con Actividades Empresariales...</td>\n",
       "      <td>Personas Físicas con Actividades Empresariales...</td>\n",
       "      <td>9.00</td>\n",
       "      <td>NaN</td>\n",
       "      <td>NaN</td>\n",
       "      <td>...</td>\n",
       "      <td>1104-003</td>\n",
       "      <td>NaN</td>\n",
       "      <td>0</td>\n",
       "      <td>NaN</td>\n",
       "      <td>NaN</td>\n",
       "      <td>NaN</td>\n",
       "      <td>NaN</td>\n",
       "      <td>NaN</td>\n",
       "      <td>NaN</td>\n",
       "      <td>NaN</td>\n",
       "    </tr>\n",
       "  </tbody>\n",
       "</table>\n",
       "<p>2 rows × 37 columns</p>\n",
       "</div>"
      ],
      "text/plain": [
       "   CONTROL # CHEQUE PARTIDA PRESUPUESTAL  UIDD/FOLIO FISCAL DIRECCION  \\\n",
       "36    N021     0031             1104-003              22.00      1729   \n",
       "81    N051       64             1104-003              56.00       NaN   \n",
       "\n",
       "                                       REGIMEN FISCAL  \\\n",
       "36  Personas Físicas con Actividades Empresariales...   \n",
       "81  Personas Físicas con Actividades Empresariales...   \n",
       "\n",
       "                                NOMBRE REGIMEN FISCAL  RFC STATUS  \\\n",
       "36  Personas Físicas con Actividades Empresariales... 9.00    NaN   \n",
       "81  Personas Físicas con Actividades Empresariales... 9.00    NaN   \n",
       "\n",
       "    FECHA DE RECIBIDO  ...    Valida  MES  Column1  SUBTOTAL2  IVA3 RET IVA4  \\\n",
       "36              97.00  ...  1104-003  NaN        0        NaN   NaN      NaN   \n",
       "81                NaN  ...  1104-003  NaN        0        NaN   NaN      NaN   \n",
       "\n",
       "    RET ISR.1 TOTAL.1 CAMBIOS Unnamed: 36  \n",
       "36        NaN     NaN     NaN  -45,071.00  \n",
       "81        NaN     NaN     NaN         NaN  \n",
       "\n",
       "[2 rows x 37 columns]"
      ]
     },
     "execution_count": 101,
     "metadata": {},
     "output_type": "execute_result"
    }
   ],
   "source": [
    "DF[DF[\"PARTIDA PRESUPUESTAL\"] == \"1104-003\"]  # Verificamos que los datos sean congruentes con la base de datos original."
   ]
  },
  {
   "cell_type": "code",
   "execution_count": 102,
   "id": "fa087e34",
   "metadata": {},
   "outputs": [
    {
     "data": {
      "text/html": [
       "<div>\n",
       "<style scoped>\n",
       "    .dataframe tbody tr th:only-of-type {\n",
       "        vertical-align: middle;\n",
       "    }\n",
       "\n",
       "    .dataframe tbody tr th {\n",
       "        vertical-align: top;\n",
       "    }\n",
       "\n",
       "    .dataframe thead th {\n",
       "        text-align: right;\n",
       "    }\n",
       "</style>\n",
       "<table border=\"1\" class=\"dataframe\">\n",
       "  <thead>\n",
       "    <tr style=\"text-align: right;\">\n",
       "      <th></th>\n",
       "      <th>SUBTOTAL</th>\n",
       "      <th>PARTIDA PRESUPUESTAL</th>\n",
       "    </tr>\n",
       "  </thead>\n",
       "  <tbody>\n",
       "    <tr>\n",
       "      <th>0</th>\n",
       "      <td>7,000,000.00</td>\n",
       "      <td>Income (Funding)</td>\n",
       "    </tr>\n",
       "    <tr>\n",
       "      <th>1</th>\n",
       "      <td>1,120,000.00</td>\n",
       "      <td>Income (Funding) IVA</td>\n",
       "    </tr>\n",
       "    <tr>\n",
       "      <th>2</th>\n",
       "      <td>700,000.00</td>\n",
       "      <td>Income (Funding)</td>\n",
       "    </tr>\n",
       "    <tr>\n",
       "      <th>3</th>\n",
       "      <td>14,182.00</td>\n",
       "      <td>7007-009</td>\n",
       "    </tr>\n",
       "    <tr>\n",
       "      <th>4</th>\n",
       "      <td>110,000.00</td>\n",
       "      <td>1107-009</td>\n",
       "    </tr>\n",
       "    <tr>\n",
       "      <th>...</th>\n",
       "      <td>...</td>\n",
       "      <td>...</td>\n",
       "    </tr>\n",
       "    <tr>\n",
       "      <th>7881</th>\n",
       "      <td>NaN</td>\n",
       "      <td>NaN</td>\n",
       "    </tr>\n",
       "    <tr>\n",
       "      <th>7882</th>\n",
       "      <td>NaN</td>\n",
       "      <td>NaN</td>\n",
       "    </tr>\n",
       "    <tr>\n",
       "      <th>7883</th>\n",
       "      <td>NaN</td>\n",
       "      <td>NaN</td>\n",
       "    </tr>\n",
       "    <tr>\n",
       "      <th>7884</th>\n",
       "      <td>NaN</td>\n",
       "      <td>NaN</td>\n",
       "    </tr>\n",
       "    <tr>\n",
       "      <th>7885</th>\n",
       "      <td>NaN</td>\n",
       "      <td>NaN</td>\n",
       "    </tr>\n",
       "  </tbody>\n",
       "</table>\n",
       "<p>7886 rows × 2 columns</p>\n",
       "</div>"
      ],
      "text/plain": [
       "         SUBTOTAL  PARTIDA PRESUPUESTAL\n",
       "0    7,000,000.00      Income (Funding)\n",
       "1    1,120,000.00  Income (Funding) IVA\n",
       "2      700,000.00      Income (Funding)\n",
       "3       14,182.00              7007-009\n",
       "4      110,000.00              1107-009\n",
       "...           ...                   ...\n",
       "7881          NaN                   NaN\n",
       "7882          NaN                   NaN\n",
       "7883          NaN                   NaN\n",
       "7884          NaN                   NaN\n",
       "7885          NaN                   NaN\n",
       "\n",
       "[7886 rows x 2 columns]"
      ]
     },
     "execution_count": 102,
     "metadata": {},
     "output_type": "execute_result"
    }
   ],
   "source": [
    "df_Data =DF[[\"SUBTOTAL\", \"PARTIDA PRESUPUESTAL\"]].copy()  # Seleccion de las columnas que se utilizaran mas adelante. \n",
    "df_Data"
   ]
  },
  {
   "cell_type": "markdown",
   "id": "fea9b457",
   "metadata": {},
   "source": [
    "# Budget\n",
    "\n",
    "En la siguiente sección se muestran los presupuestos asignados a las diferentes cuentas que aparecen en los datos. A partir de esta información, se crearon gráficas que ayudan a visualizar en qué cuentas se está invirtiendo más dinero y en cuáles menos. Esto permite tener una mejor idea de cómo se distribuye el presupuesto dentro del negocio."
   ]
  },
  {
   "cell_type": "code",
   "execution_count": 103,
   "id": "89c025d3",
   "metadata": {},
   "outputs": [
    {
     "data": {
      "text/html": [
       "<div>\n",
       "<style scoped>\n",
       "    .dataframe tbody tr th:only-of-type {\n",
       "        vertical-align: middle;\n",
       "    }\n",
       "\n",
       "    .dataframe tbody tr th {\n",
       "        vertical-align: top;\n",
       "    }\n",
       "\n",
       "    .dataframe thead th {\n",
       "        text-align: right;\n",
       "    }\n",
       "</style>\n",
       "<table border=\"1\" class=\"dataframe\">\n",
       "  <thead>\n",
       "    <tr style=\"text-align: right;\">\n",
       "      <th></th>\n",
       "      <th>Unnamed: 0</th>\n",
       "      <th>Unnamed: 1</th>\n",
       "      <th>Unnamed: 2</th>\n",
       "      <th>Unnamed: 3</th>\n",
       "      <th>Unnamed: 4</th>\n",
       "      <th>Unnamed: 5</th>\n",
       "      <th>Unnamed: 6</th>\n",
       "      <th>Unnamed: 7</th>\n",
       "      <th>Unnamed: 8</th>\n",
       "      <th>Unnamed: 9</th>\n",
       "      <th>Unnamed: 10</th>\n",
       "    </tr>\n",
       "  </thead>\n",
       "  <tbody>\n",
       "    <tr>\n",
       "      <th>0</th>\n",
       "      <td>TIPO</td>\n",
       "      <td>REF</td>\n",
       "      <td>Etapa</td>\n",
       "      <td>Sección</td>\n",
       "      <td>ACCT</td>\n",
       "      <td>NaN</td>\n",
       "      <td>BUDGET</td>\n",
       "      <td>NaN</td>\n",
       "      <td>ALL</td>\n",
       "      <td>NaN</td>\n",
       "      <td>Costo</td>\n",
       "    </tr>\n",
       "    <tr>\n",
       "      <th>1</th>\n",
       "      <td>Above the Line</td>\n",
       "      <td>Cuenta General</td>\n",
       "      <td>NaN</td>\n",
       "      <td>NaN</td>\n",
       "      <td>1100</td>\n",
       "      <td>NaN</td>\n",
       "      <td>10065000</td>\n",
       "      <td>NaN</td>\n",
       "      <td>DEVELOPMENT</td>\n",
       "      <td>NaN</td>\n",
       "      <td>Balance</td>\n",
       "    </tr>\n",
       "    <tr>\n",
       "      <th>2</th>\n",
       "      <td>Above the Line</td>\n",
       "      <td>Sub cuenta</td>\n",
       "      <td>NaN</td>\n",
       "      <td>NaN</td>\n",
       "      <td>1101</td>\n",
       "      <td>NaN</td>\n",
       "      <td>8340000</td>\n",
       "      <td>NaN</td>\n",
       "      <td>ALL SHOW</td>\n",
       "      <td>NaN</td>\n",
       "      <td>Petty Cash</td>\n",
       "    </tr>\n",
       "    <tr>\n",
       "      <th>3</th>\n",
       "      <td>Above the Line</td>\n",
       "      <td>Detalle</td>\n",
       "      <td>NaN</td>\n",
       "      <td>NaN</td>\n",
       "      <td>1101-002</td>\n",
       "      <td>NaN</td>\n",
       "      <td>0</td>\n",
       "      <td>NaN</td>\n",
       "      <td>SOFT</td>\n",
       "      <td>NaN</td>\n",
       "      <td>NaN</td>\n",
       "    </tr>\n",
       "    <tr>\n",
       "      <th>4</th>\n",
       "      <td>Above the Line</td>\n",
       "      <td>Detalle</td>\n",
       "      <td>NaN</td>\n",
       "      <td>NaN</td>\n",
       "      <td>1101-004</td>\n",
       "      <td>NaN</td>\n",
       "      <td>0</td>\n",
       "      <td>NaN</td>\n",
       "      <td>PREP</td>\n",
       "      <td>NaN</td>\n",
       "      <td>NaN</td>\n",
       "    </tr>\n",
       "    <tr>\n",
       "      <th>...</th>\n",
       "      <td>...</td>\n",
       "      <td>...</td>\n",
       "      <td>...</td>\n",
       "      <td>...</td>\n",
       "      <td>...</td>\n",
       "      <td>...</td>\n",
       "      <td>...</td>\n",
       "      <td>...</td>\n",
       "      <td>...</td>\n",
       "      <td>...</td>\n",
       "      <td>...</td>\n",
       "    </tr>\n",
       "    <tr>\n",
       "      <th>2474</th>\n",
       "      <td>Others</td>\n",
       "      <td>Detalle</td>\n",
       "      <td>NaN</td>\n",
       "      <td>NaN</td>\n",
       "      <td>7230-001</td>\n",
       "      <td>NaN</td>\n",
       "      <td>0</td>\n",
       "      <td>NaN</td>\n",
       "      <td>NaN</td>\n",
       "      <td>NaN</td>\n",
       "      <td>NaN</td>\n",
       "    </tr>\n",
       "    <tr>\n",
       "      <th>2475</th>\n",
       "      <td>Others</td>\n",
       "      <td>Detalle</td>\n",
       "      <td>NaN</td>\n",
       "      <td>NaN</td>\n",
       "      <td>7230-002</td>\n",
       "      <td>NaN</td>\n",
       "      <td>0</td>\n",
       "      <td>NaN</td>\n",
       "      <td>NaN</td>\n",
       "      <td>NaN</td>\n",
       "      <td>NaN</td>\n",
       "    </tr>\n",
       "    <tr>\n",
       "      <th>2476</th>\n",
       "      <td>Others</td>\n",
       "      <td>Detalle</td>\n",
       "      <td>NaN</td>\n",
       "      <td>NaN</td>\n",
       "      <td>7230-003</td>\n",
       "      <td>NaN</td>\n",
       "      <td>0</td>\n",
       "      <td>NaN</td>\n",
       "      <td>NaN</td>\n",
       "      <td>NaN</td>\n",
       "      <td>NaN</td>\n",
       "    </tr>\n",
       "    <tr>\n",
       "      <th>2477</th>\n",
       "      <td>Others</td>\n",
       "      <td>Detalle</td>\n",
       "      <td>NaN</td>\n",
       "      <td>NaN</td>\n",
       "      <td>7230-004</td>\n",
       "      <td>NaN</td>\n",
       "      <td>0</td>\n",
       "      <td>NaN</td>\n",
       "      <td>NaN</td>\n",
       "      <td>NaN</td>\n",
       "      <td>NaN</td>\n",
       "    </tr>\n",
       "    <tr>\n",
       "      <th>2478</th>\n",
       "      <td>Others</td>\n",
       "      <td>Detalle</td>\n",
       "      <td>NaN</td>\n",
       "      <td>NaN</td>\n",
       "      <td>7230-005</td>\n",
       "      <td>NaN</td>\n",
       "      <td>0</td>\n",
       "      <td>NaN</td>\n",
       "      <td>NaN</td>\n",
       "      <td>NaN</td>\n",
       "      <td>NaN</td>\n",
       "    </tr>\n",
       "  </tbody>\n",
       "</table>\n",
       "<p>2479 rows × 11 columns</p>\n",
       "</div>"
      ],
      "text/plain": [
       "          Unnamed: 0      Unnamed: 1 Unnamed: 2 Unnamed: 3 Unnamed: 4  \\\n",
       "0               TIPO             REF      Etapa    Sección       ACCT   \n",
       "1     Above the Line  Cuenta General        NaN        NaN       1100   \n",
       "2     Above the Line      Sub cuenta        NaN        NaN       1101   \n",
       "3     Above the Line         Detalle        NaN        NaN   1101-002   \n",
       "4     Above the Line         Detalle        NaN        NaN   1101-004   \n",
       "...              ...             ...        ...        ...        ...   \n",
       "2474          Others         Detalle        NaN        NaN   7230-001   \n",
       "2475          Others         Detalle        NaN        NaN   7230-002   \n",
       "2476          Others         Detalle        NaN        NaN   7230-003   \n",
       "2477          Others         Detalle        NaN        NaN   7230-004   \n",
       "2478          Others         Detalle        NaN        NaN   7230-005   \n",
       "\n",
       "      Unnamed: 5 Unnamed: 6  Unnamed: 7   Unnamed: 8  Unnamed: 9 Unnamed: 10  \n",
       "0            NaN     BUDGET         NaN          ALL         NaN       Costo  \n",
       "1            NaN   10065000         NaN  DEVELOPMENT         NaN     Balance  \n",
       "2            NaN    8340000         NaN     ALL SHOW         NaN  Petty Cash  \n",
       "3            NaN          0         NaN         SOFT         NaN         NaN  \n",
       "4            NaN          0         NaN         PREP         NaN         NaN  \n",
       "...          ...        ...         ...          ...         ...         ...  \n",
       "2474         NaN          0         NaN          NaN         NaN         NaN  \n",
       "2475         NaN          0         NaN          NaN         NaN         NaN  \n",
       "2476         NaN          0         NaN          NaN         NaN         NaN  \n",
       "2477         NaN          0         NaN          NaN         NaN         NaN  \n",
       "2478         NaN          0         NaN          NaN         NaN         NaN  \n",
       "\n",
       "[2479 rows x 11 columns]"
      ]
     },
     "execution_count": 103,
     "metadata": {},
     "output_type": "execute_result"
    }
   ],
   "source": [
    "budget = pd.read_excel(\"BASE.xls\",sheet_name=\"Budget\")\n",
    "budget"
   ]
  },
  {
   "cell_type": "code",
   "execution_count": 104,
   "id": "16909561",
   "metadata": {},
   "outputs": [
    {
     "data": {
      "text/html": [
       "<div>\n",
       "<style scoped>\n",
       "    .dataframe tbody tr th:only-of-type {\n",
       "        vertical-align: middle;\n",
       "    }\n",
       "\n",
       "    .dataframe tbody tr th {\n",
       "        vertical-align: top;\n",
       "    }\n",
       "\n",
       "    .dataframe thead th {\n",
       "        text-align: right;\n",
       "    }\n",
       "</style>\n",
       "<table border=\"1\" class=\"dataframe\">\n",
       "  <thead>\n",
       "    <tr style=\"text-align: right;\">\n",
       "      <th>1</th>\n",
       "      <th>TIPO</th>\n",
       "      <th>REF</th>\n",
       "      <th>Etapa</th>\n",
       "      <th>Sección</th>\n",
       "      <th>ACCT</th>\n",
       "      <th>NaN</th>\n",
       "      <th>BUDGET</th>\n",
       "      <th>NaN</th>\n",
       "      <th>ALL</th>\n",
       "      <th>NaN</th>\n",
       "      <th>Costo</th>\n",
       "    </tr>\n",
       "  </thead>\n",
       "  <tbody>\n",
       "    <tr>\n",
       "      <th>2</th>\n",
       "      <td>Above the Line</td>\n",
       "      <td>Cuenta General</td>\n",
       "      <td>NaN</td>\n",
       "      <td>NaN</td>\n",
       "      <td>1100</td>\n",
       "      <td>NaN</td>\n",
       "      <td>10065000</td>\n",
       "      <td>NaN</td>\n",
       "      <td>DEVELOPMENT</td>\n",
       "      <td>NaN</td>\n",
       "      <td>Balance</td>\n",
       "    </tr>\n",
       "    <tr>\n",
       "      <th>3</th>\n",
       "      <td>Above the Line</td>\n",
       "      <td>Sub cuenta</td>\n",
       "      <td>NaN</td>\n",
       "      <td>NaN</td>\n",
       "      <td>1101</td>\n",
       "      <td>NaN</td>\n",
       "      <td>8340000</td>\n",
       "      <td>NaN</td>\n",
       "      <td>ALL SHOW</td>\n",
       "      <td>NaN</td>\n",
       "      <td>Petty Cash</td>\n",
       "    </tr>\n",
       "    <tr>\n",
       "      <th>4</th>\n",
       "      <td>Above the Line</td>\n",
       "      <td>Detalle</td>\n",
       "      <td>NaN</td>\n",
       "      <td>NaN</td>\n",
       "      <td>1101-002</td>\n",
       "      <td>NaN</td>\n",
       "      <td>0</td>\n",
       "      <td>NaN</td>\n",
       "      <td>SOFT</td>\n",
       "      <td>NaN</td>\n",
       "      <td>NaN</td>\n",
       "    </tr>\n",
       "    <tr>\n",
       "      <th>5</th>\n",
       "      <td>Above the Line</td>\n",
       "      <td>Detalle</td>\n",
       "      <td>NaN</td>\n",
       "      <td>NaN</td>\n",
       "      <td>1101-004</td>\n",
       "      <td>NaN</td>\n",
       "      <td>0</td>\n",
       "      <td>NaN</td>\n",
       "      <td>PREP</td>\n",
       "      <td>NaN</td>\n",
       "      <td>NaN</td>\n",
       "    </tr>\n",
       "    <tr>\n",
       "      <th>6</th>\n",
       "      <td>Above the Line</td>\n",
       "      <td>Detalle</td>\n",
       "      <td>DEVELOPMENT</td>\n",
       "      <td>NaN</td>\n",
       "      <td>1101-005</td>\n",
       "      <td>NaN</td>\n",
       "      <td>1400000</td>\n",
       "      <td>NaN</td>\n",
       "      <td>SHOOT</td>\n",
       "      <td>NaN</td>\n",
       "      <td>NaN</td>\n",
       "    </tr>\n",
       "  </tbody>\n",
       "</table>\n",
       "</div>"
      ],
      "text/plain": [
       "1            TIPO             REF        Etapa Sección      ACCT  NaN  \\\n",
       "2  Above the Line  Cuenta General          NaN     NaN      1100  NaN   \n",
       "3  Above the Line      Sub cuenta          NaN     NaN      1101  NaN   \n",
       "4  Above the Line         Detalle          NaN     NaN  1101-002  NaN   \n",
       "5  Above the Line         Detalle          NaN     NaN  1101-004  NaN   \n",
       "6  Above the Line         Detalle  DEVELOPMENT     NaN  1101-005  NaN   \n",
       "\n",
       "1    BUDGET  NaN          ALL  NaN       Costo  \n",
       "2  10065000  NaN  DEVELOPMENT  NaN     Balance  \n",
       "3   8340000  NaN     ALL SHOW  NaN  Petty Cash  \n",
       "4         0  NaN         SOFT  NaN         NaN  \n",
       "5         0  NaN         PREP  NaN         NaN  \n",
       "6   1400000  NaN        SHOOT  NaN         NaN  "
      ]
     },
     "execution_count": 104,
     "metadata": {},
     "output_type": "execute_result"
    }
   ],
   "source": [
    "#Eliminar filas inecesarias.\n",
    "budget = pd.read_excel('BASE.xls', sheet_name='Budget', header=None)\n",
    "budget.columns = budget.iloc[1]  \n",
    "budget = budget.drop([0, 1])  \n",
    "budget.head()"
   ]
  },
  {
   "cell_type": "code",
   "execution_count": 105,
   "id": "245d4ce2",
   "metadata": {},
   "outputs": [
    {
     "name": "stdout",
     "output_type": "stream",
     "text": [
      "<class 'pandas.core.frame.DataFrame'>\n",
      "RangeIndex: 2478 entries, 2 to 2479\n",
      "Data columns (total 11 columns):\n",
      " #   Column   Non-Null Count  Dtype  \n",
      "---  ------   --------------  -----  \n",
      " 0   TIPO     2478 non-null   object \n",
      " 1   REF      2478 non-null   object \n",
      " 2   Etapa    1563 non-null   object \n",
      " 3   Sección  0 non-null      object \n",
      " 4   ACCT     2478 non-null   object \n",
      " 5   nan      0 non-null      float64\n",
      " 6   BUDGET   2455 non-null   object \n",
      " 7   nan      20 non-null     float64\n",
      " 8   ALL      34 non-null     object \n",
      " 9   nan      0 non-null      float64\n",
      " 10  Costo    2 non-null      object \n",
      "dtypes: float64(3), object(8)\n",
      "memory usage: 213.1+ KB\n"
     ]
    }
   ],
   "source": [
    "#Este es importante para el analisis EDA, pero no será presentado al socio formador, ya que no muestra información relevante. \n",
    "budget.info()"
   ]
  },
  {
   "cell_type": "code",
   "execution_count": 106,
   "id": "6d813793",
   "metadata": {},
   "outputs": [
    {
     "data": {
      "text/plain": [
       "ACCT\n",
       "3400        15001515\n",
       "7000        13503510\n",
       "1400   11,960,556.03\n",
       "3100        11484172\n",
       "1100        10065000\n",
       "1200         9449620\n",
       "3600         7591103\n",
       "2000         6668300\n",
       "3900    5,965,292.85\n",
       "2400         5268025\n",
       "5000         4891351\n",
       "6000         3833200\n",
       "2700         2972500\n",
       "1300    2,810,543.88\n",
       "5100         2206500\n",
       "5200         1843600\n",
       "2200         1825740\n",
       "3000         1624362\n",
       "2100         1614000\n",
       "7200         1485676\n",
       "6100         1452334\n",
       "4100         1451938\n",
       "2300         1427550\n",
       "1600    1,416,166.53\n",
       "2800         1208200\n",
       "3200         1139000\n",
       "2600         1115250\n",
       "2500         1009000\n",
       "3700          810000\n",
       "3800          747019\n",
       "2900          630387\n",
       "3500          281000\n",
       "3300          165500\n",
       "5400          100000\n",
       "5300           80000\n",
       "Name: BUDGET, dtype: object"
      ]
     },
     "execution_count": 106,
     "metadata": {},
     "output_type": "execute_result"
    }
   ],
   "source": [
    "cuentas_generales = budget[budget[\"REF\"] == \"Cuenta General\"]\n",
    "presupuestos_por_cuenta = cuentas_generales.groupby(\"ACCT\")[\"BUDGET\"].sum().sort_values(ascending=False)\n",
    "presupuestos_por_cuenta"
   ]
  },
  {
   "cell_type": "code",
   "execution_count": 107,
   "id": "eacacbf7",
   "metadata": {},
   "outputs": [
    {
     "data": {
      "text/html": [
       "<div>\n",
       "<style scoped>\n",
       "    .dataframe tbody tr th:only-of-type {\n",
       "        vertical-align: middle;\n",
       "    }\n",
       "\n",
       "    .dataframe tbody tr th {\n",
       "        vertical-align: top;\n",
       "    }\n",
       "\n",
       "    .dataframe thead th {\n",
       "        text-align: right;\n",
       "    }\n",
       "</style>\n",
       "<table border=\"1\" class=\"dataframe\">\n",
       "  <thead>\n",
       "    <tr style=\"text-align: right;\">\n",
       "      <th>1</th>\n",
       "      <th>TIPO</th>\n",
       "      <th>REF</th>\n",
       "      <th>Etapa</th>\n",
       "      <th>ACCT</th>\n",
       "      <th>BUDGET</th>\n",
       "    </tr>\n",
       "  </thead>\n",
       "  <tbody>\n",
       "    <tr>\n",
       "      <th>2</th>\n",
       "      <td>Above the Line</td>\n",
       "      <td>Cuenta General</td>\n",
       "      <td>NaN</td>\n",
       "      <td>1100</td>\n",
       "      <td>10065000</td>\n",
       "    </tr>\n",
       "    <tr>\n",
       "      <th>3</th>\n",
       "      <td>Above the Line</td>\n",
       "      <td>Sub cuenta</td>\n",
       "      <td>NaN</td>\n",
       "      <td>1101</td>\n",
       "      <td>8340000</td>\n",
       "    </tr>\n",
       "    <tr>\n",
       "      <th>4</th>\n",
       "      <td>Above the Line</td>\n",
       "      <td>Detalle</td>\n",
       "      <td>NaN</td>\n",
       "      <td>1101-002</td>\n",
       "      <td>0</td>\n",
       "    </tr>\n",
       "    <tr>\n",
       "      <th>5</th>\n",
       "      <td>Above the Line</td>\n",
       "      <td>Detalle</td>\n",
       "      <td>NaN</td>\n",
       "      <td>1101-004</td>\n",
       "      <td>0</td>\n",
       "    </tr>\n",
       "    <tr>\n",
       "      <th>6</th>\n",
       "      <td>Above the Line</td>\n",
       "      <td>Detalle</td>\n",
       "      <td>DEVELOPMENT</td>\n",
       "      <td>1101-005</td>\n",
       "      <td>1400000</td>\n",
       "    </tr>\n",
       "    <tr>\n",
       "      <th>...</th>\n",
       "      <td>...</td>\n",
       "      <td>...</td>\n",
       "      <td>...</td>\n",
       "      <td>...</td>\n",
       "      <td>...</td>\n",
       "    </tr>\n",
       "    <tr>\n",
       "      <th>2475</th>\n",
       "      <td>Others</td>\n",
       "      <td>Detalle</td>\n",
       "      <td>NaN</td>\n",
       "      <td>7230-001</td>\n",
       "      <td>0</td>\n",
       "    </tr>\n",
       "    <tr>\n",
       "      <th>2476</th>\n",
       "      <td>Others</td>\n",
       "      <td>Detalle</td>\n",
       "      <td>NaN</td>\n",
       "      <td>7230-002</td>\n",
       "      <td>0</td>\n",
       "    </tr>\n",
       "    <tr>\n",
       "      <th>2477</th>\n",
       "      <td>Others</td>\n",
       "      <td>Detalle</td>\n",
       "      <td>NaN</td>\n",
       "      <td>7230-003</td>\n",
       "      <td>0</td>\n",
       "    </tr>\n",
       "    <tr>\n",
       "      <th>2478</th>\n",
       "      <td>Others</td>\n",
       "      <td>Detalle</td>\n",
       "      <td>NaN</td>\n",
       "      <td>7230-004</td>\n",
       "      <td>0</td>\n",
       "    </tr>\n",
       "    <tr>\n",
       "      <th>2479</th>\n",
       "      <td>Others</td>\n",
       "      <td>Detalle</td>\n",
       "      <td>NaN</td>\n",
       "      <td>7230-005</td>\n",
       "      <td>0</td>\n",
       "    </tr>\n",
       "  </tbody>\n",
       "</table>\n",
       "<p>2478 rows × 5 columns</p>\n",
       "</div>"
      ],
      "text/plain": [
       "1               TIPO             REF        Etapa      ACCT    BUDGET\n",
       "2     Above the Line  Cuenta General          NaN      1100  10065000\n",
       "3     Above the Line      Sub cuenta          NaN      1101   8340000\n",
       "4     Above the Line         Detalle          NaN  1101-002         0\n",
       "5     Above the Line         Detalle          NaN  1101-004         0\n",
       "6     Above the Line         Detalle  DEVELOPMENT  1101-005   1400000\n",
       "...              ...             ...          ...       ...       ...\n",
       "2475          Others         Detalle          NaN  7230-001         0\n",
       "2476          Others         Detalle          NaN  7230-002         0\n",
       "2477          Others         Detalle          NaN  7230-003         0\n",
       "2478          Others         Detalle          NaN  7230-004         0\n",
       "2479          Others         Detalle          NaN  7230-005         0\n",
       "\n",
       "[2478 rows x 5 columns]"
      ]
     },
     "execution_count": 107,
     "metadata": {},
     "output_type": "execute_result"
    }
   ],
   "source": [
    "columnas_nan = [col for col in budget.columns if pd.isna(col)]\n",
    "columnas_a_eliminar = [\"Sección\", \"ALL\", \"Costo\"] + columnas_nan\n",
    "budget = budget.drop(columns=columnas_a_eliminar, errors=\"ignore\")\n",
    "budget"
   ]
  },
  {
   "cell_type": "code",
   "execution_count": 108,
   "id": "920a2d9d",
   "metadata": {},
   "outputs": [
    {
     "data": {
      "application/vnd.plotly.v1+json": {
       "config": {
        "plotlyServerURL": "https://plot.ly"
       },
       "data": [
        {
         "hovertemplate": "Cuenta General=%{x}<br>Presupuesto Total=%{text}<extra></extra>",
         "legendgroup": "3400",
         "marker": {
          "color": "#000004",
          "pattern": {
           "shape": ""
          }
         },
         "name": "3400",
         "orientation": "v",
         "showlegend": true,
         "text": [
          15001515
         ],
         "textposition": "auto",
         "type": "bar",
         "x": [
          "3400"
         ],
         "xaxis": "x",
         "y": [
          15001515
         ],
         "yaxis": "y"
        },
        {
         "hovertemplate": "Cuenta General=%{x}<br>Presupuesto Total=%{text}<extra></extra>",
         "legendgroup": "7000",
         "marker": {
          "color": "#180f3d",
          "pattern": {
           "shape": ""
          }
         },
         "name": "7000",
         "orientation": "v",
         "showlegend": true,
         "text": [
          13503510
         ],
         "textposition": "auto",
         "type": "bar",
         "x": [
          "7000"
         ],
         "xaxis": "x",
         "y": [
          13503510
         ],
         "yaxis": "y"
        },
        {
         "hovertemplate": "Cuenta General=%{x}<br>Presupuesto Total=%{text}<extra></extra>",
         "legendgroup": "1400",
         "marker": {
          "color": "#440f76",
          "pattern": {
           "shape": ""
          }
         },
         "name": "1400",
         "orientation": "v",
         "showlegend": true,
         "text": [
          11960556.03
         ],
         "textposition": "auto",
         "type": "bar",
         "x": [
          "1400"
         ],
         "xaxis": "x",
         "y": [
          11960556.03
         ],
         "yaxis": "y"
        },
        {
         "hovertemplate": "Cuenta General=%{x}<br>Presupuesto Total=%{text}<extra></extra>",
         "legendgroup": "3100",
         "marker": {
          "color": "#721f81",
          "pattern": {
           "shape": ""
          }
         },
         "name": "3100",
         "orientation": "v",
         "showlegend": true,
         "text": [
          11484172
         ],
         "textposition": "auto",
         "type": "bar",
         "x": [
          "3100"
         ],
         "xaxis": "x",
         "y": [
          11484172
         ],
         "yaxis": "y"
        },
        {
         "hovertemplate": "Cuenta General=%{x}<br>Presupuesto Total=%{text}<extra></extra>",
         "legendgroup": "1100",
         "marker": {
          "color": "#9e2f7f",
          "pattern": {
           "shape": ""
          }
         },
         "name": "1100",
         "orientation": "v",
         "showlegend": true,
         "text": [
          10065000
         ],
         "textposition": "auto",
         "type": "bar",
         "x": [
          "1100"
         ],
         "xaxis": "x",
         "y": [
          10065000
         ],
         "yaxis": "y"
        },
        {
         "hovertemplate": "Cuenta General=%{x}<br>Presupuesto Total=%{text}<extra></extra>",
         "legendgroup": "1200",
         "marker": {
          "color": "#cd4071",
          "pattern": {
           "shape": ""
          }
         },
         "name": "1200",
         "orientation": "v",
         "showlegend": true,
         "text": [
          9449620
         ],
         "textposition": "auto",
         "type": "bar",
         "x": [
          "1200"
         ],
         "xaxis": "x",
         "y": [
          9449620
         ],
         "yaxis": "y"
        },
        {
         "hovertemplate": "Cuenta General=%{x}<br>Presupuesto Total=%{text}<extra></extra>",
         "legendgroup": "3600",
         "marker": {
          "color": "#f1605d",
          "pattern": {
           "shape": ""
          }
         },
         "name": "3600",
         "orientation": "v",
         "showlegend": true,
         "text": [
          7591103
         ],
         "textposition": "auto",
         "type": "bar",
         "x": [
          "3600"
         ],
         "xaxis": "x",
         "y": [
          7591103
         ],
         "yaxis": "y"
        },
        {
         "hovertemplate": "Cuenta General=%{x}<br>Presupuesto Total=%{text}<extra></extra>",
         "legendgroup": "2000",
         "marker": {
          "color": "#fd9668",
          "pattern": {
           "shape": ""
          }
         },
         "name": "2000",
         "orientation": "v",
         "showlegend": true,
         "text": [
          6668300
         ],
         "textposition": "auto",
         "type": "bar",
         "x": [
          "2000"
         ],
         "xaxis": "x",
         "y": [
          6668300
         ],
         "yaxis": "y"
        },
        {
         "hovertemplate": "Cuenta General=%{x}<br>Presupuesto Total=%{text}<extra></extra>",
         "legendgroup": "3900",
         "marker": {
          "color": "#feca8d",
          "pattern": {
           "shape": ""
          }
         },
         "name": "3900",
         "orientation": "v",
         "showlegend": true,
         "text": [
          5965292.85
         ],
         "textposition": "auto",
         "type": "bar",
         "x": [
          "3900"
         ],
         "xaxis": "x",
         "y": [
          5965292.85
         ],
         "yaxis": "y"
        },
        {
         "hovertemplate": "Cuenta General=%{x}<br>Presupuesto Total=%{text}<extra></extra>",
         "legendgroup": "2400",
         "marker": {
          "color": "#fcfdbf",
          "pattern": {
           "shape": ""
          }
         },
         "name": "2400",
         "orientation": "v",
         "showlegend": true,
         "text": [
          5268025
         ],
         "textposition": "auto",
         "type": "bar",
         "x": [
          "2400"
         ],
         "xaxis": "x",
         "y": [
          5268025
         ],
         "yaxis": "y"
        },
        {
         "hovertemplate": "Cuenta General=%{x}<br>Presupuesto Total=%{text}<extra></extra>",
         "legendgroup": "5000",
         "marker": {
          "color": "#000004",
          "pattern": {
           "shape": ""
          }
         },
         "name": "5000",
         "orientation": "v",
         "showlegend": true,
         "text": [
          4891351
         ],
         "textposition": "auto",
         "type": "bar",
         "x": [
          "5000"
         ],
         "xaxis": "x",
         "y": [
          4891351
         ],
         "yaxis": "y"
        },
        {
         "hovertemplate": "Cuenta General=%{x}<br>Presupuesto Total=%{text}<extra></extra>",
         "legendgroup": "6000",
         "marker": {
          "color": "#180f3d",
          "pattern": {
           "shape": ""
          }
         },
         "name": "6000",
         "orientation": "v",
         "showlegend": true,
         "text": [
          3833200
         ],
         "textposition": "auto",
         "type": "bar",
         "x": [
          "6000"
         ],
         "xaxis": "x",
         "y": [
          3833200
         ],
         "yaxis": "y"
        },
        {
         "hovertemplate": "Cuenta General=%{x}<br>Presupuesto Total=%{text}<extra></extra>",
         "legendgroup": "2700",
         "marker": {
          "color": "#440f76",
          "pattern": {
           "shape": ""
          }
         },
         "name": "2700",
         "orientation": "v",
         "showlegend": true,
         "text": [
          2972500
         ],
         "textposition": "auto",
         "type": "bar",
         "x": [
          "2700"
         ],
         "xaxis": "x",
         "y": [
          2972500
         ],
         "yaxis": "y"
        },
        {
         "hovertemplate": "Cuenta General=%{x}<br>Presupuesto Total=%{text}<extra></extra>",
         "legendgroup": "1300",
         "marker": {
          "color": "#721f81",
          "pattern": {
           "shape": ""
          }
         },
         "name": "1300",
         "orientation": "v",
         "showlegend": true,
         "text": [
          2810543.88
         ],
         "textposition": "auto",
         "type": "bar",
         "x": [
          "1300"
         ],
         "xaxis": "x",
         "y": [
          2810543.88
         ],
         "yaxis": "y"
        },
        {
         "hovertemplate": "Cuenta General=%{x}<br>Presupuesto Total=%{text}<extra></extra>",
         "legendgroup": "5100",
         "marker": {
          "color": "#9e2f7f",
          "pattern": {
           "shape": ""
          }
         },
         "name": "5100",
         "orientation": "v",
         "showlegend": true,
         "text": [
          2206500
         ],
         "textposition": "auto",
         "type": "bar",
         "x": [
          "5100"
         ],
         "xaxis": "x",
         "y": [
          2206500
         ],
         "yaxis": "y"
        },
        {
         "hovertemplate": "Cuenta General=%{x}<br>Presupuesto Total=%{text}<extra></extra>",
         "legendgroup": "5200",
         "marker": {
          "color": "#cd4071",
          "pattern": {
           "shape": ""
          }
         },
         "name": "5200",
         "orientation": "v",
         "showlegend": true,
         "text": [
          1843600
         ],
         "textposition": "auto",
         "type": "bar",
         "x": [
          "5200"
         ],
         "xaxis": "x",
         "y": [
          1843600
         ],
         "yaxis": "y"
        },
        {
         "hovertemplate": "Cuenta General=%{x}<br>Presupuesto Total=%{text}<extra></extra>",
         "legendgroup": "2200",
         "marker": {
          "color": "#f1605d",
          "pattern": {
           "shape": ""
          }
         },
         "name": "2200",
         "orientation": "v",
         "showlegend": true,
         "text": [
          1825740
         ],
         "textposition": "auto",
         "type": "bar",
         "x": [
          "2200"
         ],
         "xaxis": "x",
         "y": [
          1825740
         ],
         "yaxis": "y"
        },
        {
         "hovertemplate": "Cuenta General=%{x}<br>Presupuesto Total=%{text}<extra></extra>",
         "legendgroup": "3000",
         "marker": {
          "color": "#fd9668",
          "pattern": {
           "shape": ""
          }
         },
         "name": "3000",
         "orientation": "v",
         "showlegend": true,
         "text": [
          1624362
         ],
         "textposition": "auto",
         "type": "bar",
         "x": [
          "3000"
         ],
         "xaxis": "x",
         "y": [
          1624362
         ],
         "yaxis": "y"
        },
        {
         "hovertemplate": "Cuenta General=%{x}<br>Presupuesto Total=%{text}<extra></extra>",
         "legendgroup": "2100",
         "marker": {
          "color": "#feca8d",
          "pattern": {
           "shape": ""
          }
         },
         "name": "2100",
         "orientation": "v",
         "showlegend": true,
         "text": [
          1614000
         ],
         "textposition": "auto",
         "type": "bar",
         "x": [
          "2100"
         ],
         "xaxis": "x",
         "y": [
          1614000
         ],
         "yaxis": "y"
        },
        {
         "hovertemplate": "Cuenta General=%{x}<br>Presupuesto Total=%{text}<extra></extra>",
         "legendgroup": "7200",
         "marker": {
          "color": "#fcfdbf",
          "pattern": {
           "shape": ""
          }
         },
         "name": "7200",
         "orientation": "v",
         "showlegend": true,
         "text": [
          1485676
         ],
         "textposition": "auto",
         "type": "bar",
         "x": [
          "7200"
         ],
         "xaxis": "x",
         "y": [
          1485676
         ],
         "yaxis": "y"
        },
        {
         "hovertemplate": "Cuenta General=%{x}<br>Presupuesto Total=%{text}<extra></extra>",
         "legendgroup": "6100",
         "marker": {
          "color": "#000004",
          "pattern": {
           "shape": ""
          }
         },
         "name": "6100",
         "orientation": "v",
         "showlegend": true,
         "text": [
          1452334
         ],
         "textposition": "auto",
         "type": "bar",
         "x": [
          "6100"
         ],
         "xaxis": "x",
         "y": [
          1452334
         ],
         "yaxis": "y"
        },
        {
         "hovertemplate": "Cuenta General=%{x}<br>Presupuesto Total=%{text}<extra></extra>",
         "legendgroup": "4100",
         "marker": {
          "color": "#180f3d",
          "pattern": {
           "shape": ""
          }
         },
         "name": "4100",
         "orientation": "v",
         "showlegend": true,
         "text": [
          1451938
         ],
         "textposition": "auto",
         "type": "bar",
         "x": [
          "4100"
         ],
         "xaxis": "x",
         "y": [
          1451938
         ],
         "yaxis": "y"
        },
        {
         "hovertemplate": "Cuenta General=%{x}<br>Presupuesto Total=%{text}<extra></extra>",
         "legendgroup": "2300",
         "marker": {
          "color": "#440f76",
          "pattern": {
           "shape": ""
          }
         },
         "name": "2300",
         "orientation": "v",
         "showlegend": true,
         "text": [
          1427550
         ],
         "textposition": "auto",
         "type": "bar",
         "x": [
          "2300"
         ],
         "xaxis": "x",
         "y": [
          1427550
         ],
         "yaxis": "y"
        },
        {
         "hovertemplate": "Cuenta General=%{x}<br>Presupuesto Total=%{text}<extra></extra>",
         "legendgroup": "1600",
         "marker": {
          "color": "#721f81",
          "pattern": {
           "shape": ""
          }
         },
         "name": "1600",
         "orientation": "v",
         "showlegend": true,
         "text": [
          1416166.53
         ],
         "textposition": "auto",
         "type": "bar",
         "x": [
          "1600"
         ],
         "xaxis": "x",
         "y": [
          1416166.53
         ],
         "yaxis": "y"
        },
        {
         "hovertemplate": "Cuenta General=%{x}<br>Presupuesto Total=%{text}<extra></extra>",
         "legendgroup": "2800",
         "marker": {
          "color": "#9e2f7f",
          "pattern": {
           "shape": ""
          }
         },
         "name": "2800",
         "orientation": "v",
         "showlegend": true,
         "text": [
          1208200
         ],
         "textposition": "auto",
         "type": "bar",
         "x": [
          "2800"
         ],
         "xaxis": "x",
         "y": [
          1208200
         ],
         "yaxis": "y"
        },
        {
         "hovertemplate": "Cuenta General=%{x}<br>Presupuesto Total=%{text}<extra></extra>",
         "legendgroup": "3200",
         "marker": {
          "color": "#cd4071",
          "pattern": {
           "shape": ""
          }
         },
         "name": "3200",
         "orientation": "v",
         "showlegend": true,
         "text": [
          1139000
         ],
         "textposition": "auto",
         "type": "bar",
         "x": [
          "3200"
         ],
         "xaxis": "x",
         "y": [
          1139000
         ],
         "yaxis": "y"
        },
        {
         "hovertemplate": "Cuenta General=%{x}<br>Presupuesto Total=%{text}<extra></extra>",
         "legendgroup": "2600",
         "marker": {
          "color": "#f1605d",
          "pattern": {
           "shape": ""
          }
         },
         "name": "2600",
         "orientation": "v",
         "showlegend": true,
         "text": [
          1115250
         ],
         "textposition": "auto",
         "type": "bar",
         "x": [
          "2600"
         ],
         "xaxis": "x",
         "y": [
          1115250
         ],
         "yaxis": "y"
        },
        {
         "hovertemplate": "Cuenta General=%{x}<br>Presupuesto Total=%{text}<extra></extra>",
         "legendgroup": "2500",
         "marker": {
          "color": "#fd9668",
          "pattern": {
           "shape": ""
          }
         },
         "name": "2500",
         "orientation": "v",
         "showlegend": true,
         "text": [
          1009000
         ],
         "textposition": "auto",
         "type": "bar",
         "x": [
          "2500"
         ],
         "xaxis": "x",
         "y": [
          1009000
         ],
         "yaxis": "y"
        },
        {
         "hovertemplate": "Cuenta General=%{x}<br>Presupuesto Total=%{text}<extra></extra>",
         "legendgroup": "3700",
         "marker": {
          "color": "#feca8d",
          "pattern": {
           "shape": ""
          }
         },
         "name": "3700",
         "orientation": "v",
         "showlegend": true,
         "text": [
          810000
         ],
         "textposition": "auto",
         "type": "bar",
         "x": [
          "3700"
         ],
         "xaxis": "x",
         "y": [
          810000
         ],
         "yaxis": "y"
        },
        {
         "hovertemplate": "Cuenta General=%{x}<br>Presupuesto Total=%{text}<extra></extra>",
         "legendgroup": "3800",
         "marker": {
          "color": "#fcfdbf",
          "pattern": {
           "shape": ""
          }
         },
         "name": "3800",
         "orientation": "v",
         "showlegend": true,
         "text": [
          747019
         ],
         "textposition": "auto",
         "type": "bar",
         "x": [
          "3800"
         ],
         "xaxis": "x",
         "y": [
          747019
         ],
         "yaxis": "y"
        },
        {
         "hovertemplate": "Cuenta General=%{x}<br>Presupuesto Total=%{text}<extra></extra>",
         "legendgroup": "2900",
         "marker": {
          "color": "#000004",
          "pattern": {
           "shape": ""
          }
         },
         "name": "2900",
         "orientation": "v",
         "showlegend": true,
         "text": [
          630387
         ],
         "textposition": "auto",
         "type": "bar",
         "x": [
          "2900"
         ],
         "xaxis": "x",
         "y": [
          630387
         ],
         "yaxis": "y"
        },
        {
         "hovertemplate": "Cuenta General=%{x}<br>Presupuesto Total=%{text}<extra></extra>",
         "legendgroup": "3500",
         "marker": {
          "color": "#180f3d",
          "pattern": {
           "shape": ""
          }
         },
         "name": "3500",
         "orientation": "v",
         "showlegend": true,
         "text": [
          281000
         ],
         "textposition": "auto",
         "type": "bar",
         "x": [
          "3500"
         ],
         "xaxis": "x",
         "y": [
          281000
         ],
         "yaxis": "y"
        },
        {
         "hovertemplate": "Cuenta General=%{x}<br>Presupuesto Total=%{text}<extra></extra>",
         "legendgroup": "3300",
         "marker": {
          "color": "#440f76",
          "pattern": {
           "shape": ""
          }
         },
         "name": "3300",
         "orientation": "v",
         "showlegend": true,
         "text": [
          165500
         ],
         "textposition": "auto",
         "type": "bar",
         "x": [
          "3300"
         ],
         "xaxis": "x",
         "y": [
          165500
         ],
         "yaxis": "y"
        },
        {
         "hovertemplate": "Cuenta General=%{x}<br>Presupuesto Total=%{text}<extra></extra>",
         "legendgroup": "5400",
         "marker": {
          "color": "#721f81",
          "pattern": {
           "shape": ""
          }
         },
         "name": "5400",
         "orientation": "v",
         "showlegend": true,
         "text": [
          100000
         ],
         "textposition": "auto",
         "type": "bar",
         "x": [
          "5400"
         ],
         "xaxis": "x",
         "y": [
          100000
         ],
         "yaxis": "y"
        },
        {
         "hovertemplate": "Cuenta General=%{x}<br>Presupuesto Total=%{text}<extra></extra>",
         "legendgroup": "5300",
         "marker": {
          "color": "#9e2f7f",
          "pattern": {
           "shape": ""
          }
         },
         "name": "5300",
         "orientation": "v",
         "showlegend": true,
         "text": [
          80000
         ],
         "textposition": "auto",
         "type": "bar",
         "x": [
          "5300"
         ],
         "xaxis": "x",
         "y": [
          80000
         ],
         "yaxis": "y"
        }
       ],
       "layout": {
        "barmode": "relative",
        "legend": {
         "title": {
          "text": "Cuenta General"
         },
         "tracegroupgap": 0
        },
        "template": {
         "data": {
          "bar": [
           {
            "error_x": {
             "color": "#2a3f5f"
            },
            "error_y": {
             "color": "#2a3f5f"
            },
            "marker": {
             "line": {
              "color": "#E5ECF6",
              "width": 0.5
             },
             "pattern": {
              "fillmode": "overlay",
              "size": 10,
              "solidity": 0.2
             }
            },
            "type": "bar"
           }
          ],
          "barpolar": [
           {
            "marker": {
             "line": {
              "color": "#E5ECF6",
              "width": 0.5
             },
             "pattern": {
              "fillmode": "overlay",
              "size": 10,
              "solidity": 0.2
             }
            },
            "type": "barpolar"
           }
          ],
          "carpet": [
           {
            "aaxis": {
             "endlinecolor": "#2a3f5f",
             "gridcolor": "white",
             "linecolor": "white",
             "minorgridcolor": "white",
             "startlinecolor": "#2a3f5f"
            },
            "baxis": {
             "endlinecolor": "#2a3f5f",
             "gridcolor": "white",
             "linecolor": "white",
             "minorgridcolor": "white",
             "startlinecolor": "#2a3f5f"
            },
            "type": "carpet"
           }
          ],
          "choropleth": [
           {
            "colorbar": {
             "outlinewidth": 0,
             "ticks": ""
            },
            "type": "choropleth"
           }
          ],
          "contour": [
           {
            "colorbar": {
             "outlinewidth": 0,
             "ticks": ""
            },
            "colorscale": [
             [
              0,
              "#0d0887"
             ],
             [
              0.1111111111111111,
              "#46039f"
             ],
             [
              0.2222222222222222,
              "#7201a8"
             ],
             [
              0.3333333333333333,
              "#9c179e"
             ],
             [
              0.4444444444444444,
              "#bd3786"
             ],
             [
              0.5555555555555556,
              "#d8576b"
             ],
             [
              0.6666666666666666,
              "#ed7953"
             ],
             [
              0.7777777777777778,
              "#fb9f3a"
             ],
             [
              0.8888888888888888,
              "#fdca26"
             ],
             [
              1,
              "#f0f921"
             ]
            ],
            "type": "contour"
           }
          ],
          "contourcarpet": [
           {
            "colorbar": {
             "outlinewidth": 0,
             "ticks": ""
            },
            "type": "contourcarpet"
           }
          ],
          "heatmap": [
           {
            "colorbar": {
             "outlinewidth": 0,
             "ticks": ""
            },
            "colorscale": [
             [
              0,
              "#0d0887"
             ],
             [
              0.1111111111111111,
              "#46039f"
             ],
             [
              0.2222222222222222,
              "#7201a8"
             ],
             [
              0.3333333333333333,
              "#9c179e"
             ],
             [
              0.4444444444444444,
              "#bd3786"
             ],
             [
              0.5555555555555556,
              "#d8576b"
             ],
             [
              0.6666666666666666,
              "#ed7953"
             ],
             [
              0.7777777777777778,
              "#fb9f3a"
             ],
             [
              0.8888888888888888,
              "#fdca26"
             ],
             [
              1,
              "#f0f921"
             ]
            ],
            "type": "heatmap"
           }
          ],
          "histogram": [
           {
            "marker": {
             "pattern": {
              "fillmode": "overlay",
              "size": 10,
              "solidity": 0.2
             }
            },
            "type": "histogram"
           }
          ],
          "histogram2d": [
           {
            "colorbar": {
             "outlinewidth": 0,
             "ticks": ""
            },
            "colorscale": [
             [
              0,
              "#0d0887"
             ],
             [
              0.1111111111111111,
              "#46039f"
             ],
             [
              0.2222222222222222,
              "#7201a8"
             ],
             [
              0.3333333333333333,
              "#9c179e"
             ],
             [
              0.4444444444444444,
              "#bd3786"
             ],
             [
              0.5555555555555556,
              "#d8576b"
             ],
             [
              0.6666666666666666,
              "#ed7953"
             ],
             [
              0.7777777777777778,
              "#fb9f3a"
             ],
             [
              0.8888888888888888,
              "#fdca26"
             ],
             [
              1,
              "#f0f921"
             ]
            ],
            "type": "histogram2d"
           }
          ],
          "histogram2dcontour": [
           {
            "colorbar": {
             "outlinewidth": 0,
             "ticks": ""
            },
            "colorscale": [
             [
              0,
              "#0d0887"
             ],
             [
              0.1111111111111111,
              "#46039f"
             ],
             [
              0.2222222222222222,
              "#7201a8"
             ],
             [
              0.3333333333333333,
              "#9c179e"
             ],
             [
              0.4444444444444444,
              "#bd3786"
             ],
             [
              0.5555555555555556,
              "#d8576b"
             ],
             [
              0.6666666666666666,
              "#ed7953"
             ],
             [
              0.7777777777777778,
              "#fb9f3a"
             ],
             [
              0.8888888888888888,
              "#fdca26"
             ],
             [
              1,
              "#f0f921"
             ]
            ],
            "type": "histogram2dcontour"
           }
          ],
          "mesh3d": [
           {
            "colorbar": {
             "outlinewidth": 0,
             "ticks": ""
            },
            "type": "mesh3d"
           }
          ],
          "parcoords": [
           {
            "line": {
             "colorbar": {
              "outlinewidth": 0,
              "ticks": ""
             }
            },
            "type": "parcoords"
           }
          ],
          "pie": [
           {
            "automargin": true,
            "type": "pie"
           }
          ],
          "scatter": [
           {
            "fillpattern": {
             "fillmode": "overlay",
             "size": 10,
             "solidity": 0.2
            },
            "type": "scatter"
           }
          ],
          "scatter3d": [
           {
            "line": {
             "colorbar": {
              "outlinewidth": 0,
              "ticks": ""
             }
            },
            "marker": {
             "colorbar": {
              "outlinewidth": 0,
              "ticks": ""
             }
            },
            "type": "scatter3d"
           }
          ],
          "scattercarpet": [
           {
            "marker": {
             "colorbar": {
              "outlinewidth": 0,
              "ticks": ""
             }
            },
            "type": "scattercarpet"
           }
          ],
          "scattergeo": [
           {
            "marker": {
             "colorbar": {
              "outlinewidth": 0,
              "ticks": ""
             }
            },
            "type": "scattergeo"
           }
          ],
          "scattergl": [
           {
            "marker": {
             "colorbar": {
              "outlinewidth": 0,
              "ticks": ""
             }
            },
            "type": "scattergl"
           }
          ],
          "scattermap": [
           {
            "marker": {
             "colorbar": {
              "outlinewidth": 0,
              "ticks": ""
             }
            },
            "type": "scattermap"
           }
          ],
          "scattermapbox": [
           {
            "marker": {
             "colorbar": {
              "outlinewidth": 0,
              "ticks": ""
             }
            },
            "type": "scattermapbox"
           }
          ],
          "scatterpolar": [
           {
            "marker": {
             "colorbar": {
              "outlinewidth": 0,
              "ticks": ""
             }
            },
            "type": "scatterpolar"
           }
          ],
          "scatterpolargl": [
           {
            "marker": {
             "colorbar": {
              "outlinewidth": 0,
              "ticks": ""
             }
            },
            "type": "scatterpolargl"
           }
          ],
          "scatterternary": [
           {
            "marker": {
             "colorbar": {
              "outlinewidth": 0,
              "ticks": ""
             }
            },
            "type": "scatterternary"
           }
          ],
          "surface": [
           {
            "colorbar": {
             "outlinewidth": 0,
             "ticks": ""
            },
            "colorscale": [
             [
              0,
              "#0d0887"
             ],
             [
              0.1111111111111111,
              "#46039f"
             ],
             [
              0.2222222222222222,
              "#7201a8"
             ],
             [
              0.3333333333333333,
              "#9c179e"
             ],
             [
              0.4444444444444444,
              "#bd3786"
             ],
             [
              0.5555555555555556,
              "#d8576b"
             ],
             [
              0.6666666666666666,
              "#ed7953"
             ],
             [
              0.7777777777777778,
              "#fb9f3a"
             ],
             [
              0.8888888888888888,
              "#fdca26"
             ],
             [
              1,
              "#f0f921"
             ]
            ],
            "type": "surface"
           }
          ],
          "table": [
           {
            "cells": {
             "fill": {
              "color": "#EBF0F8"
             },
             "line": {
              "color": "white"
             }
            },
            "header": {
             "fill": {
              "color": "#C8D4E3"
             },
             "line": {
              "color": "white"
             }
            },
            "type": "table"
           }
          ]
         },
         "layout": {
          "annotationdefaults": {
           "arrowcolor": "#2a3f5f",
           "arrowhead": 0,
           "arrowwidth": 1
          },
          "autotypenumbers": "strict",
          "coloraxis": {
           "colorbar": {
            "outlinewidth": 0,
            "ticks": ""
           }
          },
          "colorscale": {
           "diverging": [
            [
             0,
             "#8e0152"
            ],
            [
             0.1,
             "#c51b7d"
            ],
            [
             0.2,
             "#de77ae"
            ],
            [
             0.3,
             "#f1b6da"
            ],
            [
             0.4,
             "#fde0ef"
            ],
            [
             0.5,
             "#f7f7f7"
            ],
            [
             0.6,
             "#e6f5d0"
            ],
            [
             0.7,
             "#b8e186"
            ],
            [
             0.8,
             "#7fbc41"
            ],
            [
             0.9,
             "#4d9221"
            ],
            [
             1,
             "#276419"
            ]
           ],
           "sequential": [
            [
             0,
             "#0d0887"
            ],
            [
             0.1111111111111111,
             "#46039f"
            ],
            [
             0.2222222222222222,
             "#7201a8"
            ],
            [
             0.3333333333333333,
             "#9c179e"
            ],
            [
             0.4444444444444444,
             "#bd3786"
            ],
            [
             0.5555555555555556,
             "#d8576b"
            ],
            [
             0.6666666666666666,
             "#ed7953"
            ],
            [
             0.7777777777777778,
             "#fb9f3a"
            ],
            [
             0.8888888888888888,
             "#fdca26"
            ],
            [
             1,
             "#f0f921"
            ]
           ],
           "sequentialminus": [
            [
             0,
             "#0d0887"
            ],
            [
             0.1111111111111111,
             "#46039f"
            ],
            [
             0.2222222222222222,
             "#7201a8"
            ],
            [
             0.3333333333333333,
             "#9c179e"
            ],
            [
             0.4444444444444444,
             "#bd3786"
            ],
            [
             0.5555555555555556,
             "#d8576b"
            ],
            [
             0.6666666666666666,
             "#ed7953"
            ],
            [
             0.7777777777777778,
             "#fb9f3a"
            ],
            [
             0.8888888888888888,
             "#fdca26"
            ],
            [
             1,
             "#f0f921"
            ]
           ]
          },
          "colorway": [
           "#636efa",
           "#EF553B",
           "#00cc96",
           "#ab63fa",
           "#FFA15A",
           "#19d3f3",
           "#FF6692",
           "#B6E880",
           "#FF97FF",
           "#FECB52"
          ],
          "font": {
           "color": "#2a3f5f"
          },
          "geo": {
           "bgcolor": "white",
           "lakecolor": "white",
           "landcolor": "#E5ECF6",
           "showlakes": true,
           "showland": true,
           "subunitcolor": "white"
          },
          "hoverlabel": {
           "align": "left"
          },
          "hovermode": "closest",
          "mapbox": {
           "style": "light"
          },
          "paper_bgcolor": "white",
          "plot_bgcolor": "#E5ECF6",
          "polar": {
           "angularaxis": {
            "gridcolor": "white",
            "linecolor": "white",
            "ticks": ""
           },
           "bgcolor": "#E5ECF6",
           "radialaxis": {
            "gridcolor": "white",
            "linecolor": "white",
            "ticks": ""
           }
          },
          "scene": {
           "xaxis": {
            "backgroundcolor": "#E5ECF6",
            "gridcolor": "white",
            "gridwidth": 2,
            "linecolor": "white",
            "showbackground": true,
            "ticks": "",
            "zerolinecolor": "white"
           },
           "yaxis": {
            "backgroundcolor": "#E5ECF6",
            "gridcolor": "white",
            "gridwidth": 2,
            "linecolor": "white",
            "showbackground": true,
            "ticks": "",
            "zerolinecolor": "white"
           },
           "zaxis": {
            "backgroundcolor": "#E5ECF6",
            "gridcolor": "white",
            "gridwidth": 2,
            "linecolor": "white",
            "showbackground": true,
            "ticks": "",
            "zerolinecolor": "white"
           }
          },
          "shapedefaults": {
           "line": {
            "color": "#2a3f5f"
           }
          },
          "ternary": {
           "aaxis": {
            "gridcolor": "white",
            "linecolor": "white",
            "ticks": ""
           },
           "baxis": {
            "gridcolor": "white",
            "linecolor": "white",
            "ticks": ""
           },
           "bgcolor": "#E5ECF6",
           "caxis": {
            "gridcolor": "white",
            "linecolor": "white",
            "ticks": ""
           }
          },
          "title": {
           "x": 0.05
          },
          "xaxis": {
           "automargin": true,
           "gridcolor": "white",
           "linecolor": "white",
           "ticks": "",
           "title": {
            "standoff": 15
           },
           "zerolinecolor": "white",
           "zerolinewidth": 2
          },
          "yaxis": {
           "automargin": true,
           "gridcolor": "white",
           "linecolor": "white",
           "ticks": "",
           "title": {
            "standoff": 15
           },
           "zerolinecolor": "white",
           "zerolinewidth": 2
          }
         }
        },
        "title": {
         "text": "Gráfico 1. Presupuesto por Cuenta General"
        },
        "xaxis": {
         "anchor": "y",
         "categoryarray": [
          "3400",
          "7000",
          "1400",
          "3100",
          "1100",
          "1200",
          "3600",
          "2000",
          "3900",
          "2400",
          "5000",
          "6000",
          "2700",
          "1300",
          "5100",
          "5200",
          "2200",
          "3000",
          "2100",
          "7200",
          "6100",
          "4100",
          "2300",
          "1600",
          "2800",
          "3200",
          "2600",
          "2500",
          "3700",
          "3800",
          "2900",
          "3500",
          "3300",
          "5400",
          "5300"
         ],
         "categoryorder": "array",
         "domain": [
          0,
          1
         ],
         "tickangle": 90,
         "title": {
          "text": "Cuenta General"
         }
        },
        "yaxis": {
         "anchor": "x",
         "domain": [
          0,
          1
         ],
         "title": {
          "text": "Presupuesto Total"
         }
        }
       }
      }
     },
     "metadata": {},
     "output_type": "display_data"
    }
   ],
   "source": [
    "budget_grafico_1 = presupuestos_por_cuenta.reset_index()\n",
    "budget_grafico_1.columns = [\"Cuenta General\", \"Presupuesto\"]\n",
    "fig = px.bar(\n",
    "    budget_grafico_1,\n",
    "    x=\"Cuenta General\",\n",
    "    y=\"Presupuesto\",\n",
    "    title=\"Gráfico 1. Presupuesto por Cuenta General\",\n",
    "    labels={\"Cuenta General\": \"Cuenta General\", \"Presupuesto\": \"Presupuesto Total\"},\n",
    "    text=\"Presupuesto\",\n",
    "    color=\"Cuenta General\",\n",
    "    color_discrete_sequence=px.colors.sequential.Magma\n",
    ")\n",
    "\n",
    "fig.update_layout(xaxis_tickangle=90)\n",
    "fig.show()"
   ]
  },
  {
   "cell_type": "markdown",
   "id": "bbde4f7a",
   "metadata": {},
   "source": [
    "<h3 style=\"text-align: center;\">En la gráfica 1 se ordenan las cuentas generales de mayor a menor dependiendo del presupuesto que se les otorga.</h3>\n"
   ]
  },
  {
   "cell_type": "code",
   "execution_count": 109,
   "id": "79f90d46",
   "metadata": {},
   "outputs": [
    {
     "data": {
      "application/vnd.plotly.v1+json": {
       "config": {
        "plotlyServerURL": "https://plot.ly"
       },
       "data": [
        {
         "hovertemplate": "Etapa del Proyecto=%{x}<br>Presupuesto Total=%{text}<extra></extra>",
         "legendgroup": "SHOOT",
         "marker": {
          "color": "rgb(228, 241, 225)",
          "pattern": {
           "shape": ""
          }
         },
         "name": "SHOOT",
         "orientation": "v",
         "showlegend": true,
         "text": [
          57377469.92999999
         ],
         "textposition": "auto",
         "type": "bar",
         "x": [
          "SHOOT"
         ],
         "xaxis": "x",
         "y": [
          57377469.92999999
         ],
         "yaxis": "y"
        },
        {
         "hovertemplate": "Etapa del Proyecto=%{x}<br>Presupuesto Total=%{text}<extra></extra>",
         "legendgroup": "ALL SHOW",
         "marker": {
          "color": "rgb(180, 217, 204)",
          "pattern": {
           "shape": ""
          }
         },
         "name": "ALL SHOW",
         "orientation": "v",
         "showlegend": true,
         "text": [
          34804335.78
         ],
         "textposition": "auto",
         "type": "bar",
         "x": [
          "ALL SHOW"
         ],
         "xaxis": "x",
         "y": [
          34804335.78
         ],
         "yaxis": "y"
        },
        {
         "hovertemplate": "Etapa del Proyecto=%{x}<br>Presupuesto Total=%{text}<extra></extra>",
         "legendgroup": "POST",
         "marker": {
          "color": "rgb(137, 192, 182)",
          "pattern": {
           "shape": ""
          }
         },
         "name": "POST",
         "orientation": "v",
         "showlegend": true,
         "text": [
          11659353.440000001
         ],
         "textposition": "auto",
         "type": "bar",
         "x": [
          "POST"
         ],
         "xaxis": "x",
         "y": [
          11659353.440000001
         ],
         "yaxis": "y"
        },
        {
         "hovertemplate": "Etapa del Proyecto=%{x}<br>Presupuesto Total=%{text}<extra></extra>",
         "legendgroup": "DEVELOPMENT",
         "marker": {
          "color": "rgb(99, 166, 160)",
          "pattern": {
           "shape": ""
          }
         },
         "name": "DEVELOPMENT",
         "orientation": "v",
         "showlegend": true,
         "text": [
          10171000
         ],
         "textposition": "auto",
         "type": "bar",
         "x": [
          "DEVELOPMENT"
         ],
         "xaxis": "x",
         "y": [
          10171000
         ],
         "yaxis": "y"
        },
        {
         "hovertemplate": "Etapa del Proyecto=%{x}<br>Presupuesto Total=%{text}<extra></extra>",
         "legendgroup": "PREP",
         "marker": {
          "color": "rgb(68, 140, 138)",
          "pattern": {
           "shape": ""
          }
         },
         "name": "PREP",
         "orientation": "v",
         "showlegend": true,
         "text": [
          9104497.890000004
         ],
         "textposition": "auto",
         "type": "bar",
         "x": [
          "PREP"
         ],
         "xaxis": "x",
         "y": [
          9104497.890000004
         ],
         "yaxis": "y"
        },
        {
         "hovertemplate": "Etapa del Proyecto=%{x}<br>Presupuesto Total=%{text}<extra></extra>",
         "legendgroup": "2nd Unit",
         "marker": {
          "color": "rgb(40, 114, 116)",
          "pattern": {
           "shape": ""
          }
         },
         "name": "2nd Unit",
         "orientation": "v",
         "showlegend": true,
         "text": [
          6907249.840000001
         ],
         "textposition": "auto",
         "type": "bar",
         "x": [
          "2nd Unit"
         ],
         "xaxis": "x",
         "y": [
          6907249.840000001
         ],
         "yaxis": "y"
        },
        {
         "hovertemplate": "Etapa del Proyecto=%{x}<br>Presupuesto Total=%{text}<extra></extra>",
         "legendgroup": "WRAP",
         "marker": {
          "color": "rgb(13, 88, 95)",
          "pattern": {
           "shape": ""
          }
         },
         "name": "WRAP",
         "orientation": "v",
         "showlegend": true,
         "text": [
          2877096.829999999
         ],
         "textposition": "auto",
         "type": "bar",
         "x": [
          "WRAP"
         ],
         "xaxis": "x",
         "y": [
          2877096.829999999
         ],
         "yaxis": "y"
        },
        {
         "hovertemplate": "Etapa del Proyecto=%{x}<br>Presupuesto Total=%{text}<extra></extra>",
         "legendgroup": "Fringes",
         "marker": {
          "color": "rgb(228, 241, 225)",
          "pattern": {
           "shape": ""
          }
         },
         "name": "Fringes",
         "orientation": "v",
         "showlegend": true,
         "text": [
          1078562.2900000003
         ],
         "textposition": "auto",
         "type": "bar",
         "x": [
          "Fringes"
         ],
         "xaxis": "x",
         "y": [
          1078562.2900000003
         ],
         "yaxis": "y"
        },
        {
         "hovertemplate": "Etapa del Proyecto=%{x}<br>Presupuesto Total=%{text}<extra></extra>",
         "legendgroup": "SOFT",
         "marker": {
          "color": "rgb(180, 217, 204)",
          "pattern": {
           "shape": ""
          }
         },
         "name": "SOFT",
         "orientation": "v",
         "showlegend": true,
         "text": [
          957045
         ],
         "textposition": "auto",
         "type": "bar",
         "x": [
          "SOFT"
         ],
         "xaxis": "x",
         "y": [
          957045
         ],
         "yaxis": "y"
        },
        {
         "hovertemplate": "Etapa del Proyecto=%{x}<br>Presupuesto Total=%{text}<extra></extra>",
         "legendgroup": "COVID",
         "marker": {
          "color": "rgb(137, 192, 182)",
          "pattern": {
           "shape": ""
          }
         },
         "name": "COVID",
         "orientation": "v",
         "showlegend": true,
         "text": [
          161300
         ],
         "textposition": "auto",
         "type": "bar",
         "x": [
          "COVID"
         ],
         "xaxis": "x",
         "y": [
          161300
         ],
         "yaxis": "y"
        }
       ],
       "layout": {
        "barmode": "relative",
        "legend": {
         "title": {
          "text": "Etapa del Proyecto"
         },
         "tracegroupgap": 0
        },
        "template": {
         "data": {
          "bar": [
           {
            "error_x": {
             "color": "#2a3f5f"
            },
            "error_y": {
             "color": "#2a3f5f"
            },
            "marker": {
             "line": {
              "color": "#E5ECF6",
              "width": 0.5
             },
             "pattern": {
              "fillmode": "overlay",
              "size": 10,
              "solidity": 0.2
             }
            },
            "type": "bar"
           }
          ],
          "barpolar": [
           {
            "marker": {
             "line": {
              "color": "#E5ECF6",
              "width": 0.5
             },
             "pattern": {
              "fillmode": "overlay",
              "size": 10,
              "solidity": 0.2
             }
            },
            "type": "barpolar"
           }
          ],
          "carpet": [
           {
            "aaxis": {
             "endlinecolor": "#2a3f5f",
             "gridcolor": "white",
             "linecolor": "white",
             "minorgridcolor": "white",
             "startlinecolor": "#2a3f5f"
            },
            "baxis": {
             "endlinecolor": "#2a3f5f",
             "gridcolor": "white",
             "linecolor": "white",
             "minorgridcolor": "white",
             "startlinecolor": "#2a3f5f"
            },
            "type": "carpet"
           }
          ],
          "choropleth": [
           {
            "colorbar": {
             "outlinewidth": 0,
             "ticks": ""
            },
            "type": "choropleth"
           }
          ],
          "contour": [
           {
            "colorbar": {
             "outlinewidth": 0,
             "ticks": ""
            },
            "colorscale": [
             [
              0,
              "#0d0887"
             ],
             [
              0.1111111111111111,
              "#46039f"
             ],
             [
              0.2222222222222222,
              "#7201a8"
             ],
             [
              0.3333333333333333,
              "#9c179e"
             ],
             [
              0.4444444444444444,
              "#bd3786"
             ],
             [
              0.5555555555555556,
              "#d8576b"
             ],
             [
              0.6666666666666666,
              "#ed7953"
             ],
             [
              0.7777777777777778,
              "#fb9f3a"
             ],
             [
              0.8888888888888888,
              "#fdca26"
             ],
             [
              1,
              "#f0f921"
             ]
            ],
            "type": "contour"
           }
          ],
          "contourcarpet": [
           {
            "colorbar": {
             "outlinewidth": 0,
             "ticks": ""
            },
            "type": "contourcarpet"
           }
          ],
          "heatmap": [
           {
            "colorbar": {
             "outlinewidth": 0,
             "ticks": ""
            },
            "colorscale": [
             [
              0,
              "#0d0887"
             ],
             [
              0.1111111111111111,
              "#46039f"
             ],
             [
              0.2222222222222222,
              "#7201a8"
             ],
             [
              0.3333333333333333,
              "#9c179e"
             ],
             [
              0.4444444444444444,
              "#bd3786"
             ],
             [
              0.5555555555555556,
              "#d8576b"
             ],
             [
              0.6666666666666666,
              "#ed7953"
             ],
             [
              0.7777777777777778,
              "#fb9f3a"
             ],
             [
              0.8888888888888888,
              "#fdca26"
             ],
             [
              1,
              "#f0f921"
             ]
            ],
            "type": "heatmap"
           }
          ],
          "histogram": [
           {
            "marker": {
             "pattern": {
              "fillmode": "overlay",
              "size": 10,
              "solidity": 0.2
             }
            },
            "type": "histogram"
           }
          ],
          "histogram2d": [
           {
            "colorbar": {
             "outlinewidth": 0,
             "ticks": ""
            },
            "colorscale": [
             [
              0,
              "#0d0887"
             ],
             [
              0.1111111111111111,
              "#46039f"
             ],
             [
              0.2222222222222222,
              "#7201a8"
             ],
             [
              0.3333333333333333,
              "#9c179e"
             ],
             [
              0.4444444444444444,
              "#bd3786"
             ],
             [
              0.5555555555555556,
              "#d8576b"
             ],
             [
              0.6666666666666666,
              "#ed7953"
             ],
             [
              0.7777777777777778,
              "#fb9f3a"
             ],
             [
              0.8888888888888888,
              "#fdca26"
             ],
             [
              1,
              "#f0f921"
             ]
            ],
            "type": "histogram2d"
           }
          ],
          "histogram2dcontour": [
           {
            "colorbar": {
             "outlinewidth": 0,
             "ticks": ""
            },
            "colorscale": [
             [
              0,
              "#0d0887"
             ],
             [
              0.1111111111111111,
              "#46039f"
             ],
             [
              0.2222222222222222,
              "#7201a8"
             ],
             [
              0.3333333333333333,
              "#9c179e"
             ],
             [
              0.4444444444444444,
              "#bd3786"
             ],
             [
              0.5555555555555556,
              "#d8576b"
             ],
             [
              0.6666666666666666,
              "#ed7953"
             ],
             [
              0.7777777777777778,
              "#fb9f3a"
             ],
             [
              0.8888888888888888,
              "#fdca26"
             ],
             [
              1,
              "#f0f921"
             ]
            ],
            "type": "histogram2dcontour"
           }
          ],
          "mesh3d": [
           {
            "colorbar": {
             "outlinewidth": 0,
             "ticks": ""
            },
            "type": "mesh3d"
           }
          ],
          "parcoords": [
           {
            "line": {
             "colorbar": {
              "outlinewidth": 0,
              "ticks": ""
             }
            },
            "type": "parcoords"
           }
          ],
          "pie": [
           {
            "automargin": true,
            "type": "pie"
           }
          ],
          "scatter": [
           {
            "fillpattern": {
             "fillmode": "overlay",
             "size": 10,
             "solidity": 0.2
            },
            "type": "scatter"
           }
          ],
          "scatter3d": [
           {
            "line": {
             "colorbar": {
              "outlinewidth": 0,
              "ticks": ""
             }
            },
            "marker": {
             "colorbar": {
              "outlinewidth": 0,
              "ticks": ""
             }
            },
            "type": "scatter3d"
           }
          ],
          "scattercarpet": [
           {
            "marker": {
             "colorbar": {
              "outlinewidth": 0,
              "ticks": ""
             }
            },
            "type": "scattercarpet"
           }
          ],
          "scattergeo": [
           {
            "marker": {
             "colorbar": {
              "outlinewidth": 0,
              "ticks": ""
             }
            },
            "type": "scattergeo"
           }
          ],
          "scattergl": [
           {
            "marker": {
             "colorbar": {
              "outlinewidth": 0,
              "ticks": ""
             }
            },
            "type": "scattergl"
           }
          ],
          "scattermap": [
           {
            "marker": {
             "colorbar": {
              "outlinewidth": 0,
              "ticks": ""
             }
            },
            "type": "scattermap"
           }
          ],
          "scattermapbox": [
           {
            "marker": {
             "colorbar": {
              "outlinewidth": 0,
              "ticks": ""
             }
            },
            "type": "scattermapbox"
           }
          ],
          "scatterpolar": [
           {
            "marker": {
             "colorbar": {
              "outlinewidth": 0,
              "ticks": ""
             }
            },
            "type": "scatterpolar"
           }
          ],
          "scatterpolargl": [
           {
            "marker": {
             "colorbar": {
              "outlinewidth": 0,
              "ticks": ""
             }
            },
            "type": "scatterpolargl"
           }
          ],
          "scatterternary": [
           {
            "marker": {
             "colorbar": {
              "outlinewidth": 0,
              "ticks": ""
             }
            },
            "type": "scatterternary"
           }
          ],
          "surface": [
           {
            "colorbar": {
             "outlinewidth": 0,
             "ticks": ""
            },
            "colorscale": [
             [
              0,
              "#0d0887"
             ],
             [
              0.1111111111111111,
              "#46039f"
             ],
             [
              0.2222222222222222,
              "#7201a8"
             ],
             [
              0.3333333333333333,
              "#9c179e"
             ],
             [
              0.4444444444444444,
              "#bd3786"
             ],
             [
              0.5555555555555556,
              "#d8576b"
             ],
             [
              0.6666666666666666,
              "#ed7953"
             ],
             [
              0.7777777777777778,
              "#fb9f3a"
             ],
             [
              0.8888888888888888,
              "#fdca26"
             ],
             [
              1,
              "#f0f921"
             ]
            ],
            "type": "surface"
           }
          ],
          "table": [
           {
            "cells": {
             "fill": {
              "color": "#EBF0F8"
             },
             "line": {
              "color": "white"
             }
            },
            "header": {
             "fill": {
              "color": "#C8D4E3"
             },
             "line": {
              "color": "white"
             }
            },
            "type": "table"
           }
          ]
         },
         "layout": {
          "annotationdefaults": {
           "arrowcolor": "#2a3f5f",
           "arrowhead": 0,
           "arrowwidth": 1
          },
          "autotypenumbers": "strict",
          "coloraxis": {
           "colorbar": {
            "outlinewidth": 0,
            "ticks": ""
           }
          },
          "colorscale": {
           "diverging": [
            [
             0,
             "#8e0152"
            ],
            [
             0.1,
             "#c51b7d"
            ],
            [
             0.2,
             "#de77ae"
            ],
            [
             0.3,
             "#f1b6da"
            ],
            [
             0.4,
             "#fde0ef"
            ],
            [
             0.5,
             "#f7f7f7"
            ],
            [
             0.6,
             "#e6f5d0"
            ],
            [
             0.7,
             "#b8e186"
            ],
            [
             0.8,
             "#7fbc41"
            ],
            [
             0.9,
             "#4d9221"
            ],
            [
             1,
             "#276419"
            ]
           ],
           "sequential": [
            [
             0,
             "#0d0887"
            ],
            [
             0.1111111111111111,
             "#46039f"
            ],
            [
             0.2222222222222222,
             "#7201a8"
            ],
            [
             0.3333333333333333,
             "#9c179e"
            ],
            [
             0.4444444444444444,
             "#bd3786"
            ],
            [
             0.5555555555555556,
             "#d8576b"
            ],
            [
             0.6666666666666666,
             "#ed7953"
            ],
            [
             0.7777777777777778,
             "#fb9f3a"
            ],
            [
             0.8888888888888888,
             "#fdca26"
            ],
            [
             1,
             "#f0f921"
            ]
           ],
           "sequentialminus": [
            [
             0,
             "#0d0887"
            ],
            [
             0.1111111111111111,
             "#46039f"
            ],
            [
             0.2222222222222222,
             "#7201a8"
            ],
            [
             0.3333333333333333,
             "#9c179e"
            ],
            [
             0.4444444444444444,
             "#bd3786"
            ],
            [
             0.5555555555555556,
             "#d8576b"
            ],
            [
             0.6666666666666666,
             "#ed7953"
            ],
            [
             0.7777777777777778,
             "#fb9f3a"
            ],
            [
             0.8888888888888888,
             "#fdca26"
            ],
            [
             1,
             "#f0f921"
            ]
           ]
          },
          "colorway": [
           "#636efa",
           "#EF553B",
           "#00cc96",
           "#ab63fa",
           "#FFA15A",
           "#19d3f3",
           "#FF6692",
           "#B6E880",
           "#FF97FF",
           "#FECB52"
          ],
          "font": {
           "color": "#2a3f5f"
          },
          "geo": {
           "bgcolor": "white",
           "lakecolor": "white",
           "landcolor": "#E5ECF6",
           "showlakes": true,
           "showland": true,
           "subunitcolor": "white"
          },
          "hoverlabel": {
           "align": "left"
          },
          "hovermode": "closest",
          "mapbox": {
           "style": "light"
          },
          "paper_bgcolor": "white",
          "plot_bgcolor": "#E5ECF6",
          "polar": {
           "angularaxis": {
            "gridcolor": "white",
            "linecolor": "white",
            "ticks": ""
           },
           "bgcolor": "#E5ECF6",
           "radialaxis": {
            "gridcolor": "white",
            "linecolor": "white",
            "ticks": ""
           }
          },
          "scene": {
           "xaxis": {
            "backgroundcolor": "#E5ECF6",
            "gridcolor": "white",
            "gridwidth": 2,
            "linecolor": "white",
            "showbackground": true,
            "ticks": "",
            "zerolinecolor": "white"
           },
           "yaxis": {
            "backgroundcolor": "#E5ECF6",
            "gridcolor": "white",
            "gridwidth": 2,
            "linecolor": "white",
            "showbackground": true,
            "ticks": "",
            "zerolinecolor": "white"
           },
           "zaxis": {
            "backgroundcolor": "#E5ECF6",
            "gridcolor": "white",
            "gridwidth": 2,
            "linecolor": "white",
            "showbackground": true,
            "ticks": "",
            "zerolinecolor": "white"
           }
          },
          "shapedefaults": {
           "line": {
            "color": "#2a3f5f"
           }
          },
          "ternary": {
           "aaxis": {
            "gridcolor": "white",
            "linecolor": "white",
            "ticks": ""
           },
           "baxis": {
            "gridcolor": "white",
            "linecolor": "white",
            "ticks": ""
           },
           "bgcolor": "#E5ECF6",
           "caxis": {
            "gridcolor": "white",
            "linecolor": "white",
            "ticks": ""
           }
          },
          "title": {
           "x": 0.05
          },
          "xaxis": {
           "automargin": true,
           "gridcolor": "white",
           "linecolor": "white",
           "ticks": "",
           "title": {
            "standoff": 15
           },
           "zerolinecolor": "white",
           "zerolinewidth": 2
          },
          "yaxis": {
           "automargin": true,
           "gridcolor": "white",
           "linecolor": "white",
           "ticks": "",
           "title": {
            "standoff": 15
           },
           "zerolinecolor": "white",
           "zerolinewidth": 2
          }
         }
        },
        "title": {
         "text": "Gráfico 2. Presupuesto Total por Etapa"
        },
        "xaxis": {
         "anchor": "y",
         "categoryarray": [
          "SHOOT",
          "ALL SHOW",
          "POST",
          "DEVELOPMENT",
          "PREP",
          "2nd Unit",
          "WRAP",
          "Fringes",
          "SOFT",
          "COVID"
         ],
         "categoryorder": "array",
         "domain": [
          0,
          1
         ],
         "tickangle": -45,
         "title": {
          "text": "Etapa del Proyecto"
         }
        },
        "yaxis": {
         "anchor": "x",
         "domain": [
          0,
          1
         ],
         "title": {
          "text": "Presupuesto Total"
         }
        }
       }
      }
     },
     "metadata": {},
     "output_type": "display_data"
    }
   ],
   "source": [
    "etapas = budget[budget[\"Etapa\"].notna()]\n",
    "presupuesto_etapas = etapas.groupby(\"Etapa\")[\"BUDGET\"].sum().sort_values(ascending=False)\n",
    "df_etapas = presupuesto_etapas.reset_index()\n",
    "df_etapas.columns = [\"Etapa\", \"Presupuesto\"]\n",
    "fig = px.bar(\n",
    "    df_etapas,\n",
    "    x=\"Etapa\",\n",
    "    y=\"Presupuesto\",\n",
    "    title=\"Gráfico 2. Presupuesto Total por Etapa\",\n",
    "    labels={\"Etapa\": \"Etapa del Proyecto\", \"Presupuesto\": \"Presupuesto Total\"},\n",
    "    text=\"Presupuesto\",\n",
    "    color=\"Etapa\",\n",
    "    color_discrete_sequence=px.colors.sequential.Mint\n",
    ")\n",
    "\n",
    "fig.update_layout(xaxis_tickangle=-45)\n",
    "fig.show()"
   ]
  },
  {
   "cell_type": "markdown",
   "id": "e837f408",
   "metadata": {},
   "source": [
    "<h3 style=\"text-align: center;\">En la gráfica 2 se despliega el presupuesto que se otorga a las diversas etapas del proyecto y se ordena de mayor a menor. </h3>"
   ]
  },
  {
   "cell_type": "code",
   "execution_count": 110,
   "id": "75c9c9d4",
   "metadata": {},
   "outputs": [
    {
     "name": "stdout",
     "output_type": "stream",
     "text": [
      "Top 10 subcuentas con mayor presupuesto:\n",
      "ACCT\n",
      "7003    11643574\n",
      "1101     8340000\n",
      "1401     7612289\n",
      "3193     7120297\n",
      "3412     6880105\n",
      "1201     5979120\n",
      "3683     5456700\n",
      "3410     4701050\n",
      "3902     4360556\n",
      "2494     3001630\n",
      "Name: BUDGET, dtype: object\n"
     ]
    }
   ],
   "source": [
    "#Despliegue de las sub cuentas con mayor presupuesto. \n",
    "budget[\"REF\"] = budget[\"REF\"].astype(str).str.strip()\n",
    "subcuentas = budget[budget[\"REF\"] == \"Sub cuenta\"]\n",
    "\n",
    "if subcuentas.empty:\n",
    "    print(\"No se encontraron subcuentas con ese nombre exacto.\")\n",
    "else:\n",
    "    top_subcuentas = subcuentas.groupby(\"ACCT\")[\"BUDGET\"].sum().sort_values(ascending=False).head(10)\n",
    "    print(\"Top 10 subcuentas con mayor presupuesto:\")\n",
    "    print(top_subcuentas)"
   ]
  },
  {
   "cell_type": "code",
   "execution_count": 111,
   "id": "2eed1a01",
   "metadata": {},
   "outputs": [
    {
     "data": {
      "application/vnd.plotly.v1+json": {
       "config": {
        "plotlyServerURL": "https://plot.ly"
       },
       "data": [
        {
         "hovertemplate": "Código de Subcuenta=%{x}<br>Presupuesto Total=%{text}<extra></extra>",
         "legendgroup": "7003",
         "marker": {
          "color": "#0d0887",
          "pattern": {
           "shape": ""
          }
         },
         "name": "7003",
         "orientation": "v",
         "showlegend": true,
         "text": [
          11643574
         ],
         "textposition": "auto",
         "type": "bar",
         "x": [
          "7003"
         ],
         "xaxis": "x",
         "y": [
          11643574
         ],
         "yaxis": "y"
        },
        {
         "hovertemplate": "Código de Subcuenta=%{x}<br>Presupuesto Total=%{text}<extra></extra>",
         "legendgroup": "1101",
         "marker": {
          "color": "#46039f",
          "pattern": {
           "shape": ""
          }
         },
         "name": "1101",
         "orientation": "v",
         "showlegend": true,
         "text": [
          8340000
         ],
         "textposition": "auto",
         "type": "bar",
         "x": [
          "1101"
         ],
         "xaxis": "x",
         "y": [
          8340000
         ],
         "yaxis": "y"
        },
        {
         "hovertemplate": "Código de Subcuenta=%{x}<br>Presupuesto Total=%{text}<extra></extra>",
         "legendgroup": "1401",
         "marker": {
          "color": "#7201a8",
          "pattern": {
           "shape": ""
          }
         },
         "name": "1401",
         "orientation": "v",
         "showlegend": true,
         "text": [
          7612289
         ],
         "textposition": "auto",
         "type": "bar",
         "x": [
          "1401"
         ],
         "xaxis": "x",
         "y": [
          7612289
         ],
         "yaxis": "y"
        },
        {
         "hovertemplate": "Código de Subcuenta=%{x}<br>Presupuesto Total=%{text}<extra></extra>",
         "legendgroup": "3193",
         "marker": {
          "color": "#9c179e",
          "pattern": {
           "shape": ""
          }
         },
         "name": "3193",
         "orientation": "v",
         "showlegend": true,
         "text": [
          7120297
         ],
         "textposition": "auto",
         "type": "bar",
         "x": [
          "3193"
         ],
         "xaxis": "x",
         "y": [
          7120297
         ],
         "yaxis": "y"
        },
        {
         "hovertemplate": "Código de Subcuenta=%{x}<br>Presupuesto Total=%{text}<extra></extra>",
         "legendgroup": "3412",
         "marker": {
          "color": "#bd3786",
          "pattern": {
           "shape": ""
          }
         },
         "name": "3412",
         "orientation": "v",
         "showlegend": true,
         "text": [
          6880105
         ],
         "textposition": "auto",
         "type": "bar",
         "x": [
          "3412"
         ],
         "xaxis": "x",
         "y": [
          6880105
         ],
         "yaxis": "y"
        },
        {
         "hovertemplate": "Código de Subcuenta=%{x}<br>Presupuesto Total=%{text}<extra></extra>",
         "legendgroup": "1201",
         "marker": {
          "color": "#d8576b",
          "pattern": {
           "shape": ""
          }
         },
         "name": "1201",
         "orientation": "v",
         "showlegend": true,
         "text": [
          5979120
         ],
         "textposition": "auto",
         "type": "bar",
         "x": [
          "1201"
         ],
         "xaxis": "x",
         "y": [
          5979120
         ],
         "yaxis": "y"
        },
        {
         "hovertemplate": "Código de Subcuenta=%{x}<br>Presupuesto Total=%{text}<extra></extra>",
         "legendgroup": "3683",
         "marker": {
          "color": "#ed7953",
          "pattern": {
           "shape": ""
          }
         },
         "name": "3683",
         "orientation": "v",
         "showlegend": true,
         "text": [
          5456700
         ],
         "textposition": "auto",
         "type": "bar",
         "x": [
          "3683"
         ],
         "xaxis": "x",
         "y": [
          5456700
         ],
         "yaxis": "y"
        },
        {
         "hovertemplate": "Código de Subcuenta=%{x}<br>Presupuesto Total=%{text}<extra></extra>",
         "legendgroup": "3410",
         "marker": {
          "color": "#fb9f3a",
          "pattern": {
           "shape": ""
          }
         },
         "name": "3410",
         "orientation": "v",
         "showlegend": true,
         "text": [
          4701050
         ],
         "textposition": "auto",
         "type": "bar",
         "x": [
          "3410"
         ],
         "xaxis": "x",
         "y": [
          4701050
         ],
         "yaxis": "y"
        },
        {
         "hovertemplate": "Código de Subcuenta=%{x}<br>Presupuesto Total=%{text}<extra></extra>",
         "legendgroup": "3902",
         "marker": {
          "color": "#fdca26",
          "pattern": {
           "shape": ""
          }
         },
         "name": "3902",
         "orientation": "v",
         "showlegend": true,
         "text": [
          4360556
         ],
         "textposition": "auto",
         "type": "bar",
         "x": [
          "3902"
         ],
         "xaxis": "x",
         "y": [
          4360556
         ],
         "yaxis": "y"
        },
        {
         "hovertemplate": "Código de Subcuenta=%{x}<br>Presupuesto Total=%{text}<extra></extra>",
         "legendgroup": "2494",
         "marker": {
          "color": "#f0f921",
          "pattern": {
           "shape": ""
          }
         },
         "name": "2494",
         "orientation": "v",
         "showlegend": true,
         "text": [
          3001630
         ],
         "textposition": "auto",
         "type": "bar",
         "x": [
          "2494"
         ],
         "xaxis": "x",
         "y": [
          3001630
         ],
         "yaxis": "y"
        }
       ],
       "layout": {
        "barmode": "relative",
        "legend": {
         "title": {
          "text": "Código de Subcuenta"
         },
         "tracegroupgap": 0
        },
        "template": {
         "data": {
          "bar": [
           {
            "error_x": {
             "color": "#2a3f5f"
            },
            "error_y": {
             "color": "#2a3f5f"
            },
            "marker": {
             "line": {
              "color": "#E5ECF6",
              "width": 0.5
             },
             "pattern": {
              "fillmode": "overlay",
              "size": 10,
              "solidity": 0.2
             }
            },
            "type": "bar"
           }
          ],
          "barpolar": [
           {
            "marker": {
             "line": {
              "color": "#E5ECF6",
              "width": 0.5
             },
             "pattern": {
              "fillmode": "overlay",
              "size": 10,
              "solidity": 0.2
             }
            },
            "type": "barpolar"
           }
          ],
          "carpet": [
           {
            "aaxis": {
             "endlinecolor": "#2a3f5f",
             "gridcolor": "white",
             "linecolor": "white",
             "minorgridcolor": "white",
             "startlinecolor": "#2a3f5f"
            },
            "baxis": {
             "endlinecolor": "#2a3f5f",
             "gridcolor": "white",
             "linecolor": "white",
             "minorgridcolor": "white",
             "startlinecolor": "#2a3f5f"
            },
            "type": "carpet"
           }
          ],
          "choropleth": [
           {
            "colorbar": {
             "outlinewidth": 0,
             "ticks": ""
            },
            "type": "choropleth"
           }
          ],
          "contour": [
           {
            "colorbar": {
             "outlinewidth": 0,
             "ticks": ""
            },
            "colorscale": [
             [
              0,
              "#0d0887"
             ],
             [
              0.1111111111111111,
              "#46039f"
             ],
             [
              0.2222222222222222,
              "#7201a8"
             ],
             [
              0.3333333333333333,
              "#9c179e"
             ],
             [
              0.4444444444444444,
              "#bd3786"
             ],
             [
              0.5555555555555556,
              "#d8576b"
             ],
             [
              0.6666666666666666,
              "#ed7953"
             ],
             [
              0.7777777777777778,
              "#fb9f3a"
             ],
             [
              0.8888888888888888,
              "#fdca26"
             ],
             [
              1,
              "#f0f921"
             ]
            ],
            "type": "contour"
           }
          ],
          "contourcarpet": [
           {
            "colorbar": {
             "outlinewidth": 0,
             "ticks": ""
            },
            "type": "contourcarpet"
           }
          ],
          "heatmap": [
           {
            "colorbar": {
             "outlinewidth": 0,
             "ticks": ""
            },
            "colorscale": [
             [
              0,
              "#0d0887"
             ],
             [
              0.1111111111111111,
              "#46039f"
             ],
             [
              0.2222222222222222,
              "#7201a8"
             ],
             [
              0.3333333333333333,
              "#9c179e"
             ],
             [
              0.4444444444444444,
              "#bd3786"
             ],
             [
              0.5555555555555556,
              "#d8576b"
             ],
             [
              0.6666666666666666,
              "#ed7953"
             ],
             [
              0.7777777777777778,
              "#fb9f3a"
             ],
             [
              0.8888888888888888,
              "#fdca26"
             ],
             [
              1,
              "#f0f921"
             ]
            ],
            "type": "heatmap"
           }
          ],
          "histogram": [
           {
            "marker": {
             "pattern": {
              "fillmode": "overlay",
              "size": 10,
              "solidity": 0.2
             }
            },
            "type": "histogram"
           }
          ],
          "histogram2d": [
           {
            "colorbar": {
             "outlinewidth": 0,
             "ticks": ""
            },
            "colorscale": [
             [
              0,
              "#0d0887"
             ],
             [
              0.1111111111111111,
              "#46039f"
             ],
             [
              0.2222222222222222,
              "#7201a8"
             ],
             [
              0.3333333333333333,
              "#9c179e"
             ],
             [
              0.4444444444444444,
              "#bd3786"
             ],
             [
              0.5555555555555556,
              "#d8576b"
             ],
             [
              0.6666666666666666,
              "#ed7953"
             ],
             [
              0.7777777777777778,
              "#fb9f3a"
             ],
             [
              0.8888888888888888,
              "#fdca26"
             ],
             [
              1,
              "#f0f921"
             ]
            ],
            "type": "histogram2d"
           }
          ],
          "histogram2dcontour": [
           {
            "colorbar": {
             "outlinewidth": 0,
             "ticks": ""
            },
            "colorscale": [
             [
              0,
              "#0d0887"
             ],
             [
              0.1111111111111111,
              "#46039f"
             ],
             [
              0.2222222222222222,
              "#7201a8"
             ],
             [
              0.3333333333333333,
              "#9c179e"
             ],
             [
              0.4444444444444444,
              "#bd3786"
             ],
             [
              0.5555555555555556,
              "#d8576b"
             ],
             [
              0.6666666666666666,
              "#ed7953"
             ],
             [
              0.7777777777777778,
              "#fb9f3a"
             ],
             [
              0.8888888888888888,
              "#fdca26"
             ],
             [
              1,
              "#f0f921"
             ]
            ],
            "type": "histogram2dcontour"
           }
          ],
          "mesh3d": [
           {
            "colorbar": {
             "outlinewidth": 0,
             "ticks": ""
            },
            "type": "mesh3d"
           }
          ],
          "parcoords": [
           {
            "line": {
             "colorbar": {
              "outlinewidth": 0,
              "ticks": ""
             }
            },
            "type": "parcoords"
           }
          ],
          "pie": [
           {
            "automargin": true,
            "type": "pie"
           }
          ],
          "scatter": [
           {
            "fillpattern": {
             "fillmode": "overlay",
             "size": 10,
             "solidity": 0.2
            },
            "type": "scatter"
           }
          ],
          "scatter3d": [
           {
            "line": {
             "colorbar": {
              "outlinewidth": 0,
              "ticks": ""
             }
            },
            "marker": {
             "colorbar": {
              "outlinewidth": 0,
              "ticks": ""
             }
            },
            "type": "scatter3d"
           }
          ],
          "scattercarpet": [
           {
            "marker": {
             "colorbar": {
              "outlinewidth": 0,
              "ticks": ""
             }
            },
            "type": "scattercarpet"
           }
          ],
          "scattergeo": [
           {
            "marker": {
             "colorbar": {
              "outlinewidth": 0,
              "ticks": ""
             }
            },
            "type": "scattergeo"
           }
          ],
          "scattergl": [
           {
            "marker": {
             "colorbar": {
              "outlinewidth": 0,
              "ticks": ""
             }
            },
            "type": "scattergl"
           }
          ],
          "scattermap": [
           {
            "marker": {
             "colorbar": {
              "outlinewidth": 0,
              "ticks": ""
             }
            },
            "type": "scattermap"
           }
          ],
          "scattermapbox": [
           {
            "marker": {
             "colorbar": {
              "outlinewidth": 0,
              "ticks": ""
             }
            },
            "type": "scattermapbox"
           }
          ],
          "scatterpolar": [
           {
            "marker": {
             "colorbar": {
              "outlinewidth": 0,
              "ticks": ""
             }
            },
            "type": "scatterpolar"
           }
          ],
          "scatterpolargl": [
           {
            "marker": {
             "colorbar": {
              "outlinewidth": 0,
              "ticks": ""
             }
            },
            "type": "scatterpolargl"
           }
          ],
          "scatterternary": [
           {
            "marker": {
             "colorbar": {
              "outlinewidth": 0,
              "ticks": ""
             }
            },
            "type": "scatterternary"
           }
          ],
          "surface": [
           {
            "colorbar": {
             "outlinewidth": 0,
             "ticks": ""
            },
            "colorscale": [
             [
              0,
              "#0d0887"
             ],
             [
              0.1111111111111111,
              "#46039f"
             ],
             [
              0.2222222222222222,
              "#7201a8"
             ],
             [
              0.3333333333333333,
              "#9c179e"
             ],
             [
              0.4444444444444444,
              "#bd3786"
             ],
             [
              0.5555555555555556,
              "#d8576b"
             ],
             [
              0.6666666666666666,
              "#ed7953"
             ],
             [
              0.7777777777777778,
              "#fb9f3a"
             ],
             [
              0.8888888888888888,
              "#fdca26"
             ],
             [
              1,
              "#f0f921"
             ]
            ],
            "type": "surface"
           }
          ],
          "table": [
           {
            "cells": {
             "fill": {
              "color": "#EBF0F8"
             },
             "line": {
              "color": "white"
             }
            },
            "header": {
             "fill": {
              "color": "#C8D4E3"
             },
             "line": {
              "color": "white"
             }
            },
            "type": "table"
           }
          ]
         },
         "layout": {
          "annotationdefaults": {
           "arrowcolor": "#2a3f5f",
           "arrowhead": 0,
           "arrowwidth": 1
          },
          "autotypenumbers": "strict",
          "coloraxis": {
           "colorbar": {
            "outlinewidth": 0,
            "ticks": ""
           }
          },
          "colorscale": {
           "diverging": [
            [
             0,
             "#8e0152"
            ],
            [
             0.1,
             "#c51b7d"
            ],
            [
             0.2,
             "#de77ae"
            ],
            [
             0.3,
             "#f1b6da"
            ],
            [
             0.4,
             "#fde0ef"
            ],
            [
             0.5,
             "#f7f7f7"
            ],
            [
             0.6,
             "#e6f5d0"
            ],
            [
             0.7,
             "#b8e186"
            ],
            [
             0.8,
             "#7fbc41"
            ],
            [
             0.9,
             "#4d9221"
            ],
            [
             1,
             "#276419"
            ]
           ],
           "sequential": [
            [
             0,
             "#0d0887"
            ],
            [
             0.1111111111111111,
             "#46039f"
            ],
            [
             0.2222222222222222,
             "#7201a8"
            ],
            [
             0.3333333333333333,
             "#9c179e"
            ],
            [
             0.4444444444444444,
             "#bd3786"
            ],
            [
             0.5555555555555556,
             "#d8576b"
            ],
            [
             0.6666666666666666,
             "#ed7953"
            ],
            [
             0.7777777777777778,
             "#fb9f3a"
            ],
            [
             0.8888888888888888,
             "#fdca26"
            ],
            [
             1,
             "#f0f921"
            ]
           ],
           "sequentialminus": [
            [
             0,
             "#0d0887"
            ],
            [
             0.1111111111111111,
             "#46039f"
            ],
            [
             0.2222222222222222,
             "#7201a8"
            ],
            [
             0.3333333333333333,
             "#9c179e"
            ],
            [
             0.4444444444444444,
             "#bd3786"
            ],
            [
             0.5555555555555556,
             "#d8576b"
            ],
            [
             0.6666666666666666,
             "#ed7953"
            ],
            [
             0.7777777777777778,
             "#fb9f3a"
            ],
            [
             0.8888888888888888,
             "#fdca26"
            ],
            [
             1,
             "#f0f921"
            ]
           ]
          },
          "colorway": [
           "#636efa",
           "#EF553B",
           "#00cc96",
           "#ab63fa",
           "#FFA15A",
           "#19d3f3",
           "#FF6692",
           "#B6E880",
           "#FF97FF",
           "#FECB52"
          ],
          "font": {
           "color": "#2a3f5f"
          },
          "geo": {
           "bgcolor": "white",
           "lakecolor": "white",
           "landcolor": "#E5ECF6",
           "showlakes": true,
           "showland": true,
           "subunitcolor": "white"
          },
          "hoverlabel": {
           "align": "left"
          },
          "hovermode": "closest",
          "mapbox": {
           "style": "light"
          },
          "paper_bgcolor": "white",
          "plot_bgcolor": "#E5ECF6",
          "polar": {
           "angularaxis": {
            "gridcolor": "white",
            "linecolor": "white",
            "ticks": ""
           },
           "bgcolor": "#E5ECF6",
           "radialaxis": {
            "gridcolor": "white",
            "linecolor": "white",
            "ticks": ""
           }
          },
          "scene": {
           "xaxis": {
            "backgroundcolor": "#E5ECF6",
            "gridcolor": "white",
            "gridwidth": 2,
            "linecolor": "white",
            "showbackground": true,
            "ticks": "",
            "zerolinecolor": "white"
           },
           "yaxis": {
            "backgroundcolor": "#E5ECF6",
            "gridcolor": "white",
            "gridwidth": 2,
            "linecolor": "white",
            "showbackground": true,
            "ticks": "",
            "zerolinecolor": "white"
           },
           "zaxis": {
            "backgroundcolor": "#E5ECF6",
            "gridcolor": "white",
            "gridwidth": 2,
            "linecolor": "white",
            "showbackground": true,
            "ticks": "",
            "zerolinecolor": "white"
           }
          },
          "shapedefaults": {
           "line": {
            "color": "#2a3f5f"
           }
          },
          "ternary": {
           "aaxis": {
            "gridcolor": "white",
            "linecolor": "white",
            "ticks": ""
           },
           "baxis": {
            "gridcolor": "white",
            "linecolor": "white",
            "ticks": ""
           },
           "bgcolor": "#E5ECF6",
           "caxis": {
            "gridcolor": "white",
            "linecolor": "white",
            "ticks": ""
           }
          },
          "title": {
           "x": 0.05
          },
          "xaxis": {
           "automargin": true,
           "gridcolor": "white",
           "linecolor": "white",
           "ticks": "",
           "title": {
            "standoff": 15
           },
           "zerolinecolor": "white",
           "zerolinewidth": 2
          },
          "yaxis": {
           "automargin": true,
           "gridcolor": "white",
           "linecolor": "white",
           "ticks": "",
           "title": {
            "standoff": 15
           },
           "zerolinecolor": "white",
           "zerolinewidth": 2
          }
         }
        },
        "title": {
         "text": " Gráfico 3. Top 10 Subcuentas con Mayor Presupuesto"
        },
        "xaxis": {
         "anchor": "y",
         "categoryarray": [
          "7003",
          "1101",
          "1401",
          "3193",
          "3412",
          "1201",
          "3683",
          "3410",
          "3902",
          "2494"
         ],
         "categoryorder": "array",
         "domain": [
          0,
          1
         ],
         "tickangle": -45,
         "title": {
          "text": "Código de Subcuenta"
         }
        },
        "yaxis": {
         "anchor": "x",
         "domain": [
          0,
          1
         ],
         "title": {
          "text": "Presupuesto Total"
         }
        }
       }
      }
     },
     "metadata": {},
     "output_type": "display_data"
    }
   ],
   "source": [
    "if not subcuentas.empty:\n",
    "    top_subcuentas = subcuentas.groupby(\"ACCT\")[\"BUDGET\"].sum().sort_values(ascending=False).head(10)\n",
    "    df_top = top_subcuentas.reset_index()\n",
    "    df_top.columns = [\"Subcuenta\", \"Presupuesto\"]\n",
    "    \n",
    "    fig = px.bar(\n",
    "        df_top,\n",
    "        x=\"Subcuenta\",\n",
    "        y=\"Presupuesto\",\n",
    "        title=\" Gráfico 3. Top 10 Subcuentas con Mayor Presupuesto\",\n",
    "        labels={\"Subcuenta\": \"Código de Subcuenta\", \"Presupuesto\": \"Presupuesto Total\"},\n",
    "        text=\"Presupuesto\",\n",
    "        color=\"Subcuenta\",\n",
    "        color_discrete_sequence=px.colors.sequential.Plasma\n",
    "    )\n",
    "\n",
    "    fig.update_layout(xaxis_tickangle=-45)\n",
    "    fig.show()\n",
    "else:\n",
    "    print(\"No se encontraron subcuentas con ese nombre exacto.\")"
   ]
  },
  {
   "cell_type": "markdown",
   "id": "bae99f6f",
   "metadata": {},
   "source": [
    "<h3 style=\"text-align: center;\">En la gráfica 3 se despliegan las 10 subcuentas que cuentas con un mayor presupuesto. </h3>"
   ]
  },
  {
   "cell_type": "markdown",
   "id": "2ef8723e",
   "metadata": {},
   "source": [
    "# Cost - Report\n",
    "\n",
    "En esta última sección se presenta un reporte de costos que analiza la relación entre los costos reales y los presupuestos asignados, así como su conexión con las diferentes cuentas que se manejan. Este análisis es clave para entender cómo se están utilizando los recursos y qué tan alineados están los gastos con lo planeado. Además, esta información será fundamental para poder aplicar y poner a prueba la hipótesis planteada en la siguiente entrega del proyecto."
   ]
  },
  {
   "cell_type": "code",
   "execution_count": 112,
   "id": "cf9f9ea5",
   "metadata": {},
   "outputs": [
    {
     "data": {
      "text/html": [
       "<div>\n",
       "<style scoped>\n",
       "    .dataframe tbody tr th:only-of-type {\n",
       "        vertical-align: middle;\n",
       "    }\n",
       "\n",
       "    .dataframe tbody tr th {\n",
       "        vertical-align: top;\n",
       "    }\n",
       "\n",
       "    .dataframe thead th {\n",
       "        text-align: right;\n",
       "    }\n",
       "</style>\n",
       "<table border=\"1\" class=\"dataframe\">\n",
       "  <thead>\n",
       "    <tr style=\"text-align: right;\">\n",
       "      <th></th>\n",
       "      <th>SUBTOTAL</th>\n",
       "      <th>ACCT</th>\n",
       "    </tr>\n",
       "  </thead>\n",
       "  <tbody>\n",
       "    <tr>\n",
       "      <th>0</th>\n",
       "      <td>7,000,000.00</td>\n",
       "      <td>Income (Funding)</td>\n",
       "    </tr>\n",
       "    <tr>\n",
       "      <th>1</th>\n",
       "      <td>1,120,000.00</td>\n",
       "      <td>Income (Funding) IVA</td>\n",
       "    </tr>\n",
       "    <tr>\n",
       "      <th>2</th>\n",
       "      <td>700,000.00</td>\n",
       "      <td>Income (Funding)</td>\n",
       "    </tr>\n",
       "    <tr>\n",
       "      <th>3</th>\n",
       "      <td>14,182.00</td>\n",
       "      <td>7007-009</td>\n",
       "    </tr>\n",
       "    <tr>\n",
       "      <th>4</th>\n",
       "      <td>110,000.00</td>\n",
       "      <td>1107-009</td>\n",
       "    </tr>\n",
       "    <tr>\n",
       "      <th>...</th>\n",
       "      <td>...</td>\n",
       "      <td>...</td>\n",
       "    </tr>\n",
       "    <tr>\n",
       "      <th>7881</th>\n",
       "      <td>NaN</td>\n",
       "      <td>NaN</td>\n",
       "    </tr>\n",
       "    <tr>\n",
       "      <th>7882</th>\n",
       "      <td>NaN</td>\n",
       "      <td>NaN</td>\n",
       "    </tr>\n",
       "    <tr>\n",
       "      <th>7883</th>\n",
       "      <td>NaN</td>\n",
       "      <td>NaN</td>\n",
       "    </tr>\n",
       "    <tr>\n",
       "      <th>7884</th>\n",
       "      <td>NaN</td>\n",
       "      <td>NaN</td>\n",
       "    </tr>\n",
       "    <tr>\n",
       "      <th>7885</th>\n",
       "      <td>NaN</td>\n",
       "      <td>NaN</td>\n",
       "    </tr>\n",
       "  </tbody>\n",
       "</table>\n",
       "<p>7886 rows × 2 columns</p>\n",
       "</div>"
      ],
      "text/plain": [
       "         SUBTOTAL                  ACCT\n",
       "0    7,000,000.00      Income (Funding)\n",
       "1    1,120,000.00  Income (Funding) IVA\n",
       "2      700,000.00      Income (Funding)\n",
       "3       14,182.00              7007-009\n",
       "4      110,000.00              1107-009\n",
       "...           ...                   ...\n",
       "7881          NaN                   NaN\n",
       "7882          NaN                   NaN\n",
       "7883          NaN                   NaN\n",
       "7884          NaN                   NaN\n",
       "7885          NaN                   NaN\n",
       "\n",
       "[7886 rows x 2 columns]"
      ]
     },
     "execution_count": 112,
     "metadata": {},
     "output_type": "execute_result"
    }
   ],
   "source": [
    "df_data = df_Data.rename(columns={\"PARTIDA PRESUPUESTAL\": \"ACCT\"})\n",
    "df_data"
   ]
  },
  {
   "cell_type": "code",
   "execution_count": 113,
   "id": "a1557fe0",
   "metadata": {},
   "outputs": [
    {
     "data": {
      "text/html": [
       "<div>\n",
       "<style scoped>\n",
       "    .dataframe tbody tr th:only-of-type {\n",
       "        vertical-align: middle;\n",
       "    }\n",
       "\n",
       "    .dataframe tbody tr th {\n",
       "        vertical-align: top;\n",
       "    }\n",
       "\n",
       "    .dataframe thead th {\n",
       "        text-align: right;\n",
       "    }\n",
       "</style>\n",
       "<table border=\"1\" class=\"dataframe\">\n",
       "  <thead>\n",
       "    <tr style=\"text-align: right;\">\n",
       "      <th></th>\n",
       "      <th>ACCT</th>\n",
       "      <th>SUBTOTAL</th>\n",
       "    </tr>\n",
       "  </thead>\n",
       "  <tbody>\n",
       "    <tr>\n",
       "      <th>0</th>\n",
       "      <td>1101-005</td>\n",
       "      <td>1,400,000.00</td>\n",
       "    </tr>\n",
       "    <tr>\n",
       "      <th>1</th>\n",
       "      <td>1101-006</td>\n",
       "      <td>100,000.03</td>\n",
       "    </tr>\n",
       "    <tr>\n",
       "      <th>2</th>\n",
       "      <td>1101-007</td>\n",
       "      <td>100,000.00</td>\n",
       "    </tr>\n",
       "    <tr>\n",
       "      <th>3</th>\n",
       "      <td>1101-011</td>\n",
       "      <td>1,400,000.00</td>\n",
       "    </tr>\n",
       "    <tr>\n",
       "      <th>4</th>\n",
       "      <td>1101-012</td>\n",
       "      <td>75,000.00</td>\n",
       "    </tr>\n",
       "    <tr>\n",
       "      <th>...</th>\n",
       "      <td>...</td>\n",
       "      <td>...</td>\n",
       "    </tr>\n",
       "    <tr>\n",
       "      <th>1053</th>\n",
       "      <td>Income (Funding)</td>\n",
       "      <td>134,862,103.57</td>\n",
       "    </tr>\n",
       "    <tr>\n",
       "      <th>1054</th>\n",
       "      <td>Income (Funding) IVA</td>\n",
       "      <td>19,352,891.03</td>\n",
       "    </tr>\n",
       "    <tr>\n",
       "      <th>1055</th>\n",
       "      <td>PC El Niñero S01</td>\n",
       "      <td>241,795.83</td>\n",
       "    </tr>\n",
       "    <tr>\n",
       "      <th>1056</th>\n",
       "      <td>Pago Carolina Rivera</td>\n",
       "      <td>1,000,000.00</td>\n",
       "    </tr>\n",
       "    <tr>\n",
       "      <th>1057</th>\n",
       "      <td>Petty Cash &amp; Floats</td>\n",
       "      <td>22,172.91</td>\n",
       "    </tr>\n",
       "  </tbody>\n",
       "</table>\n",
       "<p>1058 rows × 2 columns</p>\n",
       "</div>"
      ],
      "text/plain": [
       "                      ACCT       SUBTOTAL\n",
       "0                 1101-005   1,400,000.00\n",
       "1                 1101-006     100,000.03\n",
       "2                 1101-007     100,000.00\n",
       "3                 1101-011   1,400,000.00\n",
       "4                 1101-012      75,000.00\n",
       "...                    ...            ...\n",
       "1053      Income (Funding) 134,862,103.57\n",
       "1054  Income (Funding) IVA  19,352,891.03\n",
       "1055      PC El Niñero S01     241,795.83\n",
       "1056  Pago Carolina Rivera   1,000,000.00\n",
       "1057   Petty Cash & Floats      22,172.91\n",
       "\n",
       "[1058 rows x 2 columns]"
      ]
     },
     "execution_count": 113,
     "metadata": {},
     "output_type": "execute_result"
    }
   ],
   "source": [
    "pd.set_option('display.float_format', '{:,.2f}'.format)\n",
    "# Agrupa el DataFrame por la columna \"ACCT\" y suma los valores de SUBTOTAL por cuenta.\n",
    "df_data = df_data.groupby(\"ACCT\", as_index=False)[[\"SUBTOTAL\"]].sum()\n",
    "df_data"
   ]
  },
  {
   "cell_type": "code",
   "execution_count": 114,
   "id": "f3c94e14",
   "metadata": {},
   "outputs": [
    {
     "data": {
      "text/html": [
       "<div>\n",
       "<style scoped>\n",
       "    .dataframe tbody tr th:only-of-type {\n",
       "        vertical-align: middle;\n",
       "    }\n",
       "\n",
       "    .dataframe tbody tr th {\n",
       "        vertical-align: top;\n",
       "    }\n",
       "\n",
       "    .dataframe thead th {\n",
       "        text-align: right;\n",
       "    }\n",
       "</style>\n",
       "<table border=\"1\" class=\"dataframe\">\n",
       "  <thead>\n",
       "    <tr style=\"text-align: right;\">\n",
       "      <th></th>\n",
       "      <th>TIPO</th>\n",
       "      <th>REF</th>\n",
       "      <th>Etapa</th>\n",
       "      <th>ACCT</th>\n",
       "      <th>BUDGET</th>\n",
       "      <th>COST TO DATE</th>\n",
       "    </tr>\n",
       "  </thead>\n",
       "  <tbody>\n",
       "    <tr>\n",
       "      <th>0</th>\n",
       "      <td>Post</td>\n",
       "      <td>Sub cuenta</td>\n",
       "      <td>NaN</td>\n",
       "      <td>5221</td>\n",
       "      <td>0</td>\n",
       "      <td>NaN</td>\n",
       "    </tr>\n",
       "    <tr>\n",
       "      <th>1</th>\n",
       "      <td>Others</td>\n",
       "      <td>Sub cuenta</td>\n",
       "      <td>NaN</td>\n",
       "      <td>7230</td>\n",
       "      <td>0</td>\n",
       "      <td>NaN</td>\n",
       "    </tr>\n",
       "    <tr>\n",
       "      <th>2</th>\n",
       "      <td>Above the Line</td>\n",
       "      <td>Cuenta General</td>\n",
       "      <td>NaN</td>\n",
       "      <td>1100</td>\n",
       "      <td>10065000</td>\n",
       "      <td>NaN</td>\n",
       "    </tr>\n",
       "    <tr>\n",
       "      <th>3</th>\n",
       "      <td>Above the Line</td>\n",
       "      <td>Sub cuenta</td>\n",
       "      <td>NaN</td>\n",
       "      <td>1101</td>\n",
       "      <td>8340000</td>\n",
       "      <td>NaN</td>\n",
       "    </tr>\n",
       "    <tr>\n",
       "      <th>4</th>\n",
       "      <td>Above the Line</td>\n",
       "      <td>Detalle</td>\n",
       "      <td>NaN</td>\n",
       "      <td>1101-002</td>\n",
       "      <td>0</td>\n",
       "      <td>NaN</td>\n",
       "    </tr>\n",
       "    <tr>\n",
       "      <th>...</th>\n",
       "      <td>...</td>\n",
       "      <td>...</td>\n",
       "      <td>...</td>\n",
       "      <td>...</td>\n",
       "      <td>...</td>\n",
       "      <td>...</td>\n",
       "    </tr>\n",
       "    <tr>\n",
       "      <th>2482</th>\n",
       "      <td>NaN</td>\n",
       "      <td>NaN</td>\n",
       "      <td>NaN</td>\n",
       "      <td>Income (Funding)</td>\n",
       "      <td>NaN</td>\n",
       "      <td>134,862,103.57</td>\n",
       "    </tr>\n",
       "    <tr>\n",
       "      <th>2483</th>\n",
       "      <td>NaN</td>\n",
       "      <td>NaN</td>\n",
       "      <td>NaN</td>\n",
       "      <td>Income (Funding) IVA</td>\n",
       "      <td>NaN</td>\n",
       "      <td>19,352,891.03</td>\n",
       "    </tr>\n",
       "    <tr>\n",
       "      <th>2484</th>\n",
       "      <td>NaN</td>\n",
       "      <td>NaN</td>\n",
       "      <td>NaN</td>\n",
       "      <td>PC El Niñero S01</td>\n",
       "      <td>NaN</td>\n",
       "      <td>241,795.83</td>\n",
       "    </tr>\n",
       "    <tr>\n",
       "      <th>2485</th>\n",
       "      <td>NaN</td>\n",
       "      <td>NaN</td>\n",
       "      <td>NaN</td>\n",
       "      <td>Pago Carolina Rivera</td>\n",
       "      <td>NaN</td>\n",
       "      <td>1,000,000.00</td>\n",
       "    </tr>\n",
       "    <tr>\n",
       "      <th>2486</th>\n",
       "      <td>NaN</td>\n",
       "      <td>NaN</td>\n",
       "      <td>NaN</td>\n",
       "      <td>Petty Cash &amp; Floats</td>\n",
       "      <td>NaN</td>\n",
       "      <td>22,172.91</td>\n",
       "    </tr>\n",
       "  </tbody>\n",
       "</table>\n",
       "<p>2487 rows × 6 columns</p>\n",
       "</div>"
      ],
      "text/plain": [
       "                TIPO             REF Etapa                  ACCT    BUDGET  \\\n",
       "0               Post      Sub cuenta   NaN                  5221         0   \n",
       "1             Others      Sub cuenta   NaN                  7230         0   \n",
       "2     Above the Line  Cuenta General   NaN                  1100  10065000   \n",
       "3     Above the Line      Sub cuenta   NaN                  1101   8340000   \n",
       "4     Above the Line         Detalle   NaN              1101-002         0   \n",
       "...              ...             ...   ...                   ...       ...   \n",
       "2482             NaN             NaN   NaN      Income (Funding)       NaN   \n",
       "2483             NaN             NaN   NaN  Income (Funding) IVA       NaN   \n",
       "2484             NaN             NaN   NaN      PC El Niñero S01       NaN   \n",
       "2485             NaN             NaN   NaN  Pago Carolina Rivera       NaN   \n",
       "2486             NaN             NaN   NaN   Petty Cash & Floats       NaN   \n",
       "\n",
       "       COST TO DATE  \n",
       "0               NaN  \n",
       "1               NaN  \n",
       "2               NaN  \n",
       "3               NaN  \n",
       "4               NaN  \n",
       "...             ...  \n",
       "2482 134,862,103.57  \n",
       "2483  19,352,891.03  \n",
       "2484     241,795.83  \n",
       "2485   1,000,000.00  \n",
       "2486      22,172.91  \n",
       "\n",
       "[2487 rows x 6 columns]"
      ]
     },
     "execution_count": 114,
     "metadata": {},
     "output_type": "execute_result"
    }
   ],
   "source": [
    "df_CostReport1=pd.merge(budget,df_data, on=\"ACCT\", how=\"outer\")\n",
    "df_CostReport2= df_CostReport1.rename(columns = {\"SUBTOTAL\": \"COST TO DATE\"})\n",
    "df_CostReport2"
   ]
  },
  {
   "cell_type": "code",
   "execution_count": 115,
   "id": "8172268b",
   "metadata": {},
   "outputs": [
    {
     "data": {
      "text/html": [
       "<div>\n",
       "<style scoped>\n",
       "    .dataframe tbody tr th:only-of-type {\n",
       "        vertical-align: middle;\n",
       "    }\n",
       "\n",
       "    .dataframe tbody tr th {\n",
       "        vertical-align: top;\n",
       "    }\n",
       "\n",
       "    .dataframe thead th {\n",
       "        text-align: right;\n",
       "    }\n",
       "</style>\n",
       "<table border=\"1\" class=\"dataframe\">\n",
       "  <thead>\n",
       "    <tr style=\"text-align: right;\">\n",
       "      <th></th>\n",
       "      <th>ACCT</th>\n",
       "      <th>TIPO</th>\n",
       "      <th>REF</th>\n",
       "      <th>Etapa</th>\n",
       "      <th>BUDGET</th>\n",
       "      <th>COST TO DATE</th>\n",
       "    </tr>\n",
       "  </thead>\n",
       "  <tbody>\n",
       "    <tr>\n",
       "      <th>0</th>\n",
       "      <td>5221</td>\n",
       "      <td>Post</td>\n",
       "      <td>Sub cuenta</td>\n",
       "      <td>None</td>\n",
       "      <td>0</td>\n",
       "      <td>0.00</td>\n",
       "    </tr>\n",
       "    <tr>\n",
       "      <th>1</th>\n",
       "      <td>7230</td>\n",
       "      <td>Others</td>\n",
       "      <td>Sub cuenta</td>\n",
       "      <td>None</td>\n",
       "      <td>0</td>\n",
       "      <td>0.00</td>\n",
       "    </tr>\n",
       "    <tr>\n",
       "      <th>2</th>\n",
       "      <td>1100</td>\n",
       "      <td>Above the Line</td>\n",
       "      <td>Cuenta General</td>\n",
       "      <td>None</td>\n",
       "      <td>10065000</td>\n",
       "      <td>0.00</td>\n",
       "    </tr>\n",
       "    <tr>\n",
       "      <th>3</th>\n",
       "      <td>1101</td>\n",
       "      <td>Above the Line</td>\n",
       "      <td>Sub cuenta</td>\n",
       "      <td>None</td>\n",
       "      <td>8340000</td>\n",
       "      <td>0.00</td>\n",
       "    </tr>\n",
       "    <tr>\n",
       "      <th>4</th>\n",
       "      <td>1101-002</td>\n",
       "      <td>Above the Line</td>\n",
       "      <td>Detalle</td>\n",
       "      <td>None</td>\n",
       "      <td>0</td>\n",
       "      <td>0.00</td>\n",
       "    </tr>\n",
       "    <tr>\n",
       "      <th>...</th>\n",
       "      <td>...</td>\n",
       "      <td>...</td>\n",
       "      <td>...</td>\n",
       "      <td>...</td>\n",
       "      <td>...</td>\n",
       "      <td>...</td>\n",
       "    </tr>\n",
       "    <tr>\n",
       "      <th>2482</th>\n",
       "      <td>Income (Funding)</td>\n",
       "      <td>None</td>\n",
       "      <td>None</td>\n",
       "      <td>None</td>\n",
       "      <td>None</td>\n",
       "      <td>134,862,103.57</td>\n",
       "    </tr>\n",
       "    <tr>\n",
       "      <th>2483</th>\n",
       "      <td>Income (Funding) IVA</td>\n",
       "      <td>None</td>\n",
       "      <td>None</td>\n",
       "      <td>None</td>\n",
       "      <td>None</td>\n",
       "      <td>19,352,891.03</td>\n",
       "    </tr>\n",
       "    <tr>\n",
       "      <th>2484</th>\n",
       "      <td>PC El Niñero S01</td>\n",
       "      <td>None</td>\n",
       "      <td>None</td>\n",
       "      <td>None</td>\n",
       "      <td>None</td>\n",
       "      <td>241,795.83</td>\n",
       "    </tr>\n",
       "    <tr>\n",
       "      <th>2485</th>\n",
       "      <td>Pago Carolina Rivera</td>\n",
       "      <td>None</td>\n",
       "      <td>None</td>\n",
       "      <td>None</td>\n",
       "      <td>None</td>\n",
       "      <td>1,000,000.00</td>\n",
       "    </tr>\n",
       "    <tr>\n",
       "      <th>2486</th>\n",
       "      <td>Petty Cash &amp; Floats</td>\n",
       "      <td>None</td>\n",
       "      <td>None</td>\n",
       "      <td>None</td>\n",
       "      <td>None</td>\n",
       "      <td>22,172.91</td>\n",
       "    </tr>\n",
       "  </tbody>\n",
       "</table>\n",
       "<p>2487 rows × 6 columns</p>\n",
       "</div>"
      ],
      "text/plain": [
       "                      ACCT            TIPO             REF Etapa    BUDGET  \\\n",
       "0                     5221            Post      Sub cuenta  None         0   \n",
       "1                     7230          Others      Sub cuenta  None         0   \n",
       "2                     1100  Above the Line  Cuenta General  None  10065000   \n",
       "3                     1101  Above the Line      Sub cuenta  None   8340000   \n",
       "4                 1101-002  Above the Line         Detalle  None         0   \n",
       "...                    ...             ...             ...   ...       ...   \n",
       "2482      Income (Funding)            None            None  None      None   \n",
       "2483  Income (Funding) IVA            None            None  None      None   \n",
       "2484      PC El Niñero S01            None            None  None      None   \n",
       "2485  Pago Carolina Rivera            None            None  None      None   \n",
       "2486   Petty Cash & Floats            None            None  None      None   \n",
       "\n",
       "       COST TO DATE  \n",
       "0              0.00  \n",
       "1              0.00  \n",
       "2              0.00  \n",
       "3              0.00  \n",
       "4              0.00  \n",
       "...             ...  \n",
       "2482 134,862,103.57  \n",
       "2483  19,352,891.03  \n",
       "2484     241,795.83  \n",
       "2485   1,000,000.00  \n",
       "2486      22,172.91  \n",
       "\n",
       "[2487 rows x 6 columns]"
      ]
     },
     "execution_count": 115,
     "metadata": {},
     "output_type": "execute_result"
    }
   ],
   "source": [
    "df_CostReport3 = df_CostReport2.groupby(\"ACCT\", as_index=False).agg({\n",
    "    \"TIPO\": \"first\",\n",
    "    \"REF\": \"first\",\n",
    "    \"Etapa\": \"first\",\n",
    "    \"BUDGET\": \"first\",\n",
    "    \"COST TO DATE\": \"sum\"\n",
    "})\n",
    "df_CostReport3"
   ]
  },
  {
   "cell_type": "code",
   "execution_count": 116,
   "id": "57e7f16d",
   "metadata": {},
   "outputs": [
    {
     "data": {
      "text/html": [
       "<div>\n",
       "<style scoped>\n",
       "    .dataframe tbody tr th:only-of-type {\n",
       "        vertical-align: middle;\n",
       "    }\n",
       "\n",
       "    .dataframe tbody tr th {\n",
       "        vertical-align: top;\n",
       "    }\n",
       "\n",
       "    .dataframe thead th {\n",
       "        text-align: right;\n",
       "    }\n",
       "</style>\n",
       "<table border=\"1\" class=\"dataframe\">\n",
       "  <thead>\n",
       "    <tr style=\"text-align: right;\">\n",
       "      <th></th>\n",
       "      <th>ACCT</th>\n",
       "      <th>TIPO</th>\n",
       "      <th>REF</th>\n",
       "      <th>Etapa</th>\n",
       "      <th>BUDGET</th>\n",
       "      <th>COST TO DATE</th>\n",
       "      <th>VARIANCE</th>\n",
       "    </tr>\n",
       "  </thead>\n",
       "  <tbody>\n",
       "    <tr>\n",
       "      <th>0</th>\n",
       "      <td>5221</td>\n",
       "      <td>Post</td>\n",
       "      <td>Sub cuenta</td>\n",
       "      <td>None</td>\n",
       "      <td>0</td>\n",
       "      <td>0.00</td>\n",
       "      <td>0.00</td>\n",
       "    </tr>\n",
       "    <tr>\n",
       "      <th>1</th>\n",
       "      <td>7230</td>\n",
       "      <td>Others</td>\n",
       "      <td>Sub cuenta</td>\n",
       "      <td>None</td>\n",
       "      <td>0</td>\n",
       "      <td>0.00</td>\n",
       "      <td>0.00</td>\n",
       "    </tr>\n",
       "    <tr>\n",
       "      <th>2</th>\n",
       "      <td>1100</td>\n",
       "      <td>Above the Line</td>\n",
       "      <td>Cuenta General</td>\n",
       "      <td>None</td>\n",
       "      <td>10065000</td>\n",
       "      <td>0.00</td>\n",
       "      <td>10,065,000.00</td>\n",
       "    </tr>\n",
       "    <tr>\n",
       "      <th>3</th>\n",
       "      <td>1101</td>\n",
       "      <td>Above the Line</td>\n",
       "      <td>Sub cuenta</td>\n",
       "      <td>None</td>\n",
       "      <td>8340000</td>\n",
       "      <td>0.00</td>\n",
       "      <td>8,340,000.00</td>\n",
       "    </tr>\n",
       "    <tr>\n",
       "      <th>4</th>\n",
       "      <td>1101-002</td>\n",
       "      <td>Above the Line</td>\n",
       "      <td>Detalle</td>\n",
       "      <td>None</td>\n",
       "      <td>0</td>\n",
       "      <td>0.00</td>\n",
       "      <td>0.00</td>\n",
       "    </tr>\n",
       "    <tr>\n",
       "      <th>5</th>\n",
       "      <td>1101-004</td>\n",
       "      <td>Above the Line</td>\n",
       "      <td>Detalle</td>\n",
       "      <td>None</td>\n",
       "      <td>0</td>\n",
       "      <td>0.00</td>\n",
       "      <td>0.00</td>\n",
       "    </tr>\n",
       "    <tr>\n",
       "      <th>6</th>\n",
       "      <td>1101-005</td>\n",
       "      <td>Above the Line</td>\n",
       "      <td>Detalle</td>\n",
       "      <td>DEVELOPMENT</td>\n",
       "      <td>1400000</td>\n",
       "      <td>1,400,000.00</td>\n",
       "      <td>0.00</td>\n",
       "    </tr>\n",
       "    <tr>\n",
       "      <th>7</th>\n",
       "      <td>1101-006</td>\n",
       "      <td>Above the Line</td>\n",
       "      <td>Detalle</td>\n",
       "      <td>DEVELOPMENT</td>\n",
       "      <td>100000</td>\n",
       "      <td>100,000.03</td>\n",
       "      <td>-0.03</td>\n",
       "    </tr>\n",
       "    <tr>\n",
       "      <th>8</th>\n",
       "      <td>1101-007</td>\n",
       "      <td>Above the Line</td>\n",
       "      <td>Detalle</td>\n",
       "      <td>DEVELOPMENT</td>\n",
       "      <td>100000</td>\n",
       "      <td>100,000.00</td>\n",
       "      <td>0.00</td>\n",
       "    </tr>\n",
       "    <tr>\n",
       "      <th>9</th>\n",
       "      <td>1101-010</td>\n",
       "      <td>Above the Line</td>\n",
       "      <td>Detalle</td>\n",
       "      <td>None</td>\n",
       "      <td>0</td>\n",
       "      <td>0.00</td>\n",
       "      <td>0.00</td>\n",
       "    </tr>\n",
       "    <tr>\n",
       "      <th>10</th>\n",
       "      <td>1101-011</td>\n",
       "      <td>Above the Line</td>\n",
       "      <td>Detalle</td>\n",
       "      <td>DEVELOPMENT</td>\n",
       "      <td>1400000</td>\n",
       "      <td>1,400,000.00</td>\n",
       "      <td>0.00</td>\n",
       "    </tr>\n",
       "    <tr>\n",
       "      <th>11</th>\n",
       "      <td>1101-012</td>\n",
       "      <td>Above the Line</td>\n",
       "      <td>Detalle</td>\n",
       "      <td>DEVELOPMENT</td>\n",
       "      <td>75000</td>\n",
       "      <td>75,000.00</td>\n",
       "      <td>0.00</td>\n",
       "    </tr>\n",
       "    <tr>\n",
       "      <th>12</th>\n",
       "      <td>1101-015</td>\n",
       "      <td>Above the Line</td>\n",
       "      <td>Detalle</td>\n",
       "      <td>None</td>\n",
       "      <td>0</td>\n",
       "      <td>0.00</td>\n",
       "      <td>0.00</td>\n",
       "    </tr>\n",
       "    <tr>\n",
       "      <th>13</th>\n",
       "      <td>1101-016</td>\n",
       "      <td>Above the Line</td>\n",
       "      <td>Detalle</td>\n",
       "      <td>DEVELOPMENT</td>\n",
       "      <td>1400000</td>\n",
       "      <td>1,400,000.00</td>\n",
       "      <td>0.00</td>\n",
       "    </tr>\n",
       "    <tr>\n",
       "      <th>14</th>\n",
       "      <td>1101-017</td>\n",
       "      <td>Above the Line</td>\n",
       "      <td>Detalle</td>\n",
       "      <td>DEVELOPMENT</td>\n",
       "      <td>75000</td>\n",
       "      <td>75,000.00</td>\n",
       "      <td>0.00</td>\n",
       "    </tr>\n",
       "  </tbody>\n",
       "</table>\n",
       "</div>"
      ],
      "text/plain": [
       "        ACCT            TIPO             REF        Etapa    BUDGET  \\\n",
       "0       5221            Post      Sub cuenta         None         0   \n",
       "1       7230          Others      Sub cuenta         None         0   \n",
       "2       1100  Above the Line  Cuenta General         None  10065000   \n",
       "3       1101  Above the Line      Sub cuenta         None   8340000   \n",
       "4   1101-002  Above the Line         Detalle         None         0   \n",
       "5   1101-004  Above the Line         Detalle         None         0   \n",
       "6   1101-005  Above the Line         Detalle  DEVELOPMENT   1400000   \n",
       "7   1101-006  Above the Line         Detalle  DEVELOPMENT    100000   \n",
       "8   1101-007  Above the Line         Detalle  DEVELOPMENT    100000   \n",
       "9   1101-010  Above the Line         Detalle         None         0   \n",
       "10  1101-011  Above the Line         Detalle  DEVELOPMENT   1400000   \n",
       "11  1101-012  Above the Line         Detalle  DEVELOPMENT     75000   \n",
       "12  1101-015  Above the Line         Detalle         None         0   \n",
       "13  1101-016  Above the Line         Detalle  DEVELOPMENT   1400000   \n",
       "14  1101-017  Above the Line         Detalle  DEVELOPMENT     75000   \n",
       "\n",
       "    COST TO DATE      VARIANCE  \n",
       "0           0.00          0.00  \n",
       "1           0.00          0.00  \n",
       "2           0.00 10,065,000.00  \n",
       "3           0.00  8,340,000.00  \n",
       "4           0.00          0.00  \n",
       "5           0.00          0.00  \n",
       "6   1,400,000.00          0.00  \n",
       "7     100,000.03         -0.03  \n",
       "8     100,000.00          0.00  \n",
       "9           0.00          0.00  \n",
       "10  1,400,000.00          0.00  \n",
       "11     75,000.00          0.00  \n",
       "12          0.00          0.00  \n",
       "13  1,400,000.00          0.00  \n",
       "14     75,000.00          0.00  "
      ]
     },
     "execution_count": 116,
     "metadata": {},
     "output_type": "execute_result"
    }
   ],
   "source": [
    "df_CostReport3[\"VARIANCE\"] = df_CostReport3[\"BUDGET\"] - df_CostReport3[\"COST TO DATE\"]\n",
    "df_CostReport4 = df_CostReport3.groupby(\"ACCT\", as_index=False).agg({\n",
    "    \"TIPO\": \"first\",\n",
    "    \"REF\": \"first\",\n",
    "    \"Etapa\": \"first\",\n",
    "    \"BUDGET\": \"first\",\n",
    "    \"COST TO DATE\": \"sum\"\n",
    "})\n",
    "\n",
    "# Agregar la columna de diferencia\n",
    "df_CostReport4[\"VARIANCE\"] = df_CostReport4[\"BUDGET\"] - df_CostReport4[\"COST TO DATE\"]\n",
    "\n",
    "# Mostrar el resultado\n",
    "df_CostReport4.head(15)"
   ]
  },
  {
   "cell_type": "code",
   "execution_count": 117,
   "id": "5005a5f9",
   "metadata": {},
   "outputs": [
    {
     "data": {
      "text/html": [
       "<div>\n",
       "<style scoped>\n",
       "    .dataframe tbody tr th:only-of-type {\n",
       "        vertical-align: middle;\n",
       "    }\n",
       "\n",
       "    .dataframe tbody tr th {\n",
       "        vertical-align: top;\n",
       "    }\n",
       "\n",
       "    .dataframe thead th {\n",
       "        text-align: right;\n",
       "    }\n",
       "</style>\n",
       "<table border=\"1\" class=\"dataframe\">\n",
       "  <thead>\n",
       "    <tr style=\"text-align: right;\">\n",
       "      <th></th>\n",
       "      <th>ACCT</th>\n",
       "      <th>BUDGET</th>\n",
       "      <th>COST TO DATE</th>\n",
       "      <th>REF</th>\n",
       "      <th>TIPO</th>\n",
       "      <th>Etapa</th>\n",
       "      <th>VARIANCE</th>\n",
       "    </tr>\n",
       "  </thead>\n",
       "  <tbody>\n",
       "    <tr>\n",
       "      <th>0</th>\n",
       "      <td>1100</td>\n",
       "      <td>10065000</td>\n",
       "      <td>10,065,000.08</td>\n",
       "      <td>Cuenta General</td>\n",
       "      <td>Above the Line</td>\n",
       "      <td>NaN</td>\n",
       "      <td>-0.08</td>\n",
       "    </tr>\n",
       "    <tr>\n",
       "      <th>35</th>\n",
       "      <td>1101</td>\n",
       "      <td>8340000</td>\n",
       "      <td>8,340,000.02</td>\n",
       "      <td>Sub cuenta</td>\n",
       "      <td>Above the Line</td>\n",
       "      <td>NaN</td>\n",
       "      <td>-0.02</td>\n",
       "    </tr>\n",
       "    <tr>\n",
       "      <th>244</th>\n",
       "      <td>1101-002</td>\n",
       "      <td>0</td>\n",
       "      <td>0.00</td>\n",
       "      <td>Detalle</td>\n",
       "      <td>Above the Line</td>\n",
       "      <td>None</td>\n",
       "      <td>0.00</td>\n",
       "    </tr>\n",
       "    <tr>\n",
       "      <th>245</th>\n",
       "      <td>1101-004</td>\n",
       "      <td>0</td>\n",
       "      <td>0.00</td>\n",
       "      <td>Detalle</td>\n",
       "      <td>Above the Line</td>\n",
       "      <td>None</td>\n",
       "      <td>0.00</td>\n",
       "    </tr>\n",
       "    <tr>\n",
       "      <th>246</th>\n",
       "      <td>1101-005</td>\n",
       "      <td>1400000</td>\n",
       "      <td>1,400,000.00</td>\n",
       "      <td>Detalle</td>\n",
       "      <td>Above the Line</td>\n",
       "      <td>DEVELOPMENT</td>\n",
       "      <td>0.00</td>\n",
       "    </tr>\n",
       "    <tr>\n",
       "      <th>...</th>\n",
       "      <td>...</td>\n",
       "      <td>...</td>\n",
       "      <td>...</td>\n",
       "      <td>...</td>\n",
       "      <td>...</td>\n",
       "      <td>...</td>\n",
       "      <td>...</td>\n",
       "    </tr>\n",
       "    <tr>\n",
       "      <th>2473</th>\n",
       "      <td>7230-001</td>\n",
       "      <td>0</td>\n",
       "      <td>7,050.76</td>\n",
       "      <td>Detalle</td>\n",
       "      <td>Others</td>\n",
       "      <td>None</td>\n",
       "      <td>-7,050.76</td>\n",
       "    </tr>\n",
       "    <tr>\n",
       "      <th>2474</th>\n",
       "      <td>7230-002</td>\n",
       "      <td>0</td>\n",
       "      <td>11,436.91</td>\n",
       "      <td>Detalle</td>\n",
       "      <td>Others</td>\n",
       "      <td>None</td>\n",
       "      <td>-11,436.91</td>\n",
       "    </tr>\n",
       "    <tr>\n",
       "      <th>2475</th>\n",
       "      <td>7230-003</td>\n",
       "      <td>0</td>\n",
       "      <td>12,178.92</td>\n",
       "      <td>Detalle</td>\n",
       "      <td>Others</td>\n",
       "      <td>None</td>\n",
       "      <td>-12,178.92</td>\n",
       "    </tr>\n",
       "    <tr>\n",
       "      <th>2476</th>\n",
       "      <td>7230-004</td>\n",
       "      <td>0</td>\n",
       "      <td>3,025.87</td>\n",
       "      <td>Detalle</td>\n",
       "      <td>Others</td>\n",
       "      <td>None</td>\n",
       "      <td>-3,025.87</td>\n",
       "    </tr>\n",
       "    <tr>\n",
       "      <th>2477</th>\n",
       "      <td>7230-005</td>\n",
       "      <td>0</td>\n",
       "      <td>1,320.29</td>\n",
       "      <td>Detalle</td>\n",
       "      <td>Others</td>\n",
       "      <td>None</td>\n",
       "      <td>-1,320.29</td>\n",
       "    </tr>\n",
       "  </tbody>\n",
       "</table>\n",
       "<p>2478 rows × 7 columns</p>\n",
       "</div>"
      ],
      "text/plain": [
       "          ACCT    BUDGET  COST TO DATE             REF            TIPO  \\\n",
       "0         1100  10065000 10,065,000.08  Cuenta General  Above the Line   \n",
       "35        1101   8340000  8,340,000.02      Sub cuenta  Above the Line   \n",
       "244   1101-002         0          0.00         Detalle  Above the Line   \n",
       "245   1101-004         0          0.00         Detalle  Above the Line   \n",
       "246   1101-005   1400000  1,400,000.00         Detalle  Above the Line   \n",
       "...        ...       ...           ...             ...             ...   \n",
       "2473  7230-001         0      7,050.76         Detalle          Others   \n",
       "2474  7230-002         0     11,436.91         Detalle          Others   \n",
       "2475  7230-003         0     12,178.92         Detalle          Others   \n",
       "2476  7230-004         0      3,025.87         Detalle          Others   \n",
       "2477  7230-005         0      1,320.29         Detalle          Others   \n",
       "\n",
       "            Etapa   VARIANCE  \n",
       "0             NaN      -0.08  \n",
       "35            NaN      -0.02  \n",
       "244          None       0.00  \n",
       "245          None       0.00  \n",
       "246   DEVELOPMENT       0.00  \n",
       "...           ...        ...  \n",
       "2473         None  -7,050.76  \n",
       "2474         None -11,436.91  \n",
       "2475         None -12,178.92  \n",
       "2476         None  -3,025.87  \n",
       "2477         None  -1,320.29  \n",
       "\n",
       "[2478 rows x 7 columns]"
      ]
     },
     "execution_count": 117,
     "metadata": {},
     "output_type": "execute_result"
    }
   ],
   "source": [
    "df_CostReport4[\"ACCT\"] = df_CostReport4[\"ACCT\"].astype(str)\n",
    "detalle_df = df_CostReport4[df_CostReport4[\"REF\"] == \"Detalle\"].copy()\n",
    "\n",
    "\n",
    "sub_df = detalle_df.copy()\n",
    "sub_df[\"ACCT\"] = sub_df[\"ACCT\"].str[:4]  # Subcuenta: primeros 4 caracteres\n",
    "sub_sums = sub_df.groupby(\"ACCT\", as_index=False)[[\"BUDGET\", \"COST TO DATE\"]].sum()\n",
    "sub_sums[\"REF\"] = \"Sub cuenta\"\n",
    "sub_sums[\"TIPO\"] = \"Above the Line\"\n",
    "\n",
    "\n",
    "# NOTA: usamos las subcuentas agregadas para hacer el total de cuenta general\n",
    "gen_df = sub_sums.copy()\n",
    "gen_df[\"ACCT\"] = gen_df[\"ACCT\"].str[:2] + \"00\"  \n",
    "gen_sums = gen_df.groupby(\"ACCT\", as_index=False)[[\"BUDGET\", \"COST TO DATE\"]].sum()\n",
    "gen_sums[\"REF\"] = \"Cuenta General\"\n",
    "gen_sums[\"TIPO\"] = \"Above the Line\"\n",
    "\n",
    "\n",
    "final_cost_report = pd.concat([gen_sums, sub_sums, detalle_df], ignore_index=True)\n",
    "\n",
    "#Calcular VARIANCE\n",
    "final_cost_report[\"VARIANCE\"] = final_cost_report[\"BUDGET\"] - final_cost_report[\"COST TO DATE\"]\n",
    "\n",
    "pd.set_option('display.float_format', '{:,.2f}'.format)\n",
    "final_cost_report.sort_values(by=\"ACCT\")"
   ]
  },
  {
   "cell_type": "code",
   "execution_count": 118,
   "id": "94693957",
   "metadata": {},
   "outputs": [
    {
     "data": {
      "application/vnd.plotly.v1+json": {
       "config": {
        "plotlyServerURL": "https://plot.ly"
       },
       "data": [
        {
         "customdata": [
          [
           15001515,
           0,
           "Cuenta General"
          ]
         ],
         "hovertemplate": "VARIANCE (USD)=%{text}<br>Cuenta=%{x}<br>BUDGET=%{customdata[0]}<br>COST TO DATE=%{customdata[1]}<br>REF=%{customdata[2]}<extra></extra>",
         "legendgroup": "15001515.0",
         "marker": {
          "color": "#636efa",
          "line": {
           "color": "darkgray",
           "width": 1
          },
          "pattern": {
           "shape": ""
          }
         },
         "name": "15001515.0",
         "orientation": "v",
         "showlegend": true,
         "text": [
          15001515
         ],
         "textposition": "outside",
         "texttemplate": "%{text:,.2f}",
         "type": "bar",
         "x": [
          "3400"
         ],
         "xaxis": "x",
         "y": [
          15001515
         ],
         "yaxis": "y"
        },
        {
         "customdata": [
          [
           13503510,
           0,
           "Cuenta General"
          ]
         ],
         "hovertemplate": "VARIANCE (USD)=%{text}<br>Cuenta=%{x}<br>BUDGET=%{customdata[0]}<br>COST TO DATE=%{customdata[1]}<br>REF=%{customdata[2]}<extra></extra>",
         "legendgroup": "13503510.0",
         "marker": {
          "color": "#EF553B",
          "line": {
           "color": "darkgray",
           "width": 1
          },
          "pattern": {
           "shape": ""
          }
         },
         "name": "13503510.0",
         "orientation": "v",
         "showlegend": true,
         "text": [
          13503510
         ],
         "textposition": "outside",
         "texttemplate": "%{text:,.2f}",
         "type": "bar",
         "x": [
          "7000"
         ],
         "xaxis": "x",
         "y": [
          13503510
         ],
         "yaxis": "y"
        },
        {
         "customdata": [
          [
           11960556.03,
           0,
           "Cuenta General"
          ]
         ],
         "hovertemplate": "VARIANCE (USD)=%{text}<br>Cuenta=%{x}<br>BUDGET=%{customdata[0]}<br>COST TO DATE=%{customdata[1]}<br>REF=%{customdata[2]}<extra></extra>",
         "legendgroup": "11960556.03",
         "marker": {
          "color": "#00cc96",
          "line": {
           "color": "darkgray",
           "width": 1
          },
          "pattern": {
           "shape": ""
          }
         },
         "name": "11960556.03",
         "orientation": "v",
         "showlegend": true,
         "text": [
          11960556.03
         ],
         "textposition": "outside",
         "texttemplate": "%{text:,.2f}",
         "type": "bar",
         "x": [
          "1400"
         ],
         "xaxis": "x",
         "y": [
          11960556.03
         ],
         "yaxis": "y"
        },
        {
         "customdata": [
          [
           11484172,
           0,
           "Cuenta General"
          ]
         ],
         "hovertemplate": "VARIANCE (USD)=%{text}<br>Cuenta=%{x}<br>BUDGET=%{customdata[0]}<br>COST TO DATE=%{customdata[1]}<br>REF=%{customdata[2]}<extra></extra>",
         "legendgroup": "11484172.0",
         "marker": {
          "color": "#ab63fa",
          "line": {
           "color": "darkgray",
           "width": 1
          },
          "pattern": {
           "shape": ""
          }
         },
         "name": "11484172.0",
         "orientation": "v",
         "showlegend": true,
         "text": [
          11484172
         ],
         "textposition": "outside",
         "texttemplate": "%{text:,.2f}",
         "type": "bar",
         "x": [
          "3100"
         ],
         "xaxis": "x",
         "y": [
          11484172
         ],
         "yaxis": "y"
        },
        {
         "customdata": [
          [
           10065000,
           0,
           "Cuenta General"
          ]
         ],
         "hovertemplate": "VARIANCE (USD)=%{text}<br>Cuenta=%{x}<br>BUDGET=%{customdata[0]}<br>COST TO DATE=%{customdata[1]}<br>REF=%{customdata[2]}<extra></extra>",
         "legendgroup": "10065000.0",
         "marker": {
          "color": "#FFA15A",
          "line": {
           "color": "darkgray",
           "width": 1
          },
          "pattern": {
           "shape": ""
          }
         },
         "name": "10065000.0",
         "orientation": "v",
         "showlegend": true,
         "text": [
          10065000
         ],
         "textposition": "outside",
         "texttemplate": "%{text:,.2f}",
         "type": "bar",
         "x": [
          "1100"
         ],
         "xaxis": "x",
         "y": [
          10065000
         ],
         "yaxis": "y"
        },
        {
         "customdata": [
          [
           9449620,
           0,
           "Cuenta General"
          ]
         ],
         "hovertemplate": "VARIANCE (USD)=%{text}<br>Cuenta=%{x}<br>BUDGET=%{customdata[0]}<br>COST TO DATE=%{customdata[1]}<br>REF=%{customdata[2]}<extra></extra>",
         "legendgroup": "9449620.0",
         "marker": {
          "color": "#19d3f3",
          "line": {
           "color": "darkgray",
           "width": 1
          },
          "pattern": {
           "shape": ""
          }
         },
         "name": "9449620.0",
         "orientation": "v",
         "showlegend": true,
         "text": [
          9449620
         ],
         "textposition": "outside",
         "texttemplate": "%{text:,.2f}",
         "type": "bar",
         "x": [
          "1200"
         ],
         "xaxis": "x",
         "y": [
          9449620
         ],
         "yaxis": "y"
        },
        {
         "customdata": [
          [
           7591103,
           0,
           "Cuenta General"
          ]
         ],
         "hovertemplate": "VARIANCE (USD)=%{text}<br>Cuenta=%{x}<br>BUDGET=%{customdata[0]}<br>COST TO DATE=%{customdata[1]}<br>REF=%{customdata[2]}<extra></extra>",
         "legendgroup": "7591103.0",
         "marker": {
          "color": "#FF6692",
          "line": {
           "color": "darkgray",
           "width": 1
          },
          "pattern": {
           "shape": ""
          }
         },
         "name": "7591103.0",
         "orientation": "v",
         "showlegend": true,
         "text": [
          7591103
         ],
         "textposition": "outside",
         "texttemplate": "%{text:,.2f}",
         "type": "bar",
         "x": [
          "3600"
         ],
         "xaxis": "x",
         "y": [
          7591103
         ],
         "yaxis": "y"
        },
        {
         "customdata": [
          [
           6668300,
           0,
           "Cuenta General"
          ]
         ],
         "hovertemplate": "VARIANCE (USD)=%{text}<br>Cuenta=%{x}<br>BUDGET=%{customdata[0]}<br>COST TO DATE=%{customdata[1]}<br>REF=%{customdata[2]}<extra></extra>",
         "legendgroup": "6668300.0",
         "marker": {
          "color": "#B6E880",
          "line": {
           "color": "darkgray",
           "width": 1
          },
          "pattern": {
           "shape": ""
          }
         },
         "name": "6668300.0",
         "orientation": "v",
         "showlegend": true,
         "text": [
          6668300
         ],
         "textposition": "outside",
         "texttemplate": "%{text:,.2f}",
         "type": "bar",
         "x": [
          "2000"
         ],
         "xaxis": "x",
         "y": [
          6668300
         ],
         "yaxis": "y"
        },
        {
         "customdata": [
          [
           5965292.85,
           0,
           "Cuenta General"
          ]
         ],
         "hovertemplate": "VARIANCE (USD)=%{text}<br>Cuenta=%{x}<br>BUDGET=%{customdata[0]}<br>COST TO DATE=%{customdata[1]}<br>REF=%{customdata[2]}<extra></extra>",
         "legendgroup": "5965292.85",
         "marker": {
          "color": "#FF97FF",
          "line": {
           "color": "darkgray",
           "width": 1
          },
          "pattern": {
           "shape": ""
          }
         },
         "name": "5965292.85",
         "orientation": "v",
         "showlegend": true,
         "text": [
          5965292.85
         ],
         "textposition": "outside",
         "texttemplate": "%{text:,.2f}",
         "type": "bar",
         "x": [
          "3900"
         ],
         "xaxis": "x",
         "y": [
          5965292.85
         ],
         "yaxis": "y"
        },
        {
         "customdata": [
          [
           5268025,
           0,
           "Cuenta General"
          ]
         ],
         "hovertemplate": "VARIANCE (USD)=%{text}<br>Cuenta=%{x}<br>BUDGET=%{customdata[0]}<br>COST TO DATE=%{customdata[1]}<br>REF=%{customdata[2]}<extra></extra>",
         "legendgroup": "5268025.0",
         "marker": {
          "color": "#FECB52",
          "line": {
           "color": "darkgray",
           "width": 1
          },
          "pattern": {
           "shape": ""
          }
         },
         "name": "5268025.0",
         "orientation": "v",
         "showlegend": true,
         "text": [
          5268025
         ],
         "textposition": "outside",
         "texttemplate": "%{text:,.2f}",
         "type": "bar",
         "x": [
          "2400"
         ],
         "xaxis": "x",
         "y": [
          5268025
         ],
         "yaxis": "y"
        },
        {
         "customdata": [
          [
           4891351,
           0,
           "Cuenta General"
          ]
         ],
         "hovertemplate": "VARIANCE (USD)=%{text}<br>Cuenta=%{x}<br>BUDGET=%{customdata[0]}<br>COST TO DATE=%{customdata[1]}<br>REF=%{customdata[2]}<extra></extra>",
         "legendgroup": "4891351.0",
         "marker": {
          "color": "#636efa",
          "line": {
           "color": "darkgray",
           "width": 1
          },
          "pattern": {
           "shape": ""
          }
         },
         "name": "4891351.0",
         "orientation": "v",
         "showlegend": true,
         "text": [
          4891351
         ],
         "textposition": "outside",
         "texttemplate": "%{text:,.2f}",
         "type": "bar",
         "x": [
          "5000"
         ],
         "xaxis": "x",
         "y": [
          4891351
         ],
         "yaxis": "y"
        },
        {
         "customdata": [
          [
           3833200,
           0,
           "Cuenta General"
          ]
         ],
         "hovertemplate": "VARIANCE (USD)=%{text}<br>Cuenta=%{x}<br>BUDGET=%{customdata[0]}<br>COST TO DATE=%{customdata[1]}<br>REF=%{customdata[2]}<extra></extra>",
         "legendgroup": "3833200.0",
         "marker": {
          "color": "#EF553B",
          "line": {
           "color": "darkgray",
           "width": 1
          },
          "pattern": {
           "shape": ""
          }
         },
         "name": "3833200.0",
         "orientation": "v",
         "showlegend": true,
         "text": [
          3833200
         ],
         "textposition": "outside",
         "texttemplate": "%{text:,.2f}",
         "type": "bar",
         "x": [
          "6000"
         ],
         "xaxis": "x",
         "y": [
          3833200
         ],
         "yaxis": "y"
        },
        {
         "customdata": [
          [
           2972500,
           0,
           "Cuenta General"
          ]
         ],
         "hovertemplate": "VARIANCE (USD)=%{text}<br>Cuenta=%{x}<br>BUDGET=%{customdata[0]}<br>COST TO DATE=%{customdata[1]}<br>REF=%{customdata[2]}<extra></extra>",
         "legendgroup": "2972500.0",
         "marker": {
          "color": "#00cc96",
          "line": {
           "color": "darkgray",
           "width": 1
          },
          "pattern": {
           "shape": ""
          }
         },
         "name": "2972500.0",
         "orientation": "v",
         "showlegend": true,
         "text": [
          2972500
         ],
         "textposition": "outside",
         "texttemplate": "%{text:,.2f}",
         "type": "bar",
         "x": [
          "2700"
         ],
         "xaxis": "x",
         "y": [
          2972500
         ],
         "yaxis": "y"
        },
        {
         "customdata": [
          [
           2810543.88,
           0,
           "Cuenta General"
          ]
         ],
         "hovertemplate": "VARIANCE (USD)=%{text}<br>Cuenta=%{x}<br>BUDGET=%{customdata[0]}<br>COST TO DATE=%{customdata[1]}<br>REF=%{customdata[2]}<extra></extra>",
         "legendgroup": "2810543.88",
         "marker": {
          "color": "#ab63fa",
          "line": {
           "color": "darkgray",
           "width": 1
          },
          "pattern": {
           "shape": ""
          }
         },
         "name": "2810543.88",
         "orientation": "v",
         "showlegend": true,
         "text": [
          2810543.88
         ],
         "textposition": "outside",
         "texttemplate": "%{text:,.2f}",
         "type": "bar",
         "x": [
          "1300"
         ],
         "xaxis": "x",
         "y": [
          2810543.88
         ],
         "yaxis": "y"
        },
        {
         "customdata": [
          [
           2206500,
           0,
           "Cuenta General"
          ]
         ],
         "hovertemplate": "VARIANCE (USD)=%{text}<br>Cuenta=%{x}<br>BUDGET=%{customdata[0]}<br>COST TO DATE=%{customdata[1]}<br>REF=%{customdata[2]}<extra></extra>",
         "legendgroup": "2206500.0",
         "marker": {
          "color": "#FFA15A",
          "line": {
           "color": "darkgray",
           "width": 1
          },
          "pattern": {
           "shape": ""
          }
         },
         "name": "2206500.0",
         "orientation": "v",
         "showlegend": true,
         "text": [
          2206500
         ],
         "textposition": "outside",
         "texttemplate": "%{text:,.2f}",
         "type": "bar",
         "x": [
          "5100"
         ],
         "xaxis": "x",
         "y": [
          2206500
         ],
         "yaxis": "y"
        },
        {
         "customdata": [
          [
           1843600,
           0,
           "Cuenta General"
          ]
         ],
         "hovertemplate": "VARIANCE (USD)=%{text}<br>Cuenta=%{x}<br>BUDGET=%{customdata[0]}<br>COST TO DATE=%{customdata[1]}<br>REF=%{customdata[2]}<extra></extra>",
         "legendgroup": "1843600.0",
         "marker": {
          "color": "#19d3f3",
          "line": {
           "color": "darkgray",
           "width": 1
          },
          "pattern": {
           "shape": ""
          }
         },
         "name": "1843600.0",
         "orientation": "v",
         "showlegend": true,
         "text": [
          1843600
         ],
         "textposition": "outside",
         "texttemplate": "%{text:,.2f}",
         "type": "bar",
         "x": [
          "5200"
         ],
         "xaxis": "x",
         "y": [
          1843600
         ],
         "yaxis": "y"
        },
        {
         "customdata": [
          [
           1825740,
           0,
           "Cuenta General"
          ]
         ],
         "hovertemplate": "VARIANCE (USD)=%{text}<br>Cuenta=%{x}<br>BUDGET=%{customdata[0]}<br>COST TO DATE=%{customdata[1]}<br>REF=%{customdata[2]}<extra></extra>",
         "legendgroup": "1825740.0",
         "marker": {
          "color": "#FF6692",
          "line": {
           "color": "darkgray",
           "width": 1
          },
          "pattern": {
           "shape": ""
          }
         },
         "name": "1825740.0",
         "orientation": "v",
         "showlegend": true,
         "text": [
          1825740
         ],
         "textposition": "outside",
         "texttemplate": "%{text:,.2f}",
         "type": "bar",
         "x": [
          "2200"
         ],
         "xaxis": "x",
         "y": [
          1825740
         ],
         "yaxis": "y"
        },
        {
         "customdata": [
          [
           1624362,
           0,
           "Cuenta General"
          ]
         ],
         "hovertemplate": "VARIANCE (USD)=%{text}<br>Cuenta=%{x}<br>BUDGET=%{customdata[0]}<br>COST TO DATE=%{customdata[1]}<br>REF=%{customdata[2]}<extra></extra>",
         "legendgroup": "1624362.0",
         "marker": {
          "color": "#B6E880",
          "line": {
           "color": "darkgray",
           "width": 1
          },
          "pattern": {
           "shape": ""
          }
         },
         "name": "1624362.0",
         "orientation": "v",
         "showlegend": true,
         "text": [
          1624362
         ],
         "textposition": "outside",
         "texttemplate": "%{text:,.2f}",
         "type": "bar",
         "x": [
          "3000"
         ],
         "xaxis": "x",
         "y": [
          1624362
         ],
         "yaxis": "y"
        },
        {
         "customdata": [
          [
           1614000,
           0,
           "Cuenta General"
          ]
         ],
         "hovertemplate": "VARIANCE (USD)=%{text}<br>Cuenta=%{x}<br>BUDGET=%{customdata[0]}<br>COST TO DATE=%{customdata[1]}<br>REF=%{customdata[2]}<extra></extra>",
         "legendgroup": "1614000.0",
         "marker": {
          "color": "#FF97FF",
          "line": {
           "color": "darkgray",
           "width": 1
          },
          "pattern": {
           "shape": ""
          }
         },
         "name": "1614000.0",
         "orientation": "v",
         "showlegend": true,
         "text": [
          1614000
         ],
         "textposition": "outside",
         "texttemplate": "%{text:,.2f}",
         "type": "bar",
         "x": [
          "2100"
         ],
         "xaxis": "x",
         "y": [
          1614000
         ],
         "yaxis": "y"
        },
        {
         "customdata": [
          [
           1485676,
           0,
           "Cuenta General"
          ]
         ],
         "hovertemplate": "VARIANCE (USD)=%{text}<br>Cuenta=%{x}<br>BUDGET=%{customdata[0]}<br>COST TO DATE=%{customdata[1]}<br>REF=%{customdata[2]}<extra></extra>",
         "legendgroup": "1485676.0",
         "marker": {
          "color": "#FECB52",
          "line": {
           "color": "darkgray",
           "width": 1
          },
          "pattern": {
           "shape": ""
          }
         },
         "name": "1485676.0",
         "orientation": "v",
         "showlegend": true,
         "text": [
          1485676
         ],
         "textposition": "outside",
         "texttemplate": "%{text:,.2f}",
         "type": "bar",
         "x": [
          "7200"
         ],
         "xaxis": "x",
         "y": [
          1485676
         ],
         "yaxis": "y"
        },
        {
         "customdata": [
          [
           1452334,
           0,
           "Cuenta General"
          ]
         ],
         "hovertemplate": "VARIANCE (USD)=%{text}<br>Cuenta=%{x}<br>BUDGET=%{customdata[0]}<br>COST TO DATE=%{customdata[1]}<br>REF=%{customdata[2]}<extra></extra>",
         "legendgroup": "1452334.0",
         "marker": {
          "color": "#636efa",
          "line": {
           "color": "darkgray",
           "width": 1
          },
          "pattern": {
           "shape": ""
          }
         },
         "name": "1452334.0",
         "orientation": "v",
         "showlegend": true,
         "text": [
          1452334
         ],
         "textposition": "outside",
         "texttemplate": "%{text:,.2f}",
         "type": "bar",
         "x": [
          "6100"
         ],
         "xaxis": "x",
         "y": [
          1452334
         ],
         "yaxis": "y"
        },
        {
         "customdata": [
          [
           1451938,
           0,
           "Cuenta General"
          ]
         ],
         "hovertemplate": "VARIANCE (USD)=%{text}<br>Cuenta=%{x}<br>BUDGET=%{customdata[0]}<br>COST TO DATE=%{customdata[1]}<br>REF=%{customdata[2]}<extra></extra>",
         "legendgroup": "1451938.0",
         "marker": {
          "color": "#EF553B",
          "line": {
           "color": "darkgray",
           "width": 1
          },
          "pattern": {
           "shape": ""
          }
         },
         "name": "1451938.0",
         "orientation": "v",
         "showlegend": true,
         "text": [
          1451938
         ],
         "textposition": "outside",
         "texttemplate": "%{text:,.2f}",
         "type": "bar",
         "x": [
          "4100"
         ],
         "xaxis": "x",
         "y": [
          1451938
         ],
         "yaxis": "y"
        },
        {
         "customdata": [
          [
           1427550,
           0,
           "Cuenta General"
          ]
         ],
         "hovertemplate": "VARIANCE (USD)=%{text}<br>Cuenta=%{x}<br>BUDGET=%{customdata[0]}<br>COST TO DATE=%{customdata[1]}<br>REF=%{customdata[2]}<extra></extra>",
         "legendgroup": "1427550.0",
         "marker": {
          "color": "#00cc96",
          "line": {
           "color": "darkgray",
           "width": 1
          },
          "pattern": {
           "shape": ""
          }
         },
         "name": "1427550.0",
         "orientation": "v",
         "showlegend": true,
         "text": [
          1427550
         ],
         "textposition": "outside",
         "texttemplate": "%{text:,.2f}",
         "type": "bar",
         "x": [
          "2300"
         ],
         "xaxis": "x",
         "y": [
          1427550
         ],
         "yaxis": "y"
        },
        {
         "customdata": [
          [
           1416166.53,
           0,
           "Cuenta General"
          ]
         ],
         "hovertemplate": "VARIANCE (USD)=%{text}<br>Cuenta=%{x}<br>BUDGET=%{customdata[0]}<br>COST TO DATE=%{customdata[1]}<br>REF=%{customdata[2]}<extra></extra>",
         "legendgroup": "1416166.53",
         "marker": {
          "color": "#ab63fa",
          "line": {
           "color": "darkgray",
           "width": 1
          },
          "pattern": {
           "shape": ""
          }
         },
         "name": "1416166.53",
         "orientation": "v",
         "showlegend": true,
         "text": [
          1416166.53
         ],
         "textposition": "outside",
         "texttemplate": "%{text:,.2f}",
         "type": "bar",
         "x": [
          "1600"
         ],
         "xaxis": "x",
         "y": [
          1416166.53
         ],
         "yaxis": "y"
        },
        {
         "customdata": [
          [
           1208200,
           0,
           "Cuenta General"
          ]
         ],
         "hovertemplate": "VARIANCE (USD)=%{text}<br>Cuenta=%{x}<br>BUDGET=%{customdata[0]}<br>COST TO DATE=%{customdata[1]}<br>REF=%{customdata[2]}<extra></extra>",
         "legendgroup": "1208200.0",
         "marker": {
          "color": "#FFA15A",
          "line": {
           "color": "darkgray",
           "width": 1
          },
          "pattern": {
           "shape": ""
          }
         },
         "name": "1208200.0",
         "orientation": "v",
         "showlegend": true,
         "text": [
          1208200
         ],
         "textposition": "outside",
         "texttemplate": "%{text:,.2f}",
         "type": "bar",
         "x": [
          "2800"
         ],
         "xaxis": "x",
         "y": [
          1208200
         ],
         "yaxis": "y"
        },
        {
         "customdata": [
          [
           1139000,
           0,
           "Cuenta General"
          ]
         ],
         "hovertemplate": "VARIANCE (USD)=%{text}<br>Cuenta=%{x}<br>BUDGET=%{customdata[0]}<br>COST TO DATE=%{customdata[1]}<br>REF=%{customdata[2]}<extra></extra>",
         "legendgroup": "1139000.0",
         "marker": {
          "color": "#19d3f3",
          "line": {
           "color": "darkgray",
           "width": 1
          },
          "pattern": {
           "shape": ""
          }
         },
         "name": "1139000.0",
         "orientation": "v",
         "showlegend": true,
         "text": [
          1139000
         ],
         "textposition": "outside",
         "texttemplate": "%{text:,.2f}",
         "type": "bar",
         "x": [
          "3200"
         ],
         "xaxis": "x",
         "y": [
          1139000
         ],
         "yaxis": "y"
        },
        {
         "customdata": [
          [
           1115250,
           0,
           "Cuenta General"
          ]
         ],
         "hovertemplate": "VARIANCE (USD)=%{text}<br>Cuenta=%{x}<br>BUDGET=%{customdata[0]}<br>COST TO DATE=%{customdata[1]}<br>REF=%{customdata[2]}<extra></extra>",
         "legendgroup": "1115250.0",
         "marker": {
          "color": "#FF6692",
          "line": {
           "color": "darkgray",
           "width": 1
          },
          "pattern": {
           "shape": ""
          }
         },
         "name": "1115250.0",
         "orientation": "v",
         "showlegend": true,
         "text": [
          1115250
         ],
         "textposition": "outside",
         "texttemplate": "%{text:,.2f}",
         "type": "bar",
         "x": [
          "2600"
         ],
         "xaxis": "x",
         "y": [
          1115250
         ],
         "yaxis": "y"
        },
        {
         "customdata": [
          [
           1009000,
           0,
           "Cuenta General"
          ]
         ],
         "hovertemplate": "VARIANCE (USD)=%{text}<br>Cuenta=%{x}<br>BUDGET=%{customdata[0]}<br>COST TO DATE=%{customdata[1]}<br>REF=%{customdata[2]}<extra></extra>",
         "legendgroup": "1009000.0",
         "marker": {
          "color": "#B6E880",
          "line": {
           "color": "darkgray",
           "width": 1
          },
          "pattern": {
           "shape": ""
          }
         },
         "name": "1009000.0",
         "orientation": "v",
         "showlegend": true,
         "text": [
          1009000
         ],
         "textposition": "outside",
         "texttemplate": "%{text:,.2f}",
         "type": "bar",
         "x": [
          "2500"
         ],
         "xaxis": "x",
         "y": [
          1009000
         ],
         "yaxis": "y"
        },
        {
         "customdata": [
          [
           810000,
           0,
           "Cuenta General"
          ]
         ],
         "hovertemplate": "VARIANCE (USD)=%{text}<br>Cuenta=%{x}<br>BUDGET=%{customdata[0]}<br>COST TO DATE=%{customdata[1]}<br>REF=%{customdata[2]}<extra></extra>",
         "legendgroup": "810000.0",
         "marker": {
          "color": "#FF97FF",
          "line": {
           "color": "darkgray",
           "width": 1
          },
          "pattern": {
           "shape": ""
          }
         },
         "name": "810000.0",
         "orientation": "v",
         "showlegend": true,
         "text": [
          810000
         ],
         "textposition": "outside",
         "texttemplate": "%{text:,.2f}",
         "type": "bar",
         "x": [
          "3700"
         ],
         "xaxis": "x",
         "y": [
          810000
         ],
         "yaxis": "y"
        },
        {
         "customdata": [
          [
           747019,
           0,
           "Cuenta General"
          ]
         ],
         "hovertemplate": "VARIANCE (USD)=%{text}<br>Cuenta=%{x}<br>BUDGET=%{customdata[0]}<br>COST TO DATE=%{customdata[1]}<br>REF=%{customdata[2]}<extra></extra>",
         "legendgroup": "747019.0",
         "marker": {
          "color": "#FECB52",
          "line": {
           "color": "darkgray",
           "width": 1
          },
          "pattern": {
           "shape": ""
          }
         },
         "name": "747019.0",
         "orientation": "v",
         "showlegend": true,
         "text": [
          747019
         ],
         "textposition": "outside",
         "texttemplate": "%{text:,.2f}",
         "type": "bar",
         "x": [
          "3800"
         ],
         "xaxis": "x",
         "y": [
          747019
         ],
         "yaxis": "y"
        },
        {
         "customdata": [
          [
           630387,
           0,
           "Cuenta General"
          ]
         ],
         "hovertemplate": "VARIANCE (USD)=%{text}<br>Cuenta=%{x}<br>BUDGET=%{customdata[0]}<br>COST TO DATE=%{customdata[1]}<br>REF=%{customdata[2]}<extra></extra>",
         "legendgroup": "630387.0",
         "marker": {
          "color": "#636efa",
          "line": {
           "color": "darkgray",
           "width": 1
          },
          "pattern": {
           "shape": ""
          }
         },
         "name": "630387.0",
         "orientation": "v",
         "showlegend": true,
         "text": [
          630387
         ],
         "textposition": "outside",
         "texttemplate": "%{text:,.2f}",
         "type": "bar",
         "x": [
          "2900"
         ],
         "xaxis": "x",
         "y": [
          630387
         ],
         "yaxis": "y"
        },
        {
         "customdata": [
          [
           281000,
           0,
           "Cuenta General"
          ]
         ],
         "hovertemplate": "VARIANCE (USD)=%{text}<br>Cuenta=%{x}<br>BUDGET=%{customdata[0]}<br>COST TO DATE=%{customdata[1]}<br>REF=%{customdata[2]}<extra></extra>",
         "legendgroup": "281000.0",
         "marker": {
          "color": "#EF553B",
          "line": {
           "color": "darkgray",
           "width": 1
          },
          "pattern": {
           "shape": ""
          }
         },
         "name": "281000.0",
         "orientation": "v",
         "showlegend": true,
         "text": [
          281000
         ],
         "textposition": "outside",
         "texttemplate": "%{text:,.2f}",
         "type": "bar",
         "x": [
          "3500"
         ],
         "xaxis": "x",
         "y": [
          281000
         ],
         "yaxis": "y"
        },
        {
         "customdata": [
          [
           165500,
           0,
           "Cuenta General"
          ]
         ],
         "hovertemplate": "VARIANCE (USD)=%{text}<br>Cuenta=%{x}<br>BUDGET=%{customdata[0]}<br>COST TO DATE=%{customdata[1]}<br>REF=%{customdata[2]}<extra></extra>",
         "legendgroup": "165500.0",
         "marker": {
          "color": "#00cc96",
          "line": {
           "color": "darkgray",
           "width": 1
          },
          "pattern": {
           "shape": ""
          }
         },
         "name": "165500.0",
         "orientation": "v",
         "showlegend": true,
         "text": [
          165500
         ],
         "textposition": "outside",
         "texttemplate": "%{text:,.2f}",
         "type": "bar",
         "x": [
          "3300"
         ],
         "xaxis": "x",
         "y": [
          165500
         ],
         "yaxis": "y"
        },
        {
         "customdata": [
          [
           100000,
           0,
           "Cuenta General"
          ]
         ],
         "hovertemplate": "VARIANCE (USD)=%{text}<br>Cuenta=%{x}<br>BUDGET=%{customdata[0]}<br>COST TO DATE=%{customdata[1]}<br>REF=%{customdata[2]}<extra></extra>",
         "legendgroup": "100000.0",
         "marker": {
          "color": "#ab63fa",
          "line": {
           "color": "darkgray",
           "width": 1
          },
          "pattern": {
           "shape": ""
          }
         },
         "name": "100000.0",
         "orientation": "v",
         "showlegend": true,
         "text": [
          100000
         ],
         "textposition": "outside",
         "texttemplate": "%{text:,.2f}",
         "type": "bar",
         "x": [
          "5400"
         ],
         "xaxis": "x",
         "y": [
          100000
         ],
         "yaxis": "y"
        },
        {
         "customdata": [
          [
           80000,
           0,
           "Cuenta General"
          ]
         ],
         "hovertemplate": "VARIANCE (USD)=%{text}<br>Cuenta=%{x}<br>BUDGET=%{customdata[0]}<br>COST TO DATE=%{customdata[1]}<br>REF=%{customdata[2]}<extra></extra>",
         "legendgroup": "80000.0",
         "marker": {
          "color": "#FFA15A",
          "line": {
           "color": "darkgray",
           "width": 1
          },
          "pattern": {
           "shape": ""
          }
         },
         "name": "80000.0",
         "orientation": "v",
         "showlegend": true,
         "text": [
          80000
         ],
         "textposition": "outside",
         "texttemplate": "%{text:,.2f}",
         "type": "bar",
         "x": [
          "5300"
         ],
         "xaxis": "x",
         "y": [
          80000
         ],
         "yaxis": "y"
        }
       ],
       "layout": {
        "barmode": "relative",
        "coloraxis": {
         "colorbar": {
          "title": {
           "text": "VARIANCE"
          }
         }
        },
        "font": {
         "color": "black",
         "family": "Arial",
         "size": 12
        },
        "hoverlabel": {
         "bgcolor": "white",
         "font": {
          "size": 12
         }
        },
        "legend": {
         "title": {
          "text": "VARIANCE (USD)"
         },
         "tracegroupgap": 0
        },
        "template": {
         "data": {
          "bar": [
           {
            "error_x": {
             "color": "#2a3f5f"
            },
            "error_y": {
             "color": "#2a3f5f"
            },
            "marker": {
             "line": {
              "color": "#E5ECF6",
              "width": 0.5
             },
             "pattern": {
              "fillmode": "overlay",
              "size": 10,
              "solidity": 0.2
             }
            },
            "type": "bar"
           }
          ],
          "barpolar": [
           {
            "marker": {
             "line": {
              "color": "#E5ECF6",
              "width": 0.5
             },
             "pattern": {
              "fillmode": "overlay",
              "size": 10,
              "solidity": 0.2
             }
            },
            "type": "barpolar"
           }
          ],
          "carpet": [
           {
            "aaxis": {
             "endlinecolor": "#2a3f5f",
             "gridcolor": "white",
             "linecolor": "white",
             "minorgridcolor": "white",
             "startlinecolor": "#2a3f5f"
            },
            "baxis": {
             "endlinecolor": "#2a3f5f",
             "gridcolor": "white",
             "linecolor": "white",
             "minorgridcolor": "white",
             "startlinecolor": "#2a3f5f"
            },
            "type": "carpet"
           }
          ],
          "choropleth": [
           {
            "colorbar": {
             "outlinewidth": 0,
             "ticks": ""
            },
            "type": "choropleth"
           }
          ],
          "contour": [
           {
            "colorbar": {
             "outlinewidth": 0,
             "ticks": ""
            },
            "colorscale": [
             [
              0,
              "#0d0887"
             ],
             [
              0.1111111111111111,
              "#46039f"
             ],
             [
              0.2222222222222222,
              "#7201a8"
             ],
             [
              0.3333333333333333,
              "#9c179e"
             ],
             [
              0.4444444444444444,
              "#bd3786"
             ],
             [
              0.5555555555555556,
              "#d8576b"
             ],
             [
              0.6666666666666666,
              "#ed7953"
             ],
             [
              0.7777777777777778,
              "#fb9f3a"
             ],
             [
              0.8888888888888888,
              "#fdca26"
             ],
             [
              1,
              "#f0f921"
             ]
            ],
            "type": "contour"
           }
          ],
          "contourcarpet": [
           {
            "colorbar": {
             "outlinewidth": 0,
             "ticks": ""
            },
            "type": "contourcarpet"
           }
          ],
          "heatmap": [
           {
            "colorbar": {
             "outlinewidth": 0,
             "ticks": ""
            },
            "colorscale": [
             [
              0,
              "#0d0887"
             ],
             [
              0.1111111111111111,
              "#46039f"
             ],
             [
              0.2222222222222222,
              "#7201a8"
             ],
             [
              0.3333333333333333,
              "#9c179e"
             ],
             [
              0.4444444444444444,
              "#bd3786"
             ],
             [
              0.5555555555555556,
              "#d8576b"
             ],
             [
              0.6666666666666666,
              "#ed7953"
             ],
             [
              0.7777777777777778,
              "#fb9f3a"
             ],
             [
              0.8888888888888888,
              "#fdca26"
             ],
             [
              1,
              "#f0f921"
             ]
            ],
            "type": "heatmap"
           }
          ],
          "histogram": [
           {
            "marker": {
             "pattern": {
              "fillmode": "overlay",
              "size": 10,
              "solidity": 0.2
             }
            },
            "type": "histogram"
           }
          ],
          "histogram2d": [
           {
            "colorbar": {
             "outlinewidth": 0,
             "ticks": ""
            },
            "colorscale": [
             [
              0,
              "#0d0887"
             ],
             [
              0.1111111111111111,
              "#46039f"
             ],
             [
              0.2222222222222222,
              "#7201a8"
             ],
             [
              0.3333333333333333,
              "#9c179e"
             ],
             [
              0.4444444444444444,
              "#bd3786"
             ],
             [
              0.5555555555555556,
              "#d8576b"
             ],
             [
              0.6666666666666666,
              "#ed7953"
             ],
             [
              0.7777777777777778,
              "#fb9f3a"
             ],
             [
              0.8888888888888888,
              "#fdca26"
             ],
             [
              1,
              "#f0f921"
             ]
            ],
            "type": "histogram2d"
           }
          ],
          "histogram2dcontour": [
           {
            "colorbar": {
             "outlinewidth": 0,
             "ticks": ""
            },
            "colorscale": [
             [
              0,
              "#0d0887"
             ],
             [
              0.1111111111111111,
              "#46039f"
             ],
             [
              0.2222222222222222,
              "#7201a8"
             ],
             [
              0.3333333333333333,
              "#9c179e"
             ],
             [
              0.4444444444444444,
              "#bd3786"
             ],
             [
              0.5555555555555556,
              "#d8576b"
             ],
             [
              0.6666666666666666,
              "#ed7953"
             ],
             [
              0.7777777777777778,
              "#fb9f3a"
             ],
             [
              0.8888888888888888,
              "#fdca26"
             ],
             [
              1,
              "#f0f921"
             ]
            ],
            "type": "histogram2dcontour"
           }
          ],
          "mesh3d": [
           {
            "colorbar": {
             "outlinewidth": 0,
             "ticks": ""
            },
            "type": "mesh3d"
           }
          ],
          "parcoords": [
           {
            "line": {
             "colorbar": {
              "outlinewidth": 0,
              "ticks": ""
             }
            },
            "type": "parcoords"
           }
          ],
          "pie": [
           {
            "automargin": true,
            "type": "pie"
           }
          ],
          "scatter": [
           {
            "fillpattern": {
             "fillmode": "overlay",
             "size": 10,
             "solidity": 0.2
            },
            "type": "scatter"
           }
          ],
          "scatter3d": [
           {
            "line": {
             "colorbar": {
              "outlinewidth": 0,
              "ticks": ""
             }
            },
            "marker": {
             "colorbar": {
              "outlinewidth": 0,
              "ticks": ""
             }
            },
            "type": "scatter3d"
           }
          ],
          "scattercarpet": [
           {
            "marker": {
             "colorbar": {
              "outlinewidth": 0,
              "ticks": ""
             }
            },
            "type": "scattercarpet"
           }
          ],
          "scattergeo": [
           {
            "marker": {
             "colorbar": {
              "outlinewidth": 0,
              "ticks": ""
             }
            },
            "type": "scattergeo"
           }
          ],
          "scattergl": [
           {
            "marker": {
             "colorbar": {
              "outlinewidth": 0,
              "ticks": ""
             }
            },
            "type": "scattergl"
           }
          ],
          "scattermap": [
           {
            "marker": {
             "colorbar": {
              "outlinewidth": 0,
              "ticks": ""
             }
            },
            "type": "scattermap"
           }
          ],
          "scattermapbox": [
           {
            "marker": {
             "colorbar": {
              "outlinewidth": 0,
              "ticks": ""
             }
            },
            "type": "scattermapbox"
           }
          ],
          "scatterpolar": [
           {
            "marker": {
             "colorbar": {
              "outlinewidth": 0,
              "ticks": ""
             }
            },
            "type": "scatterpolar"
           }
          ],
          "scatterpolargl": [
           {
            "marker": {
             "colorbar": {
              "outlinewidth": 0,
              "ticks": ""
             }
            },
            "type": "scatterpolargl"
           }
          ],
          "scatterternary": [
           {
            "marker": {
             "colorbar": {
              "outlinewidth": 0,
              "ticks": ""
             }
            },
            "type": "scatterternary"
           }
          ],
          "surface": [
           {
            "colorbar": {
             "outlinewidth": 0,
             "ticks": ""
            },
            "colorscale": [
             [
              0,
              "#0d0887"
             ],
             [
              0.1111111111111111,
              "#46039f"
             ],
             [
              0.2222222222222222,
              "#7201a8"
             ],
             [
              0.3333333333333333,
              "#9c179e"
             ],
             [
              0.4444444444444444,
              "#bd3786"
             ],
             [
              0.5555555555555556,
              "#d8576b"
             ],
             [
              0.6666666666666666,
              "#ed7953"
             ],
             [
              0.7777777777777778,
              "#fb9f3a"
             ],
             [
              0.8888888888888888,
              "#fdca26"
             ],
             [
              1,
              "#f0f921"
             ]
            ],
            "type": "surface"
           }
          ],
          "table": [
           {
            "cells": {
             "fill": {
              "color": "#EBF0F8"
             },
             "line": {
              "color": "white"
             }
            },
            "header": {
             "fill": {
              "color": "#C8D4E3"
             },
             "line": {
              "color": "white"
             }
            },
            "type": "table"
           }
          ]
         },
         "layout": {
          "annotationdefaults": {
           "arrowcolor": "#2a3f5f",
           "arrowhead": 0,
           "arrowwidth": 1
          },
          "autotypenumbers": "strict",
          "coloraxis": {
           "colorbar": {
            "outlinewidth": 0,
            "ticks": ""
           }
          },
          "colorscale": {
           "diverging": [
            [
             0,
             "#8e0152"
            ],
            [
             0.1,
             "#c51b7d"
            ],
            [
             0.2,
             "#de77ae"
            ],
            [
             0.3,
             "#f1b6da"
            ],
            [
             0.4,
             "#fde0ef"
            ],
            [
             0.5,
             "#f7f7f7"
            ],
            [
             0.6,
             "#e6f5d0"
            ],
            [
             0.7,
             "#b8e186"
            ],
            [
             0.8,
             "#7fbc41"
            ],
            [
             0.9,
             "#4d9221"
            ],
            [
             1,
             "#276419"
            ]
           ],
           "sequential": [
            [
             0,
             "#0d0887"
            ],
            [
             0.1111111111111111,
             "#46039f"
            ],
            [
             0.2222222222222222,
             "#7201a8"
            ],
            [
             0.3333333333333333,
             "#9c179e"
            ],
            [
             0.4444444444444444,
             "#bd3786"
            ],
            [
             0.5555555555555556,
             "#d8576b"
            ],
            [
             0.6666666666666666,
             "#ed7953"
            ],
            [
             0.7777777777777778,
             "#fb9f3a"
            ],
            [
             0.8888888888888888,
             "#fdca26"
            ],
            [
             1,
             "#f0f921"
            ]
           ],
           "sequentialminus": [
            [
             0,
             "#0d0887"
            ],
            [
             0.1111111111111111,
             "#46039f"
            ],
            [
             0.2222222222222222,
             "#7201a8"
            ],
            [
             0.3333333333333333,
             "#9c179e"
            ],
            [
             0.4444444444444444,
             "#bd3786"
            ],
            [
             0.5555555555555556,
             "#d8576b"
            ],
            [
             0.6666666666666666,
             "#ed7953"
            ],
            [
             0.7777777777777778,
             "#fb9f3a"
            ],
            [
             0.8888888888888888,
             "#fdca26"
            ],
            [
             1,
             "#f0f921"
            ]
           ]
          },
          "colorway": [
           "#636efa",
           "#EF553B",
           "#00cc96",
           "#ab63fa",
           "#FFA15A",
           "#19d3f3",
           "#FF6692",
           "#B6E880",
           "#FF97FF",
           "#FECB52"
          ],
          "font": {
           "color": "#2a3f5f"
          },
          "geo": {
           "bgcolor": "white",
           "lakecolor": "white",
           "landcolor": "#E5ECF6",
           "showlakes": true,
           "showland": true,
           "subunitcolor": "white"
          },
          "hoverlabel": {
           "align": "left"
          },
          "hovermode": "closest",
          "mapbox": {
           "style": "light"
          },
          "paper_bgcolor": "white",
          "plot_bgcolor": "#E5ECF6",
          "polar": {
           "angularaxis": {
            "gridcolor": "white",
            "linecolor": "white",
            "ticks": ""
           },
           "bgcolor": "#E5ECF6",
           "radialaxis": {
            "gridcolor": "white",
            "linecolor": "white",
            "ticks": ""
           }
          },
          "scene": {
           "xaxis": {
            "backgroundcolor": "#E5ECF6",
            "gridcolor": "white",
            "gridwidth": 2,
            "linecolor": "white",
            "showbackground": true,
            "ticks": "",
            "zerolinecolor": "white"
           },
           "yaxis": {
            "backgroundcolor": "#E5ECF6",
            "gridcolor": "white",
            "gridwidth": 2,
            "linecolor": "white",
            "showbackground": true,
            "ticks": "",
            "zerolinecolor": "white"
           },
           "zaxis": {
            "backgroundcolor": "#E5ECF6",
            "gridcolor": "white",
            "gridwidth": 2,
            "linecolor": "white",
            "showbackground": true,
            "ticks": "",
            "zerolinecolor": "white"
           }
          },
          "shapedefaults": {
           "line": {
            "color": "#2a3f5f"
           }
          },
          "ternary": {
           "aaxis": {
            "gridcolor": "white",
            "linecolor": "white",
            "ticks": ""
           },
           "baxis": {
            "gridcolor": "white",
            "linecolor": "white",
            "ticks": ""
           },
           "bgcolor": "#E5ECF6",
           "caxis": {
            "gridcolor": "white",
            "linecolor": "white",
            "ticks": ""
           }
          },
          "title": {
           "x": 0.05
          },
          "xaxis": {
           "automargin": true,
           "gridcolor": "white",
           "linecolor": "white",
           "ticks": "",
           "title": {
            "standoff": 15
           },
           "zerolinecolor": "white",
           "zerolinewidth": 2
          },
          "yaxis": {
           "automargin": true,
           "gridcolor": "white",
           "linecolor": "white",
           "ticks": "",
           "title": {
            "standoff": 15
           },
           "zerolinecolor": "white",
           "zerolinewidth": 2
          }
         }
        },
        "title": {
         "text": "<b>Gráfico 4. VARIANCE por Cuenta </b>"
        },
        "xaxis": {
         "anchor": "y",
         "domain": [
          0,
          1
         ],
         "tickangle": 45,
         "title": {
          "text": "<b>Cuenta (ACCT)</b>"
         }
        },
        "yaxis": {
         "anchor": "x",
         "categoryarray": [
          80000,
          100000,
          165500,
          281000,
          630387,
          747019,
          810000,
          1009000,
          1115250,
          1139000,
          1208200,
          1416166.53,
          1427550,
          1451938,
          1452334,
          1485676,
          1614000,
          1624362,
          1825740,
          1843600,
          2206500,
          2810543.88,
          2972500,
          3833200,
          4891351,
          5268025,
          5965292.85,
          6668300,
          7591103,
          9449620,
          10065000,
          11484172,
          11960556.03,
          13503510,
          15001515
         ],
         "categoryorder": "array",
         "domain": [
          0,
          1
         ],
         "title": {
          "text": "<b>VARIANCE (USD)</b>"
         }
        }
       }
      }
     },
     "metadata": {},
     "output_type": "display_data"
    }
   ],
   "source": [
    "import plotly.express as px\n",
    "import pandas as pd\n",
    "df_plot = df_CostReport4[df_CostReport4['REF'].isin(['Cuenta General'])].copy()\n",
    "\n",
    "df_plot = df_plot.sort_values('VARIANCE', ascending=False)\n",
    "fig = px.bar(\n",
    "    df_plot,\n",
    "    x='ACCT',\n",
    "    y='VARIANCE',\n",
    "    color='VARIANCE',\n",
    "    color_continuous_scale='thermal', \n",
    "    title='<b>Gráfico 4. VARIANCE por Cuenta </b>',\n",
    "    labels={'VARIANCE': 'VARIANCE (USD)', 'ACCT': 'Cuenta'},\n",
    "    hover_data=['BUDGET', 'COST TO DATE', 'REF'],\n",
    "    text='VARIANCE',\n",
    ")\n",
    "fig.update_layout(  \n",
    "    font=dict(family='Arial', size=12, color='black'),\n",
    "    xaxis=dict(title='<b>Cuenta (ACCT)</b>', tickangle=45),\n",
    "    yaxis=dict(title='<b>VARIANCE (USD)</b>'),\n",
    "    hoverlabel=dict(bgcolor='white', font_size=12),\n",
    "    coloraxis_colorbar=dict(title='VARIANCE'),\n",
    ")\n",
    "fig.update_traces(\n",
    "    texttemplate='%{text:,.2f}',\n",
    "    textposition='outside',\n",
    "    marker=dict(line=dict(color='darkgray', width=1)),\n",
    ")\n",
    "\n",
    "fig.show()"
   ]
  },
  {
   "cell_type": "markdown",
   "id": "37ea708a",
   "metadata": {},
   "source": [
    "<h3 style=\"text-align: center;\">En la gráfica 4, Se despliega la diferencia entre el presupuesto y el gasto por cuenta. </h3>"
   ]
  },
  {
   "cell_type": "markdown",
   "id": "e5d4d91d",
   "metadata": {},
   "source": [
    "# Summary\n",
    "Por último, en esta sección se desarrolla un pequeño resumen de la información contenida en la base de datos. Este resumen es especialmente importante porque representa la forma en que el negocio presenta sus datos hacia el exterior, especialmente a sus clientes. Por eso, es fundamental que sea claro y fácil de entender. En futuras entregas, trabajaremos en mejorar su diseño para que sea más atractivo y accesible para el público en general."
   ]
  },
  {
   "cell_type": "code",
   "execution_count": 130,
   "id": "6251d5d4",
   "metadata": {},
   "outputs": [
    {
     "name": "stdout",
     "output_type": "stream",
     "text": [
      "RESUMEN GENERAL\n",
      "→ Costo Total a la Fecha: $403,115,948.29\n",
      "→ Presupuesto Total: $405,293,733.00\n",
      "→ Variación Total: $3,000,835.78\n",
      "→ Índice de Cumplimiento Presupuestal (CPI): 0.99\n",
      "\n",
      " Cuentas Más Beneficiadas:\n",
      "    ACCT  COST TO DATE        BUDGET     VARIANCE\n",
      "3412-127      2,155.17  2,701,500.00 2,699,344.83\n",
      "    3412  4,270,057.83  6,880,105.37 2,610,047.54\n",
      "    3400 12,724,039.85 15,001,515.11 2,277,475.26\n",
      "    7003 10,574,177.83 11,643,573.80 1,069,395.97\n",
      "7003-004 10,574,177.83 11,643,573.80 1,069,395.97\n",
      "\n",
      " Cuentas Más Impactadas:\n",
      "    ACCT  COST TO DATE        BUDGET      VARIANCE\n",
      "    1400 13,899,922.02 11,960,556.35 -1,939,365.67\n",
      "    1401  8,807,210.20  7,612,289.00 -1,194,921.20\n",
      "6137-003          0.00   -849,515.52   -849,515.52\n",
      "    6137          0.00   -849,515.52   -849,515.52\n",
      "1499-001  1,649,770.71    818,091.03   -831,679.68\n"
     ]
    }
   ],
   "source": [
    "final_cost_report.replace(\"nan\", np.nan, inplace=True)\n",
    "\n",
    "\n",
    "for col in [\"COST TO DATE\", \"BUDGET\", \"VARIANCE\"]:\n",
    "    final_cost_report[col] = pd.to_numeric(final_cost_report[col], errors='coerce')  \n",
    "\n",
    "total_cost = final_cost_report[\"COST TO DATE\"].sum(skipna=True)\n",
    "total_budget = final_cost_report[\"BUDGET\"].sum(skipna=True)\n",
    "\n",
    "total_variance = final_cost_report[\"VARIANCE\"].sum(skipna=True)\n",
    "\n",
    "cpi = round(total_cost / total_budget, 2) if total_budget != 0 else 0\n",
    "\n",
    "print(\"RESUMEN GENERAL\")\n",
    "print(f\"→ Costo Total a la Fecha: ${total_cost:,.2f}\")\n",
    "print(f\"→ Presupuesto Total: ${total_budget:,.2f}\")\n",
    "print(f\"→ Variación Total: ${total_variance:,.2f}\")\n",
    "\n",
    "print(f\"→ Índice de Cumplimiento Presupuestal (CPI): {cpi}\") \n",
    "# mide la eficiencia del uso del presupuesto hasta la fecha. Te dice si estás gastando más, menos o justo lo que deberías.\n",
    "\n",
    "beneficiadas = final_cost_report.sort_values(\"VARIANCE\", ascending=False).head(5)\n",
    "print(\"\\n Cuentas Más Beneficiadas:\")\n",
    "print(beneficiadas[[\"ACCT\", \"COST TO DATE\", \"BUDGET\", \"VARIANCE\"]].dropna().to_string(index=False))\n",
    "\n",
    "impactadas = final_cost_report.sort_values(\"VARIANCE\", ascending=True).head(5)\n",
    "\n",
    "print(\"\\n Cuentas Más Impactadas:\")\n",
    "print(impactadas[[\"ACCT\", \"COST TO DATE\", \"BUDGET\", \"VARIANCE\"]].dropna().to_string(index=False))"
   ]
  },
  {
   "cell_type": "code",
   "execution_count": 124,
   "id": "1cfb7170",
   "metadata": {},
   "outputs": [
    {
     "data": {
      "application/vnd.plotly.v1+json": {
       "config": {
        "plotlyServerURL": "https://plot.ly"
       },
       "data": [
        {
         "domain": {
          "x": [
           0,
           1
          ],
          "y": [
           0,
           1
          ]
         },
         "hovertemplate": "TIPO=%{label}<br>COST TO DATE=%{value}<extra></extra>",
         "labels": [
          "Above the Line",
          "Below the Line",
          "Others",
          "Post"
         ],
         "legendgroup": "",
         "name": "",
         "showlegend": true,
         "type": "pie",
         "values": {
          "bdata": "ke089AM8skF56aaU51CQQR1aZE+CNmtBUrgeDbija0E=",
          "dtype": "f8"
         }
        }
       ],
       "layout": {
        "legend": {
         "tracegroupgap": 0
        },
        "template": {
         "data": {
          "bar": [
           {
            "error_x": {
             "color": "#2a3f5f"
            },
            "error_y": {
             "color": "#2a3f5f"
            },
            "marker": {
             "line": {
              "color": "#E5ECF6",
              "width": 0.5
             },
             "pattern": {
              "fillmode": "overlay",
              "size": 10,
              "solidity": 0.2
             }
            },
            "type": "bar"
           }
          ],
          "barpolar": [
           {
            "marker": {
             "line": {
              "color": "#E5ECF6",
              "width": 0.5
             },
             "pattern": {
              "fillmode": "overlay",
              "size": 10,
              "solidity": 0.2
             }
            },
            "type": "barpolar"
           }
          ],
          "carpet": [
           {
            "aaxis": {
             "endlinecolor": "#2a3f5f",
             "gridcolor": "white",
             "linecolor": "white",
             "minorgridcolor": "white",
             "startlinecolor": "#2a3f5f"
            },
            "baxis": {
             "endlinecolor": "#2a3f5f",
             "gridcolor": "white",
             "linecolor": "white",
             "minorgridcolor": "white",
             "startlinecolor": "#2a3f5f"
            },
            "type": "carpet"
           }
          ],
          "choropleth": [
           {
            "colorbar": {
             "outlinewidth": 0,
             "ticks": ""
            },
            "type": "choropleth"
           }
          ],
          "contour": [
           {
            "colorbar": {
             "outlinewidth": 0,
             "ticks": ""
            },
            "colorscale": [
             [
              0,
              "#0d0887"
             ],
             [
              0.1111111111111111,
              "#46039f"
             ],
             [
              0.2222222222222222,
              "#7201a8"
             ],
             [
              0.3333333333333333,
              "#9c179e"
             ],
             [
              0.4444444444444444,
              "#bd3786"
             ],
             [
              0.5555555555555556,
              "#d8576b"
             ],
             [
              0.6666666666666666,
              "#ed7953"
             ],
             [
              0.7777777777777778,
              "#fb9f3a"
             ],
             [
              0.8888888888888888,
              "#fdca26"
             ],
             [
              1,
              "#f0f921"
             ]
            ],
            "type": "contour"
           }
          ],
          "contourcarpet": [
           {
            "colorbar": {
             "outlinewidth": 0,
             "ticks": ""
            },
            "type": "contourcarpet"
           }
          ],
          "heatmap": [
           {
            "colorbar": {
             "outlinewidth": 0,
             "ticks": ""
            },
            "colorscale": [
             [
              0,
              "#0d0887"
             ],
             [
              0.1111111111111111,
              "#46039f"
             ],
             [
              0.2222222222222222,
              "#7201a8"
             ],
             [
              0.3333333333333333,
              "#9c179e"
             ],
             [
              0.4444444444444444,
              "#bd3786"
             ],
             [
              0.5555555555555556,
              "#d8576b"
             ],
             [
              0.6666666666666666,
              "#ed7953"
             ],
             [
              0.7777777777777778,
              "#fb9f3a"
             ],
             [
              0.8888888888888888,
              "#fdca26"
             ],
             [
              1,
              "#f0f921"
             ]
            ],
            "type": "heatmap"
           }
          ],
          "histogram": [
           {
            "marker": {
             "pattern": {
              "fillmode": "overlay",
              "size": 10,
              "solidity": 0.2
             }
            },
            "type": "histogram"
           }
          ],
          "histogram2d": [
           {
            "colorbar": {
             "outlinewidth": 0,
             "ticks": ""
            },
            "colorscale": [
             [
              0,
              "#0d0887"
             ],
             [
              0.1111111111111111,
              "#46039f"
             ],
             [
              0.2222222222222222,
              "#7201a8"
             ],
             [
              0.3333333333333333,
              "#9c179e"
             ],
             [
              0.4444444444444444,
              "#bd3786"
             ],
             [
              0.5555555555555556,
              "#d8576b"
             ],
             [
              0.6666666666666666,
              "#ed7953"
             ],
             [
              0.7777777777777778,
              "#fb9f3a"
             ],
             [
              0.8888888888888888,
              "#fdca26"
             ],
             [
              1,
              "#f0f921"
             ]
            ],
            "type": "histogram2d"
           }
          ],
          "histogram2dcontour": [
           {
            "colorbar": {
             "outlinewidth": 0,
             "ticks": ""
            },
            "colorscale": [
             [
              0,
              "#0d0887"
             ],
             [
              0.1111111111111111,
              "#46039f"
             ],
             [
              0.2222222222222222,
              "#7201a8"
             ],
             [
              0.3333333333333333,
              "#9c179e"
             ],
             [
              0.4444444444444444,
              "#bd3786"
             ],
             [
              0.5555555555555556,
              "#d8576b"
             ],
             [
              0.6666666666666666,
              "#ed7953"
             ],
             [
              0.7777777777777778,
              "#fb9f3a"
             ],
             [
              0.8888888888888888,
              "#fdca26"
             ],
             [
              1,
              "#f0f921"
             ]
            ],
            "type": "histogram2dcontour"
           }
          ],
          "mesh3d": [
           {
            "colorbar": {
             "outlinewidth": 0,
             "ticks": ""
            },
            "type": "mesh3d"
           }
          ],
          "parcoords": [
           {
            "line": {
             "colorbar": {
              "outlinewidth": 0,
              "ticks": ""
             }
            },
            "type": "parcoords"
           }
          ],
          "pie": [
           {
            "automargin": true,
            "type": "pie"
           }
          ],
          "scatter": [
           {
            "fillpattern": {
             "fillmode": "overlay",
             "size": 10,
             "solidity": 0.2
            },
            "type": "scatter"
           }
          ],
          "scatter3d": [
           {
            "line": {
             "colorbar": {
              "outlinewidth": 0,
              "ticks": ""
             }
            },
            "marker": {
             "colorbar": {
              "outlinewidth": 0,
              "ticks": ""
             }
            },
            "type": "scatter3d"
           }
          ],
          "scattercarpet": [
           {
            "marker": {
             "colorbar": {
              "outlinewidth": 0,
              "ticks": ""
             }
            },
            "type": "scattercarpet"
           }
          ],
          "scattergeo": [
           {
            "marker": {
             "colorbar": {
              "outlinewidth": 0,
              "ticks": ""
             }
            },
            "type": "scattergeo"
           }
          ],
          "scattergl": [
           {
            "marker": {
             "colorbar": {
              "outlinewidth": 0,
              "ticks": ""
             }
            },
            "type": "scattergl"
           }
          ],
          "scattermap": [
           {
            "marker": {
             "colorbar": {
              "outlinewidth": 0,
              "ticks": ""
             }
            },
            "type": "scattermap"
           }
          ],
          "scattermapbox": [
           {
            "marker": {
             "colorbar": {
              "outlinewidth": 0,
              "ticks": ""
             }
            },
            "type": "scattermapbox"
           }
          ],
          "scatterpolar": [
           {
            "marker": {
             "colorbar": {
              "outlinewidth": 0,
              "ticks": ""
             }
            },
            "type": "scatterpolar"
           }
          ],
          "scatterpolargl": [
           {
            "marker": {
             "colorbar": {
              "outlinewidth": 0,
              "ticks": ""
             }
            },
            "type": "scatterpolargl"
           }
          ],
          "scatterternary": [
           {
            "marker": {
             "colorbar": {
              "outlinewidth": 0,
              "ticks": ""
             }
            },
            "type": "scatterternary"
           }
          ],
          "surface": [
           {
            "colorbar": {
             "outlinewidth": 0,
             "ticks": ""
            },
            "colorscale": [
             [
              0,
              "#0d0887"
             ],
             [
              0.1111111111111111,
              "#46039f"
             ],
             [
              0.2222222222222222,
              "#7201a8"
             ],
             [
              0.3333333333333333,
              "#9c179e"
             ],
             [
              0.4444444444444444,
              "#bd3786"
             ],
             [
              0.5555555555555556,
              "#d8576b"
             ],
             [
              0.6666666666666666,
              "#ed7953"
             ],
             [
              0.7777777777777778,
              "#fb9f3a"
             ],
             [
              0.8888888888888888,
              "#fdca26"
             ],
             [
              1,
              "#f0f921"
             ]
            ],
            "type": "surface"
           }
          ],
          "table": [
           {
            "cells": {
             "fill": {
              "color": "#EBF0F8"
             },
             "line": {
              "color": "white"
             }
            },
            "header": {
             "fill": {
              "color": "#C8D4E3"
             },
             "line": {
              "color": "white"
             }
            },
            "type": "table"
           }
          ]
         },
         "layout": {
          "annotationdefaults": {
           "arrowcolor": "#2a3f5f",
           "arrowhead": 0,
           "arrowwidth": 1
          },
          "autotypenumbers": "strict",
          "coloraxis": {
           "colorbar": {
            "outlinewidth": 0,
            "ticks": ""
           }
          },
          "colorscale": {
           "diverging": [
            [
             0,
             "#8e0152"
            ],
            [
             0.1,
             "#c51b7d"
            ],
            [
             0.2,
             "#de77ae"
            ],
            [
             0.3,
             "#f1b6da"
            ],
            [
             0.4,
             "#fde0ef"
            ],
            [
             0.5,
             "#f7f7f7"
            ],
            [
             0.6,
             "#e6f5d0"
            ],
            [
             0.7,
             "#b8e186"
            ],
            [
             0.8,
             "#7fbc41"
            ],
            [
             0.9,
             "#4d9221"
            ],
            [
             1,
             "#276419"
            ]
           ],
           "sequential": [
            [
             0,
             "#0d0887"
            ],
            [
             0.1111111111111111,
             "#46039f"
            ],
            [
             0.2222222222222222,
             "#7201a8"
            ],
            [
             0.3333333333333333,
             "#9c179e"
            ],
            [
             0.4444444444444444,
             "#bd3786"
            ],
            [
             0.5555555555555556,
             "#d8576b"
            ],
            [
             0.6666666666666666,
             "#ed7953"
            ],
            [
             0.7777777777777778,
             "#fb9f3a"
            ],
            [
             0.8888888888888888,
             "#fdca26"
            ],
            [
             1,
             "#f0f921"
            ]
           ],
           "sequentialminus": [
            [
             0,
             "#0d0887"
            ],
            [
             0.1111111111111111,
             "#46039f"
            ],
            [
             0.2222222222222222,
             "#7201a8"
            ],
            [
             0.3333333333333333,
             "#9c179e"
            ],
            [
             0.4444444444444444,
             "#bd3786"
            ],
            [
             0.5555555555555556,
             "#d8576b"
            ],
            [
             0.6666666666666666,
             "#ed7953"
            ],
            [
             0.7777777777777778,
             "#fb9f3a"
            ],
            [
             0.8888888888888888,
             "#fdca26"
            ],
            [
             1,
             "#f0f921"
            ]
           ]
          },
          "colorway": [
           "#636efa",
           "#EF553B",
           "#00cc96",
           "#ab63fa",
           "#FFA15A",
           "#19d3f3",
           "#FF6692",
           "#B6E880",
           "#FF97FF",
           "#FECB52"
          ],
          "font": {
           "color": "#2a3f5f"
          },
          "geo": {
           "bgcolor": "white",
           "lakecolor": "white",
           "landcolor": "#E5ECF6",
           "showlakes": true,
           "showland": true,
           "subunitcolor": "white"
          },
          "hoverlabel": {
           "align": "left"
          },
          "hovermode": "closest",
          "mapbox": {
           "style": "light"
          },
          "paper_bgcolor": "white",
          "plot_bgcolor": "#E5ECF6",
          "polar": {
           "angularaxis": {
            "gridcolor": "white",
            "linecolor": "white",
            "ticks": ""
           },
           "bgcolor": "#E5ECF6",
           "radialaxis": {
            "gridcolor": "white",
            "linecolor": "white",
            "ticks": ""
           }
          },
          "scene": {
           "xaxis": {
            "backgroundcolor": "#E5ECF6",
            "gridcolor": "white",
            "gridwidth": 2,
            "linecolor": "white",
            "showbackground": true,
            "ticks": "",
            "zerolinecolor": "white"
           },
           "yaxis": {
            "backgroundcolor": "#E5ECF6",
            "gridcolor": "white",
            "gridwidth": 2,
            "linecolor": "white",
            "showbackground": true,
            "ticks": "",
            "zerolinecolor": "white"
           },
           "zaxis": {
            "backgroundcolor": "#E5ECF6",
            "gridcolor": "white",
            "gridwidth": 2,
            "linecolor": "white",
            "showbackground": true,
            "ticks": "",
            "zerolinecolor": "white"
           }
          },
          "shapedefaults": {
           "line": {
            "color": "#2a3f5f"
           }
          },
          "ternary": {
           "aaxis": {
            "gridcolor": "white",
            "linecolor": "white",
            "ticks": ""
           },
           "baxis": {
            "gridcolor": "white",
            "linecolor": "white",
            "ticks": ""
           },
           "bgcolor": "#E5ECF6",
           "caxis": {
            "gridcolor": "white",
            "linecolor": "white",
            "ticks": ""
           }
          },
          "title": {
           "x": 0.05
          },
          "xaxis": {
           "automargin": true,
           "gridcolor": "white",
           "linecolor": "white",
           "ticks": "",
           "title": {
            "standoff": 15
           },
           "zerolinecolor": "white",
           "zerolinewidth": 2
          },
          "yaxis": {
           "automargin": true,
           "gridcolor": "white",
           "linecolor": "white",
           "ticks": "",
           "title": {
            "standoff": 15
           },
           "zerolinecolor": "white",
           "zerolinewidth": 2
          }
         }
        },
        "title": {
         "font": {
          "size": 22
         },
         "text": "<b> Distribución del Costo Total por TIPO</b>",
         "x": 0.5
        }
       }
      }
     },
     "metadata": {},
     "output_type": "display_data"
    }
   ],
   "source": [
    "tipo_cost = final_cost_report.groupby('TIPO')['COST TO DATE'].sum().reset_index()\n",
    "\n",
    "fig = px.pie(tipo_cost, values='COST TO DATE', names='TIPO',title='Gráfico 5. Distribución del Costo Total por TIPO')  \n",
    "\n",
    "fig.update_layout(title={'text': \"<b> Distribución del Costo Total por TIPO</b>\", 'x':0.5}, title_font_size=22)\n",
    "\n",
    "fig.show()"
   ]
  },
  {
   "cell_type": "markdown",
   "id": "227c5fcd",
   "metadata": {},
   "source": [
    "El gráfico 5, muestra cómo se distribuye el costo total entre los diferentes tipos de gasto. Cada segmento representa un tipo, y el tamaño del segmento indica qué porcentaje del gasto total corresponde a ese tipo.\n",
    "\n",
    "Esta visualización permite detectar con facilidad qué áreas dominan el gasto operativo y abre la puerta a preguntas estratégicas"
   ]
  },
  {
   "cell_type": "code",
   "execution_count": 132,
   "id": "80cca216",
   "metadata": {},
   "outputs": [
    {
     "data": {
      "application/vnd.plotly.v1+json": {
       "config": {
        "plotlyServerURL": "https://plot.ly"
       },
       "data": [
        {
         "hovertemplate": "VARIANCE ($)=%{marker.color}<br>Cuenta=%{y}<extra></extra>",
         "legendgroup": "",
         "marker": {
          "color": {
           "bdata": "pHA9aiiYREHAyqHFv+lDQRyF66ExYEFBiOtR+FNRMEGI61H4U1EwQSCwcujdjCJB1qNwPRGzHkH4fmq8HRMdQUjhehQStxtBAAAAAABqGEE=",
           "dtype": "f8"
          },
          "coloraxis": "coloraxis",
          "pattern": {
           "shape": ""
          }
         },
         "name": "",
         "orientation": "h",
         "showlegend": false,
         "textposition": "auto",
         "type": "bar",
         "x": {
          "bdata": "pHA9aiiYREHAyqHFv+lDQRyF66ExYEFBiOtR+FNRMEGI61H4U1EwQSCwcujdjCJB1qNwPRGzHkH4fmq8HRMdQUjhehQStxtBAAAAAABqGEE=",
          "dtype": "f8"
         },
         "xaxis": "x",
         "y": [
          "3412-127",
          "3412",
          "3400",
          "7003",
          "7003-004",
          "7000",
          "2394",
          "2300",
          "3000",
          "6136-005"
         ],
         "yaxis": "y"
        }
       ],
       "layout": {
        "barmode": "relative",
        "coloraxis": {
         "colorbar": {
          "title": {
           "text": "VARIANCE ($)"
          }
         },
         "colorscale": [
          [
           0,
           "rgb(247,252,245)"
          ],
          [
           0.125,
           "rgb(229,245,224)"
          ],
          [
           0.25,
           "rgb(199,233,192)"
          ],
          [
           0.375,
           "rgb(161,217,155)"
          ],
          [
           0.5,
           "rgb(116,196,118)"
          ],
          [
           0.625,
           "rgb(65,171,93)"
          ],
          [
           0.75,
           "rgb(35,139,69)"
          ],
          [
           0.875,
           "rgb(0,109,44)"
          ],
          [
           1,
           "rgb(0,68,27)"
          ]
         ]
        },
        "height": 500,
        "legend": {
         "tracegroupgap": 0
        },
        "margin": {
         "t": 60
        },
        "template": {
         "data": {
          "bar": [
           {
            "error_x": {
             "color": "#2a3f5f"
            },
            "error_y": {
             "color": "#2a3f5f"
            },
            "marker": {
             "line": {
              "color": "#E5ECF6",
              "width": 0.5
             },
             "pattern": {
              "fillmode": "overlay",
              "size": 10,
              "solidity": 0.2
             }
            },
            "type": "bar"
           }
          ],
          "barpolar": [
           {
            "marker": {
             "line": {
              "color": "#E5ECF6",
              "width": 0.5
             },
             "pattern": {
              "fillmode": "overlay",
              "size": 10,
              "solidity": 0.2
             }
            },
            "type": "barpolar"
           }
          ],
          "carpet": [
           {
            "aaxis": {
             "endlinecolor": "#2a3f5f",
             "gridcolor": "white",
             "linecolor": "white",
             "minorgridcolor": "white",
             "startlinecolor": "#2a3f5f"
            },
            "baxis": {
             "endlinecolor": "#2a3f5f",
             "gridcolor": "white",
             "linecolor": "white",
             "minorgridcolor": "white",
             "startlinecolor": "#2a3f5f"
            },
            "type": "carpet"
           }
          ],
          "choropleth": [
           {
            "colorbar": {
             "outlinewidth": 0,
             "ticks": ""
            },
            "type": "choropleth"
           }
          ],
          "contour": [
           {
            "colorbar": {
             "outlinewidth": 0,
             "ticks": ""
            },
            "colorscale": [
             [
              0,
              "#0d0887"
             ],
             [
              0.1111111111111111,
              "#46039f"
             ],
             [
              0.2222222222222222,
              "#7201a8"
             ],
             [
              0.3333333333333333,
              "#9c179e"
             ],
             [
              0.4444444444444444,
              "#bd3786"
             ],
             [
              0.5555555555555556,
              "#d8576b"
             ],
             [
              0.6666666666666666,
              "#ed7953"
             ],
             [
              0.7777777777777778,
              "#fb9f3a"
             ],
             [
              0.8888888888888888,
              "#fdca26"
             ],
             [
              1,
              "#f0f921"
             ]
            ],
            "type": "contour"
           }
          ],
          "contourcarpet": [
           {
            "colorbar": {
             "outlinewidth": 0,
             "ticks": ""
            },
            "type": "contourcarpet"
           }
          ],
          "heatmap": [
           {
            "colorbar": {
             "outlinewidth": 0,
             "ticks": ""
            },
            "colorscale": [
             [
              0,
              "#0d0887"
             ],
             [
              0.1111111111111111,
              "#46039f"
             ],
             [
              0.2222222222222222,
              "#7201a8"
             ],
             [
              0.3333333333333333,
              "#9c179e"
             ],
             [
              0.4444444444444444,
              "#bd3786"
             ],
             [
              0.5555555555555556,
              "#d8576b"
             ],
             [
              0.6666666666666666,
              "#ed7953"
             ],
             [
              0.7777777777777778,
              "#fb9f3a"
             ],
             [
              0.8888888888888888,
              "#fdca26"
             ],
             [
              1,
              "#f0f921"
             ]
            ],
            "type": "heatmap"
           }
          ],
          "histogram": [
           {
            "marker": {
             "pattern": {
              "fillmode": "overlay",
              "size": 10,
              "solidity": 0.2
             }
            },
            "type": "histogram"
           }
          ],
          "histogram2d": [
           {
            "colorbar": {
             "outlinewidth": 0,
             "ticks": ""
            },
            "colorscale": [
             [
              0,
              "#0d0887"
             ],
             [
              0.1111111111111111,
              "#46039f"
             ],
             [
              0.2222222222222222,
              "#7201a8"
             ],
             [
              0.3333333333333333,
              "#9c179e"
             ],
             [
              0.4444444444444444,
              "#bd3786"
             ],
             [
              0.5555555555555556,
              "#d8576b"
             ],
             [
              0.6666666666666666,
              "#ed7953"
             ],
             [
              0.7777777777777778,
              "#fb9f3a"
             ],
             [
              0.8888888888888888,
              "#fdca26"
             ],
             [
              1,
              "#f0f921"
             ]
            ],
            "type": "histogram2d"
           }
          ],
          "histogram2dcontour": [
           {
            "colorbar": {
             "outlinewidth": 0,
             "ticks": ""
            },
            "colorscale": [
             [
              0,
              "#0d0887"
             ],
             [
              0.1111111111111111,
              "#46039f"
             ],
             [
              0.2222222222222222,
              "#7201a8"
             ],
             [
              0.3333333333333333,
              "#9c179e"
             ],
             [
              0.4444444444444444,
              "#bd3786"
             ],
             [
              0.5555555555555556,
              "#d8576b"
             ],
             [
              0.6666666666666666,
              "#ed7953"
             ],
             [
              0.7777777777777778,
              "#fb9f3a"
             ],
             [
              0.8888888888888888,
              "#fdca26"
             ],
             [
              1,
              "#f0f921"
             ]
            ],
            "type": "histogram2dcontour"
           }
          ],
          "mesh3d": [
           {
            "colorbar": {
             "outlinewidth": 0,
             "ticks": ""
            },
            "type": "mesh3d"
           }
          ],
          "parcoords": [
           {
            "line": {
             "colorbar": {
              "outlinewidth": 0,
              "ticks": ""
             }
            },
            "type": "parcoords"
           }
          ],
          "pie": [
           {
            "automargin": true,
            "type": "pie"
           }
          ],
          "scatter": [
           {
            "fillpattern": {
             "fillmode": "overlay",
             "size": 10,
             "solidity": 0.2
            },
            "type": "scatter"
           }
          ],
          "scatter3d": [
           {
            "line": {
             "colorbar": {
              "outlinewidth": 0,
              "ticks": ""
             }
            },
            "marker": {
             "colorbar": {
              "outlinewidth": 0,
              "ticks": ""
             }
            },
            "type": "scatter3d"
           }
          ],
          "scattercarpet": [
           {
            "marker": {
             "colorbar": {
              "outlinewidth": 0,
              "ticks": ""
             }
            },
            "type": "scattercarpet"
           }
          ],
          "scattergeo": [
           {
            "marker": {
             "colorbar": {
              "outlinewidth": 0,
              "ticks": ""
             }
            },
            "type": "scattergeo"
           }
          ],
          "scattergl": [
           {
            "marker": {
             "colorbar": {
              "outlinewidth": 0,
              "ticks": ""
             }
            },
            "type": "scattergl"
           }
          ],
          "scattermap": [
           {
            "marker": {
             "colorbar": {
              "outlinewidth": 0,
              "ticks": ""
             }
            },
            "type": "scattermap"
           }
          ],
          "scattermapbox": [
           {
            "marker": {
             "colorbar": {
              "outlinewidth": 0,
              "ticks": ""
             }
            },
            "type": "scattermapbox"
           }
          ],
          "scatterpolar": [
           {
            "marker": {
             "colorbar": {
              "outlinewidth": 0,
              "ticks": ""
             }
            },
            "type": "scatterpolar"
           }
          ],
          "scatterpolargl": [
           {
            "marker": {
             "colorbar": {
              "outlinewidth": 0,
              "ticks": ""
             }
            },
            "type": "scatterpolargl"
           }
          ],
          "scatterternary": [
           {
            "marker": {
             "colorbar": {
              "outlinewidth": 0,
              "ticks": ""
             }
            },
            "type": "scatterternary"
           }
          ],
          "surface": [
           {
            "colorbar": {
             "outlinewidth": 0,
             "ticks": ""
            },
            "colorscale": [
             [
              0,
              "#0d0887"
             ],
             [
              0.1111111111111111,
              "#46039f"
             ],
             [
              0.2222222222222222,
              "#7201a8"
             ],
             [
              0.3333333333333333,
              "#9c179e"
             ],
             [
              0.4444444444444444,
              "#bd3786"
             ],
             [
              0.5555555555555556,
              "#d8576b"
             ],
             [
              0.6666666666666666,
              "#ed7953"
             ],
             [
              0.7777777777777778,
              "#fb9f3a"
             ],
             [
              0.8888888888888888,
              "#fdca26"
             ],
             [
              1,
              "#f0f921"
             ]
            ],
            "type": "surface"
           }
          ],
          "table": [
           {
            "cells": {
             "fill": {
              "color": "#EBF0F8"
             },
             "line": {
              "color": "white"
             }
            },
            "header": {
             "fill": {
              "color": "#C8D4E3"
             },
             "line": {
              "color": "white"
             }
            },
            "type": "table"
           }
          ]
         },
         "layout": {
          "annotationdefaults": {
           "arrowcolor": "#2a3f5f",
           "arrowhead": 0,
           "arrowwidth": 1
          },
          "autotypenumbers": "strict",
          "coloraxis": {
           "colorbar": {
            "outlinewidth": 0,
            "ticks": ""
           }
          },
          "colorscale": {
           "diverging": [
            [
             0,
             "#8e0152"
            ],
            [
             0.1,
             "#c51b7d"
            ],
            [
             0.2,
             "#de77ae"
            ],
            [
             0.3,
             "#f1b6da"
            ],
            [
             0.4,
             "#fde0ef"
            ],
            [
             0.5,
             "#f7f7f7"
            ],
            [
             0.6,
             "#e6f5d0"
            ],
            [
             0.7,
             "#b8e186"
            ],
            [
             0.8,
             "#7fbc41"
            ],
            [
             0.9,
             "#4d9221"
            ],
            [
             1,
             "#276419"
            ]
           ],
           "sequential": [
            [
             0,
             "#0d0887"
            ],
            [
             0.1111111111111111,
             "#46039f"
            ],
            [
             0.2222222222222222,
             "#7201a8"
            ],
            [
             0.3333333333333333,
             "#9c179e"
            ],
            [
             0.4444444444444444,
             "#bd3786"
            ],
            [
             0.5555555555555556,
             "#d8576b"
            ],
            [
             0.6666666666666666,
             "#ed7953"
            ],
            [
             0.7777777777777778,
             "#fb9f3a"
            ],
            [
             0.8888888888888888,
             "#fdca26"
            ],
            [
             1,
             "#f0f921"
            ]
           ],
           "sequentialminus": [
            [
             0,
             "#0d0887"
            ],
            [
             0.1111111111111111,
             "#46039f"
            ],
            [
             0.2222222222222222,
             "#7201a8"
            ],
            [
             0.3333333333333333,
             "#9c179e"
            ],
            [
             0.4444444444444444,
             "#bd3786"
            ],
            [
             0.5555555555555556,
             "#d8576b"
            ],
            [
             0.6666666666666666,
             "#ed7953"
            ],
            [
             0.7777777777777778,
             "#fb9f3a"
            ],
            [
             0.8888888888888888,
             "#fdca26"
            ],
            [
             1,
             "#f0f921"
            ]
           ]
          },
          "colorway": [
           "#636efa",
           "#EF553B",
           "#00cc96",
           "#ab63fa",
           "#FFA15A",
           "#19d3f3",
           "#FF6692",
           "#B6E880",
           "#FF97FF",
           "#FECB52"
          ],
          "font": {
           "color": "#2a3f5f"
          },
          "geo": {
           "bgcolor": "white",
           "lakecolor": "white",
           "landcolor": "#E5ECF6",
           "showlakes": true,
           "showland": true,
           "subunitcolor": "white"
          },
          "hoverlabel": {
           "align": "left"
          },
          "hovermode": "closest",
          "mapbox": {
           "style": "light"
          },
          "paper_bgcolor": "white",
          "plot_bgcolor": "#E5ECF6",
          "polar": {
           "angularaxis": {
            "gridcolor": "white",
            "linecolor": "white",
            "ticks": ""
           },
           "bgcolor": "#E5ECF6",
           "radialaxis": {
            "gridcolor": "white",
            "linecolor": "white",
            "ticks": ""
           }
          },
          "scene": {
           "xaxis": {
            "backgroundcolor": "#E5ECF6",
            "gridcolor": "white",
            "gridwidth": 2,
            "linecolor": "white",
            "showbackground": true,
            "ticks": "",
            "zerolinecolor": "white"
           },
           "yaxis": {
            "backgroundcolor": "#E5ECF6",
            "gridcolor": "white",
            "gridwidth": 2,
            "linecolor": "white",
            "showbackground": true,
            "ticks": "",
            "zerolinecolor": "white"
           },
           "zaxis": {
            "backgroundcolor": "#E5ECF6",
            "gridcolor": "white",
            "gridwidth": 2,
            "linecolor": "white",
            "showbackground": true,
            "ticks": "",
            "zerolinecolor": "white"
           }
          },
          "shapedefaults": {
           "line": {
            "color": "#2a3f5f"
           }
          },
          "ternary": {
           "aaxis": {
            "gridcolor": "white",
            "linecolor": "white",
            "ticks": ""
           },
           "baxis": {
            "gridcolor": "white",
            "linecolor": "white",
            "ticks": ""
           },
           "bgcolor": "#E5ECF6",
           "caxis": {
            "gridcolor": "white",
            "linecolor": "white",
            "ticks": ""
           }
          },
          "title": {
           "x": 0.05
          },
          "xaxis": {
           "automargin": true,
           "gridcolor": "white",
           "linecolor": "white",
           "ticks": "",
           "title": {
            "standoff": 15
           },
           "zerolinecolor": "white",
           "zerolinewidth": 2
          },
          "yaxis": {
           "automargin": true,
           "gridcolor": "white",
           "linecolor": "white",
           "ticks": "",
           "title": {
            "standoff": 15
           },
           "zerolinecolor": "white",
           "zerolinewidth": 2
          }
         }
        },
        "title": {
         "font": {
          "size": 22
         },
         "text": "<b> Gráfico 6. Top 10 Cuentas con Mayor Ahorro</b>",
         "x": 0.5
        },
        "xaxis": {
         "anchor": "y",
         "domain": [
          0,
          1
         ],
         "title": {
          "text": "VARIANCE ($)"
         }
        },
        "yaxis": {
         "anchor": "x",
         "domain": [
          0,
          1
         ],
         "title": {
          "text": "Cuenta"
         }
        }
       }
      }
     },
     "metadata": {},
     "output_type": "display_data"
    }
   ],
   "source": [
    "ahorros = final_cost_report.sort_values(\"VARIANCE\", ascending=False).head(10)\n",
    "\n",
    "fig= px.bar(ahorros, x=\"VARIANCE\", y=\"ACCT\",labels={\"VARIANCE\": \"VARIANCE ($)\", \"ACCT\": \"Cuenta\"},color=\"VARIANCE\", color_continuous_scale=\"greens\", height=500)\n",
    "\n",
    "fig.update_layout(title={'text': \"<b> Gráfico 6. Top 10 Cuentas con Mayor Ahorro</b>\", 'x':0.5},title_font_size=22)\n",
    "\n",
    "fig.show()"
   ]
  },
  {
   "cell_type": "markdown",
   "id": "9da6d80f",
   "metadata": {},
   "source": [
    "Se muestran las 10 cuentas con mayor ahorro con respecto al presupuesto asignado. El objetivo principal es visualizar cuáles han tenido una ejecución presupuestal más baja, lo que puede indicar una mala gestión de recursos, un subejercicio o incluso una sobreestimación del presupuesto original."
   ]
  },
  {
   "cell_type": "code",
   "execution_count": 134,
   "id": "911bdff6",
   "metadata": {},
   "outputs": [
    {
     "data": {
      "application/vnd.plotly.v1+json": {
       "config": {
        "plotlyServerURL": "https://plot.ly"
       },
       "data": [
        {
         "domain": {
          "x": [
           0,
           1
          ],
          "y": [
           0,
           1
          ]
         },
         "hovertemplate": "CUENTA_GLOBAL=%{label}<br>COST TO DATE=%{value}<extra></extra>",
         "labels": [
          "7003",
          "1401",
          "1101",
          "3193",
          "1400",
          "7000",
          "3400",
          "3683",
          "1201",
          "3100",
          "1100",
          "3410",
          "1200",
          "3902",
          "3412",
          "3600",
          "2000",
          "6004",
          "3900",
          "2494",
          "2400",
          "5000",
          "1301",
          "6000",
          "2103",
          "5022",
          "1499",
          "1403",
          "2794",
          "2700",
          "4180",
          "5001",
          "7201",
          "1300",
          "3632"
         ],
         "legendgroup": "",
         "name": "",
         "showlegend": true,
         "type": "pie",
         "values": {
          "bdata": "KVyPOiwrdEFmZmZGZcxwQRSuRwGI0G9BXI/CFXKVbUHMzMxAEoNqQdV46aa0mGhBcT0K++hEaEGamZnZm/hmQaRwPZpuzmZBZmZm5vUdZkEpXI8CjTJjQaabxOAEqmJBH4XryffaYUGF61HoJTphQRsv3XT6SWBBI9v5tup8XUGHFtl+o0BbQRWuR4EW3FhB2/l+mk1yVkG9dJPIC3pVQbtJDMo8C1RBuB6Fu3emUkGkcD0KWKlQQQrXo0AHX1BBmpmZmQkoT0EAAAAAEIVKQe58P7VqLElB16NwfdrDRkHByqElXLZGQWDl0BINo0ZBLbKdjypNRkEAAAAAkr1EQVK4HoUIVkRBPgrXQ9VSREGLbOdb3EBEQQ==",
          "dtype": "f8"
         }
        }
       ],
       "layout": {
        "legend": {
         "tracegroupgap": 0
        },
        "template": {
         "data": {
          "bar": [
           {
            "error_x": {
             "color": "#2a3f5f"
            },
            "error_y": {
             "color": "#2a3f5f"
            },
            "marker": {
             "line": {
              "color": "#E5ECF6",
              "width": 0.5
             },
             "pattern": {
              "fillmode": "overlay",
              "size": 10,
              "solidity": 0.2
             }
            },
            "type": "bar"
           }
          ],
          "barpolar": [
           {
            "marker": {
             "line": {
              "color": "#E5ECF6",
              "width": 0.5
             },
             "pattern": {
              "fillmode": "overlay",
              "size": 10,
              "solidity": 0.2
             }
            },
            "type": "barpolar"
           }
          ],
          "carpet": [
           {
            "aaxis": {
             "endlinecolor": "#2a3f5f",
             "gridcolor": "white",
             "linecolor": "white",
             "minorgridcolor": "white",
             "startlinecolor": "#2a3f5f"
            },
            "baxis": {
             "endlinecolor": "#2a3f5f",
             "gridcolor": "white",
             "linecolor": "white",
             "minorgridcolor": "white",
             "startlinecolor": "#2a3f5f"
            },
            "type": "carpet"
           }
          ],
          "choropleth": [
           {
            "colorbar": {
             "outlinewidth": 0,
             "ticks": ""
            },
            "type": "choropleth"
           }
          ],
          "contour": [
           {
            "colorbar": {
             "outlinewidth": 0,
             "ticks": ""
            },
            "colorscale": [
             [
              0,
              "#0d0887"
             ],
             [
              0.1111111111111111,
              "#46039f"
             ],
             [
              0.2222222222222222,
              "#7201a8"
             ],
             [
              0.3333333333333333,
              "#9c179e"
             ],
             [
              0.4444444444444444,
              "#bd3786"
             ],
             [
              0.5555555555555556,
              "#d8576b"
             ],
             [
              0.6666666666666666,
              "#ed7953"
             ],
             [
              0.7777777777777778,
              "#fb9f3a"
             ],
             [
              0.8888888888888888,
              "#fdca26"
             ],
             [
              1,
              "#f0f921"
             ]
            ],
            "type": "contour"
           }
          ],
          "contourcarpet": [
           {
            "colorbar": {
             "outlinewidth": 0,
             "ticks": ""
            },
            "type": "contourcarpet"
           }
          ],
          "heatmap": [
           {
            "colorbar": {
             "outlinewidth": 0,
             "ticks": ""
            },
            "colorscale": [
             [
              0,
              "#0d0887"
             ],
             [
              0.1111111111111111,
              "#46039f"
             ],
             [
              0.2222222222222222,
              "#7201a8"
             ],
             [
              0.3333333333333333,
              "#9c179e"
             ],
             [
              0.4444444444444444,
              "#bd3786"
             ],
             [
              0.5555555555555556,
              "#d8576b"
             ],
             [
              0.6666666666666666,
              "#ed7953"
             ],
             [
              0.7777777777777778,
              "#fb9f3a"
             ],
             [
              0.8888888888888888,
              "#fdca26"
             ],
             [
              1,
              "#f0f921"
             ]
            ],
            "type": "heatmap"
           }
          ],
          "histogram": [
           {
            "marker": {
             "pattern": {
              "fillmode": "overlay",
              "size": 10,
              "solidity": 0.2
             }
            },
            "type": "histogram"
           }
          ],
          "histogram2d": [
           {
            "colorbar": {
             "outlinewidth": 0,
             "ticks": ""
            },
            "colorscale": [
             [
              0,
              "#0d0887"
             ],
             [
              0.1111111111111111,
              "#46039f"
             ],
             [
              0.2222222222222222,
              "#7201a8"
             ],
             [
              0.3333333333333333,
              "#9c179e"
             ],
             [
              0.4444444444444444,
              "#bd3786"
             ],
             [
              0.5555555555555556,
              "#d8576b"
             ],
             [
              0.6666666666666666,
              "#ed7953"
             ],
             [
              0.7777777777777778,
              "#fb9f3a"
             ],
             [
              0.8888888888888888,
              "#fdca26"
             ],
             [
              1,
              "#f0f921"
             ]
            ],
            "type": "histogram2d"
           }
          ],
          "histogram2dcontour": [
           {
            "colorbar": {
             "outlinewidth": 0,
             "ticks": ""
            },
            "colorscale": [
             [
              0,
              "#0d0887"
             ],
             [
              0.1111111111111111,
              "#46039f"
             ],
             [
              0.2222222222222222,
              "#7201a8"
             ],
             [
              0.3333333333333333,
              "#9c179e"
             ],
             [
              0.4444444444444444,
              "#bd3786"
             ],
             [
              0.5555555555555556,
              "#d8576b"
             ],
             [
              0.6666666666666666,
              "#ed7953"
             ],
             [
              0.7777777777777778,
              "#fb9f3a"
             ],
             [
              0.8888888888888888,
              "#fdca26"
             ],
             [
              1,
              "#f0f921"
             ]
            ],
            "type": "histogram2dcontour"
           }
          ],
          "mesh3d": [
           {
            "colorbar": {
             "outlinewidth": 0,
             "ticks": ""
            },
            "type": "mesh3d"
           }
          ],
          "parcoords": [
           {
            "line": {
             "colorbar": {
              "outlinewidth": 0,
              "ticks": ""
             }
            },
            "type": "parcoords"
           }
          ],
          "pie": [
           {
            "automargin": true,
            "type": "pie"
           }
          ],
          "scatter": [
           {
            "fillpattern": {
             "fillmode": "overlay",
             "size": 10,
             "solidity": 0.2
            },
            "type": "scatter"
           }
          ],
          "scatter3d": [
           {
            "line": {
             "colorbar": {
              "outlinewidth": 0,
              "ticks": ""
             }
            },
            "marker": {
             "colorbar": {
              "outlinewidth": 0,
              "ticks": ""
             }
            },
            "type": "scatter3d"
           }
          ],
          "scattercarpet": [
           {
            "marker": {
             "colorbar": {
              "outlinewidth": 0,
              "ticks": ""
             }
            },
            "type": "scattercarpet"
           }
          ],
          "scattergeo": [
           {
            "marker": {
             "colorbar": {
              "outlinewidth": 0,
              "ticks": ""
             }
            },
            "type": "scattergeo"
           }
          ],
          "scattergl": [
           {
            "marker": {
             "colorbar": {
              "outlinewidth": 0,
              "ticks": ""
             }
            },
            "type": "scattergl"
           }
          ],
          "scattermap": [
           {
            "marker": {
             "colorbar": {
              "outlinewidth": 0,
              "ticks": ""
             }
            },
            "type": "scattermap"
           }
          ],
          "scattermapbox": [
           {
            "marker": {
             "colorbar": {
              "outlinewidth": 0,
              "ticks": ""
             }
            },
            "type": "scattermapbox"
           }
          ],
          "scatterpolar": [
           {
            "marker": {
             "colorbar": {
              "outlinewidth": 0,
              "ticks": ""
             }
            },
            "type": "scatterpolar"
           }
          ],
          "scatterpolargl": [
           {
            "marker": {
             "colorbar": {
              "outlinewidth": 0,
              "ticks": ""
             }
            },
            "type": "scatterpolargl"
           }
          ],
          "scatterternary": [
           {
            "marker": {
             "colorbar": {
              "outlinewidth": 0,
              "ticks": ""
             }
            },
            "type": "scatterternary"
           }
          ],
          "surface": [
           {
            "colorbar": {
             "outlinewidth": 0,
             "ticks": ""
            },
            "colorscale": [
             [
              0,
              "#0d0887"
             ],
             [
              0.1111111111111111,
              "#46039f"
             ],
             [
              0.2222222222222222,
              "#7201a8"
             ],
             [
              0.3333333333333333,
              "#9c179e"
             ],
             [
              0.4444444444444444,
              "#bd3786"
             ],
             [
              0.5555555555555556,
              "#d8576b"
             ],
             [
              0.6666666666666666,
              "#ed7953"
             ],
             [
              0.7777777777777778,
              "#fb9f3a"
             ],
             [
              0.8888888888888888,
              "#fdca26"
             ],
             [
              1,
              "#f0f921"
             ]
            ],
            "type": "surface"
           }
          ],
          "table": [
           {
            "cells": {
             "fill": {
              "color": "#EBF0F8"
             },
             "line": {
              "color": "white"
             }
            },
            "header": {
             "fill": {
              "color": "#C8D4E3"
             },
             "line": {
              "color": "white"
             }
            },
            "type": "table"
           }
          ]
         },
         "layout": {
          "annotationdefaults": {
           "arrowcolor": "#2a3f5f",
           "arrowhead": 0,
           "arrowwidth": 1
          },
          "autotypenumbers": "strict",
          "coloraxis": {
           "colorbar": {
            "outlinewidth": 0,
            "ticks": ""
           }
          },
          "colorscale": {
           "diverging": [
            [
             0,
             "#8e0152"
            ],
            [
             0.1,
             "#c51b7d"
            ],
            [
             0.2,
             "#de77ae"
            ],
            [
             0.3,
             "#f1b6da"
            ],
            [
             0.4,
             "#fde0ef"
            ],
            [
             0.5,
             "#f7f7f7"
            ],
            [
             0.6,
             "#e6f5d0"
            ],
            [
             0.7,
             "#b8e186"
            ],
            [
             0.8,
             "#7fbc41"
            ],
            [
             0.9,
             "#4d9221"
            ],
            [
             1,
             "#276419"
            ]
           ],
           "sequential": [
            [
             0,
             "#0d0887"
            ],
            [
             0.1111111111111111,
             "#46039f"
            ],
            [
             0.2222222222222222,
             "#7201a8"
            ],
            [
             0.3333333333333333,
             "#9c179e"
            ],
            [
             0.4444444444444444,
             "#bd3786"
            ],
            [
             0.5555555555555556,
             "#d8576b"
            ],
            [
             0.6666666666666666,
             "#ed7953"
            ],
            [
             0.7777777777777778,
             "#fb9f3a"
            ],
            [
             0.8888888888888888,
             "#fdca26"
            ],
            [
             1,
             "#f0f921"
            ]
           ],
           "sequentialminus": [
            [
             0,
             "#0d0887"
            ],
            [
             0.1111111111111111,
             "#46039f"
            ],
            [
             0.2222222222222222,
             "#7201a8"
            ],
            [
             0.3333333333333333,
             "#9c179e"
            ],
            [
             0.4444444444444444,
             "#bd3786"
            ],
            [
             0.5555555555555556,
             "#d8576b"
            ],
            [
             0.6666666666666666,
             "#ed7953"
            ],
            [
             0.7777777777777778,
             "#fb9f3a"
            ],
            [
             0.8888888888888888,
             "#fdca26"
            ],
            [
             1,
             "#f0f921"
            ]
           ]
          },
          "colorway": [
           "#636efa",
           "#EF553B",
           "#00cc96",
           "#ab63fa",
           "#FFA15A",
           "#19d3f3",
           "#FF6692",
           "#B6E880",
           "#FF97FF",
           "#FECB52"
          ],
          "font": {
           "color": "#2a3f5f"
          },
          "geo": {
           "bgcolor": "white",
           "lakecolor": "white",
           "landcolor": "#E5ECF6",
           "showlakes": true,
           "showland": true,
           "subunitcolor": "white"
          },
          "hoverlabel": {
           "align": "left"
          },
          "hovermode": "closest",
          "mapbox": {
           "style": "light"
          },
          "paper_bgcolor": "white",
          "plot_bgcolor": "#E5ECF6",
          "polar": {
           "angularaxis": {
            "gridcolor": "white",
            "linecolor": "white",
            "ticks": ""
           },
           "bgcolor": "#E5ECF6",
           "radialaxis": {
            "gridcolor": "white",
            "linecolor": "white",
            "ticks": ""
           }
          },
          "scene": {
           "xaxis": {
            "backgroundcolor": "#E5ECF6",
            "gridcolor": "white",
            "gridwidth": 2,
            "linecolor": "white",
            "showbackground": true,
            "ticks": "",
            "zerolinecolor": "white"
           },
           "yaxis": {
            "backgroundcolor": "#E5ECF6",
            "gridcolor": "white",
            "gridwidth": 2,
            "linecolor": "white",
            "showbackground": true,
            "ticks": "",
            "zerolinecolor": "white"
           },
           "zaxis": {
            "backgroundcolor": "#E5ECF6",
            "gridcolor": "white",
            "gridwidth": 2,
            "linecolor": "white",
            "showbackground": true,
            "ticks": "",
            "zerolinecolor": "white"
           }
          },
          "shapedefaults": {
           "line": {
            "color": "#2a3f5f"
           }
          },
          "ternary": {
           "aaxis": {
            "gridcolor": "white",
            "linecolor": "white",
            "ticks": ""
           },
           "baxis": {
            "gridcolor": "white",
            "linecolor": "white",
            "ticks": ""
           },
           "bgcolor": "#E5ECF6",
           "caxis": {
            "gridcolor": "white",
            "linecolor": "white",
            "ticks": ""
           }
          },
          "title": {
           "x": 0.05
          },
          "xaxis": {
           "automargin": true,
           "gridcolor": "white",
           "linecolor": "white",
           "ticks": "",
           "title": {
            "standoff": 15
           },
           "zerolinecolor": "white",
           "zerolinewidth": 2
          },
          "yaxis": {
           "automargin": true,
           "gridcolor": "white",
           "linecolor": "white",
           "ticks": "",
           "title": {
            "standoff": 15
           },
           "zerolinecolor": "white",
           "zerolinewidth": 2
          }
         }
        },
        "title": {
         "font": {
          "size": 22
         },
         "text": "<b>Gráfico 7. Top 10 Cuentas Globales con Mayor Costo</b>",
         "x": 0.5
        }
       }
      }
     },
     "metadata": {},
     "output_type": "display_data"
    }
   ],
   "source": [
    "final_cost_report[\"CUENTA_GLOBAL\"] = final_cost_report[\"ACCT\"].astype(str).str.extract(r\"^(\\d{4})\")\n",
    "\n",
    "df_pie = final_cost_report.groupby(\"CUENTA_GLOBAL\", as_index=False)[\"COST TO DATE\"].sum().sort_values(\"COST TO DATE\", ascending=False).head(35)\n",
    "\n",
    "fig = px.pie(df_pie, names=\"CUENTA_GLOBAL\", values=\"COST TO DATE\",title=\"<b>Gráfico 7. Top 10 Cuentas Globales con Mayor Costo</b>\")\n",
    "\n",
    "fig.update_layout(title={'x':0.5}, title_font_size=22)\n",
    "fig.show()"
   ]
  },
  {
   "cell_type": "markdown",
   "id": "08c541f3",
   "metadata": {},
   "source": [
    "El gráfico 7 facilita la visualización y comparación del uso del presupuesto entre cuentas globales. Al ser interactiva, permite identificar qué cuentas representan los mayores porcentajes del gasto total.\n",
    "\n",
    "El usuario puede seleccionar cuentas específicas para analizar su peso relativo dentro del total, lo que resulta útil para detectar concentraciones de recursos, lo que también ayuda a tomar decisiones más informadas sobre la distribución presupuestal y posibles ajustes financieros."
   ]
  },
  {
   "cell_type": "code",
   "execution_count": 137,
   "id": "c40ba6b8",
   "metadata": {},
   "outputs": [
    {
     "data": {
      "application/vnd.plotly.v1+json": {
       "config": {
        "plotlyServerURL": "https://plot.ly"
       },
       "data": [
        {
         "hovertemplate": "<b>%{hovertext}</b><br><br>EFICIENCIA=Sobrecosto<br>BUDGET ($)=%{x}<br>COST TO DATE ($)=%{y}<br>VARIANCE=%{marker.size}<extra></extra>",
         "hovertext": [
          "1100",
          "1400",
          "2000",
          "2100",
          "2200",
          "2500",
          "2600",
          "3100",
          "3200",
          "3300",
          "3500",
          "3600",
          "3700",
          "4100",
          "5200",
          "6000",
          "1101",
          "1107",
          "1204",
          "1222",
          "1301",
          "1302",
          "1320",
          "1401",
          "1403",
          "1406",
          "1410",
          "1420",
          "1499",
          "1621",
          "2003",
          "2004",
          "2005",
          "2006",
          "2009",
          "2013",
          "2014",
          "2017",
          "2019",
          "2020",
          "2030",
          "2042",
          "2045",
          "2080",
          "2103",
          "2206",
          "2213",
          "2310",
          "2385",
          "2401",
          "2403",
          "2405",
          "2498",
          "2585",
          "2594",
          "2601",
          "2602",
          "2621",
          "2623",
          "2706",
          "2707",
          "2801",
          "2808",
          "3002",
          "3101",
          "3102",
          "3109",
          "3193",
          "3201",
          "3220",
          "3292",
          "3298",
          "3305",
          "3401",
          "3410",
          "3416",
          "3442",
          "3485",
          "3583",
          "3683",
          "3698",
          "3793",
          "3813",
          "3901",
          "3902",
          "3904",
          "4180",
          "5001",
          "5009",
          "5010",
          "5221",
          "6004",
          "6137",
          "7002",
          "7007",
          "7080",
          "7201",
          "7230",
          "1101-006",
          "1107-005",
          "1204-006",
          "1222-004",
          "1301-003",
          "1301-004",
          "1301-005",
          "1301-006",
          "1301-007",
          "1301-012",
          "1301-014",
          "1301-015",
          "1301-029",
          "1301-031",
          "1301-037",
          "1301-039",
          "1302-005",
          "1302-006",
          "1302-007",
          "1302-008",
          "1320-003",
          "1401-003",
          "1401-006",
          "1401-007",
          "1401-012",
          "1401-015",
          "1401-016",
          "1401-021",
          "1401-024",
          "1401-025",
          "1401-030",
          "1401-031",
          "1401-032",
          "1401-037",
          "1401-038",
          "1401-039",
          "1401-043",
          "1401-051",
          "1401-052",
          "1401-053",
          "1401-058",
          "1401-059",
          "1401-060",
          "1401-065",
          "1401-067",
          "1401-071",
          "1401-076",
          "1401-077",
          "1401-078",
          "1403-003",
          "1403-005",
          "1403-010",
          "1403-011",
          "1403-012",
          "1403-017",
          "1403-019",
          "1403-024",
          "1403-026",
          "1403-030",
          "1403-031",
          "1403-033",
          "1403-051",
          "1403-054",
          "1403-058",
          "1403-059",
          "1403-061",
          "1403-066",
          "1403-072",
          "1403-073",
          "1403-075",
          "1403-079",
          "1406-004",
          "1406-005",
          "1406-006",
          "1410-005",
          "1410-008",
          "1410-009",
          "1410-010",
          "1410-011",
          "1410-021",
          "1410-022",
          "1410-023",
          "1410-024",
          "1411-007",
          "1411-025",
          "1411-026",
          "1411-027",
          "1413-008",
          "1413-024",
          "1420-003",
          "1426-003",
          "1426-014",
          "1499-001",
          "1620-003",
          "1621-003",
          "1621-008",
          "1621-013",
          "1630-011",
          "1630-020",
          "1631-013",
          "1640-003",
          "1640-005",
          "1641-003",
          "1641-008",
          "1642-008",
          "1642-013",
          "2003-004",
          "2003-009",
          "2004-005",
          "2005-010",
          "2005-020",
          "2009-009",
          "2013-006",
          "2014-005",
          "2014-009",
          "2014-010",
          "2014-011",
          "2014-016",
          "2017-005",
          "2019-003",
          "2019-004",
          "2019-005",
          "2019-009",
          "2019-010",
          "2019-011",
          "2020-003",
          "2020-004",
          "2020-005",
          "2020-011",
          "2020-017",
          "2020-021",
          "2020-023",
          "2020-027",
          "2020-033",
          "2020-038",
          "2030-004",
          "2042-003",
          "2045-005",
          "2080-003",
          "2103-004",
          "2206-005",
          "2206-009",
          "2206-010",
          "2206-011",
          "2213-004",
          "2310-005",
          "2310-011",
          "2311-005",
          "2385-003",
          "2390-004",
          "2394-009",
          "2394-033",
          "2394-041",
          "2394-045",
          "2394-061",
          "2401-005",
          "2401-016",
          "2401-039",
          "2403-005",
          "2403-021",
          "2403-022",
          "2403-033",
          "2405-004",
          "2405-020",
          "2405-025",
          "2485-003",
          "2490-004",
          "2494-027",
          "2494-035",
          "2494-043",
          "2494-047",
          "2494-051",
          "2494-059",
          "2494-067",
          "2494-071",
          "2495-013",
          "2495-021",
          "2498-003",
          "2585-003",
          "2594-003",
          "2601-003",
          "2601-007",
          "2602-004",
          "2602-009",
          "2602-011",
          "2602-015",
          "2602-019",
          "2602-021",
          "2602-022",
          "2621-004",
          "2623-003",
          "2623-004",
          "2623-005",
          "2623-006",
          "2623-007",
          "2623-008",
          "2623-012",
          "2623-019",
          "2706-010",
          "2707-005",
          "2707-025",
          "2801-005",
          "2802-009",
          "2802-020",
          "2802-021",
          "2808-003",
          "3001-010",
          "3002-003",
          "3002-015",
          "3002-016",
          "3002-022",
          "3002-028",
          "3002-034",
          "3003-023",
          "3003-039",
          "3091-007",
          "3102-020",
          "3102-025",
          "3104-004",
          "3104-014",
          "3104-027",
          "3108-008",
          "3109-004",
          "3109-008",
          "3145-016",
          "3145-031",
          "3145-040",
          "3145-045",
          "3145-052",
          "3145-064",
          "3193-090",
          "3193-094",
          "3193-105",
          "3193-106",
          "3193-107",
          "3193-111",
          "3193-115",
          "3201-004",
          "3201-005",
          "3201-008",
          "3201-014",
          "3220-003",
          "3220-007",
          "3220-015",
          "3220-019",
          "3292-007",
          "3298-003",
          "3305-007",
          "3401-003",
          "3401-010",
          "3401-011",
          "3401-012",
          "3401-013",
          "3401-015",
          "3401-017",
          "3401-021",
          "3401-022",
          "3401-023",
          "3401-024",
          "3401-033",
          "3401-034",
          "3401-038",
          "3401-042",
          "3402-003",
          "3403-009",
          "3403-015",
          "3403-016",
          "3403-033",
          "3403-037",
          "3403-038",
          "3407-005",
          "3410-003",
          "3410-005",
          "3410-006",
          "3410-007",
          "3410-008",
          "3410-013",
          "3410-018",
          "3410-020",
          "3410-021",
          "3412-003",
          "3412-007",
          "3412-023",
          "3412-027",
          "3412-031",
          "3412-043",
          "3412-063",
          "3412-071",
          "3412-095",
          "3412-107",
          "3412-111",
          "3412-133",
          "3412-134",
          "3416-004",
          "3416-010",
          "3442-005",
          "3442-016",
          "3442-024",
          "3442-025",
          "3442-029",
          "3442-034",
          "3485-003",
          "3583-004",
          "3632-003",
          "3632-009",
          "3683-006",
          "3683-012",
          "3683-018",
          "3683-024",
          "3683-030",
          "3683-036",
          "3683-042",
          "3683-048",
          "3683-054",
          "3683-060",
          "3683-066",
          "3683-072",
          "3683-078",
          "3683-084",
          "3683-090",
          "3683-096",
          "3683-101",
          "3683-105",
          "3683-109",
          "3683-129",
          "3683-138",
          "3683-158",
          "3683-171",
          "3698-003",
          "3793-003",
          "3813-003",
          "3901-004",
          "3901-009",
          "3901-013",
          "3901-018",
          "3901-019",
          "3901-029",
          "3901-033",
          "3901-038",
          "3901-039",
          "3901-048",
          "3901-049",
          "3902-007",
          "3902-025",
          "3902-027",
          "3902-032",
          "3902-038",
          "3902-047",
          "3902-048",
          "3902-052",
          "3902-061",
          "3903-003",
          "3903-010",
          "3903-029",
          "3903-048",
          "3904-003",
          "3936-004",
          "4180-003",
          "5009-005",
          "5010-005",
          "5221-001",
          "6004-003",
          "6004-004",
          "6136-009",
          "6137-003",
          "7002-003",
          "7002-008",
          "7007-003",
          "7007-004",
          "7050-004",
          "7050-005",
          "7080-003",
          "7201-003",
          "7230-001",
          "7230-002",
          "7230-003",
          "7230-004",
          "7230-005"
         ],
         "legendgroup": "Sobrecosto",
         "marker": {
          "color": "red",
          "size": {
           "bdata": "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",
           "dtype": "f8"
          },
          "sizemode": "area",
          "sizeref": 749.8180083333334,
          "symbol": "circle"
         },
         "mode": "markers",
         "name": "Sobrecosto",
         "showlegend": true,
         "type": "scattergl",
         "x": {
          "bdata": "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",
          "dtype": "f8"
         },
         "xaxis": "x",
         "y": {
          "bdata": "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",
          "dtype": "f8"
         },
         "yaxis": "y"
        },
        {
         "hovertemplate": "<b>%{hovertext}</b><br><br>EFICIENCIA=Ahorro<br>BUDGET ($)=%{x}<br>COST TO DATE ($)=%{y}<br>VARIANCE=%{marker.size}<extra></extra>",
         "hovertext": [
          "1200",
          "1300",
          "1600",
          "2300",
          "2400",
          "2700",
          "2800",
          "2900",
          "3000",
          "3400",
          "3800",
          "3900",
          "5000",
          "5100",
          "5300",
          "5400",
          "6100",
          "7000",
          "7200",
          "1104",
          "1122",
          "1193",
          "1201",
          "1202",
          "1287",
          "1387",
          "1399",
          "1404",
          "1411",
          "1412",
          "1413",
          "1426",
          "1480",
          "1487",
          "1620",
          "1630",
          "1631",
          "1640",
          "1641",
          "1642",
          "1643",
          "1699",
          "2001",
          "2010",
          "2011",
          "2110",
          "2201",
          "2202",
          "2203",
          "2285",
          "2311",
          "2390",
          "2394",
          "2398",
          "2402",
          "2485",
          "2490",
          "2494",
          "2495",
          "2501",
          "2502",
          "2508",
          "2598",
          "2693",
          "2701",
          "2703",
          "2705",
          "2709",
          "2794",
          "2795",
          "2798",
          "2802",
          "2804",
          "2805",
          "2885",
          "2902",
          "2911",
          "2985",
          "2998",
          "3001",
          "3003",
          "3004",
          "3085",
          "3091",
          "3098",
          "3104",
          "3108",
          "3110",
          "3112",
          "3145",
          "3185",
          "3192",
          "3198",
          "3294",
          "3402",
          "3403",
          "3407",
          "3408",
          "3412",
          "3480",
          "3498",
          "3601",
          "3629",
          "3632",
          "3633",
          "3716",
          "3807",
          "3894",
          "3903",
          "3936",
          "3999",
          "5002",
          "5011",
          "5018",
          "5022",
          "5024",
          "5101",
          "5105",
          "5109",
          "5110",
          "5113",
          "5120",
          "5197",
          "5201",
          "5202",
          "5203",
          "5207",
          "5209",
          "5222",
          "5301",
          "5402",
          "6001",
          "6002",
          "6101",
          "6102",
          "6103",
          "6136",
          "6149",
          "7001",
          "7003",
          "7008",
          "7038",
          "7050",
          "7094",
          "7216",
          "7217",
          "1101-002",
          "1101-004",
          "1101-005",
          "1101-007",
          "1101-010",
          "1101-011",
          "1101-012",
          "1101-015",
          "1101-016",
          "1101-017",
          "1101-020",
          "1101-021",
          "1101-022",
          "1101-025",
          "1101-026",
          "1101-027",
          "1101-030",
          "1101-032",
          "1101-033",
          "1101-036",
          "1101-037",
          "1101-040",
          "1101-041",
          "1101-044",
          "1101-045",
          "1101-046",
          "1104-002",
          "1104-003",
          "1107-002",
          "1107-004",
          "1107-008",
          "1107-009",
          "1107-012",
          "1107-014",
          "1107-015",
          "1107-018",
          "1107-019",
          "1122-002",
          "1122-004",
          "1122-005",
          "1122-008",
          "1122-010",
          "1122-011",
          "1193-002",
          "1193-003",
          "1193-006",
          "1193-007",
          "1201-002",
          "1201-003",
          "1201-005",
          "1201-006",
          "1201-008",
          "1201-009",
          "1202-002",
          "1202-003",
          "1202-004",
          "1202-005",
          "1202-006",
          "1204-002",
          "1204-003",
          "1204-004",
          "1204-005",
          "1222-002",
          "1222-003",
          "1222-007",
          "1222-008",
          "1222-009",
          "1287-002",
          "1287-004",
          "1287-005",
          "1287-006",
          "1287-007",
          "1287-010",
          "1287-011",
          "1287-012",
          "1287-013",
          "1301-002",
          "1301-010",
          "1301-011",
          "1301-013",
          "1301-018",
          "1301-019",
          "1301-020",
          "1301-021",
          "1301-022",
          "1301-023",
          "1301-026",
          "1301-027",
          "1301-028",
          "1301-030",
          "1301-034",
          "1301-035",
          "1301-036",
          "1301-038",
          "1302-002",
          "1302-003",
          "1302-004",
          "1320-002",
          "1387-002",
          "1387-003",
          "1387-004",
          "1387-005",
          "1387-008",
          "1387-009",
          "1387-010",
          "1399-001",
          "1401-002",
          "1401-004",
          "1401-005",
          "1401-008",
          "1401-011",
          "1401-013",
          "1401-014",
          "1401-017",
          "1401-020",
          "1401-022",
          "1401-023",
          "1401-026",
          "1401-029",
          "1401-033",
          "1401-036",
          "1401-040",
          "1401-044",
          "1401-045",
          "1401-046",
          "1401-047",
          "1401-050",
          "1401-054",
          "1401-057",
          "1401-061",
          "1401-064",
          "1401-066",
          "1401-068",
          "1401-072",
          "1401-075",
          "1401-079",
          "1403-002",
          "1403-004",
          "1403-006",
          "1403-009",
          "1403-013",
          "1403-016",
          "1403-018",
          "1403-020",
          "1403-023",
          "1403-025",
          "1403-027",
          "1403-032",
          "1403-034",
          "1403-037",
          "1403-038",
          "1403-039",
          "1403-040",
          "1403-041",
          "1403-044",
          "1403-045",
          "1403-046",
          "1403-047",
          "1403-048",
          "1403-052",
          "1403-053",
          "1403-055",
          "1403-060",
          "1403-062",
          "1403-065",
          "1403-067",
          "1403-068",
          "1403-069",
          "1403-074",
          "1403-076",
          "1403-080",
          "1403-081",
          "1403-082",
          "1403-083",
          "1403-086",
          "1403-087",
          "1403-088",
          "1403-089",
          "1403-090",
          "1404-002",
          "1404-004",
          "1404-005",
          "1404-006",
          "1404-009",
          "1404-010",
          "1404-011",
          "1406-002",
          "1406-003",
          "1406-009",
          "1406-010",
          "1406-011",
          "1406-012",
          "1406-013",
          "1410-002",
          "1410-003",
          "1410-004",
          "1410-006",
          "1410-007",
          "1410-012",
          "1410-015",
          "1410-016",
          "1410-017",
          "1410-018",
          "1410-019",
          "1410-020",
          "1410-025",
          "1411-002",
          "1411-004",
          "1411-005",
          "1411-006",
          "1411-008",
          "1411-011",
          "1411-012",
          "1411-013",
          "1411-014",
          "1411-015",
          "1411-018",
          "1411-019",
          "1411-020",
          "1411-021",
          "1411-022",
          "1411-023",
          "1411-024",
          "1411-028",
          "1411-031",
          "1411-032",
          "1411-033",
          "1411-034",
          "1411-035",
          "1411-036",
          "1411-037",
          "1411-038",
          "1411-039",
          "1411-040",
          "1411-041",
          "1411-044",
          "1411-045",
          "1411-046",
          "1411-047",
          "1411-048",
          "1411-051",
          "1411-052",
          "1411-053",
          "1411-054",
          "1411-055",
          "1411-056",
          "1411-057",
          "1411-058",
          "1411-059",
          "1411-060",
          "1411-061",
          "1411-064",
          "1411-065",
          "1411-066",
          "1411-067",
          "1411-068",
          "1411-069",
          "1411-070",
          "1411-071",
          "1411-072",
          "1411-073",
          "1411-074",
          "1411-077",
          "1411-078",
          "1411-079",
          "1411-080",
          "1411-081",
          "1412-002",
          "1412-003",
          "1412-006",
          "1412-007",
          "1412-010",
          "1412-011",
          "1412-014",
          "1412-015",
          "1412-018",
          "1412-019",
          "1412-022",
          "1412-023",
          "1412-026",
          "1412-027",
          "1412-030",
          "1412-031",
          "1413-002",
          "1413-003",
          "1413-004",
          "1413-007",
          "1413-011",
          "1413-012",
          "1413-015",
          "1413-016",
          "1413-019",
          "1413-020",
          "1413-023",
          "1413-027",
          "1413-028",
          "1413-031",
          "1413-032",
          "1420-002",
          "1426-002",
          "1426-006",
          "1426-007",
          "1426-008",
          "1426-009",
          "1426-010",
          "1426-013",
          "1480-002",
          "1480-003",
          "1480-006",
          "1480-007",
          "1480-010",
          "1480-011",
          "1487-002",
          "1487-003",
          "1620-002",
          "1620-004",
          "1621-002",
          "1621-004",
          "1621-007",
          "1621-009",
          "1621-012",
          "1630-002",
          "1630-004",
          "1630-005",
          "1630-006",
          "1630-009",
          "1630-010",
          "1630-014",
          "1630-015",
          "1630-016",
          "1630-019",
          "1630-021",
          "1630-024",
          "1630-025",
          "1630-026",
          "1631-002",
          "1631-003",
          "1631-004",
          "1631-007",
          "1631-008",
          "1631-009",
          "1631-012",
          "1631-016",
          "1631-017",
          "1640-002",
          "1640-004",
          "1640-008",
          "1640-009",
          "1641-002",
          "1641-004",
          "1641-007",
          "1641-011",
          "1641-012",
          "1641-015",
          "1641-016",
          "1641-019",
          "1641-020",
          "1642-002",
          "1642-003",
          "1642-006",
          "1642-007",
          "1642-011",
          "1642-012",
          "1642-016",
          "1642-017",
          "1642-018",
          "1642-019",
          "1642-020",
          "1642-023",
          "1642-024",
          "1642-025",
          "1642-026",
          "1643-002",
          "1643-003",
          "1699-001",
          "2001-002",
          "2001-003",
          "2001-004",
          "2001-005",
          "2001-006",
          "2001-009",
          "2001-010",
          "2001-011",
          "2001-012",
          "2003-002",
          "2003-003",
          "2003-007",
          "2003-008",
          "2003-012",
          "2003-013",
          "2003-014",
          "2004-002",
          "2004-003",
          "2004-004",
          "2005-002",
          "2005-003",
          "2005-004",
          "2005-005",
          "2005-008",
          "2005-009",
          "2005-013",
          "2005-014",
          "2005-015",
          "2005-018",
          "2005-019",
          "2006-002",
          "2006-003",
          "2006-004",
          "2006-007",
          "2006-008",
          "2006-009",
          "2009-002",
          "2009-003",
          "2009-004",
          "2009-007",
          "2009-008",
          "2009-012",
          "2009-013",
          "2009-014",
          "2009-015",
          "2010-002",
          "2010-004",
          "2010-005",
          "2010-006",
          "2010-009",
          "2010-010",
          "2010-011",
          "2010-012",
          "2010-013",
          "2010-014",
          "2011-002",
          "2011-003",
          "2011-004",
          "2011-005",
          "2011-006",
          "2011-007",
          "2011-010",
          "2011-011",
          "2011-012",
          "2011-013",
          "2011-014",
          "2011-015",
          "2011-018",
          "2011-019",
          "2011-020",
          "2011-021",
          "2011-022",
          "2011-023",
          "2013-002",
          "2013-003",
          "2013-004",
          "2013-005",
          "2014-002",
          "2014-003",
          "2014-004",
          "2014-008",
          "2014-014",
          "2014-015",
          "2017-002",
          "2017-003",
          "2017-004",
          "2017-008",
          "2017-009",
          "2017-010",
          "2017-011",
          "2019-002",
          "2019-008",
          "2020-002",
          "2020-008",
          "2020-009",
          "2020-010",
          "2020-014",
          "2020-015",
          "2020-016",
          "2020-020",
          "2020-022",
          "2020-026",
          "2020-030",
          "2020-031",
          "2020-032",
          "2020-036",
          "2020-037",
          "2020-039",
          "2020-042",
          "2020-043",
          "2020-044",
          "2020-045",
          "2030-002",
          "2030-003",
          "2030-005",
          "2030-008",
          "2030-009",
          "2030-010",
          "2030-011",
          "2042-002",
          "2045-002",
          "2045-003",
          "2045-004",
          "2045-008",
          "2045-009",
          "2045-010",
          "2080-002",
          "2103-002",
          "2103-003",
          "2103-005",
          "2110-002",
          "2110-003",
          "2110-004",
          "2110-007",
          "2110-008",
          "2110-011",
          "2110-012",
          "2201-002",
          "2201-003",
          "2201-004",
          "2201-005",
          "2201-006",
          "2202-002",
          "2202-003",
          "2202-004",
          "2202-005",
          "2203-002",
          "2203-003",
          "2203-004",
          "2203-005",
          "2206-002",
          "2206-003",
          "2206-004",
          "2206-008",
          "2206-014",
          "2206-015",
          "2206-016",
          "2206-017",
          "2213-002",
          "2213-003",
          "2285-002",
          "2285-003",
          "2310-002",
          "2310-003",
          "2310-004",
          "2310-008",
          "2310-009",
          "2310-010",
          "2311-002",
          "2311-003",
          "2311-004",
          "2385-002",
          "2390-002",
          "2390-003",
          "2390-005",
          "2394-002",
          "2394-004",
          "2394-005",
          "2394-008",
          "2394-012",
          "2394-013",
          "2394-016",
          "2394-017",
          "2394-020",
          "2394-021",
          "2394-024",
          "2394-025",
          "2394-028",
          "2394-029",
          "2394-032",
          "2394-036",
          "2394-037",
          "2394-040",
          "2394-044",
          "2394-048",
          "2394-049",
          "2394-052",
          "2394-053",
          "2394-056",
          "2394-057",
          "2394-060",
          "2394-064",
          "2394-065",
          "2394-068",
          "2394-069",
          "2394-072",
          "2394-073",
          "2398-002",
          "2398-003",
          "2401-002",
          "2401-003",
          "2401-004",
          "2401-008",
          "2401-009",
          "2401-010",
          "2401-013",
          "2401-014",
          "2401-015",
          "2401-019",
          "2401-020",
          "2401-021",
          "2401-022",
          "2401-025",
          "2401-026",
          "2401-027",
          "2401-028",
          "2401-031",
          "2401-032",
          "2401-033",
          "2401-036",
          "2401-037",
          "2401-038",
          "2401-042",
          "2401-043",
          "2401-044",
          "2401-045",
          "2402-002",
          "2402-003",
          "2402-004",
          "2402-005",
          "2403-002",
          "2403-003",
          "2403-004",
          "2403-008",
          "2403-009",
          "2403-010",
          "2403-011",
          "2403-014",
          "2403-015",
          "2403-016",
          "2403-017",
          "2403-020",
          "2403-025",
          "2403-026",
          "2403-027",
          "2403-028",
          "2403-031",
          "2403-032",
          "2403-034",
          "2405-002",
          "2405-003",
          "2405-007",
          "2405-008",
          "2405-009",
          "2405-012",
          "2405-013",
          "2405-014",
          "2405-015",
          "2405-018",
          "2405-019",
          "2405-021",
          "2405-024",
          "2485-002",
          "2485-004",
          "2490-002",
          "2490-003",
          "2490-005",
          "2494-002",
          "2494-003",
          "2494-006",
          "2494-007",
          "2494-010",
          "2494-011",
          "2494-014",
          "2494-015",
          "2494-018",
          "2494-019",
          "2494-022",
          "2494-023",
          "2494-026",
          "2494-030",
          "2494-031",
          "2494-034",
          "2494-038",
          "2494-039",
          "2494-042",
          "2494-046",
          "2494-050",
          "2494-054",
          "2494-055",
          "2494-058",
          "2494-062",
          "2494-063",
          "2494-066",
          "2494-070",
          "2494-074",
          "2494-075",
          "2495-002",
          "2495-003",
          "2495-006",
          "2495-007",
          "2495-010",
          "2495-011",
          "2495-012",
          "2495-016",
          "2495-017",
          "2495-020",
          "2498-002",
          "2501-002",
          "2501-003",
          "2501-004",
          "2501-005",
          "2501-008",
          "2501-009",
          "2501-010",
          "2501-011",
          "2502-002",
          "2502-003",
          "2502-004",
          "2502-007",
          "2502-008",
          "2502-011",
          "2502-012",
          "2508-002",
          "2508-003",
          "2508-006",
          "2508-007",
          "2585-002",
          "2594-002",
          "2598-002",
          "2598-003",
          "2601-002",
          "2601-006",
          "2602-002",
          "2602-003",
          "2602-005",
          "2602-006",
          "2602-007",
          "2602-008",
          "2602-010",
          "2602-012",
          "2602-013",
          "2602-014",
          "2602-016",
          "2602-017",
          "2602-018",
          "2602-020",
          "2621-002",
          "2621-003",
          "2623-002",
          "2623-011",
          "2623-013",
          "2623-014",
          "2623-015",
          "2623-016",
          "2623-017",
          "2623-018",
          "2693-002",
          "2693-003",
          "2701-002",
          "2701-003",
          "2701-004",
          "2701-005",
          "2703-002",
          "2703-003",
          "2703-004",
          "2703-005",
          "2705-002",
          "2705-003",
          "2705-004",
          "2705-005",
          "2706-002",
          "2706-003",
          "2706-004",
          "2706-005",
          "2706-008",
          "2706-009",
          "2706-011",
          "2707-002",
          "2707-003",
          "2707-004",
          "2707-008",
          "2707-009",
          "2707-012",
          "2707-013",
          "2707-014",
          "2707-015",
          "2707-018",
          "2707-019",
          "2707-020",
          "2707-021",
          "2707-024",
          "2709-002",
          "2709-003",
          "2794-002",
          "2794-003",
          "2795-002",
          "2795-003",
          "2795-006",
          "2795-007",
          "2795-010",
          "2795-011",
          "2795-012",
          "2795-013",
          "2798-002",
          "2798-003",
          "2801-002",
          "2801-003",
          "2801-004",
          "2801-008",
          "2801-009",
          "2801-010",
          "2801-011",
          "2802-002",
          "2802-003",
          "2802-004",
          "2802-005",
          "2802-008",
          "2802-010",
          "2802-013",
          "2802-014",
          "2802-015",
          "2802-016",
          "2802-019",
          "2802-022",
          "2804-002",
          "2804-003",
          "2804-004",
          "2804-005",
          "2805-002",
          "2805-003",
          "2805-004",
          "2805-005",
          "2805-008",
          "2805-009",
          "2805-010",
          "2805-013",
          "2805-014",
          "2805-015",
          "2805-018",
          "2805-019",
          "2808-002",
          "2885-002",
          "2885-003",
          "2902-002",
          "2902-003",
          "2902-004",
          "2902-005",
          "2902-008",
          "2902-009",
          "2902-010",
          "2902-011",
          "2902-014",
          "2902-015",
          "2902-016",
          "2902-017",
          "2902-020",
          "2902-021",
          "2902-022",
          "2902-023",
          "2902-026",
          "2902-027",
          "2902-028",
          "2902-029",
          "2911-002",
          "2911-003",
          "2985-002",
          "2985-003",
          "2998-001",
          "2998-002",
          "2998-003",
          "3001-002",
          "3001-003",
          "3001-004",
          "3001-005",
          "3001-008",
          "3001-009",
          "3001-011",
          "3002-002",
          "3002-004",
          "3002-005",
          "3002-008",
          "3002-009",
          "3002-010",
          "3002-011",
          "3002-014",
          "3002-017",
          "3002-020",
          "3002-021",
          "3002-023",
          "3002-026",
          "3002-027",
          "3002-029",
          "3002-032",
          "3002-033",
          "3002-035",
          "3003-002",
          "3003-003",
          "3003-004",
          "3003-005",
          "3003-008",
          "3003-009",
          "3003-010",
          "3003-011",
          "3003-014",
          "3003-015",
          "3003-016",
          "3003-017",
          "3003-020",
          "3003-021",
          "3003-022",
          "3003-026",
          "3003-027",
          "3003-028",
          "3003-029",
          "3003-032",
          "3003-033",
          "3003-034",
          "3003-035",
          "3003-038",
          "3003-040",
          "3003-041",
          "3003-044",
          "3003-045",
          "3003-046",
          "3003-047",
          "3004-002",
          "3004-003",
          "3004-004",
          "3004-005",
          "3004-008",
          "3004-009",
          "3004-010",
          "3004-011",
          "3004-014",
          "3004-015",
          "3004-016",
          "3004-017",
          "3085-002",
          "3085-003",
          "3085-004",
          "3091-002",
          "3091-003",
          "3091-006",
          "3098-002",
          "3098-003",
          "3101-002",
          "3101-003",
          "3101-004",
          "3101-005",
          "3101-006",
          "3101-009",
          "3101-010",
          "3101-011",
          "3102-002",
          "3102-003",
          "3102-004",
          "3102-005",
          "3102-008",
          "3102-009",
          "3102-010",
          "3102-011",
          "3102-014",
          "3102-015",
          "3102-016",
          "3102-019",
          "3102-021",
          "3102-024",
          "3102-028",
          "3102-029",
          "3104-002",
          "3104-003",
          "3104-007",
          "3104-008",
          "3104-009",
          "3104-012",
          "3104-013",
          "3104-017",
          "3104-018",
          "3104-019",
          "3104-022",
          "3104-023",
          "3104-026",
          "3108-002",
          "3108-003",
          "3108-004",
          "3108-007",
          "3109-002",
          "3109-003",
          "3109-007",
          "3110-002",
          "3110-003",
          "3112-002",
          "3112-003",
          "3112-006",
          "3112-007",
          "3145-002",
          "3145-003",
          "3145-004",
          "3145-005",
          "3145-008",
          "3145-009",
          "3145-010",
          "3145-011",
          "3145-014",
          "3145-015",
          "3145-019",
          "3145-020",
          "3145-021",
          "3145-024",
          "3145-025",
          "3145-026",
          "3145-029",
          "3145-030",
          "3145-034",
          "3145-035",
          "3145-038",
          "3145-039",
          "3145-041",
          "3145-044",
          "3145-046",
          "3145-047",
          "3145-050",
          "3145-051",
          "3145-055",
          "3145-056",
          "3145-059",
          "3145-060",
          "3145-063",
          "3185-002",
          "3185-003",
          "3192-002",
          "3192-003",
          "3192-004",
          "3192-005",
          "3192-006",
          "3192-007",
          "3192-008",
          "3192-009",
          "3192-010",
          "3192-011",
          "3192-012",
          "3192-013",
          "3192-014",
          "3192-015",
          "3192-018",
          "3192-019",
          "3193-002",
          "3193-004",
          "3193-005",
          "3193-006",
          "3193-007",
          "3193-008",
          "3193-009",
          "3193-010",
          "3193-011",
          "3193-012",
          "3193-013",
          "3193-014",
          "3193-015",
          "3193-016",
          "3193-017",
          "3193-018",
          "3193-019",
          "3193-020",
          "3193-021",
          "3193-022",
          "3193-023",
          "3193-024",
          "3193-025",
          "3193-026",
          "3193-027",
          "3193-028",
          "3193-029",
          "3193-030",
          "3193-031",
          "3193-032",
          "3193-033",
          "3193-034",
          "3193-035",
          "3193-036",
          "3193-037",
          "3193-038",
          "3193-039",
          "3193-040",
          "3193-041",
          "3193-044",
          "3193-045",
          "3193-048",
          "3193-049",
          "3193-050",
          "3193-051",
          "3193-052",
          "3193-053",
          "3193-054",
          "3193-055",
          "3193-056",
          "3193-057",
          "3193-058",
          "3193-059",
          "3193-060",
          "3193-061",
          "3193-062",
          "3193-063",
          "3193-064",
          "3193-065",
          "3193-066",
          "3193-067",
          "3193-068",
          "3193-069",
          "3193-070",
          "3193-071",
          "3193-072",
          "3193-073",
          "3193-074",
          "3193-075",
          "3193-076",
          "3193-077",
          "3193-078",
          "3193-079",
          "3193-080",
          "3193-081",
          "3193-082",
          "3193-085",
          "3193-086",
          "3193-089",
          "3193-093",
          "3193-097",
          "3193-098",
          "3193-099",
          "3193-100",
          "3193-101",
          "3193-102",
          "3193-103",
          "3193-104",
          "3193-110",
          "3193-114",
          "3198-002",
          "3198-003",
          "3201-002",
          "3201-003",
          "3201-006",
          "3201-007",
          "3201-011",
          "3201-012",
          "3201-013",
          "3201-015",
          "3220-002",
          "3220-006",
          "3220-010",
          "3220-011",
          "3220-014",
          "3220-018",
          "3220-020",
          "3292-002",
          "3292-003",
          "3292-006",
          "3294-002",
          "3294-003",
          "3298-002",
          "3305-002",
          "3305-003",
          "3305-004",
          "3305-005",
          "3305-006",
          "3305-010",
          "3305-011",
          "3401-002",
          "3401-004",
          "3401-005",
          "3401-008",
          "3401-009",
          "3401-014",
          "3401-016",
          "3401-020",
          "3401-025",
          "3401-026",
          "3401-027",
          "3401-030",
          "3401-031",
          "3401-032",
          "3401-035",
          "3401-036",
          "3401-037",
          "3401-041",
          "3402-002",
          "3402-004",
          "3402-005",
          "3402-006",
          "3403-002",
          "3403-003",
          "3403-004",
          "3403-005",
          "3403-008",
          "3403-010",
          "3403-011",
          "3403-014",
          "3403-019",
          "3403-020",
          "3403-023",
          "3403-024",
          "3403-025",
          "3403-028",
          "3403-029",
          "3403-032",
          "3403-036",
          "3407-002",
          "3407-004",
          "3407-006",
          "3407-007",
          "3407-010",
          "3407-011",
          "3407-012",
          "3407-013",
          "3408-002",
          "3408-003",
          "3410-002",
          "3410-004",
          "3410-011",
          "3410-012",
          "3410-016",
          "3410-017",
          "3410-019",
          "3410-022",
          "3412-002",
          "3412-006",
          "3412-010",
          "3412-011",
          "3412-014",
          "3412-015",
          "3412-018",
          "3412-019",
          "3412-022",
          "3412-026",
          "3412-030",
          "3412-034",
          "3412-035",
          "3412-038",
          "3412-039",
          "3412-042",
          "3412-046",
          "3412-047",
          "3412-050",
          "3412-051",
          "3412-054",
          "3412-055",
          "3412-058",
          "3412-059",
          "3412-062",
          "3412-066",
          "3412-067",
          "3412-070",
          "3412-074",
          "3412-075",
          "3412-078",
          "3412-079",
          "3412-082",
          "3412-083",
          "3412-086",
          "3412-087",
          "3412-090",
          "3412-091",
          "3412-094",
          "3412-098",
          "3412-099",
          "3412-102",
          "3412-103",
          "3412-106",
          "3412-110",
          "3412-114",
          "3412-115",
          "3412-118",
          "3412-119",
          "3412-122",
          "3412-123",
          "3412-126",
          "3412-127",
          "3412-130",
          "3412-131",
          "3412-132",
          "3412-137",
          "3412-138",
          "3412-139",
          "3416-002",
          "3416-003",
          "3416-005",
          "3416-008",
          "3416-009",
          "3416-011",
          "3416-014",
          "3416-015",
          "3442-002",
          "3442-004",
          "3442-006",
          "3442-007",
          "3442-010",
          "3442-011",
          "3442-014",
          "3442-015",
          "3442-019",
          "3442-020",
          "3442-023",
          "3442-028",
          "3442-032",
          "3442-033",
          "3442-037",
          "3442-038",
          "3480-002",
          "3480-003",
          "3480-006",
          "3480-007",
          "3480-010",
          "3480-011",
          "3485-002",
          "3498-002",
          "3498-003",
          "3583-002",
          "3583-003",
          "3601-002",
          "3601-003",
          "3601-004",
          "3601-005",
          "3601-008",
          "3601-009",
          "3601-010",
          "3601-011",
          "3629-002",
          "3629-003",
          "3629-004",
          "3632-002",
          "3632-004",
          "3632-007",
          "3632-008",
          "3632-012",
          "3632-013",
          "3632-014",
          "3632-017",
          "3632-018",
          "3632-019",
          "3633-002",
          "3633-003",
          "3633-006",
          "3633-007",
          "3683-002",
          "3683-004",
          "3683-005",
          "3683-007",
          "3683-010",
          "3683-011",
          "3683-013",
          "3683-016",
          "3683-017",
          "3683-019",
          "3683-022",
          "3683-023",
          "3683-025",
          "3683-028",
          "3683-029",
          "3683-031",
          "3683-034",
          "3683-035",
          "3683-037",
          "3683-040",
          "3683-041",
          "3683-043",
          "3683-046",
          "3683-047",
          "3683-049",
          "3683-052",
          "3683-053",
          "3683-055",
          "3683-058",
          "3683-059",
          "3683-061",
          "3683-064",
          "3683-065",
          "3683-067",
          "3683-070",
          "3683-071",
          "3683-073",
          "3683-076",
          "3683-077",
          "3683-079",
          "3683-082",
          "3683-083",
          "3683-085",
          "3683-088",
          "3683-089",
          "3683-091",
          "3683-094",
          "3683-095",
          "3683-097",
          "3683-100",
          "3683-104",
          "3683-108",
          "3683-112",
          "3683-113",
          "3683-116",
          "3683-117",
          "3683-118",
          "3683-119",
          "3683-122",
          "3683-123",
          "3683-126",
          "3683-127",
          "3683-128",
          "3683-132",
          "3683-134",
          "3683-136",
          "3683-137",
          "3683-141",
          "3683-142",
          "3683-143",
          "3683-144",
          "3683-147",
          "3683-148",
          "3683-149",
          "3683-150",
          "3683-153",
          "3683-154",
          "3683-157",
          "3683-161",
          "3683-162",
          "3683-165",
          "3683-166",
          "3683-169",
          "3683-170",
          "3683-172",
          "3683-175",
          "3683-176",
          "3683-179",
          "3683-180",
          "3683-181",
          "3683-182",
          "3683-185",
          "3683-186",
          "3683-187",
          "3683-188",
          "3683-191",
          "3683-192",
          "3683-193",
          "3683-194",
          "3683-197",
          "3683-198",
          "3683-199",
          "3683-200",
          "3698-002",
          "3716-002",
          "3716-003",
          "3793-002",
          "3807-002",
          "3807-003",
          "3807-006",
          "3807-007",
          "3807-010",
          "3807-011",
          "3807-012",
          "3813-002",
          "3894-002",
          "3894-003",
          "3894-006",
          "3894-007",
          "3901-002",
          "3901-003",
          "3901-007",
          "3901-008",
          "3901-012",
          "3901-014",
          "3901-017",
          "3901-022",
          "3901-023",
          "3901-024",
          "3901-027",
          "3901-028",
          "3901-032",
          "3901-034",
          "3901-037",
          "3901-042",
          "3901-043",
          "3901-044",
          "3901-047",
          "3902-002",
          "3902-003",
          "3902-006",
          "3902-008",
          "3902-009",
          "3902-012",
          "3902-013",
          "3902-014",
          "3902-015",
          "3902-018",
          "3902-019",
          "3902-020",
          "3902-021",
          "3902-024",
          "3902-026",
          "3902-030",
          "3902-031",
          "3902-033",
          "3902-036",
          "3902-037",
          "3902-039",
          "3902-042",
          "3902-043",
          "3902-044",
          "3902-051",
          "3902-055",
          "3902-056",
          "3902-057",
          "3902-060",
          "3902-064",
          "3902-065",
          "3903-002",
          "3903-004",
          "3903-005",
          "3903-006",
          "3903-009",
          "3903-011",
          "3903-012",
          "3903-015",
          "3903-016",
          "3903-017",
          "3903-018",
          "3903-021",
          "3903-022",
          "3903-023",
          "3903-024",
          "3903-027",
          "3903-028",
          "3903-030",
          "3903-033",
          "3903-034",
          "3903-035",
          "3903-036",
          "3903-039",
          "3903-040",
          "3903-041",
          "3903-042",
          "3903-045",
          "3903-046",
          "3903-047",
          "3903-051",
          "3903-052",
          "3904-002",
          "3936-002",
          "3936-003",
          "3936-007",
          "3936-008",
          "3936-009",
          "3936-012",
          "3936-013",
          "3936-014",
          "3936-017",
          "3936-018",
          "3936-019",
          "3999-001",
          "4180-002",
          "5001-002",
          "5001-003",
          "5001-004",
          "5001-007",
          "5001-008",
          "5001-011",
          "5001-012",
          "5001-015",
          "5001-016",
          "5001-019",
          "5001-021",
          "5001-022",
          "5002-002",
          "5002-003",
          "5002-006",
          "5002-007",
          "5002-010",
          "5002-011",
          "5009-002",
          "5009-003",
          "5009-004",
          "5010-002",
          "5010-003",
          "5010-004",
          "5011-002",
          "5011-003",
          "5011-004",
          "5011-007",
          "5011-009",
          "5011-010",
          "5018-002",
          "5018-003",
          "5018-006",
          "5018-007",
          "5018-008",
          "5022-002",
          "5022-004",
          "5022-005",
          "5022-008",
          "5022-009",
          "5022-010",
          "5022-013",
          "5022-014",
          "5022-017",
          "5022-018",
          "5022-019",
          "5022-022",
          "5022-023",
          "5022-026",
          "5022-027",
          "5022-030",
          "5022-031",
          "5022-034",
          "5022-035",
          "5022-038",
          "5022-039",
          "5022-042",
          "5022-043",
          "5022-046",
          "5022-048",
          "5022-049",
          "5022-052",
          "5022-053",
          "5024-002",
          "5024-003",
          "5101-002",
          "5101-003",
          "5101-006",
          "5101-007",
          "5101-010",
          "5101-011",
          "5105-002",
          "5105-003",
          "5105-004",
          "5105-007",
          "5105-008",
          "5105-011",
          "5105-012",
          "5109-002",
          "5109-003",
          "5110-002",
          "5110-003",
          "5110-004",
          "5113-002",
          "5113-003",
          "5120-002",
          "5120-003",
          "5197-002",
          "5197-003",
          "5201-002",
          "5201-003",
          "5201-006",
          "5201-007",
          "5201-008",
          "5201-011",
          "5201-012",
          "5201-013",
          "5201-016",
          "5201-017",
          "5201-020",
          "5201-021",
          "5201-022",
          "5201-025",
          "5201-026",
          "5201-029",
          "5201-030",
          "5202-002",
          "5202-003",
          "5202-006",
          "5202-007",
          "5202-008",
          "5203-002",
          "5203-003",
          "5207-002",
          "5207-003",
          "5207-006",
          "5207-007",
          "5207-008",
          "5209-002",
          "5209-003",
          "5222-002",
          "5222-003",
          "5222-004",
          "5222-005",
          "5222-006",
          "5222-007",
          "5222-008",
          "5222-009",
          "5222-012",
          "5222-014",
          "5222-015",
          "5301-002",
          "5301-003",
          "5402-002",
          "5402-003",
          "6001-002",
          "6001-003",
          "6001-004",
          "6001-005",
          "6002-002",
          "6002-003",
          "6002-004",
          "6004-002",
          "6004-005",
          "6101-002",
          "6101-003",
          "6101-006",
          "6101-007",
          "6101-008",
          "6101-009",
          "6101-012",
          "6101-013",
          "6102-002",
          "6102-003",
          "6103-002",
          "6103-003",
          "6136-002",
          "6136-004",
          "6136-005",
          "6136-008",
          "6136-010",
          "6136-013",
          "6136-014",
          "6136-017",
          "6136-019",
          "6136-020",
          "6136-021",
          "6136-022",
          "6136-023",
          "6136-024",
          "6136-025",
          "6136-026",
          "6136-027",
          "6136-028",
          "6136-029",
          "6136-030",
          "6136-031",
          "6136-034",
          "6136-035",
          "6136-036",
          "6136-037",
          "6136-038",
          "6136-039",
          "6136-040",
          "6136-041",
          "6136-042",
          "6136-043",
          "6136-044",
          "6136-045",
          "6136-048",
          "6136-049",
          "6136-050",
          "6136-051",
          "6136-052",
          "6136-053",
          "6136-054",
          "6136-055",
          "6136-056",
          "6136-057",
          "6136-058",
          "6136-059",
          "6136-060",
          "6136-061",
          "6136-062",
          "6136-063",
          "6136-064",
          "6136-065",
          "6136-066",
          "6136-069",
          "6136-070",
          "6136-071",
          "6136-072",
          "6136-073",
          "6136-074",
          "6136-075",
          "6136-078",
          "6136-079",
          "6136-080",
          "6136-081",
          "6136-082",
          "6136-083",
          "6136-084",
          "6136-085",
          "6136-086",
          "6136-087",
          "6136-090",
          "6136-091",
          "6136-092",
          "6136-093",
          "6136-094",
          "6136-095",
          "6136-096",
          "6136-097",
          "6136-100",
          "6136-101",
          "6136-102",
          "6136-103",
          "6136-104",
          "6136-105",
          "6136-106",
          "6136-107",
          "6136-110",
          "6136-111",
          "6136-112",
          "6136-113",
          "6136-114",
          "6136-115",
          "6136-116",
          "6136-117",
          "6136-118",
          "6137-002",
          "6149-002",
          "6149-003",
          "7001-002",
          "7001-003",
          "7001-004",
          "7001-005",
          "7001-006",
          "7001-007",
          "7002-002",
          "7002-006",
          "7002-007",
          "7003-002",
          "7003-003",
          "7003-004",
          "7007-002",
          "7007-005",
          "7007-008",
          "7007-009",
          "7008-002",
          "7008-003",
          "7038-002",
          "7038-003",
          "7038-004",
          "7038-007",
          "7038-008",
          "7038-009",
          "7050-002",
          "7050-003",
          "7080-002",
          "7094-002",
          "7094-003",
          "7201-002",
          "7201-006",
          "7201-007",
          "7216-002",
          "7216-003",
          "7217-002",
          "7217-003",
          "7217-004",
          "7217-005"
         ],
         "legendgroup": "Ahorro",
         "marker": {
          "color": "green",
          "size": {
           "bdata": "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",
           "dtype": "f8"
          },
          "sizemode": "area",
          "sizeref": 749.8180083333334,
          "symbol": "circle"
         },
         "mode": "markers",
         "name": "Ahorro",
         "showlegend": true,
         "type": "scattergl",
         "x": {
          "bdata": "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",
          "dtype": "f8"
         },
         "xaxis": "x",
         "y": {
          "bdata": "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",
          "dtype": "f8"
         },
         "yaxis": "y"
        }
       ],
       "layout": {
        "height": 600,
        "legend": {
         "itemsizing": "constant",
         "title": {
          "text": "EFICIENCIA"
         },
         "tracegroupgap": 0
        },
        "template": {
         "data": {
          "bar": [
           {
            "error_x": {
             "color": "#2a3f5f"
            },
            "error_y": {
             "color": "#2a3f5f"
            },
            "marker": {
             "line": {
              "color": "#E5ECF6",
              "width": 0.5
             },
             "pattern": {
              "fillmode": "overlay",
              "size": 10,
              "solidity": 0.2
             }
            },
            "type": "bar"
           }
          ],
          "barpolar": [
           {
            "marker": {
             "line": {
              "color": "#E5ECF6",
              "width": 0.5
             },
             "pattern": {
              "fillmode": "overlay",
              "size": 10,
              "solidity": 0.2
             }
            },
            "type": "barpolar"
           }
          ],
          "carpet": [
           {
            "aaxis": {
             "endlinecolor": "#2a3f5f",
             "gridcolor": "white",
             "linecolor": "white",
             "minorgridcolor": "white",
             "startlinecolor": "#2a3f5f"
            },
            "baxis": {
             "endlinecolor": "#2a3f5f",
             "gridcolor": "white",
             "linecolor": "white",
             "minorgridcolor": "white",
             "startlinecolor": "#2a3f5f"
            },
            "type": "carpet"
           }
          ],
          "choropleth": [
           {
            "colorbar": {
             "outlinewidth": 0,
             "ticks": ""
            },
            "type": "choropleth"
           }
          ],
          "contour": [
           {
            "colorbar": {
             "outlinewidth": 0,
             "ticks": ""
            },
            "colorscale": [
             [
              0,
              "#0d0887"
             ],
             [
              0.1111111111111111,
              "#46039f"
             ],
             [
              0.2222222222222222,
              "#7201a8"
             ],
             [
              0.3333333333333333,
              "#9c179e"
             ],
             [
              0.4444444444444444,
              "#bd3786"
             ],
             [
              0.5555555555555556,
              "#d8576b"
             ],
             [
              0.6666666666666666,
              "#ed7953"
             ],
             [
              0.7777777777777778,
              "#fb9f3a"
             ],
             [
              0.8888888888888888,
              "#fdca26"
             ],
             [
              1,
              "#f0f921"
             ]
            ],
            "type": "contour"
           }
          ],
          "contourcarpet": [
           {
            "colorbar": {
             "outlinewidth": 0,
             "ticks": ""
            },
            "type": "contourcarpet"
           }
          ],
          "heatmap": [
           {
            "colorbar": {
             "outlinewidth": 0,
             "ticks": ""
            },
            "colorscale": [
             [
              0,
              "#0d0887"
             ],
             [
              0.1111111111111111,
              "#46039f"
             ],
             [
              0.2222222222222222,
              "#7201a8"
             ],
             [
              0.3333333333333333,
              "#9c179e"
             ],
             [
              0.4444444444444444,
              "#bd3786"
             ],
             [
              0.5555555555555556,
              "#d8576b"
             ],
             [
              0.6666666666666666,
              "#ed7953"
             ],
             [
              0.7777777777777778,
              "#fb9f3a"
             ],
             [
              0.8888888888888888,
              "#fdca26"
             ],
             [
              1,
              "#f0f921"
             ]
            ],
            "type": "heatmap"
           }
          ],
          "histogram": [
           {
            "marker": {
             "pattern": {
              "fillmode": "overlay",
              "size": 10,
              "solidity": 0.2
             }
            },
            "type": "histogram"
           }
          ],
          "histogram2d": [
           {
            "colorbar": {
             "outlinewidth": 0,
             "ticks": ""
            },
            "colorscale": [
             [
              0,
              "#0d0887"
             ],
             [
              0.1111111111111111,
              "#46039f"
             ],
             [
              0.2222222222222222,
              "#7201a8"
             ],
             [
              0.3333333333333333,
              "#9c179e"
             ],
             [
              0.4444444444444444,
              "#bd3786"
             ],
             [
              0.5555555555555556,
              "#d8576b"
             ],
             [
              0.6666666666666666,
              "#ed7953"
             ],
             [
              0.7777777777777778,
              "#fb9f3a"
             ],
             [
              0.8888888888888888,
              "#fdca26"
             ],
             [
              1,
              "#f0f921"
             ]
            ],
            "type": "histogram2d"
           }
          ],
          "histogram2dcontour": [
           {
            "colorbar": {
             "outlinewidth": 0,
             "ticks": ""
            },
            "colorscale": [
             [
              0,
              "#0d0887"
             ],
             [
              0.1111111111111111,
              "#46039f"
             ],
             [
              0.2222222222222222,
              "#7201a8"
             ],
             [
              0.3333333333333333,
              "#9c179e"
             ],
             [
              0.4444444444444444,
              "#bd3786"
             ],
             [
              0.5555555555555556,
              "#d8576b"
             ],
             [
              0.6666666666666666,
              "#ed7953"
             ],
             [
              0.7777777777777778,
              "#fb9f3a"
             ],
             [
              0.8888888888888888,
              "#fdca26"
             ],
             [
              1,
              "#f0f921"
             ]
            ],
            "type": "histogram2dcontour"
           }
          ],
          "mesh3d": [
           {
            "colorbar": {
             "outlinewidth": 0,
             "ticks": ""
            },
            "type": "mesh3d"
           }
          ],
          "parcoords": [
           {
            "line": {
             "colorbar": {
              "outlinewidth": 0,
              "ticks": ""
             }
            },
            "type": "parcoords"
           }
          ],
          "pie": [
           {
            "automargin": true,
            "type": "pie"
           }
          ],
          "scatter": [
           {
            "fillpattern": {
             "fillmode": "overlay",
             "size": 10,
             "solidity": 0.2
            },
            "type": "scatter"
           }
          ],
          "scatter3d": [
           {
            "line": {
             "colorbar": {
              "outlinewidth": 0,
              "ticks": ""
             }
            },
            "marker": {
             "colorbar": {
              "outlinewidth": 0,
              "ticks": ""
             }
            },
            "type": "scatter3d"
           }
          ],
          "scattercarpet": [
           {
            "marker": {
             "colorbar": {
              "outlinewidth": 0,
              "ticks": ""
             }
            },
            "type": "scattercarpet"
           }
          ],
          "scattergeo": [
           {
            "marker": {
             "colorbar": {
              "outlinewidth": 0,
              "ticks": ""
             }
            },
            "type": "scattergeo"
           }
          ],
          "scattergl": [
           {
            "marker": {
             "colorbar": {
              "outlinewidth": 0,
              "ticks": ""
             }
            },
            "type": "scattergl"
           }
          ],
          "scattermap": [
           {
            "marker": {
             "colorbar": {
              "outlinewidth": 0,
              "ticks": ""
             }
            },
            "type": "scattermap"
           }
          ],
          "scattermapbox": [
           {
            "marker": {
             "colorbar": {
              "outlinewidth": 0,
              "ticks": ""
             }
            },
            "type": "scattermapbox"
           }
          ],
          "scatterpolar": [
           {
            "marker": {
             "colorbar": {
              "outlinewidth": 0,
              "ticks": ""
             }
            },
            "type": "scatterpolar"
           }
          ],
          "scatterpolargl": [
           {
            "marker": {
             "colorbar": {
              "outlinewidth": 0,
              "ticks": ""
             }
            },
            "type": "scatterpolargl"
           }
          ],
          "scatterternary": [
           {
            "marker": {
             "colorbar": {
              "outlinewidth": 0,
              "ticks": ""
             }
            },
            "type": "scatterternary"
           }
          ],
          "surface": [
           {
            "colorbar": {
             "outlinewidth": 0,
             "ticks": ""
            },
            "colorscale": [
             [
              0,
              "#0d0887"
             ],
             [
              0.1111111111111111,
              "#46039f"
             ],
             [
              0.2222222222222222,
              "#7201a8"
             ],
             [
              0.3333333333333333,
              "#9c179e"
             ],
             [
              0.4444444444444444,
              "#bd3786"
             ],
             [
              0.5555555555555556,
              "#d8576b"
             ],
             [
              0.6666666666666666,
              "#ed7953"
             ],
             [
              0.7777777777777778,
              "#fb9f3a"
             ],
             [
              0.8888888888888888,
              "#fdca26"
             ],
             [
              1,
              "#f0f921"
             ]
            ],
            "type": "surface"
           }
          ],
          "table": [
           {
            "cells": {
             "fill": {
              "color": "#EBF0F8"
             },
             "line": {
              "color": "white"
             }
            },
            "header": {
             "fill": {
              "color": "#C8D4E3"
             },
             "line": {
              "color": "white"
             }
            },
            "type": "table"
           }
          ]
         },
         "layout": {
          "annotationdefaults": {
           "arrowcolor": "#2a3f5f",
           "arrowhead": 0,
           "arrowwidth": 1
          },
          "autotypenumbers": "strict",
          "coloraxis": {
           "colorbar": {
            "outlinewidth": 0,
            "ticks": ""
           }
          },
          "colorscale": {
           "diverging": [
            [
             0,
             "#8e0152"
            ],
            [
             0.1,
             "#c51b7d"
            ],
            [
             0.2,
             "#de77ae"
            ],
            [
             0.3,
             "#f1b6da"
            ],
            [
             0.4,
             "#fde0ef"
            ],
            [
             0.5,
             "#f7f7f7"
            ],
            [
             0.6,
             "#e6f5d0"
            ],
            [
             0.7,
             "#b8e186"
            ],
            [
             0.8,
             "#7fbc41"
            ],
            [
             0.9,
             "#4d9221"
            ],
            [
             1,
             "#276419"
            ]
           ],
           "sequential": [
            [
             0,
             "#0d0887"
            ],
            [
             0.1111111111111111,
             "#46039f"
            ],
            [
             0.2222222222222222,
             "#7201a8"
            ],
            [
             0.3333333333333333,
             "#9c179e"
            ],
            [
             0.4444444444444444,
             "#bd3786"
            ],
            [
             0.5555555555555556,
             "#d8576b"
            ],
            [
             0.6666666666666666,
             "#ed7953"
            ],
            [
             0.7777777777777778,
             "#fb9f3a"
            ],
            [
             0.8888888888888888,
             "#fdca26"
            ],
            [
             1,
             "#f0f921"
            ]
           ],
           "sequentialminus": [
            [
             0,
             "#0d0887"
            ],
            [
             0.1111111111111111,
             "#46039f"
            ],
            [
             0.2222222222222222,
             "#7201a8"
            ],
            [
             0.3333333333333333,
             "#9c179e"
            ],
            [
             0.4444444444444444,
             "#bd3786"
            ],
            [
             0.5555555555555556,
             "#d8576b"
            ],
            [
             0.6666666666666666,
             "#ed7953"
            ],
            [
             0.7777777777777778,
             "#fb9f3a"
            ],
            [
             0.8888888888888888,
             "#fdca26"
            ],
            [
             1,
             "#f0f921"
            ]
           ]
          },
          "colorway": [
           "#636efa",
           "#EF553B",
           "#00cc96",
           "#ab63fa",
           "#FFA15A",
           "#19d3f3",
           "#FF6692",
           "#B6E880",
           "#FF97FF",
           "#FECB52"
          ],
          "font": {
           "color": "#2a3f5f"
          },
          "geo": {
           "bgcolor": "white",
           "lakecolor": "white",
           "landcolor": "#E5ECF6",
           "showlakes": true,
           "showland": true,
           "subunitcolor": "white"
          },
          "hoverlabel": {
           "align": "left"
          },
          "hovermode": "closest",
          "mapbox": {
           "style": "light"
          },
          "paper_bgcolor": "white",
          "plot_bgcolor": "#E5ECF6",
          "polar": {
           "angularaxis": {
            "gridcolor": "white",
            "linecolor": "white",
            "ticks": ""
           },
           "bgcolor": "#E5ECF6",
           "radialaxis": {
            "gridcolor": "white",
            "linecolor": "white",
            "ticks": ""
           }
          },
          "scene": {
           "xaxis": {
            "backgroundcolor": "#E5ECF6",
            "gridcolor": "white",
            "gridwidth": 2,
            "linecolor": "white",
            "showbackground": true,
            "ticks": "",
            "zerolinecolor": "white"
           },
           "yaxis": {
            "backgroundcolor": "#E5ECF6",
            "gridcolor": "white",
            "gridwidth": 2,
            "linecolor": "white",
            "showbackground": true,
            "ticks": "",
            "zerolinecolor": "white"
           },
           "zaxis": {
            "backgroundcolor": "#E5ECF6",
            "gridcolor": "white",
            "gridwidth": 2,
            "linecolor": "white",
            "showbackground": true,
            "ticks": "",
            "zerolinecolor": "white"
           }
          },
          "shapedefaults": {
           "line": {
            "color": "#2a3f5f"
           }
          },
          "ternary": {
           "aaxis": {
            "gridcolor": "white",
            "linecolor": "white",
            "ticks": ""
           },
           "baxis": {
            "gridcolor": "white",
            "linecolor": "white",
            "ticks": ""
           },
           "bgcolor": "#E5ECF6",
           "caxis": {
            "gridcolor": "white",
            "linecolor": "white",
            "ticks": ""
           }
          },
          "title": {
           "x": 0.05
          },
          "xaxis": {
           "automargin": true,
           "gridcolor": "white",
           "linecolor": "white",
           "ticks": "",
           "title": {
            "standoff": 15
           },
           "zerolinecolor": "white",
           "zerolinewidth": 2
          },
          "yaxis": {
           "automargin": true,
           "gridcolor": "white",
           "linecolor": "white",
           "ticks": "",
           "title": {
            "standoff": 15
           },
           "zerolinecolor": "white",
           "zerolinewidth": 2
          }
         }
        },
        "title": {
         "font": {
          "size": 24
         },
         "text": "<b> Gráfico 8. Impacto Financiero por Cuenta (Presupuesto vs Costo Real)</b>",
         "x": 0.5
        },
        "xaxis": {
         "anchor": "y",
         "domain": [
          0,
          1
         ],
         "title": {
          "text": "BUDGET ($)"
         }
        },
        "yaxis": {
         "anchor": "x",
         "domain": [
          0,
          1
         ],
         "title": {
          "text": "COST TO DATE ($)"
         }
        }
       }
      }
     },
     "metadata": {},
     "output_type": "display_data"
    }
   ],
   "source": [
    "final_cost_report[\"EFICIENCIA\"] = np.where(final_cost_report[\"VARIANCE\"] >= 0, \"Ahorro\", \"Sobrecosto\")\n",
    "\n",
    "df_bubble = final_cost_report.dropna(subset=[\"BUDGET\", \"COST TO DATE\", \"VARIANCE\"]).copy()\n",
    "\n",
    "df_bubble[\"VARIANCE\"] = df_bubble[\"VARIANCE\"].abs() #se toman los valores abs para evitar errores\n",
    "\n",
    "fig = px.scatter(df_bubble, \n",
    "                 x=\"BUDGET\", \n",
    "                 y=\"COST TO DATE\", \n",
    "                 size=\"VARIANCE\", \n",
    "                 color=\"EFICIENCIA\",\n",
    "                 hover_name=\"ACCT\",\n",
    "                 color_discrete_map={\"Ahorro\": \"green\", \"Sobrecosto\": \"red\"},\n",
    "                 title=\"<b> Gráfico 8. Impacto Financiero por Cuenta (Presupuesto vs Costo Real)</b>\",\n",
    "                 labels={\"BUDGET\": \"BUDGET ($)\", \"COST TO DATE\": \"COST TO DATE ($)\"},\n",
    "                 size_max=60,height=600)\n",
    "\n",
    "fig.update_layout(title={'x': 0.5}, title_font_size=24)\n",
    "fig.show()"
   ]
  },
  {
   "cell_type": "markdown",
   "id": "e4b621aa",
   "metadata": {},
   "source": [
    "El gráfico 8, el cual es una gráfica tipo scatterplot permite analizar visualmente la relación entre el presupuesto asignado y el gasto real (Cost to Date) por cuenta. Cada punto representa una cuenta específica, donde el eje X indica el presupuesto y el eje Y muestra el costo real. El tamaño de cada burbuja refleja la magnitud de la variación entre ambos valores, mientras que el color permite identificar rápidamente el tipo de resultado: verde para cuentas con ahorro y rojo para cuentas con sobrecosto. Además, al ser interactiva, permite consultar los detalles de cada cuenta con solo pasar el cursor sobre las burbujas, haciendo de esta herramienta una forma intuitiva y poderosa de explorar la información financiera."
   ]
  },
  {
   "cell_type": "markdown",
   "id": "272103b0",
   "metadata": {},
   "source": [
    "## Conclusiones\n",
    "A través de este primer análisis, logramos tener un panorama más claro sobre la distribución y el uso de los recursos dentro de la base de datos proporcionada por el socio formador. Limpiar y analizar la información en distintos campos nos permitió detectar patrones y comportamientos importantes en relación con los gastos y presupuestos asignados.\n",
    "\n",
    "Si bien en este avance solo se planteó la hipótesis de que es posible predecir los gastos futuros a partir de los primeros meses del año, se considera que este enfoque tiene potencial para apoyar la toma de decisiones y mejorar la planeación financiera. Un modelo de machine learning bien construido podría convertirse en una herramienta útil para anticipar sobrecostos y tomar medidas preventivas.\n",
    "\n",
    "En entregas futuras, se profundizará en el desarrollo del modelo predictivo propuesto, con el fin de evaluar su efectividad y comprobar si realmente puede anticipar el comportamiento del presupuesto a lo largo del año."
   ]
  },
  {
   "cell_type": "markdown",
   "id": "d1d82f44",
   "metadata": {},
   "source": [
    "## Referencias \n",
    "\n",
    "* Facet. (n.d.). https://plotly.com/python/facet-plots/\n"
   ]
  }
 ],
 "metadata": {
  "kernelspec": {
   "display_name": "IDM",
   "language": "python",
   "name": "python3"
  },
  "language_info": {
   "codemirror_mode": {
    "name": "ipython",
    "version": 3
   },
   "file_extension": ".py",
   "mimetype": "text/x-python",
   "name": "python",
   "nbconvert_exporter": "python",
   "pygments_lexer": "ipython3",
   "version": "3.12.9"
  }
 },
 "nbformat": 4,
 "nbformat_minor": 5
}
