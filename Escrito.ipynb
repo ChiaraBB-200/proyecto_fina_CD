{
 "cells": [
  {
   "cell_type": "markdown",
   "id": "f8820a1e",
   "metadata": {},
   "source": [
    "![Logo del Tec](TECLOGO.JPEG)\n"
   ]
  },
  {
   "cell_type": "markdown",
   "id": "08eb7b42",
   "metadata": {},
   "source": [
    "Instituto Tecnológico de Estudios Superiores de Monterrey CCM\n",
    "\n",
    "Análisis de ciencia de datos\n",
    "Gpo 242\n",
    "\n",
    "Reto\n",
    "\n",
    "Chiara Bombardieri Balanzá - A01659462 \n",
    "Gerardo Javier López García - A016600262\n",
    "Febrero - Junio 2025"
   ]
  }
 ],
 "metadata": {
  "language_info": {
   "name": "python"
  }
 },
 "nbformat": 4,
 "nbformat_minor": 5
}
