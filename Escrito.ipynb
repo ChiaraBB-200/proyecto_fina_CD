{
 "cells": [
  {
   "cell_type": "markdown",
   "id": "f8820a1e",
   "metadata": {},
   "source": [
    "\n",
    "\n",
    "<p align=\"center\">\n",
    "  <img src=\"TEC.PNG\" alt=\"Logo del Tec\" width=\"500\">\n",
    "</p>\n",
    "\n"
   ]
  },
  {
   "cell_type": "markdown",
   "id": "08eb7b42",
   "metadata": {},
   "source": [
    "<div align=\"center\">\n",
    "\n",
    "<h3>Instituto Tecnológico de Estudios Superiores de Monterrey CCM</h3>\n",
    "\n",
    "<p><strong>Análisis de Ciencia de Datos</strong><br>\n",
    "Grupo 242</p>\n",
    "\n",
    "<h3><strong>Reto</strong></h3>\n",
    "\n",
    "<p>Chiara Bombardieri Balanzá - A01659462<br>\n",
    "Gerardo Javier López García - A016600262</p>\n",
    "\n",
    "<p>Febrero - Junio 2025</p>\n",
    "\n",
    "</div>\n"
   ]
  },
  {
   "cell_type": "markdown",
   "id": "e5500323",
   "metadata": {},
   "source": [
    "## Introducción "
   ]
  },
  {
   "cell_type": "markdown",
   "id": "d2e1db4a",
   "metadata": {},
   "source": [
    "## Hipótesis"
   ]
  },
  {
   "cell_type": "markdown",
   "id": "272103b0",
   "metadata": {},
   "source": [
    "## Conclusiones"
   ]
  },
  {
   "cell_type": "markdown",
   "id": "0097638d",
   "metadata": {},
   "source": [
    "* *Link de presentación: https://www.canva.com/design/DAGnYC6MwIs/F5xu__kKmLygA5Kd6TDRNg/edit?utm_content=DAGnYC6MwIs&utm_campaign=designshare&utm_medium=link2&utm_source=sharebutton* \n"
   ]
  },
  {
   "cell_type": "markdown",
   "id": "d1d82f44",
   "metadata": {},
   "source": [
    "## Referencias "
   ]
  }
 ],
 "metadata": {
  "language_info": {
   "name": "python"
  }
 },
 "nbformat": 4,
 "nbformat_minor": 5
}
