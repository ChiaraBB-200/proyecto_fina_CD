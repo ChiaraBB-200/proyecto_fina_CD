{
 "cells": [
  {
   "cell_type": "code",
   "execution_count": 43,
   "id": "e88fed70",
   "metadata": {},
   "outputs": [],
   "source": [
    "import pandas as pd\n",
    "import numpy as np\n",
    "import plotly.express as px\n",
    "\n",
    "final_cost_report = pd.read_csv(\"final_cost_report3.csv\")\n"
   ]
  },
  {
   "cell_type": "code",
   "execution_count": 54,
   "id": "eb07479d",
   "metadata": {
    "scrolled": false
   },
   "outputs": [
    {
     "name": "stdout",
     "output_type": "stream",
     "text": [
      "\n",
      "----------------------------------------------------------------------------------------------------------------------------------\n",
      "Concept               COST TO DATE     COMMITMENTS       TOTAL CTD             EFC          BUDGET    DIFFERENCE $    INDEX\n",
      "----------------------------------------------------------------------------------------------------------------------------------\n",
      "Above the Line         $37,179,095              $0     $37,179,095     $37,179,095     $35,701,887     $-1,477,207      104\n",
      "Below the Line         $68,434,405              $0     $68,434,405     $68,434,405     $69,999,853      $1,565,448       98\n",
      "Others                 $14,267,410      $1,073,642     $15,341,052     $15,341,052     $14,989,184       $-351,868       95\n",
      "Post                   $14,491,072              $0     $14,491,072     $14,491,072     $14,406,986        $-84,086      101\n",
      "TOTAL                 $134,371,983      $1,073,642    $135,445,624    $135,445,624    $135,097,911       $-347,713         \n",
      "----------------------------------------------------------------------------------------------------------------------------------\n",
      "\n",
      "════════════════════════════════════════════════════════════\n",
      "                  Cuentas Más Beneficiadas                  \n",
      "════════════════════════════════════════════════════════════\n",
      "║   ACCT   ║  COST TO DATE   ║     BUDGET      ║   DIFFERENCE    ║\n",
      "╠════════╬═══════════════╬═══════════════╬═══════════════╣\n",
      "║     3400 ║     $12,724,040 ║     $15,001,515 ║      $2,277,475 ║\n",
      "║     2300 ║        $951,191 ║      $1,427,550 ║        $476,359 ║\n",
      "║     3000 ║      $1,170,277 ║      $1,624,361 ║        $454,085 ║\n",
      "║     2900 ║        $363,183 ║        $630,387 ║        $267,204 ║\n",
      "║     1600 ║      $1,188,980 ║      $1,416,167 ║        $227,187 ║\n",
      "║     6100 ║      $1,250,234 ║      $1,452,334 ║        $202,100 ║\n",
      "║     1300 ║      $2,663,851 ║      $2,810,544 ║        $146,693 ║\n",
      "║     7200 ║      $1,371,757 ║      $1,485,676 ║        $113,919 ║\n",
      "║     3800 ║        $656,978 ║        $747,019 ║         $90,041 ║\n",
      "║     1200 ║      $9,361,342 ║      $9,449,620 ║         $88,278 ║\n",
      "║     3900 ║      $5,884,214 ║      $5,965,293 ║         $81,078 ║\n",
      "║     5300 ║              $0 ║         $80,000 ║         $80,000 ║\n",
      "║     5400 ║         $35,000 ║        $100,000 ║         $65,000 ║\n",
      "║     2800 ║      $1,159,295 ║      $1,208,200 ║         $48,905 ║\n",
      "║     5100 ║      $2,159,000 ║      $2,206,500 ║         $47,500 ║\n",
      "════════════════════════════════════════════════════════════\n",
      "\n",
      "════════════════════════════════════════════════════════════\n",
      "                   Cuentas Más Impactadas                   \n",
      "════════════════════════════════════════════════════════════\n",
      "║   ACCT   ║  COST TO DATE   ║     BUDGET      ║   DIFFERENCE    ║\n",
      "╠════════╬═══════════════╬═══════════════╬═══════════════╣\n",
      "║     1400 ║     $13,899,922 ║     $11,960,556 ║     $-1,939,366 ║\n",
      "║     2000 ║      $7,144,078 ║      $6,668,300 ║       $-475,778 ║\n",
      "║     7000 ║     $12,895,653 ║     $13,503,508 ║       $-465,787 ║\n",
      "║     6000 ║      $4,291,613 ║      $3,833,200 ║       $-458,413 ║\n",
      "║     2100 ║      $2,041,866 ║      $1,614,000 ║       $-427,866 ║\n",
      "║     3200 ║      $1,472,577 ║      $1,139,000 ║       $-333,577 ║\n",
      "║     3300 ║        $408,200 ║        $165,500 ║       $-242,700 ║\n",
      "║     2600 ║      $1,298,282 ║      $1,115,250 ║       $-183,032 ║\n",
      "║     3600 ║      $7,730,091 ║      $7,591,103 ║       $-138,988 ║\n",
      "║     3100 ║     $11,595,695 ║     $11,484,172 ║       $-111,523 ║\n",
      "║     2500 ║      $1,098,245 ║      $1,009,000 ║        $-89,245 ║\n",
      "║     3700 ║        $896,400 ║        $810,000 ║        $-86,400 ║\n",
      "║     2200 ║      $1,857,793 ║      $1,825,740 ║        $-32,053 ║\n",
      "║     5200 ║      $1,866,170 ║      $1,843,600 ║        $-22,570 ║\n",
      "║     3500 ║        $299,000 ║        $281,000 ║        $-18,000 ║\n",
      "════════════════════════════════════════════════════════════\n"
     ]
    }
   ],
   "source": [
    "# Reemplazar strings \"nan\" por NaN reales\n",
    "final_cost_report.replace(\"nan\", np.nan, inplace=True)\n",
    "\n",
    "# Filtrar solo cuentas generales\n",
    "cuentas_generales = final_cost_report[final_cost_report[\"REF\"] == \"Cuenta General\"].copy()\n",
    "\n",
    "# Agrupar por TIPO incluyendo COMMITMENTS\n",
    "resumen_tipo = cuentas_generales.groupby(\"TIPO\", as_index=False)[[\"COST TO DATE\", \"COMMITMENTS\", \"BUDGET\"]].sum()\n",
    "\n",
    "# Calcular TOTAL CTD como COST TO DATE + COMMITMENTS\n",
    "resumen_tipo[\"TOTAL CTD\"] = resumen_tipo[\"COST TO DATE\"] + resumen_tipo[\"COMMITMENTS\"]\n",
    "\n",
    "# Calcular EFC (puede ser igual al TOTAL CTD si no hay otro método)\n",
    "resumen_tipo[\"EFC\"] = resumen_tipo[\"TOTAL CTD\"]\n",
    "\n",
    "# Calcular VARIANCE correctamente\n",
    "resumen_tipo[\"VARIANCE\"] = resumen_tipo[\"BUDGET\"] - resumen_tipo[\"TOTAL CTD\"]\n",
    "\n",
    "# Calcular INDEX (% ejecución de presupuesto gastado hasta la fecha SIN commitments)\n",
    "resumen_tipo[\"INDEX\"] = (resumen_tipo[\"COST TO DATE\"] / resumen_tipo[\"BUDGET\"] * 100).round().astype(int)\n",
    "\n",
    "# Reordenar columnas para mostrar todo\n",
    "resumen_tipo = resumen_tipo[[\"TIPO\", \"COST TO DATE\", \"COMMITMENTS\", \"TOTAL CTD\", \"EFC\", \"BUDGET\", \"VARIANCE\", \"INDEX\"]]\n",
    "\n",
    "# Calcular fila total\n",
    "fila_total = resumen_tipo[[\"COST TO DATE\", \"COMMITMENTS\", \"TOTAL CTD\", \"EFC\", \"BUDGET\", \"VARIANCE\"]].sum()\n",
    "fila_total[\"TIPO\"] = \"TOTAL\"\n",
    "fila_total[\"INDEX\"] = \"\"  # Dejar en blanco para la fila total\n",
    "resumen_tipo = pd.concat([resumen_tipo, pd.DataFrame([fila_total])], ignore_index=True)\n",
    "\n",
    "# Formatear con separadores de miles\n",
    "def formatear(val):\n",
    "    try:\n",
    "        return f\"${float(val):,.0f}\"\n",
    "    except:\n",
    "        return val\n",
    "\n",
    "for col in [\"COST TO DATE\", \"COMMITMENTS\", \"TOTAL CTD\", \"EFC\", \"BUDGET\", \"VARIANCE\"]:\n",
    "    resumen_tipo[col] = resumen_tipo[col].apply(formatear)\n",
    "\n",
    "# Mostrar tabla en consola\n",
    "print(\"\\n\" + \"-\"*130)\n",
    "print(\"{:<18} {:>15} {:>15} {:>15} {:>15} {:>15} {:>15} {:>8}\".format(\n",
    "    \"Concept\", \"COST TO DATE\", \"COMMITMENTS\", \"TOTAL CTD\", \"EFC\", \"BUDGET\", \"DIFFERENCE $\", \"INDEX\"\n",
    "))\n",
    "print(\"-\"*130)\n",
    "for _, row in resumen_tipo.iterrows():\n",
    "    print(\"{:<18} {:>15} {:>15} {:>15} {:>15} {:>15} {:>15} {:>8}\".format(\n",
    "        row[\"TIPO\"], row[\"COST TO DATE\"], row[\"COMMITMENTS\"],\n",
    "        row[\"TOTAL CTD\"], row[\"EFC\"], row[\"BUDGET\"], row[\"VARIANCE\"], row[\"INDEX\"]\n",
    "    ))\n",
    "print(\"-\"*130)\n",
    "\n",
    "def formatear(val):\n",
    "    return f\"${val:,.0f}\"\n",
    "\n",
    "def imprimir_tabla(df, titulo):\n",
    "    # Definir los anchos de columna\n",
    "    widths = [8, 15, 15, 15]\n",
    "    headers = [\"ACCT\", \"COST TO DATE\", \"BUDGET\", \"DIFFERENCE\"]\n",
    "\n",
    "    # Borde superior\n",
    "    print(\"\\n\" + \"═\"*60)\n",
    "    print(f\"{titulo}\".center(60))\n",
    "    print(\"═\"*60)\n",
    "    # Encabezados\n",
    "    header_row = \"║ {:^8} ║ {:^15} ║ {:^15} ║ {:^15} ║\".format(*headers)\n",
    "    print(header_row)\n",
    "    print(\"╠\" + \"════════╬\" + \"═══════════════╬\"*2 + \"═══════════════╣\")\n",
    "    # Filas\n",
    "    for _, row in df.iterrows():\n",
    "        print(\"║ {:>8} ║ {:>15} ║ {:>15} ║ {:>15} ║\".format(\n",
    "            row['ACCT'], row['COST TO DATE'], row['BUDGET'], row['VARIANCE']\n",
    "        ))\n",
    "    # Borde inferior\n",
    "    print(\"═\"*60)\n",
    "\n",
    "# Beneficiadas (Top 15)\n",
    "beneficiadas = cuentas_generales.sort_values(\"VARIANCE\", ascending=False).head(15).copy()\n",
    "beneficiadas[\"COST TO DATE\"] = beneficiadas[\"COST TO DATE\"].apply(formatear)\n",
    "beneficiadas[\"BUDGET\"] = beneficiadas[\"BUDGET\"].apply(formatear)\n",
    "beneficiadas[\"VARIANCE\"] = beneficiadas[\"VARIANCE\"].apply(formatear)\n",
    "\n",
    "imprimir_tabla(beneficiadas, \"Cuentas Más Beneficiadas\")\n",
    "\n",
    "# Impactadas (Bottom 15)\n",
    "impactadas = cuentas_generales.sort_values(\"VARIANCE\", ascending=True).head(15).copy()\n",
    "impactadas[\"COST TO DATE\"] = impactadas[\"COST TO DATE\"].apply(formatear)\n",
    "impactadas[\"BUDGET\"] = impactadas[\"BUDGET\"].apply(formatear)\n",
    "impactadas[\"VARIANCE\"] = impactadas[\"VARIANCE\"].apply(formatear)\n",
    "\n",
    "imprimir_tabla(impactadas, \"Cuentas Más Impactadas\")\n",
    "\n",
    "\n",
    "\n"
   ]
  },
  {
   "cell_type": "code",
   "execution_count": 50,
   "id": "cfa139cd",
   "metadata": {},
   "outputs": [
    {
     "data": {
      "application/vnd.plotly.v1+json": {
       "config": {
        "plotlyServerURL": "https://plot.ly"
       },
       "data": [
        {
         "domain": {
          "x": [
           0,
           1
          ],
          "y": [
           0,
           1
          ]
         },
         "hole": 0.5,
         "hovertemplate": "TIPO=%{label}<br>COST TO DATE=%{value}<extra></extra>",
         "labels": [
          "Below the Line",
          "Above the Line",
          "Post",
          "Others"
         ],
         "legendgroup": "",
         "marker": {
          "line": {
           "color": "white",
           "width": 2
          }
         },
         "name": "",
         "pull": [
          0.02,
          0.02,
          0.02,
          0.02
         ],
         "showlegend": true,
         "textinfo": "percent+label",
         "textposition": "inside",
         "type": "pie",
         "values": [
          68434405.163,
          37179094.71,
          14491072.41,
          14267410.481
         ]
        }
       ],
       "layout": {
        "legend": {
         "font": {
          "size": 14
         },
         "title": {
          "text": "Tipo de Cuenta"
         },
         "tracegroupgap": 0
        },
        "showlegend": true,
        "template": {
         "data": {
          "bar": [
           {
            "error_x": {
             "color": "#2a3f5f"
            },
            "error_y": {
             "color": "#2a3f5f"
            },
            "marker": {
             "line": {
              "color": "#E5ECF6",
              "width": 0.5
             },
             "pattern": {
              "fillmode": "overlay",
              "size": 10,
              "solidity": 0.2
             }
            },
            "type": "bar"
           }
          ],
          "barpolar": [
           {
            "marker": {
             "line": {
              "color": "#E5ECF6",
              "width": 0.5
             },
             "pattern": {
              "fillmode": "overlay",
              "size": 10,
              "solidity": 0.2
             }
            },
            "type": "barpolar"
           }
          ],
          "carpet": [
           {
            "aaxis": {
             "endlinecolor": "#2a3f5f",
             "gridcolor": "white",
             "linecolor": "white",
             "minorgridcolor": "white",
             "startlinecolor": "#2a3f5f"
            },
            "baxis": {
             "endlinecolor": "#2a3f5f",
             "gridcolor": "white",
             "linecolor": "white",
             "minorgridcolor": "white",
             "startlinecolor": "#2a3f5f"
            },
            "type": "carpet"
           }
          ],
          "choropleth": [
           {
            "colorbar": {
             "outlinewidth": 0,
             "ticks": ""
            },
            "type": "choropleth"
           }
          ],
          "contour": [
           {
            "colorbar": {
             "outlinewidth": 0,
             "ticks": ""
            },
            "colorscale": [
             [
              0,
              "#0d0887"
             ],
             [
              0.1111111111111111,
              "#46039f"
             ],
             [
              0.2222222222222222,
              "#7201a8"
             ],
             [
              0.3333333333333333,
              "#9c179e"
             ],
             [
              0.4444444444444444,
              "#bd3786"
             ],
             [
              0.5555555555555556,
              "#d8576b"
             ],
             [
              0.6666666666666666,
              "#ed7953"
             ],
             [
              0.7777777777777778,
              "#fb9f3a"
             ],
             [
              0.8888888888888888,
              "#fdca26"
             ],
             [
              1,
              "#f0f921"
             ]
            ],
            "type": "contour"
           }
          ],
          "contourcarpet": [
           {
            "colorbar": {
             "outlinewidth": 0,
             "ticks": ""
            },
            "type": "contourcarpet"
           }
          ],
          "heatmap": [
           {
            "colorbar": {
             "outlinewidth": 0,
             "ticks": ""
            },
            "colorscale": [
             [
              0,
              "#0d0887"
             ],
             [
              0.1111111111111111,
              "#46039f"
             ],
             [
              0.2222222222222222,
              "#7201a8"
             ],
             [
              0.3333333333333333,
              "#9c179e"
             ],
             [
              0.4444444444444444,
              "#bd3786"
             ],
             [
              0.5555555555555556,
              "#d8576b"
             ],
             [
              0.6666666666666666,
              "#ed7953"
             ],
             [
              0.7777777777777778,
              "#fb9f3a"
             ],
             [
              0.8888888888888888,
              "#fdca26"
             ],
             [
              1,
              "#f0f921"
             ]
            ],
            "type": "heatmap"
           }
          ],
          "heatmapgl": [
           {
            "colorbar": {
             "outlinewidth": 0,
             "ticks": ""
            },
            "colorscale": [
             [
              0,
              "#0d0887"
             ],
             [
              0.1111111111111111,
              "#46039f"
             ],
             [
              0.2222222222222222,
              "#7201a8"
             ],
             [
              0.3333333333333333,
              "#9c179e"
             ],
             [
              0.4444444444444444,
              "#bd3786"
             ],
             [
              0.5555555555555556,
              "#d8576b"
             ],
             [
              0.6666666666666666,
              "#ed7953"
             ],
             [
              0.7777777777777778,
              "#fb9f3a"
             ],
             [
              0.8888888888888888,
              "#fdca26"
             ],
             [
              1,
              "#f0f921"
             ]
            ],
            "type": "heatmapgl"
           }
          ],
          "histogram": [
           {
            "marker": {
             "pattern": {
              "fillmode": "overlay",
              "size": 10,
              "solidity": 0.2
             }
            },
            "type": "histogram"
           }
          ],
          "histogram2d": [
           {
            "colorbar": {
             "outlinewidth": 0,
             "ticks": ""
            },
            "colorscale": [
             [
              0,
              "#0d0887"
             ],
             [
              0.1111111111111111,
              "#46039f"
             ],
             [
              0.2222222222222222,
              "#7201a8"
             ],
             [
              0.3333333333333333,
              "#9c179e"
             ],
             [
              0.4444444444444444,
              "#bd3786"
             ],
             [
              0.5555555555555556,
              "#d8576b"
             ],
             [
              0.6666666666666666,
              "#ed7953"
             ],
             [
              0.7777777777777778,
              "#fb9f3a"
             ],
             [
              0.8888888888888888,
              "#fdca26"
             ],
             [
              1,
              "#f0f921"
             ]
            ],
            "type": "histogram2d"
           }
          ],
          "histogram2dcontour": [
           {
            "colorbar": {
             "outlinewidth": 0,
             "ticks": ""
            },
            "colorscale": [
             [
              0,
              "#0d0887"
             ],
             [
              0.1111111111111111,
              "#46039f"
             ],
             [
              0.2222222222222222,
              "#7201a8"
             ],
             [
              0.3333333333333333,
              "#9c179e"
             ],
             [
              0.4444444444444444,
              "#bd3786"
             ],
             [
              0.5555555555555556,
              "#d8576b"
             ],
             [
              0.6666666666666666,
              "#ed7953"
             ],
             [
              0.7777777777777778,
              "#fb9f3a"
             ],
             [
              0.8888888888888888,
              "#fdca26"
             ],
             [
              1,
              "#f0f921"
             ]
            ],
            "type": "histogram2dcontour"
           }
          ],
          "mesh3d": [
           {
            "colorbar": {
             "outlinewidth": 0,
             "ticks": ""
            },
            "type": "mesh3d"
           }
          ],
          "parcoords": [
           {
            "line": {
             "colorbar": {
              "outlinewidth": 0,
              "ticks": ""
             }
            },
            "type": "parcoords"
           }
          ],
          "pie": [
           {
            "automargin": true,
            "type": "pie"
           }
          ],
          "scatter": [
           {
            "fillpattern": {
             "fillmode": "overlay",
             "size": 10,
             "solidity": 0.2
            },
            "type": "scatter"
           }
          ],
          "scatter3d": [
           {
            "line": {
             "colorbar": {
              "outlinewidth": 0,
              "ticks": ""
             }
            },
            "marker": {
             "colorbar": {
              "outlinewidth": 0,
              "ticks": ""
             }
            },
            "type": "scatter3d"
           }
          ],
          "scattercarpet": [
           {
            "marker": {
             "colorbar": {
              "outlinewidth": 0,
              "ticks": ""
             }
            },
            "type": "scattercarpet"
           }
          ],
          "scattergeo": [
           {
            "marker": {
             "colorbar": {
              "outlinewidth": 0,
              "ticks": ""
             }
            },
            "type": "scattergeo"
           }
          ],
          "scattergl": [
           {
            "marker": {
             "colorbar": {
              "outlinewidth": 0,
              "ticks": ""
             }
            },
            "type": "scattergl"
           }
          ],
          "scattermapbox": [
           {
            "marker": {
             "colorbar": {
              "outlinewidth": 0,
              "ticks": ""
             }
            },
            "type": "scattermapbox"
           }
          ],
          "scatterpolar": [
           {
            "marker": {
             "colorbar": {
              "outlinewidth": 0,
              "ticks": ""
             }
            },
            "type": "scatterpolar"
           }
          ],
          "scatterpolargl": [
           {
            "marker": {
             "colorbar": {
              "outlinewidth": 0,
              "ticks": ""
             }
            },
            "type": "scatterpolargl"
           }
          ],
          "scatterternary": [
           {
            "marker": {
             "colorbar": {
              "outlinewidth": 0,
              "ticks": ""
             }
            },
            "type": "scatterternary"
           }
          ],
          "surface": [
           {
            "colorbar": {
             "outlinewidth": 0,
             "ticks": ""
            },
            "colorscale": [
             [
              0,
              "#0d0887"
             ],
             [
              0.1111111111111111,
              "#46039f"
             ],
             [
              0.2222222222222222,
              "#7201a8"
             ],
             [
              0.3333333333333333,
              "#9c179e"
             ],
             [
              0.4444444444444444,
              "#bd3786"
             ],
             [
              0.5555555555555556,
              "#d8576b"
             ],
             [
              0.6666666666666666,
              "#ed7953"
             ],
             [
              0.7777777777777778,
              "#fb9f3a"
             ],
             [
              0.8888888888888888,
              "#fdca26"
             ],
             [
              1,
              "#f0f921"
             ]
            ],
            "type": "surface"
           }
          ],
          "table": [
           {
            "cells": {
             "fill": {
              "color": "#EBF0F8"
             },
             "line": {
              "color": "white"
             }
            },
            "header": {
             "fill": {
              "color": "#C8D4E3"
             },
             "line": {
              "color": "white"
             }
            },
            "type": "table"
           }
          ]
         },
         "layout": {
          "annotationdefaults": {
           "arrowcolor": "#2a3f5f",
           "arrowhead": 0,
           "arrowwidth": 1
          },
          "autotypenumbers": "strict",
          "coloraxis": {
           "colorbar": {
            "outlinewidth": 0,
            "ticks": ""
           }
          },
          "colorscale": {
           "diverging": [
            [
             0,
             "#8e0152"
            ],
            [
             0.1,
             "#c51b7d"
            ],
            [
             0.2,
             "#de77ae"
            ],
            [
             0.3,
             "#f1b6da"
            ],
            [
             0.4,
             "#fde0ef"
            ],
            [
             0.5,
             "#f7f7f7"
            ],
            [
             0.6,
             "#e6f5d0"
            ],
            [
             0.7,
             "#b8e186"
            ],
            [
             0.8,
             "#7fbc41"
            ],
            [
             0.9,
             "#4d9221"
            ],
            [
             1,
             "#276419"
            ]
           ],
           "sequential": [
            [
             0,
             "#0d0887"
            ],
            [
             0.1111111111111111,
             "#46039f"
            ],
            [
             0.2222222222222222,
             "#7201a8"
            ],
            [
             0.3333333333333333,
             "#9c179e"
            ],
            [
             0.4444444444444444,
             "#bd3786"
            ],
            [
             0.5555555555555556,
             "#d8576b"
            ],
            [
             0.6666666666666666,
             "#ed7953"
            ],
            [
             0.7777777777777778,
             "#fb9f3a"
            ],
            [
             0.8888888888888888,
             "#fdca26"
            ],
            [
             1,
             "#f0f921"
            ]
           ],
           "sequentialminus": [
            [
             0,
             "#0d0887"
            ],
            [
             0.1111111111111111,
             "#46039f"
            ],
            [
             0.2222222222222222,
             "#7201a8"
            ],
            [
             0.3333333333333333,
             "#9c179e"
            ],
            [
             0.4444444444444444,
             "#bd3786"
            ],
            [
             0.5555555555555556,
             "#d8576b"
            ],
            [
             0.6666666666666666,
             "#ed7953"
            ],
            [
             0.7777777777777778,
             "#fb9f3a"
            ],
            [
             0.8888888888888888,
             "#fdca26"
            ],
            [
             1,
             "#f0f921"
            ]
           ]
          },
          "colorway": [
           "#636efa",
           "#EF553B",
           "#00cc96",
           "#ab63fa",
           "#FFA15A",
           "#19d3f3",
           "#FF6692",
           "#B6E880",
           "#FF97FF",
           "#FECB52"
          ],
          "font": {
           "color": "#2a3f5f"
          },
          "geo": {
           "bgcolor": "white",
           "lakecolor": "white",
           "landcolor": "#E5ECF6",
           "showlakes": true,
           "showland": true,
           "subunitcolor": "white"
          },
          "hoverlabel": {
           "align": "left"
          },
          "hovermode": "closest",
          "mapbox": {
           "style": "light"
          },
          "paper_bgcolor": "white",
          "plot_bgcolor": "#E5ECF6",
          "polar": {
           "angularaxis": {
            "gridcolor": "white",
            "linecolor": "white",
            "ticks": ""
           },
           "bgcolor": "#E5ECF6",
           "radialaxis": {
            "gridcolor": "white",
            "linecolor": "white",
            "ticks": ""
           }
          },
          "scene": {
           "xaxis": {
            "backgroundcolor": "#E5ECF6",
            "gridcolor": "white",
            "gridwidth": 2,
            "linecolor": "white",
            "showbackground": true,
            "ticks": "",
            "zerolinecolor": "white"
           },
           "yaxis": {
            "backgroundcolor": "#E5ECF6",
            "gridcolor": "white",
            "gridwidth": 2,
            "linecolor": "white",
            "showbackground": true,
            "ticks": "",
            "zerolinecolor": "white"
           },
           "zaxis": {
            "backgroundcolor": "#E5ECF6",
            "gridcolor": "white",
            "gridwidth": 2,
            "linecolor": "white",
            "showbackground": true,
            "ticks": "",
            "zerolinecolor": "white"
           }
          },
          "shapedefaults": {
           "line": {
            "color": "#2a3f5f"
           }
          },
          "ternary": {
           "aaxis": {
            "gridcolor": "white",
            "linecolor": "white",
            "ticks": ""
           },
           "baxis": {
            "gridcolor": "white",
            "linecolor": "white",
            "ticks": ""
           },
           "bgcolor": "#E5ECF6",
           "caxis": {
            "gridcolor": "white",
            "linecolor": "white",
            "ticks": ""
           }
          },
          "title": {
           "x": 0.05
          },
          "xaxis": {
           "automargin": true,
           "gridcolor": "white",
           "linecolor": "white",
           "ticks": "",
           "title": {
            "standoff": 15
           },
           "zerolinecolor": "white",
           "zerolinewidth": 2
          },
          "yaxis": {
           "automargin": true,
           "gridcolor": "white",
           "linecolor": "white",
           "ticks": "",
           "title": {
            "standoff": 15
           },
           "zerolinecolor": "white",
           "zerolinewidth": 2
          }
         }
        },
        "title": {
         "font": {
          "size": 22
         },
         "text": "<b>Porcentaje de uso por TIPO </b>"
        }
       }
      },
      "text/html": [
       "<div>                            <div id=\"ac0e9b2d-b869-4996-b74e-71d4826af77b\" class=\"plotly-graph-div\" style=\"height:525px; width:100%;\"></div>            <script type=\"text/javascript\">                require([\"plotly\"], function(Plotly) {                    window.PLOTLYENV=window.PLOTLYENV || {};                                    if (document.getElementById(\"ac0e9b2d-b869-4996-b74e-71d4826af77b\")) {                    Plotly.newPlot(                        \"ac0e9b2d-b869-4996-b74e-71d4826af77b\",                        [{\"domain\":{\"x\":[0.0,1.0],\"y\":[0.0,1.0]},\"hole\":0.5,\"hovertemplate\":\"TIPO=%{label}<br>COST TO DATE=%{value}<extra></extra>\",\"labels\":[\"Below the Line\",\"Above the Line\",\"Post\",\"Others\"],\"legendgroup\":\"\",\"name\":\"\",\"showlegend\":true,\"values\":[68434405.163,37179094.71,14491072.41,14267410.481],\"type\":\"pie\",\"marker\":{\"line\":{\"color\":\"white\",\"width\":2}},\"pull\":[0.02,0.02,0.02,0.02],\"textinfo\":\"percent+label\",\"textposition\":\"inside\"}],                        {\"template\":{\"data\":{\"histogram2dcontour\":[{\"type\":\"histogram2dcontour\",\"colorbar\":{\"outlinewidth\":0,\"ticks\":\"\"},\"colorscale\":[[0.0,\"#0d0887\"],[0.1111111111111111,\"#46039f\"],[0.2222222222222222,\"#7201a8\"],[0.3333333333333333,\"#9c179e\"],[0.4444444444444444,\"#bd3786\"],[0.5555555555555556,\"#d8576b\"],[0.6666666666666666,\"#ed7953\"],[0.7777777777777778,\"#fb9f3a\"],[0.8888888888888888,\"#fdca26\"],[1.0,\"#f0f921\"]]}],\"choropleth\":[{\"type\":\"choropleth\",\"colorbar\":{\"outlinewidth\":0,\"ticks\":\"\"}}],\"histogram2d\":[{\"type\":\"histogram2d\",\"colorbar\":{\"outlinewidth\":0,\"ticks\":\"\"},\"colorscale\":[[0.0,\"#0d0887\"],[0.1111111111111111,\"#46039f\"],[0.2222222222222222,\"#7201a8\"],[0.3333333333333333,\"#9c179e\"],[0.4444444444444444,\"#bd3786\"],[0.5555555555555556,\"#d8576b\"],[0.6666666666666666,\"#ed7953\"],[0.7777777777777778,\"#fb9f3a\"],[0.8888888888888888,\"#fdca26\"],[1.0,\"#f0f921\"]]}],\"heatmap\":[{\"type\":\"heatmap\",\"colorbar\":{\"outlinewidth\":0,\"ticks\":\"\"},\"colorscale\":[[0.0,\"#0d0887\"],[0.1111111111111111,\"#46039f\"],[0.2222222222222222,\"#7201a8\"],[0.3333333333333333,\"#9c179e\"],[0.4444444444444444,\"#bd3786\"],[0.5555555555555556,\"#d8576b\"],[0.6666666666666666,\"#ed7953\"],[0.7777777777777778,\"#fb9f3a\"],[0.8888888888888888,\"#fdca26\"],[1.0,\"#f0f921\"]]}],\"heatmapgl\":[{\"type\":\"heatmapgl\",\"colorbar\":{\"outlinewidth\":0,\"ticks\":\"\"},\"colorscale\":[[0.0,\"#0d0887\"],[0.1111111111111111,\"#46039f\"],[0.2222222222222222,\"#7201a8\"],[0.3333333333333333,\"#9c179e\"],[0.4444444444444444,\"#bd3786\"],[0.5555555555555556,\"#d8576b\"],[0.6666666666666666,\"#ed7953\"],[0.7777777777777778,\"#fb9f3a\"],[0.8888888888888888,\"#fdca26\"],[1.0,\"#f0f921\"]]}],\"contourcarpet\":[{\"type\":\"contourcarpet\",\"colorbar\":{\"outlinewidth\":0,\"ticks\":\"\"}}],\"contour\":[{\"type\":\"contour\",\"colorbar\":{\"outlinewidth\":0,\"ticks\":\"\"},\"colorscale\":[[0.0,\"#0d0887\"],[0.1111111111111111,\"#46039f\"],[0.2222222222222222,\"#7201a8\"],[0.3333333333333333,\"#9c179e\"],[0.4444444444444444,\"#bd3786\"],[0.5555555555555556,\"#d8576b\"],[0.6666666666666666,\"#ed7953\"],[0.7777777777777778,\"#fb9f3a\"],[0.8888888888888888,\"#fdca26\"],[1.0,\"#f0f921\"]]}],\"surface\":[{\"type\":\"surface\",\"colorbar\":{\"outlinewidth\":0,\"ticks\":\"\"},\"colorscale\":[[0.0,\"#0d0887\"],[0.1111111111111111,\"#46039f\"],[0.2222222222222222,\"#7201a8\"],[0.3333333333333333,\"#9c179e\"],[0.4444444444444444,\"#bd3786\"],[0.5555555555555556,\"#d8576b\"],[0.6666666666666666,\"#ed7953\"],[0.7777777777777778,\"#fb9f3a\"],[0.8888888888888888,\"#fdca26\"],[1.0,\"#f0f921\"]]}],\"mesh3d\":[{\"type\":\"mesh3d\",\"colorbar\":{\"outlinewidth\":0,\"ticks\":\"\"}}],\"scatter\":[{\"fillpattern\":{\"fillmode\":\"overlay\",\"size\":10,\"solidity\":0.2},\"type\":\"scatter\"}],\"parcoords\":[{\"type\":\"parcoords\",\"line\":{\"colorbar\":{\"outlinewidth\":0,\"ticks\":\"\"}}}],\"scatterpolargl\":[{\"type\":\"scatterpolargl\",\"marker\":{\"colorbar\":{\"outlinewidth\":0,\"ticks\":\"\"}}}],\"bar\":[{\"error_x\":{\"color\":\"#2a3f5f\"},\"error_y\":{\"color\":\"#2a3f5f\"},\"marker\":{\"line\":{\"color\":\"#E5ECF6\",\"width\":0.5},\"pattern\":{\"fillmode\":\"overlay\",\"size\":10,\"solidity\":0.2}},\"type\":\"bar\"}],\"scattergeo\":[{\"type\":\"scattergeo\",\"marker\":{\"colorbar\":{\"outlinewidth\":0,\"ticks\":\"\"}}}],\"scatterpolar\":[{\"type\":\"scatterpolar\",\"marker\":{\"colorbar\":{\"outlinewidth\":0,\"ticks\":\"\"}}}],\"histogram\":[{\"marker\":{\"pattern\":{\"fillmode\":\"overlay\",\"size\":10,\"solidity\":0.2}},\"type\":\"histogram\"}],\"scattergl\":[{\"type\":\"scattergl\",\"marker\":{\"colorbar\":{\"outlinewidth\":0,\"ticks\":\"\"}}}],\"scatter3d\":[{\"type\":\"scatter3d\",\"line\":{\"colorbar\":{\"outlinewidth\":0,\"ticks\":\"\"}},\"marker\":{\"colorbar\":{\"outlinewidth\":0,\"ticks\":\"\"}}}],\"scattermapbox\":[{\"type\":\"scattermapbox\",\"marker\":{\"colorbar\":{\"outlinewidth\":0,\"ticks\":\"\"}}}],\"scatterternary\":[{\"type\":\"scatterternary\",\"marker\":{\"colorbar\":{\"outlinewidth\":0,\"ticks\":\"\"}}}],\"scattercarpet\":[{\"type\":\"scattercarpet\",\"marker\":{\"colorbar\":{\"outlinewidth\":0,\"ticks\":\"\"}}}],\"carpet\":[{\"aaxis\":{\"endlinecolor\":\"#2a3f5f\",\"gridcolor\":\"white\",\"linecolor\":\"white\",\"minorgridcolor\":\"white\",\"startlinecolor\":\"#2a3f5f\"},\"baxis\":{\"endlinecolor\":\"#2a3f5f\",\"gridcolor\":\"white\",\"linecolor\":\"white\",\"minorgridcolor\":\"white\",\"startlinecolor\":\"#2a3f5f\"},\"type\":\"carpet\"}],\"table\":[{\"cells\":{\"fill\":{\"color\":\"#EBF0F8\"},\"line\":{\"color\":\"white\"}},\"header\":{\"fill\":{\"color\":\"#C8D4E3\"},\"line\":{\"color\":\"white\"}},\"type\":\"table\"}],\"barpolar\":[{\"marker\":{\"line\":{\"color\":\"#E5ECF6\",\"width\":0.5},\"pattern\":{\"fillmode\":\"overlay\",\"size\":10,\"solidity\":0.2}},\"type\":\"barpolar\"}],\"pie\":[{\"automargin\":true,\"type\":\"pie\"}]},\"layout\":{\"autotypenumbers\":\"strict\",\"colorway\":[\"#636efa\",\"#EF553B\",\"#00cc96\",\"#ab63fa\",\"#FFA15A\",\"#19d3f3\",\"#FF6692\",\"#B6E880\",\"#FF97FF\",\"#FECB52\"],\"font\":{\"color\":\"#2a3f5f\"},\"hovermode\":\"closest\",\"hoverlabel\":{\"align\":\"left\"},\"paper_bgcolor\":\"white\",\"plot_bgcolor\":\"#E5ECF6\",\"polar\":{\"bgcolor\":\"#E5ECF6\",\"angularaxis\":{\"gridcolor\":\"white\",\"linecolor\":\"white\",\"ticks\":\"\"},\"radialaxis\":{\"gridcolor\":\"white\",\"linecolor\":\"white\",\"ticks\":\"\"}},\"ternary\":{\"bgcolor\":\"#E5ECF6\",\"aaxis\":{\"gridcolor\":\"white\",\"linecolor\":\"white\",\"ticks\":\"\"},\"baxis\":{\"gridcolor\":\"white\",\"linecolor\":\"white\",\"ticks\":\"\"},\"caxis\":{\"gridcolor\":\"white\",\"linecolor\":\"white\",\"ticks\":\"\"}},\"coloraxis\":{\"colorbar\":{\"outlinewidth\":0,\"ticks\":\"\"}},\"colorscale\":{\"sequential\":[[0.0,\"#0d0887\"],[0.1111111111111111,\"#46039f\"],[0.2222222222222222,\"#7201a8\"],[0.3333333333333333,\"#9c179e\"],[0.4444444444444444,\"#bd3786\"],[0.5555555555555556,\"#d8576b\"],[0.6666666666666666,\"#ed7953\"],[0.7777777777777778,\"#fb9f3a\"],[0.8888888888888888,\"#fdca26\"],[1.0,\"#f0f921\"]],\"sequentialminus\":[[0.0,\"#0d0887\"],[0.1111111111111111,\"#46039f\"],[0.2222222222222222,\"#7201a8\"],[0.3333333333333333,\"#9c179e\"],[0.4444444444444444,\"#bd3786\"],[0.5555555555555556,\"#d8576b\"],[0.6666666666666666,\"#ed7953\"],[0.7777777777777778,\"#fb9f3a\"],[0.8888888888888888,\"#fdca26\"],[1.0,\"#f0f921\"]],\"diverging\":[[0,\"#8e0152\"],[0.1,\"#c51b7d\"],[0.2,\"#de77ae\"],[0.3,\"#f1b6da\"],[0.4,\"#fde0ef\"],[0.5,\"#f7f7f7\"],[0.6,\"#e6f5d0\"],[0.7,\"#b8e186\"],[0.8,\"#7fbc41\"],[0.9,\"#4d9221\"],[1,\"#276419\"]]},\"xaxis\":{\"gridcolor\":\"white\",\"linecolor\":\"white\",\"ticks\":\"\",\"title\":{\"standoff\":15},\"zerolinecolor\":\"white\",\"automargin\":true,\"zerolinewidth\":2},\"yaxis\":{\"gridcolor\":\"white\",\"linecolor\":\"white\",\"ticks\":\"\",\"title\":{\"standoff\":15},\"zerolinecolor\":\"white\",\"automargin\":true,\"zerolinewidth\":2},\"scene\":{\"xaxis\":{\"backgroundcolor\":\"#E5ECF6\",\"gridcolor\":\"white\",\"linecolor\":\"white\",\"showbackground\":true,\"ticks\":\"\",\"zerolinecolor\":\"white\",\"gridwidth\":2},\"yaxis\":{\"backgroundcolor\":\"#E5ECF6\",\"gridcolor\":\"white\",\"linecolor\":\"white\",\"showbackground\":true,\"ticks\":\"\",\"zerolinecolor\":\"white\",\"gridwidth\":2},\"zaxis\":{\"backgroundcolor\":\"#E5ECF6\",\"gridcolor\":\"white\",\"linecolor\":\"white\",\"showbackground\":true,\"ticks\":\"\",\"zerolinecolor\":\"white\",\"gridwidth\":2}},\"shapedefaults\":{\"line\":{\"color\":\"#2a3f5f\"}},\"annotationdefaults\":{\"arrowcolor\":\"#2a3f5f\",\"arrowhead\":0,\"arrowwidth\":1},\"geo\":{\"bgcolor\":\"white\",\"landcolor\":\"#E5ECF6\",\"subunitcolor\":\"white\",\"showland\":true,\"showlakes\":true,\"lakecolor\":\"white\"},\"title\":{\"x\":0.05},\"mapbox\":{\"style\":\"light\"}}},\"legend\":{\"tracegroupgap\":0,\"title\":{\"text\":\"Tipo de Cuenta\"},\"font\":{\"size\":14}},\"title\":{\"text\":\"<b>Porcentaje de uso por TIPO </b>\",\"font\":{\"size\":22}},\"showlegend\":true},                        {\"responsive\": true}                    ).then(function(){\n",
       "                            \n",
       "var gd = document.getElementById('ac0e9b2d-b869-4996-b74e-71d4826af77b');\n",
       "var x = new MutationObserver(function (mutations, observer) {{\n",
       "        var display = window.getComputedStyle(gd).display;\n",
       "        if (!display || display === 'none') {{\n",
       "            console.log([gd, 'removed!']);\n",
       "            Plotly.purge(gd);\n",
       "            observer.disconnect();\n",
       "        }}\n",
       "}});\n",
       "\n",
       "// Listen for the removal of the full notebook cells\n",
       "var notebookContainer = gd.closest('#notebook-container');\n",
       "if (notebookContainer) {{\n",
       "    x.observe(notebookContainer, {childList: true});\n",
       "}}\n",
       "\n",
       "// Listen for the clearing of the current output cell\n",
       "var outputEl = gd.closest('.output');\n",
       "if (outputEl) {{\n",
       "    x.observe(outputEl, {childList: true});\n",
       "}}\n",
       "\n",
       "                        })                };                });            </script>        </div>"
      ]
     },
     "metadata": {},
     "output_type": "display_data"
    }
   ],
   "source": [
    "\n",
    "# Filtrar solo cuentas generales si quieres\n",
    "df = final_cost_report[final_cost_report[\"REF\"] == \"Cuenta General\"].copy()\n",
    "\n",
    "# Agrupar por TIPO y sumar COST TO DATE\n",
    "resumen = df.groupby(\"TIPO\", as_index=False)[\"COST TO DATE\"].sum()\n",
    "resumen = resumen.sort_values(\"COST TO DATE\", ascending=False)\n",
    "\n",
    "# Gráfico de rosca \n",
    "fig = px.pie(\n",
    "    resumen,\n",
    "    values=\"COST TO DATE\",\n",
    "    names=\"TIPO\",\n",
    "    title=\"<b>Porcentaje de uso por TIPO </b>\",\n",
    "    hole=0.5,  # Hace la rosca\n",
    ")\n",
    "\n",
    "fig.update_traces(\n",
    "    textposition='inside',\n",
    "    textinfo='percent+label',\n",
    "    pull=[0.02]*len(resumen),  \n",
    "    marker=dict(line=dict(color='white', width=2))\n",
    ")\n",
    "\n",
    "fig.update_layout(\n",
    "    showlegend=True,\n",
    "    title_font_size=22,\n",
    "    legend_title_text='Tipo de Cuenta',\n",
    "    legend=dict(font=dict(size=14))\n",
    ")\n",
    "\n",
    "fig.show()"
   ]
  },
  {
   "cell_type": "markdown",
   "id": "d65722ae",
   "metadata": {},
   "source": [
    "La gráfica muestra la distribución porcentual del uso del presupuesto real (Cost to Date) por tipo de cuenta general. Cada segmento representa un tipo de gasto dentro del proyecto, permitiendo visualizar de forma clara cuáles categorías concentran la mayor parte del presupuesto ejecutado hasta la fecha. Esta visualización facilita identificar rápidamente los rubros que absorben más recursos y analizar si la distribución es acorde a los objetivos y prioridades del proyecto. El gráfico es útil para detectar posibles desviaciones, oportunidades de optimización y áreas donde se puede implementar una gestión financiera más eficiente"
   ]
  },
  {
   "cell_type": "markdown",
   "id": "e9d3dc01",
   "metadata": {},
   "source": [
    "## Hipotesis\n",
    "\n",
    "### Las etapas con mayor presupuesto son tambien los que generan mayores ahorros."
   ]
  },
  {
   "cell_type": "code",
   "execution_count": 28,
   "id": "38577406",
   "metadata": {},
   "outputs": [
    {
     "data": {
      "text/html": [
       "<div>\n",
       "<style scoped>\n",
       "    .dataframe tbody tr th:only-of-type {\n",
       "        vertical-align: middle;\n",
       "    }\n",
       "\n",
       "    .dataframe tbody tr th {\n",
       "        vertical-align: top;\n",
       "    }\n",
       "\n",
       "    .dataframe thead th {\n",
       "        text-align: right;\n",
       "    }\n",
       "</style>\n",
       "<table border=\"1\" class=\"dataframe\">\n",
       "  <thead>\n",
       "    <tr style=\"text-align: right;\">\n",
       "      <th></th>\n",
       "      <th>ACCT</th>\n",
       "      <th>TIPO</th>\n",
       "      <th>BUDGET</th>\n",
       "      <th>COST TO DATE</th>\n",
       "      <th>REF</th>\n",
       "      <th>Etapa</th>\n",
       "      <th>VARIANCE</th>\n",
       "    </tr>\n",
       "  </thead>\n",
       "  <tbody>\n",
       "    <tr>\n",
       "      <th>0</th>\n",
       "      <td>1100</td>\n",
       "      <td>Above the Line</td>\n",
       "      <td>10065000.00</td>\n",
       "      <td>1.006500e+07</td>\n",
       "      <td>Cuenta General</td>\n",
       "      <td>NaN</td>\n",
       "      <td>-0.080</td>\n",
       "    </tr>\n",
       "    <tr>\n",
       "      <th>1</th>\n",
       "      <td>1200</td>\n",
       "      <td>Above the Line</td>\n",
       "      <td>9449620.00</td>\n",
       "      <td>9.361342e+06</td>\n",
       "      <td>Cuenta General</td>\n",
       "      <td>NaN</td>\n",
       "      <td>88277.690</td>\n",
       "    </tr>\n",
       "    <tr>\n",
       "      <th>2</th>\n",
       "      <td>1300</td>\n",
       "      <td>Above the Line</td>\n",
       "      <td>2810543.88</td>\n",
       "      <td>2.663851e+06</td>\n",
       "      <td>Cuenta General</td>\n",
       "      <td>NaN</td>\n",
       "      <td>146693.350</td>\n",
       "    </tr>\n",
       "    <tr>\n",
       "      <th>3</th>\n",
       "      <td>1400</td>\n",
       "      <td>Above the Line</td>\n",
       "      <td>11960556.35</td>\n",
       "      <td>1.389992e+07</td>\n",
       "      <td>Cuenta General</td>\n",
       "      <td>NaN</td>\n",
       "      <td>-1939365.675</td>\n",
       "    </tr>\n",
       "    <tr>\n",
       "      <th>4</th>\n",
       "      <td>1600</td>\n",
       "      <td>Above the Line</td>\n",
       "      <td>1416167.22</td>\n",
       "      <td>1.188980e+06</td>\n",
       "      <td>Cuenta General</td>\n",
       "      <td>NaN</td>\n",
       "      <td>227187.455</td>\n",
       "    </tr>\n",
       "    <tr>\n",
       "      <th>...</th>\n",
       "      <td>...</td>\n",
       "      <td>...</td>\n",
       "      <td>...</td>\n",
       "      <td>...</td>\n",
       "      <td>...</td>\n",
       "      <td>...</td>\n",
       "      <td>...</td>\n",
       "    </tr>\n",
       "    <tr>\n",
       "      <th>2473</th>\n",
       "      <td>7230-001</td>\n",
       "      <td>Others</td>\n",
       "      <td>0.00</td>\n",
       "      <td>7.050755e+03</td>\n",
       "      <td>Detalle</td>\n",
       "      <td>NaN</td>\n",
       "      <td>-7050.755</td>\n",
       "    </tr>\n",
       "    <tr>\n",
       "      <th>2474</th>\n",
       "      <td>7230-002</td>\n",
       "      <td>Others</td>\n",
       "      <td>0.00</td>\n",
       "      <td>1.143691e+04</td>\n",
       "      <td>Detalle</td>\n",
       "      <td>NaN</td>\n",
       "      <td>-11436.910</td>\n",
       "    </tr>\n",
       "    <tr>\n",
       "      <th>2475</th>\n",
       "      <td>7230-003</td>\n",
       "      <td>Others</td>\n",
       "      <td>0.00</td>\n",
       "      <td>1.217892e+04</td>\n",
       "      <td>Detalle</td>\n",
       "      <td>NaN</td>\n",
       "      <td>-12178.920</td>\n",
       "    </tr>\n",
       "    <tr>\n",
       "      <th>2476</th>\n",
       "      <td>7230-004</td>\n",
       "      <td>Others</td>\n",
       "      <td>0.00</td>\n",
       "      <td>3.025870e+03</td>\n",
       "      <td>Detalle</td>\n",
       "      <td>NaN</td>\n",
       "      <td>-3025.870</td>\n",
       "    </tr>\n",
       "    <tr>\n",
       "      <th>2477</th>\n",
       "      <td>7230-005</td>\n",
       "      <td>Others</td>\n",
       "      <td>0.00</td>\n",
       "      <td>1.320290e+03</td>\n",
       "      <td>Detalle</td>\n",
       "      <td>NaN</td>\n",
       "      <td>-1320.290</td>\n",
       "    </tr>\n",
       "  </tbody>\n",
       "</table>\n",
       "<p>2478 rows × 7 columns</p>\n",
       "</div>"
      ],
      "text/plain": [
       "          ACCT            TIPO       BUDGET  COST TO DATE             REF  \\\n",
       "0         1100  Above the Line  10065000.00  1.006500e+07  Cuenta General   \n",
       "1         1200  Above the Line   9449620.00  9.361342e+06  Cuenta General   \n",
       "2         1300  Above the Line   2810543.88  2.663851e+06  Cuenta General   \n",
       "3         1400  Above the Line  11960556.35  1.389992e+07  Cuenta General   \n",
       "4         1600  Above the Line   1416167.22  1.188980e+06  Cuenta General   \n",
       "...        ...             ...          ...           ...             ...   \n",
       "2473  7230-001          Others         0.00  7.050755e+03         Detalle   \n",
       "2474  7230-002          Others         0.00  1.143691e+04         Detalle   \n",
       "2475  7230-003          Others         0.00  1.217892e+04         Detalle   \n",
       "2476  7230-004          Others         0.00  3.025870e+03         Detalle   \n",
       "2477  7230-005          Others         0.00  1.320290e+03         Detalle   \n",
       "\n",
       "     Etapa     VARIANCE  \n",
       "0      NaN       -0.080  \n",
       "1      NaN    88277.690  \n",
       "2      NaN   146693.350  \n",
       "3      NaN -1939365.675  \n",
       "4      NaN   227187.455  \n",
       "...    ...          ...  \n",
       "2473   NaN    -7050.755  \n",
       "2474   NaN   -11436.910  \n",
       "2475   NaN   -12178.920  \n",
       "2476   NaN    -3025.870  \n",
       "2477   NaN    -1320.290  \n",
       "\n",
       "[2478 rows x 7 columns]"
      ]
     },
     "execution_count": 28,
     "metadata": {},
     "output_type": "execute_result"
    }
   ],
   "source": [
    "final_cost_report"
   ]
  },
  {
   "cell_type": "code",
   "execution_count": 51,
   "id": "bc720131",
   "metadata": {},
   "outputs": [],
   "source": [
    "#agrupamos todas las categorias que van dentro de shoot para ver el budget total\n",
    "\n",
    "categorias_shoot = [\n",
    "    'ALL SHOW', '2nd Unit', 'COVID', 'Fringes',\n",
    "]\n",
    "\n",
    "# Si Etapa es exactamente igual a alguna de estas, cambia a 'shoot'\n",
    "final_cost_report[\"Etapa\"] = final_cost_report[\"Etapa\"].replace(categorias_shoot, \"SHOOT\")\n",
    "\n",
    "final_cost_report[\"Etapa\"] = np.where(\n",
    "    final_cost_report[\"Etapa\"].isin(categorias_shoot), \n",
    "    \"SHOOT\", \n",
    "    final_cost_report[\"Etapa\"]\n",
    ")\n",
    "\n"
   ]
  },
  {
   "cell_type": "code",
   "execution_count": 52,
   "id": "b97706af",
   "metadata": {},
   "outputs": [
    {
     "name": "stdout",
     "output_type": "stream",
     "text": [
      "\n",
      "Presupuesto asignado por etapa:\n",
      "      Etapa       BUDGET\n",
      "      SHOOT $100,328,918\n",
      "       POST  $11,659,353\n",
      "DEVELOPMENT  $10,171,000\n",
      "       PREP   $9,104,498\n",
      "       WRAP   $2,877,097\n",
      "       SOFT     $957,045\n"
     ]
    }
   ],
   "source": [
    "budget_por_etapa = final_cost_report.groupby(\"Etapa\", as_index=False)[\"BUDGET\"].sum()\n",
    "\n",
    "# Ordenar de mayor a menor \n",
    "budget_por_etapa = budget_por_etapa.sort_values(\"BUDGET\", ascending=False)\n",
    "\n",
    "budget_por_etapa[\"BUDGET\"] = budget_por_etapa[\"BUDGET\"].apply(lambda x: f\"${x:,.0f}\")\n",
    "\n",
    "print(\"\\nPresupuesto asignado por etapa:\")\n",
    "print(budget_por_etapa.to_string(index=False))\n"
   ]
  },
  {
   "cell_type": "markdown",
   "id": "44f562ff",
   "metadata": {},
   "source": [
    "Sacamos el budget por tipo y sacamos el porcentaje de ahorro en comparacion a su budget"
   ]
  },
  {
   "cell_type": "code",
   "execution_count": 53,
   "id": "695387f7",
   "metadata": {},
   "outputs": [
    {
     "name": "stdout",
     "output_type": "stream",
     "text": [
      "\n",
      "Porcentaje de ahorro por etapa:\n",
      "      Etapa       BUDGET COST TO DATE DIFERENCIA % AHORRO\n",
      "DEVELOPMENT  $10,171,000  $10,165,540     $5,460    0.05%\n",
      "       POST  $11,659,353  $10,835,362   $823,991    7.07%\n",
      "       PREP   $9,104,498   $9,163,160   $-58,662   -0.64%\n",
      "      SHOOT $100,328,918 $100,565,711  $-236,793   -0.24%\n",
      "       SOFT     $957,045     $983,295   $-26,250   -2.74%\n",
      "       WRAP   $2,877,097   $2,597,238   $279,859    9.73%\n"
     ]
    }
   ],
   "source": [
    "# Agrupar por 'Etapa' y sumar Budget y Cost to Date\n",
    "ahorro_etapa = final_cost_report.groupby(\"Etapa\", as_index=False)[[\"BUDGET\", \"COST TO DATE\"]].sum()\n",
    "\n",
    "# Calcular la diferencia y el porcentaje de ahorro\n",
    "ahorro_etapa[\"DIFERENCIA\"] = ahorro_etapa[\"BUDGET\"] - ahorro_etapa[\"COST TO DATE\"]\n",
    "ahorro_etapa[\"% AHORRO\"] = ((ahorro_etapa[\"DIFERENCIA\"]) / ahorro_etapa[\"BUDGET\"]) * 100\n",
    "\n",
    "# Formatear columnas para que luzcan bonitas\n",
    "ahorro_etapa[\"BUDGET\"] = ahorro_etapa[\"BUDGET\"].apply(lambda x: f\"${x:,.0f}\")\n",
    "ahorro_etapa[\"COST TO DATE\"] = ahorro_etapa[\"COST TO DATE\"].apply(lambda x: f\"${x:,.0f}\")\n",
    "ahorro_etapa[\"DIFERENCIA\"] = ahorro_etapa[\"DIFERENCIA\"].apply(lambda x: f\"${x:,.0f}\")\n",
    "ahorro_etapa[\"% AHORRO\"] = ahorro_etapa[\"% AHORRO\"].apply(lambda x: f\"{x:.2f}%\")\n",
    "\n",
    "print(\"\\nPorcentaje de ahorro por etapa:\")\n",
    "print(ahorro_etapa.to_string(index=False))\n",
    "\n"
   ]
  }
 ],
 "metadata": {
  "kernelspec": {
   "display_name": "Python 3 (ipykernel)",
   "language": "python",
   "name": "python3"
  },
  "language_info": {
   "codemirror_mode": {
    "name": "ipython",
    "version": 3
   },
   "file_extension": ".py",
   "mimetype": "text/x-python",
   "name": "python",
   "nbconvert_exporter": "python",
   "pygments_lexer": "ipython3",
   "version": "3.11.5"
  }
 },
 "nbformat": 4,
 "nbformat_minor": 5
}
