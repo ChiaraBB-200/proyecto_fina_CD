{
 "cells": [
  {
   "cell_type": "code",
   "execution_count": 61,
   "id": "45dc761d-efd3-498e-a592-b24d060f5b25",
   "metadata": {},
   "outputs": [],
   "source": [
    "import pandas as pd\n",
    "import seaborn as snb\n",
    "import matplotlib.pyplot as plt\n",
    "import plotly.express as px"
   ]
  },
  {
   "cell_type": "code",
   "execution_count": 62,
   "id": "a4364920-619c-4b40-93c7-92ceaab75539",
   "metadata": {},
   "outputs": [
    {
     "data": {
      "text/html": [
       "<div>\n",
       "<style scoped>\n",
       "    .dataframe tbody tr th:only-of-type {\n",
       "        vertical-align: middle;\n",
       "    }\n",
       "\n",
       "    .dataframe tbody tr th {\n",
       "        vertical-align: top;\n",
       "    }\n",
       "\n",
       "    .dataframe thead th {\n",
       "        text-align: right;\n",
       "    }\n",
       "</style>\n",
       "<table border=\"1\" class=\"dataframe\">\n",
       "  <thead>\n",
       "    <tr style=\"text-align: right;\">\n",
       "      <th></th>\n",
       "      <th>Unnamed: 0</th>\n",
       "      <th>Unnamed: 1</th>\n",
       "      <th>Unnamed: 2</th>\n",
       "      <th>Unnamed: 3</th>\n",
       "      <th>Unnamed: 4</th>\n",
       "      <th>Unnamed: 5</th>\n",
       "      <th>Unnamed: 6</th>\n",
       "      <th>Unnamed: 7</th>\n",
       "      <th>Unnamed: 8</th>\n",
       "      <th>Unnamed: 9</th>\n",
       "      <th>Unnamed: 10</th>\n",
       "    </tr>\n",
       "  </thead>\n",
       "  <tbody>\n",
       "    <tr>\n",
       "      <th>0</th>\n",
       "      <td>TIPO</td>\n",
       "      <td>REF</td>\n",
       "      <td>Etapa</td>\n",
       "      <td>Sección</td>\n",
       "      <td>ACCT</td>\n",
       "      <td>NaN</td>\n",
       "      <td>BUDGET</td>\n",
       "      <td>NaN</td>\n",
       "      <td>ALL</td>\n",
       "      <td>NaN</td>\n",
       "      <td>Costo</td>\n",
       "    </tr>\n",
       "    <tr>\n",
       "      <th>1</th>\n",
       "      <td>Above the Line</td>\n",
       "      <td>Cuenta General</td>\n",
       "      <td>NaN</td>\n",
       "      <td>NaN</td>\n",
       "      <td>1100</td>\n",
       "      <td>NaN</td>\n",
       "      <td>10065000</td>\n",
       "      <td>NaN</td>\n",
       "      <td>DEVELOPMENT</td>\n",
       "      <td>NaN</td>\n",
       "      <td>Balance</td>\n",
       "    </tr>\n",
       "    <tr>\n",
       "      <th>2</th>\n",
       "      <td>Above the Line</td>\n",
       "      <td>Sub cuenta</td>\n",
       "      <td>NaN</td>\n",
       "      <td>NaN</td>\n",
       "      <td>1101</td>\n",
       "      <td>NaN</td>\n",
       "      <td>8340000</td>\n",
       "      <td>NaN</td>\n",
       "      <td>ALL SHOW</td>\n",
       "      <td>NaN</td>\n",
       "      <td>Petty Cash</td>\n",
       "    </tr>\n",
       "    <tr>\n",
       "      <th>3</th>\n",
       "      <td>Above the Line</td>\n",
       "      <td>Detalle</td>\n",
       "      <td>NaN</td>\n",
       "      <td>NaN</td>\n",
       "      <td>1101-002</td>\n",
       "      <td>NaN</td>\n",
       "      <td>0</td>\n",
       "      <td>NaN</td>\n",
       "      <td>SOFT</td>\n",
       "      <td>NaN</td>\n",
       "      <td>NaN</td>\n",
       "    </tr>\n",
       "    <tr>\n",
       "      <th>4</th>\n",
       "      <td>Above the Line</td>\n",
       "      <td>Detalle</td>\n",
       "      <td>NaN</td>\n",
       "      <td>NaN</td>\n",
       "      <td>1101-004</td>\n",
       "      <td>NaN</td>\n",
       "      <td>0</td>\n",
       "      <td>NaN</td>\n",
       "      <td>PREP</td>\n",
       "      <td>NaN</td>\n",
       "      <td>NaN</td>\n",
       "    </tr>\n",
       "    <tr>\n",
       "      <th>...</th>\n",
       "      <td>...</td>\n",
       "      <td>...</td>\n",
       "      <td>...</td>\n",
       "      <td>...</td>\n",
       "      <td>...</td>\n",
       "      <td>...</td>\n",
       "      <td>...</td>\n",
       "      <td>...</td>\n",
       "      <td>...</td>\n",
       "      <td>...</td>\n",
       "      <td>...</td>\n",
       "    </tr>\n",
       "    <tr>\n",
       "      <th>2474</th>\n",
       "      <td>Others</td>\n",
       "      <td>Detalle</td>\n",
       "      <td>NaN</td>\n",
       "      <td>NaN</td>\n",
       "      <td>7230-001</td>\n",
       "      <td>NaN</td>\n",
       "      <td>0</td>\n",
       "      <td>NaN</td>\n",
       "      <td>NaN</td>\n",
       "      <td>NaN</td>\n",
       "      <td>NaN</td>\n",
       "    </tr>\n",
       "    <tr>\n",
       "      <th>2475</th>\n",
       "      <td>Others</td>\n",
       "      <td>Detalle</td>\n",
       "      <td>NaN</td>\n",
       "      <td>NaN</td>\n",
       "      <td>7230-002</td>\n",
       "      <td>NaN</td>\n",
       "      <td>0</td>\n",
       "      <td>NaN</td>\n",
       "      <td>NaN</td>\n",
       "      <td>NaN</td>\n",
       "      <td>NaN</td>\n",
       "    </tr>\n",
       "    <tr>\n",
       "      <th>2476</th>\n",
       "      <td>Others</td>\n",
       "      <td>Detalle</td>\n",
       "      <td>NaN</td>\n",
       "      <td>NaN</td>\n",
       "      <td>7230-003</td>\n",
       "      <td>NaN</td>\n",
       "      <td>0</td>\n",
       "      <td>NaN</td>\n",
       "      <td>NaN</td>\n",
       "      <td>NaN</td>\n",
       "      <td>NaN</td>\n",
       "    </tr>\n",
       "    <tr>\n",
       "      <th>2477</th>\n",
       "      <td>Others</td>\n",
       "      <td>Detalle</td>\n",
       "      <td>NaN</td>\n",
       "      <td>NaN</td>\n",
       "      <td>7230-004</td>\n",
       "      <td>NaN</td>\n",
       "      <td>0</td>\n",
       "      <td>NaN</td>\n",
       "      <td>NaN</td>\n",
       "      <td>NaN</td>\n",
       "      <td>NaN</td>\n",
       "    </tr>\n",
       "    <tr>\n",
       "      <th>2478</th>\n",
       "      <td>Others</td>\n",
       "      <td>Detalle</td>\n",
       "      <td>NaN</td>\n",
       "      <td>NaN</td>\n",
       "      <td>7230-005</td>\n",
       "      <td>NaN</td>\n",
       "      <td>0</td>\n",
       "      <td>NaN</td>\n",
       "      <td>NaN</td>\n",
       "      <td>NaN</td>\n",
       "      <td>NaN</td>\n",
       "    </tr>\n",
       "  </tbody>\n",
       "</table>\n",
       "<p>2479 rows × 11 columns</p>\n",
       "</div>"
      ],
      "text/plain": [
       "          Unnamed: 0      Unnamed: 1 Unnamed: 2 Unnamed: 3 Unnamed: 4  \\\n",
       "0               TIPO             REF      Etapa    Sección       ACCT   \n",
       "1     Above the Line  Cuenta General        NaN        NaN       1100   \n",
       "2     Above the Line      Sub cuenta        NaN        NaN       1101   \n",
       "3     Above the Line         Detalle        NaN        NaN   1101-002   \n",
       "4     Above the Line         Detalle        NaN        NaN   1101-004   \n",
       "...              ...             ...        ...        ...        ...   \n",
       "2474          Others         Detalle        NaN        NaN   7230-001   \n",
       "2475          Others         Detalle        NaN        NaN   7230-002   \n",
       "2476          Others         Detalle        NaN        NaN   7230-003   \n",
       "2477          Others         Detalle        NaN        NaN   7230-004   \n",
       "2478          Others         Detalle        NaN        NaN   7230-005   \n",
       "\n",
       "      Unnamed: 5 Unnamed: 6  Unnamed: 7   Unnamed: 8  Unnamed: 9 Unnamed: 10  \n",
       "0            NaN     BUDGET         NaN          ALL         NaN       Costo  \n",
       "1            NaN   10065000         NaN  DEVELOPMENT         NaN     Balance  \n",
       "2            NaN    8340000         NaN     ALL SHOW         NaN  Petty Cash  \n",
       "3            NaN          0         NaN         SOFT         NaN         NaN  \n",
       "4            NaN          0         NaN         PREP         NaN         NaN  \n",
       "...          ...        ...         ...          ...         ...         ...  \n",
       "2474         NaN          0         NaN          NaN         NaN         NaN  \n",
       "2475         NaN          0         NaN          NaN         NaN         NaN  \n",
       "2476         NaN          0         NaN          NaN         NaN         NaN  \n",
       "2477         NaN          0         NaN          NaN         NaN         NaN  \n",
       "2478         NaN          0         NaN          NaN         NaN         NaN  \n",
       "\n",
       "[2479 rows x 11 columns]"
      ]
     },
     "execution_count": 62,
     "metadata": {},
     "output_type": "execute_result"
    }
   ],
   "source": [
    "data = pd.read_excel(\"BASE.xls\",sheet_name=\"Budget\")\n",
    "data"
   ]
  },
  {
   "cell_type": "code",
   "execution_count": 63,
   "id": "40b2c008-d407-41ef-ab41-b99958e6e347",
   "metadata": {},
   "outputs": [
    {
     "data": {
      "text/html": [
       "<div>\n",
       "<style scoped>\n",
       "    .dataframe tbody tr th:only-of-type {\n",
       "        vertical-align: middle;\n",
       "    }\n",
       "\n",
       "    .dataframe tbody tr th {\n",
       "        vertical-align: top;\n",
       "    }\n",
       "\n",
       "    .dataframe thead th {\n",
       "        text-align: right;\n",
       "    }\n",
       "</style>\n",
       "<table border=\"1\" class=\"dataframe\">\n",
       "  <thead>\n",
       "    <tr style=\"text-align: right;\">\n",
       "      <th>1</th>\n",
       "      <th>TIPO</th>\n",
       "      <th>REF</th>\n",
       "      <th>Etapa</th>\n",
       "      <th>Sección</th>\n",
       "      <th>ACCT</th>\n",
       "      <th>NaN</th>\n",
       "      <th>BUDGET</th>\n",
       "      <th>NaN</th>\n",
       "      <th>ALL</th>\n",
       "      <th>NaN</th>\n",
       "      <th>Costo</th>\n",
       "    </tr>\n",
       "  </thead>\n",
       "  <tbody>\n",
       "    <tr>\n",
       "      <th>2</th>\n",
       "      <td>Above the Line</td>\n",
       "      <td>Cuenta General</td>\n",
       "      <td>NaN</td>\n",
       "      <td>NaN</td>\n",
       "      <td>1100</td>\n",
       "      <td>NaN</td>\n",
       "      <td>10065000</td>\n",
       "      <td>NaN</td>\n",
       "      <td>DEVELOPMENT</td>\n",
       "      <td>NaN</td>\n",
       "      <td>Balance</td>\n",
       "    </tr>\n",
       "    <tr>\n",
       "      <th>3</th>\n",
       "      <td>Above the Line</td>\n",
       "      <td>Sub cuenta</td>\n",
       "      <td>NaN</td>\n",
       "      <td>NaN</td>\n",
       "      <td>1101</td>\n",
       "      <td>NaN</td>\n",
       "      <td>8340000</td>\n",
       "      <td>NaN</td>\n",
       "      <td>ALL SHOW</td>\n",
       "      <td>NaN</td>\n",
       "      <td>Petty Cash</td>\n",
       "    </tr>\n",
       "    <tr>\n",
       "      <th>4</th>\n",
       "      <td>Above the Line</td>\n",
       "      <td>Detalle</td>\n",
       "      <td>NaN</td>\n",
       "      <td>NaN</td>\n",
       "      <td>1101-002</td>\n",
       "      <td>NaN</td>\n",
       "      <td>0</td>\n",
       "      <td>NaN</td>\n",
       "      <td>SOFT</td>\n",
       "      <td>NaN</td>\n",
       "      <td>NaN</td>\n",
       "    </tr>\n",
       "    <tr>\n",
       "      <th>5</th>\n",
       "      <td>Above the Line</td>\n",
       "      <td>Detalle</td>\n",
       "      <td>NaN</td>\n",
       "      <td>NaN</td>\n",
       "      <td>1101-004</td>\n",
       "      <td>NaN</td>\n",
       "      <td>0</td>\n",
       "      <td>NaN</td>\n",
       "      <td>PREP</td>\n",
       "      <td>NaN</td>\n",
       "      <td>NaN</td>\n",
       "    </tr>\n",
       "    <tr>\n",
       "      <th>6</th>\n",
       "      <td>Above the Line</td>\n",
       "      <td>Detalle</td>\n",
       "      <td>DEVELOPMENT</td>\n",
       "      <td>NaN</td>\n",
       "      <td>1101-005</td>\n",
       "      <td>NaN</td>\n",
       "      <td>1400000</td>\n",
       "      <td>NaN</td>\n",
       "      <td>SHOOT</td>\n",
       "      <td>NaN</td>\n",
       "      <td>NaN</td>\n",
       "    </tr>\n",
       "  </tbody>\n",
       "</table>\n",
       "</div>"
      ],
      "text/plain": [
       "1            TIPO             REF        Etapa Sección      ACCT  NaN  \\\n",
       "2  Above the Line  Cuenta General          NaN     NaN      1100  NaN   \n",
       "3  Above the Line      Sub cuenta          NaN     NaN      1101  NaN   \n",
       "4  Above the Line         Detalle          NaN     NaN  1101-002  NaN   \n",
       "5  Above the Line         Detalle          NaN     NaN  1101-004  NaN   \n",
       "6  Above the Line         Detalle  DEVELOPMENT     NaN  1101-005  NaN   \n",
       "\n",
       "1    BUDGET  NaN          ALL  NaN       Costo  \n",
       "2  10065000  NaN  DEVELOPMENT  NaN     Balance  \n",
       "3   8340000  NaN     ALL SHOW  NaN  Petty Cash  \n",
       "4         0  NaN         SOFT  NaN         NaN  \n",
       "5         0  NaN         PREP  NaN         NaN  \n",
       "6   1400000  NaN        SHOOT  NaN         NaN  "
      ]
     },
     "execution_count": 63,
     "metadata": {},
     "output_type": "execute_result"
    }
   ],
   "source": [
    "data = pd.read_excel('BASE.xls', sheet_name='Budget', header=None)\n",
    "data.columns = data.iloc[1]  \n",
    "data = data.drop([0, 1])  \n",
    "data.head()"
   ]
  },
  {
   "cell_type": "code",
   "execution_count": 64,
   "id": "3b6392f7-e99e-43de-9055-9fd21edd9fb0",
   "metadata": {},
   "outputs": [
    {
     "data": {
      "text/html": [
       "<div>\n",
       "<style scoped>\n",
       "    .dataframe tbody tr th:only-of-type {\n",
       "        vertical-align: middle;\n",
       "    }\n",
       "\n",
       "    .dataframe tbody tr th {\n",
       "        vertical-align: top;\n",
       "    }\n",
       "\n",
       "    .dataframe thead th {\n",
       "        text-align: right;\n",
       "    }\n",
       "</style>\n",
       "<table border=\"1\" class=\"dataframe\">\n",
       "  <thead>\n",
       "    <tr style=\"text-align: right;\">\n",
       "      <th>1</th>\n",
       "      <th>TIPO</th>\n",
       "      <th>REF</th>\n",
       "      <th>Etapa</th>\n",
       "      <th>Sección</th>\n",
       "      <th>ACCT</th>\n",
       "      <th>NaN</th>\n",
       "      <th>BUDGET</th>\n",
       "      <th>NaN</th>\n",
       "      <th>ALL</th>\n",
       "      <th>NaN</th>\n",
       "      <th>Costo</th>\n",
       "    </tr>\n",
       "  </thead>\n",
       "  <tbody>\n",
       "    <tr>\n",
       "      <th>2475</th>\n",
       "      <td>Others</td>\n",
       "      <td>Detalle</td>\n",
       "      <td>NaN</td>\n",
       "      <td>NaN</td>\n",
       "      <td>7230-001</td>\n",
       "      <td>NaN</td>\n",
       "      <td>0</td>\n",
       "      <td>NaN</td>\n",
       "      <td>NaN</td>\n",
       "      <td>NaN</td>\n",
       "      <td>NaN</td>\n",
       "    </tr>\n",
       "    <tr>\n",
       "      <th>2476</th>\n",
       "      <td>Others</td>\n",
       "      <td>Detalle</td>\n",
       "      <td>NaN</td>\n",
       "      <td>NaN</td>\n",
       "      <td>7230-002</td>\n",
       "      <td>NaN</td>\n",
       "      <td>0</td>\n",
       "      <td>NaN</td>\n",
       "      <td>NaN</td>\n",
       "      <td>NaN</td>\n",
       "      <td>NaN</td>\n",
       "    </tr>\n",
       "    <tr>\n",
       "      <th>2477</th>\n",
       "      <td>Others</td>\n",
       "      <td>Detalle</td>\n",
       "      <td>NaN</td>\n",
       "      <td>NaN</td>\n",
       "      <td>7230-003</td>\n",
       "      <td>NaN</td>\n",
       "      <td>0</td>\n",
       "      <td>NaN</td>\n",
       "      <td>NaN</td>\n",
       "      <td>NaN</td>\n",
       "      <td>NaN</td>\n",
       "    </tr>\n",
       "    <tr>\n",
       "      <th>2478</th>\n",
       "      <td>Others</td>\n",
       "      <td>Detalle</td>\n",
       "      <td>NaN</td>\n",
       "      <td>NaN</td>\n",
       "      <td>7230-004</td>\n",
       "      <td>NaN</td>\n",
       "      <td>0</td>\n",
       "      <td>NaN</td>\n",
       "      <td>NaN</td>\n",
       "      <td>NaN</td>\n",
       "      <td>NaN</td>\n",
       "    </tr>\n",
       "    <tr>\n",
       "      <th>2479</th>\n",
       "      <td>Others</td>\n",
       "      <td>Detalle</td>\n",
       "      <td>NaN</td>\n",
       "      <td>NaN</td>\n",
       "      <td>7230-005</td>\n",
       "      <td>NaN</td>\n",
       "      <td>0</td>\n",
       "      <td>NaN</td>\n",
       "      <td>NaN</td>\n",
       "      <td>NaN</td>\n",
       "      <td>NaN</td>\n",
       "    </tr>\n",
       "  </tbody>\n",
       "</table>\n",
       "</div>"
      ],
      "text/plain": [
       "1       TIPO      REF Etapa Sección      ACCT  NaN BUDGET  NaN  ALL  NaN Costo\n",
       "2475  Others  Detalle   NaN     NaN  7230-001  NaN      0  NaN  NaN  NaN   NaN\n",
       "2476  Others  Detalle   NaN     NaN  7230-002  NaN      0  NaN  NaN  NaN   NaN\n",
       "2477  Others  Detalle   NaN     NaN  7230-003  NaN      0  NaN  NaN  NaN   NaN\n",
       "2478  Others  Detalle   NaN     NaN  7230-004  NaN      0  NaN  NaN  NaN   NaN\n",
       "2479  Others  Detalle   NaN     NaN  7230-005  NaN      0  NaN  NaN  NaN   NaN"
      ]
     },
     "execution_count": 64,
     "metadata": {},
     "output_type": "execute_result"
    }
   ],
   "source": [
    "data.tail()"
   ]
  },
  {
   "cell_type": "code",
   "execution_count": 65,
   "id": "d5e85c86-c61a-49db-b749-d95934d64378",
   "metadata": {},
   "outputs": [
    {
     "name": "stdout",
     "output_type": "stream",
     "text": [
      "<class 'pandas.core.frame.DataFrame'>\n",
      "RangeIndex: 2478 entries, 2 to 2479\n",
      "Data columns (total 11 columns):\n",
      " #   Column   Non-Null Count  Dtype  \n",
      "---  ------   --------------  -----  \n",
      " 0   TIPO     2478 non-null   object \n",
      " 1   REF      2478 non-null   object \n",
      " 2   Etapa    1563 non-null   object \n",
      " 3   Sección  0 non-null      object \n",
      " 4   ACCT     2478 non-null   object \n",
      " 5   nan      0 non-null      float64\n",
      " 6   BUDGET   2455 non-null   object \n",
      " 7   nan      20 non-null     float64\n",
      " 8   ALL      34 non-null     object \n",
      " 9   nan      0 non-null      float64\n",
      " 10  Costo    2 non-null      object \n",
      "dtypes: float64(3), object(8)\n",
      "memory usage: 213.1+ KB\n"
     ]
    }
   ],
   "source": [
    "data.info()"
   ]
  },
  {
   "cell_type": "code",
   "execution_count": 66,
   "id": "ede0da40-e66d-4b2a-b891-cbb088499ca6",
   "metadata": {
    "scrolled": true
   },
   "outputs": [
    {
     "name": "stdout",
     "output_type": "stream",
     "text": [
      "Index([   'TIPO',     'REF',   'Etapa', 'Sección',    'ACCT',       nan,\n",
      "        'BUDGET',       nan,     'ALL',       nan,   'Costo'],\n",
      "      dtype='object', name=1)\n"
     ]
    }
   ],
   "source": [
    "print(data.columns)"
   ]
  },
  {
   "cell_type": "code",
   "execution_count": 67,
   "id": "c006996c-3376-404d-8323-81bb103011a9",
   "metadata": {},
   "outputs": [
    {
     "name": "stdout",
     "output_type": "stream",
     "text": [
      "['1100', '1200', '1300', '1400', '1600', '2000', '2100', '2200', '2300', '2400', '2500', '2600', '2700', '2800', '2900', '3000', '3100', '3200', '3300', '3400', '3500', '3600', '3700', '3800', '3900', '4100', '5000', '5100', '5200', '5300', '5400', '6000', '6100', '7000', '7200']\n"
     ]
    }
   ],
   "source": [
    "cuentas_generales = data[data[\"REF\"] == \"Cuenta General\"]\n",
    "codigos_cuentas_generales = cuentas_generales[\"ACCT\"].unique().tolist()\n",
    "print(codigos_cuentas_generales)\n"
   ]
  },
  {
   "cell_type": "code",
   "execution_count": 68,
   "id": "0d9f5098-5718-4f62-9254-baad890ffc63",
   "metadata": {},
   "outputs": [
    {
     "data": {
      "text/plain": [
       "ACCT\n",
       "3400       15001515\n",
       "7000       13503510\n",
       "1400    11960556.03\n",
       "3100       11484172\n",
       "1100       10065000\n",
       "1200        9449620\n",
       "3600        7591103\n",
       "2000        6668300\n",
       "3900     5965292.85\n",
       "2400        5268025\n",
       "5000        4891351\n",
       "6000        3833200\n",
       "2700        2972500\n",
       "1300     2810543.88\n",
       "5100        2206500\n",
       "5200        1843600\n",
       "2200        1825740\n",
       "3000        1624362\n",
       "2100        1614000\n",
       "7200        1485676\n",
       "6100        1452334\n",
       "4100        1451938\n",
       "2300        1427550\n",
       "1600     1416166.53\n",
       "2800        1208200\n",
       "3200        1139000\n",
       "2600        1115250\n",
       "2500        1009000\n",
       "3700         810000\n",
       "3800         747019\n",
       "2900         630387\n",
       "3500         281000\n",
       "3300         165500\n",
       "5400         100000\n",
       "5300          80000\n",
       "Name: BUDGET, dtype: object"
      ]
     },
     "execution_count": 68,
     "metadata": {},
     "output_type": "execute_result"
    }
   ],
   "source": [
    "cuentas_generales = data[data[\"REF\"] == \"Cuenta General\"]\n",
    "presupuestos_por_cuenta = cuentas_generales.groupby(\"ACCT\")[\"BUDGET\"].sum().sort_values(ascending=False)\n",
    "presupuestos_por_cuenta"
   ]
  },
  {
   "cell_type": "code",
   "execution_count": 17,
   "id": "48e09ebd-0fee-469d-b6a3-3fe8ad0adc51",
   "metadata": {},
   "outputs": [],
   "source": [
    "#data.columns = data.columns.str.strip()\n",
    "#data = data.dropna(axis=1, how=\"all\")         # columnas vacías\n",
    "#data = data.dropna(how=\"all\")                 # filas vacías\n",
    "#data = data.drop_duplicates()                 # filas duplicadas\n",
    "#data[\"BUDGET\"] = pd.to_numeric(data[\"BUDGET\"], errors=\"coerce\")\n",
    "#data = data[data[\"BUDGET\"].notna()]\n",
    "#data = data[data[\"ACCT\"].notna()]\n",
    "#data[\"REF\"] = data[\"REF\"].str.strip().str.lower()\n",
    "#subcuentas = data[data[\"REF\"] == \"sub cuenta\"]\n",
    "#data = data[data[\"BUDGET\"] > 0]"
   ]
  },
  {
   "cell_type": "code",
   "execution_count": 69,
   "id": "ec63af94-e0bc-4170-9a91-589d7d72faed",
   "metadata": {},
   "outputs": [],
   "source": [
    "# Paso 1: Detectar automáticamente todas las columnas con nombre NaN\n",
    "columnas_nan = [col for col in data.columns if pd.isna(col)]\n",
    "\n",
    "# Paso 2: Definir las columnas con nombre a eliminar\n",
    "columnas_a_eliminar = [\"Sección\", \"ALL\", \"Costo\"] + columnas_nan\n",
    "\n",
    "# Paso 3: Eliminar todas las columnas (por nombre y por NaN)\n",
    "data = data.drop(columns=columnas_a_eliminar, errors=\"ignore\")\n"
   ]
  },
  {
   "cell_type": "code",
   "execution_count": 74,
   "metadata": {},
   "outputs": [],
   "source": [
    "data.to_csv(\"df_budget.csv\", index=False)\n"
   ]
  },
  {
   "cell_type": "code",
   "execution_count": 72,
   "id": "b607271b-ea12-45dd-81e2-59e6652b7349",
   "metadata": {},
   "outputs": [
    {
     "data": {
      "text/html": [
       "<div>\n",
       "<style scoped>\n",
       "    .dataframe tbody tr th:only-of-type {\n",
       "        vertical-align: middle;\n",
       "    }\n",
       "\n",
       "    .dataframe tbody tr th {\n",
       "        vertical-align: top;\n",
       "    }\n",
       "\n",
       "    .dataframe thead th {\n",
       "        text-align: right;\n",
       "    }\n",
       "</style>\n",
       "<table border=\"1\" class=\"dataframe\">\n",
       "  <thead>\n",
       "    <tr style=\"text-align: right;\">\n",
       "      <th>1</th>\n",
       "      <th>TIPO</th>\n",
       "      <th>REF</th>\n",
       "      <th>Etapa</th>\n",
       "      <th>ACCT</th>\n",
       "      <th>BUDGET</th>\n",
       "    </tr>\n",
       "  </thead>\n",
       "  <tbody>\n",
       "    <tr>\n",
       "      <th>2</th>\n",
       "      <td>Above the Line</td>\n",
       "      <td>Cuenta General</td>\n",
       "      <td>NaN</td>\n",
       "      <td>1100</td>\n",
       "      <td>10065000</td>\n",
       "    </tr>\n",
       "    <tr>\n",
       "      <th>3</th>\n",
       "      <td>Above the Line</td>\n",
       "      <td>Sub cuenta</td>\n",
       "      <td>NaN</td>\n",
       "      <td>1101</td>\n",
       "      <td>8340000</td>\n",
       "    </tr>\n",
       "    <tr>\n",
       "      <th>4</th>\n",
       "      <td>Above the Line</td>\n",
       "      <td>Detalle</td>\n",
       "      <td>NaN</td>\n",
       "      <td>1101-002</td>\n",
       "      <td>0</td>\n",
       "    </tr>\n",
       "    <tr>\n",
       "      <th>5</th>\n",
       "      <td>Above the Line</td>\n",
       "      <td>Detalle</td>\n",
       "      <td>NaN</td>\n",
       "      <td>1101-004</td>\n",
       "      <td>0</td>\n",
       "    </tr>\n",
       "    <tr>\n",
       "      <th>6</th>\n",
       "      <td>Above the Line</td>\n",
       "      <td>Detalle</td>\n",
       "      <td>DEVELOPMENT</td>\n",
       "      <td>1101-005</td>\n",
       "      <td>1400000</td>\n",
       "    </tr>\n",
       "  </tbody>\n",
       "</table>\n",
       "</div>"
      ],
      "text/plain": [
       "1            TIPO             REF        Etapa      ACCT    BUDGET\n",
       "2  Above the Line  Cuenta General          NaN      1100  10065000\n",
       "3  Above the Line      Sub cuenta          NaN      1101   8340000\n",
       "4  Above the Line         Detalle          NaN  1101-002         0\n",
       "5  Above the Line         Detalle          NaN  1101-004         0\n",
       "6  Above the Line         Detalle  DEVELOPMENT  1101-005   1400000"
      ]
     },
     "execution_count": 72,
     "metadata": {},
     "output_type": "execute_result"
    }
   ],
   "source": [
    "data.head()"
   ]
  },
  {
   "cell_type": "code",
   "execution_count": 73,
   "id": "da5cc4fb-becc-4f34-9c00-ba8dbbab7834",
   "metadata": {},
   "outputs": [
    {
     "data": {
      "text/html": [
       "<div>\n",
       "<style scoped>\n",
       "    .dataframe tbody tr th:only-of-type {\n",
       "        vertical-align: middle;\n",
       "    }\n",
       "\n",
       "    .dataframe tbody tr th {\n",
       "        vertical-align: top;\n",
       "    }\n",
       "\n",
       "    .dataframe thead th {\n",
       "        text-align: right;\n",
       "    }\n",
       "</style>\n",
       "<table border=\"1\" class=\"dataframe\">\n",
       "  <thead>\n",
       "    <tr style=\"text-align: right;\">\n",
       "      <th>1</th>\n",
       "      <th>TIPO</th>\n",
       "      <th>REF</th>\n",
       "      <th>Etapa</th>\n",
       "      <th>ACCT</th>\n",
       "      <th>BUDGET</th>\n",
       "    </tr>\n",
       "  </thead>\n",
       "  <tbody>\n",
       "    <tr>\n",
       "      <th>2475</th>\n",
       "      <td>Others</td>\n",
       "      <td>Detalle</td>\n",
       "      <td>NaN</td>\n",
       "      <td>7230-001</td>\n",
       "      <td>0</td>\n",
       "    </tr>\n",
       "    <tr>\n",
       "      <th>2476</th>\n",
       "      <td>Others</td>\n",
       "      <td>Detalle</td>\n",
       "      <td>NaN</td>\n",
       "      <td>7230-002</td>\n",
       "      <td>0</td>\n",
       "    </tr>\n",
       "    <tr>\n",
       "      <th>2477</th>\n",
       "      <td>Others</td>\n",
       "      <td>Detalle</td>\n",
       "      <td>NaN</td>\n",
       "      <td>7230-003</td>\n",
       "      <td>0</td>\n",
       "    </tr>\n",
       "    <tr>\n",
       "      <th>2478</th>\n",
       "      <td>Others</td>\n",
       "      <td>Detalle</td>\n",
       "      <td>NaN</td>\n",
       "      <td>7230-004</td>\n",
       "      <td>0</td>\n",
       "    </tr>\n",
       "    <tr>\n",
       "      <th>2479</th>\n",
       "      <td>Others</td>\n",
       "      <td>Detalle</td>\n",
       "      <td>NaN</td>\n",
       "      <td>7230-005</td>\n",
       "      <td>0</td>\n",
       "    </tr>\n",
       "  </tbody>\n",
       "</table>\n",
       "</div>"
      ],
      "text/plain": [
       "1       TIPO      REF Etapa      ACCT BUDGET\n",
       "2475  Others  Detalle   NaN  7230-001      0\n",
       "2476  Others  Detalle   NaN  7230-002      0\n",
       "2477  Others  Detalle   NaN  7230-003      0\n",
       "2478  Others  Detalle   NaN  7230-004      0\n",
       "2479  Others  Detalle   NaN  7230-005      0"
      ]
     },
     "execution_count": 73,
     "metadata": {},
     "output_type": "execute_result"
    }
   ],
   "source": [
    "data.tail()"
   ]
  },
  {
   "cell_type": "code",
   "execution_count": 58,
   "id": "911d2c90-4872-4d97-bf9c-ba53e7c84dc4",
   "metadata": {},
   "outputs": [
    {
     "data": {
      "application/vnd.plotly.v1+json": {
       "config": {
        "plotlyServerURL": "https://plot.ly"
       },
       "data": [
        {
         "hovertemplate": "Cuenta General=%{x}<br>Presupuesto Total=%{text}<extra></extra>",
         "legendgroup": "3400",
         "marker": {
          "color": "#000004",
          "pattern": {
           "shape": ""
          }
         },
         "name": "3400",
         "orientation": "v",
         "showlegend": true,
         "text": [
          15001515
         ],
         "textposition": "auto",
         "type": "bar",
         "x": [
          "3400"
         ],
         "xaxis": "x",
         "y": [
          15001515
         ],
         "yaxis": "y"
        },
        {
         "hovertemplate": "Cuenta General=%{x}<br>Presupuesto Total=%{text}<extra></extra>",
         "legendgroup": "7000",
         "marker": {
          "color": "#180f3d",
          "pattern": {
           "shape": ""
          }
         },
         "name": "7000",
         "orientation": "v",
         "showlegend": true,
         "text": [
          13503510
         ],
         "textposition": "auto",
         "type": "bar",
         "x": [
          "7000"
         ],
         "xaxis": "x",
         "y": [
          13503510
         ],
         "yaxis": "y"
        },
        {
         "hovertemplate": "Cuenta General=%{x}<br>Presupuesto Total=%{text}<extra></extra>",
         "legendgroup": "1400",
         "marker": {
          "color": "#440f76",
          "pattern": {
           "shape": ""
          }
         },
         "name": "1400",
         "orientation": "v",
         "showlegend": true,
         "text": [
          11960556.03
         ],
         "textposition": "auto",
         "type": "bar",
         "x": [
          "1400"
         ],
         "xaxis": "x",
         "y": [
          11960556.03
         ],
         "yaxis": "y"
        },
        {
         "hovertemplate": "Cuenta General=%{x}<br>Presupuesto Total=%{text}<extra></extra>",
         "legendgroup": "3100",
         "marker": {
          "color": "#721f81",
          "pattern": {
           "shape": ""
          }
         },
         "name": "3100",
         "orientation": "v",
         "showlegend": true,
         "text": [
          11484172
         ],
         "textposition": "auto",
         "type": "bar",
         "x": [
          "3100"
         ],
         "xaxis": "x",
         "y": [
          11484172
         ],
         "yaxis": "y"
        },
        {
         "hovertemplate": "Cuenta General=%{x}<br>Presupuesto Total=%{text}<extra></extra>",
         "legendgroup": "1100",
         "marker": {
          "color": "#9e2f7f",
          "pattern": {
           "shape": ""
          }
         },
         "name": "1100",
         "orientation": "v",
         "showlegend": true,
         "text": [
          10065000
         ],
         "textposition": "auto",
         "type": "bar",
         "x": [
          "1100"
         ],
         "xaxis": "x",
         "y": [
          10065000
         ],
         "yaxis": "y"
        },
        {
         "hovertemplate": "Cuenta General=%{x}<br>Presupuesto Total=%{text}<extra></extra>",
         "legendgroup": "1200",
         "marker": {
          "color": "#cd4071",
          "pattern": {
           "shape": ""
          }
         },
         "name": "1200",
         "orientation": "v",
         "showlegend": true,
         "text": [
          9449620
         ],
         "textposition": "auto",
         "type": "bar",
         "x": [
          "1200"
         ],
         "xaxis": "x",
         "y": [
          9449620
         ],
         "yaxis": "y"
        },
        {
         "hovertemplate": "Cuenta General=%{x}<br>Presupuesto Total=%{text}<extra></extra>",
         "legendgroup": "3600",
         "marker": {
          "color": "#f1605d",
          "pattern": {
           "shape": ""
          }
         },
         "name": "3600",
         "orientation": "v",
         "showlegend": true,
         "text": [
          7591103
         ],
         "textposition": "auto",
         "type": "bar",
         "x": [
          "3600"
         ],
         "xaxis": "x",
         "y": [
          7591103
         ],
         "yaxis": "y"
        },
        {
         "hovertemplate": "Cuenta General=%{x}<br>Presupuesto Total=%{text}<extra></extra>",
         "legendgroup": "2000",
         "marker": {
          "color": "#fd9668",
          "pattern": {
           "shape": ""
          }
         },
         "name": "2000",
         "orientation": "v",
         "showlegend": true,
         "text": [
          6668300
         ],
         "textposition": "auto",
         "type": "bar",
         "x": [
          "2000"
         ],
         "xaxis": "x",
         "y": [
          6668300
         ],
         "yaxis": "y"
        },
        {
         "hovertemplate": "Cuenta General=%{x}<br>Presupuesto Total=%{text}<extra></extra>",
         "legendgroup": "3900",
         "marker": {
          "color": "#feca8d",
          "pattern": {
           "shape": ""
          }
         },
         "name": "3900",
         "orientation": "v",
         "showlegend": true,
         "text": [
          5965292.85
         ],
         "textposition": "auto",
         "type": "bar",
         "x": [
          "3900"
         ],
         "xaxis": "x",
         "y": [
          5965292.85
         ],
         "yaxis": "y"
        },
        {
         "hovertemplate": "Cuenta General=%{x}<br>Presupuesto Total=%{text}<extra></extra>",
         "legendgroup": "2400",
         "marker": {
          "color": "#fcfdbf",
          "pattern": {
           "shape": ""
          }
         },
         "name": "2400",
         "orientation": "v",
         "showlegend": true,
         "text": [
          5268025
         ],
         "textposition": "auto",
         "type": "bar",
         "x": [
          "2400"
         ],
         "xaxis": "x",
         "y": [
          5268025
         ],
         "yaxis": "y"
        },
        {
         "hovertemplate": "Cuenta General=%{x}<br>Presupuesto Total=%{text}<extra></extra>",
         "legendgroup": "5000",
         "marker": {
          "color": "#000004",
          "pattern": {
           "shape": ""
          }
         },
         "name": "5000",
         "orientation": "v",
         "showlegend": true,
         "text": [
          4891351
         ],
         "textposition": "auto",
         "type": "bar",
         "x": [
          "5000"
         ],
         "xaxis": "x",
         "y": [
          4891351
         ],
         "yaxis": "y"
        },
        {
         "hovertemplate": "Cuenta General=%{x}<br>Presupuesto Total=%{text}<extra></extra>",
         "legendgroup": "6000",
         "marker": {
          "color": "#180f3d",
          "pattern": {
           "shape": ""
          }
         },
         "name": "6000",
         "orientation": "v",
         "showlegend": true,
         "text": [
          3833200
         ],
         "textposition": "auto",
         "type": "bar",
         "x": [
          "6000"
         ],
         "xaxis": "x",
         "y": [
          3833200
         ],
         "yaxis": "y"
        },
        {
         "hovertemplate": "Cuenta General=%{x}<br>Presupuesto Total=%{text}<extra></extra>",
         "legendgroup": "2700",
         "marker": {
          "color": "#440f76",
          "pattern": {
           "shape": ""
          }
         },
         "name": "2700",
         "orientation": "v",
         "showlegend": true,
         "text": [
          2972500
         ],
         "textposition": "auto",
         "type": "bar",
         "x": [
          "2700"
         ],
         "xaxis": "x",
         "y": [
          2972500
         ],
         "yaxis": "y"
        },
        {
         "hovertemplate": "Cuenta General=%{x}<br>Presupuesto Total=%{text}<extra></extra>",
         "legendgroup": "1300",
         "marker": {
          "color": "#721f81",
          "pattern": {
           "shape": ""
          }
         },
         "name": "1300",
         "orientation": "v",
         "showlegend": true,
         "text": [
          2810543.88
         ],
         "textposition": "auto",
         "type": "bar",
         "x": [
          "1300"
         ],
         "xaxis": "x",
         "y": [
          2810543.88
         ],
         "yaxis": "y"
        },
        {
         "hovertemplate": "Cuenta General=%{x}<br>Presupuesto Total=%{text}<extra></extra>",
         "legendgroup": "5100",
         "marker": {
          "color": "#9e2f7f",
          "pattern": {
           "shape": ""
          }
         },
         "name": "5100",
         "orientation": "v",
         "showlegend": true,
         "text": [
          2206500
         ],
         "textposition": "auto",
         "type": "bar",
         "x": [
          "5100"
         ],
         "xaxis": "x",
         "y": [
          2206500
         ],
         "yaxis": "y"
        },
        {
         "hovertemplate": "Cuenta General=%{x}<br>Presupuesto Total=%{text}<extra></extra>",
         "legendgroup": "5200",
         "marker": {
          "color": "#cd4071",
          "pattern": {
           "shape": ""
          }
         },
         "name": "5200",
         "orientation": "v",
         "showlegend": true,
         "text": [
          1843600
         ],
         "textposition": "auto",
         "type": "bar",
         "x": [
          "5200"
         ],
         "xaxis": "x",
         "y": [
          1843600
         ],
         "yaxis": "y"
        },
        {
         "hovertemplate": "Cuenta General=%{x}<br>Presupuesto Total=%{text}<extra></extra>",
         "legendgroup": "2200",
         "marker": {
          "color": "#f1605d",
          "pattern": {
           "shape": ""
          }
         },
         "name": "2200",
         "orientation": "v",
         "showlegend": true,
         "text": [
          1825740
         ],
         "textposition": "auto",
         "type": "bar",
         "x": [
          "2200"
         ],
         "xaxis": "x",
         "y": [
          1825740
         ],
         "yaxis": "y"
        },
        {
         "hovertemplate": "Cuenta General=%{x}<br>Presupuesto Total=%{text}<extra></extra>",
         "legendgroup": "3000",
         "marker": {
          "color": "#fd9668",
          "pattern": {
           "shape": ""
          }
         },
         "name": "3000",
         "orientation": "v",
         "showlegend": true,
         "text": [
          1624362
         ],
         "textposition": "auto",
         "type": "bar",
         "x": [
          "3000"
         ],
         "xaxis": "x",
         "y": [
          1624362
         ],
         "yaxis": "y"
        },
        {
         "hovertemplate": "Cuenta General=%{x}<br>Presupuesto Total=%{text}<extra></extra>",
         "legendgroup": "2100",
         "marker": {
          "color": "#feca8d",
          "pattern": {
           "shape": ""
          }
         },
         "name": "2100",
         "orientation": "v",
         "showlegend": true,
         "text": [
          1614000
         ],
         "textposition": "auto",
         "type": "bar",
         "x": [
          "2100"
         ],
         "xaxis": "x",
         "y": [
          1614000
         ],
         "yaxis": "y"
        },
        {
         "hovertemplate": "Cuenta General=%{x}<br>Presupuesto Total=%{text}<extra></extra>",
         "legendgroup": "7200",
         "marker": {
          "color": "#fcfdbf",
          "pattern": {
           "shape": ""
          }
         },
         "name": "7200",
         "orientation": "v",
         "showlegend": true,
         "text": [
          1485676
         ],
         "textposition": "auto",
         "type": "bar",
         "x": [
          "7200"
         ],
         "xaxis": "x",
         "y": [
          1485676
         ],
         "yaxis": "y"
        },
        {
         "hovertemplate": "Cuenta General=%{x}<br>Presupuesto Total=%{text}<extra></extra>",
         "legendgroup": "6100",
         "marker": {
          "color": "#000004",
          "pattern": {
           "shape": ""
          }
         },
         "name": "6100",
         "orientation": "v",
         "showlegend": true,
         "text": [
          1452334
         ],
         "textposition": "auto",
         "type": "bar",
         "x": [
          "6100"
         ],
         "xaxis": "x",
         "y": [
          1452334
         ],
         "yaxis": "y"
        },
        {
         "hovertemplate": "Cuenta General=%{x}<br>Presupuesto Total=%{text}<extra></extra>",
         "legendgroup": "4100",
         "marker": {
          "color": "#180f3d",
          "pattern": {
           "shape": ""
          }
         },
         "name": "4100",
         "orientation": "v",
         "showlegend": true,
         "text": [
          1451938
         ],
         "textposition": "auto",
         "type": "bar",
         "x": [
          "4100"
         ],
         "xaxis": "x",
         "y": [
          1451938
         ],
         "yaxis": "y"
        },
        {
         "hovertemplate": "Cuenta General=%{x}<br>Presupuesto Total=%{text}<extra></extra>",
         "legendgroup": "2300",
         "marker": {
          "color": "#440f76",
          "pattern": {
           "shape": ""
          }
         },
         "name": "2300",
         "orientation": "v",
         "showlegend": true,
         "text": [
          1427550
         ],
         "textposition": "auto",
         "type": "bar",
         "x": [
          "2300"
         ],
         "xaxis": "x",
         "y": [
          1427550
         ],
         "yaxis": "y"
        },
        {
         "hovertemplate": "Cuenta General=%{x}<br>Presupuesto Total=%{text}<extra></extra>",
         "legendgroup": "1600",
         "marker": {
          "color": "#721f81",
          "pattern": {
           "shape": ""
          }
         },
         "name": "1600",
         "orientation": "v",
         "showlegend": true,
         "text": [
          1416166.53
         ],
         "textposition": "auto",
         "type": "bar",
         "x": [
          "1600"
         ],
         "xaxis": "x",
         "y": [
          1416166.53
         ],
         "yaxis": "y"
        },
        {
         "hovertemplate": "Cuenta General=%{x}<br>Presupuesto Total=%{text}<extra></extra>",
         "legendgroup": "2800",
         "marker": {
          "color": "#9e2f7f",
          "pattern": {
           "shape": ""
          }
         },
         "name": "2800",
         "orientation": "v",
         "showlegend": true,
         "text": [
          1208200
         ],
         "textposition": "auto",
         "type": "bar",
         "x": [
          "2800"
         ],
         "xaxis": "x",
         "y": [
          1208200
         ],
         "yaxis": "y"
        },
        {
         "hovertemplate": "Cuenta General=%{x}<br>Presupuesto Total=%{text}<extra></extra>",
         "legendgroup": "3200",
         "marker": {
          "color": "#cd4071",
          "pattern": {
           "shape": ""
          }
         },
         "name": "3200",
         "orientation": "v",
         "showlegend": true,
         "text": [
          1139000
         ],
         "textposition": "auto",
         "type": "bar",
         "x": [
          "3200"
         ],
         "xaxis": "x",
         "y": [
          1139000
         ],
         "yaxis": "y"
        },
        {
         "hovertemplate": "Cuenta General=%{x}<br>Presupuesto Total=%{text}<extra></extra>",
         "legendgroup": "2600",
         "marker": {
          "color": "#f1605d",
          "pattern": {
           "shape": ""
          }
         },
         "name": "2600",
         "orientation": "v",
         "showlegend": true,
         "text": [
          1115250
         ],
         "textposition": "auto",
         "type": "bar",
         "x": [
          "2600"
         ],
         "xaxis": "x",
         "y": [
          1115250
         ],
         "yaxis": "y"
        },
        {
         "hovertemplate": "Cuenta General=%{x}<br>Presupuesto Total=%{text}<extra></extra>",
         "legendgroup": "2500",
         "marker": {
          "color": "#fd9668",
          "pattern": {
           "shape": ""
          }
         },
         "name": "2500",
         "orientation": "v",
         "showlegend": true,
         "text": [
          1009000
         ],
         "textposition": "auto",
         "type": "bar",
         "x": [
          "2500"
         ],
         "xaxis": "x",
         "y": [
          1009000
         ],
         "yaxis": "y"
        },
        {
         "hovertemplate": "Cuenta General=%{x}<br>Presupuesto Total=%{text}<extra></extra>",
         "legendgroup": "3700",
         "marker": {
          "color": "#feca8d",
          "pattern": {
           "shape": ""
          }
         },
         "name": "3700",
         "orientation": "v",
         "showlegend": true,
         "text": [
          810000
         ],
         "textposition": "auto",
         "type": "bar",
         "x": [
          "3700"
         ],
         "xaxis": "x",
         "y": [
          810000
         ],
         "yaxis": "y"
        },
        {
         "hovertemplate": "Cuenta General=%{x}<br>Presupuesto Total=%{text}<extra></extra>",
         "legendgroup": "3800",
         "marker": {
          "color": "#fcfdbf",
          "pattern": {
           "shape": ""
          }
         },
         "name": "3800",
         "orientation": "v",
         "showlegend": true,
         "text": [
          747019
         ],
         "textposition": "auto",
         "type": "bar",
         "x": [
          "3800"
         ],
         "xaxis": "x",
         "y": [
          747019
         ],
         "yaxis": "y"
        },
        {
         "hovertemplate": "Cuenta General=%{x}<br>Presupuesto Total=%{text}<extra></extra>",
         "legendgroup": "2900",
         "marker": {
          "color": "#000004",
          "pattern": {
           "shape": ""
          }
         },
         "name": "2900",
         "orientation": "v",
         "showlegend": true,
         "text": [
          630387
         ],
         "textposition": "auto",
         "type": "bar",
         "x": [
          "2900"
         ],
         "xaxis": "x",
         "y": [
          630387
         ],
         "yaxis": "y"
        },
        {
         "hovertemplate": "Cuenta General=%{x}<br>Presupuesto Total=%{text}<extra></extra>",
         "legendgroup": "3500",
         "marker": {
          "color": "#180f3d",
          "pattern": {
           "shape": ""
          }
         },
         "name": "3500",
         "orientation": "v",
         "showlegend": true,
         "text": [
          281000
         ],
         "textposition": "auto",
         "type": "bar",
         "x": [
          "3500"
         ],
         "xaxis": "x",
         "y": [
          281000
         ],
         "yaxis": "y"
        },
        {
         "hovertemplate": "Cuenta General=%{x}<br>Presupuesto Total=%{text}<extra></extra>",
         "legendgroup": "3300",
         "marker": {
          "color": "#440f76",
          "pattern": {
           "shape": ""
          }
         },
         "name": "3300",
         "orientation": "v",
         "showlegend": true,
         "text": [
          165500
         ],
         "textposition": "auto",
         "type": "bar",
         "x": [
          "3300"
         ],
         "xaxis": "x",
         "y": [
          165500
         ],
         "yaxis": "y"
        },
        {
         "hovertemplate": "Cuenta General=%{x}<br>Presupuesto Total=%{text}<extra></extra>",
         "legendgroup": "5400",
         "marker": {
          "color": "#721f81",
          "pattern": {
           "shape": ""
          }
         },
         "name": "5400",
         "orientation": "v",
         "showlegend": true,
         "text": [
          100000
         ],
         "textposition": "auto",
         "type": "bar",
         "x": [
          "5400"
         ],
         "xaxis": "x",
         "y": [
          100000
         ],
         "yaxis": "y"
        },
        {
         "hovertemplate": "Cuenta General=%{x}<br>Presupuesto Total=%{text}<extra></extra>",
         "legendgroup": "5300",
         "marker": {
          "color": "#9e2f7f",
          "pattern": {
           "shape": ""
          }
         },
         "name": "5300",
         "orientation": "v",
         "showlegend": true,
         "text": [
          80000
         ],
         "textposition": "auto",
         "type": "bar",
         "x": [
          "5300"
         ],
         "xaxis": "x",
         "y": [
          80000
         ],
         "yaxis": "y"
        }
       ],
       "layout": {
        "barmode": "relative",
        "legend": {
         "title": {
          "text": "Cuenta General"
         },
         "tracegroupgap": 0
        },
        "template": {
         "data": {
          "bar": [
           {
            "error_x": {
             "color": "#2a3f5f"
            },
            "error_y": {
             "color": "#2a3f5f"
            },
            "marker": {
             "line": {
              "color": "#E5ECF6",
              "width": 0.5
             },
             "pattern": {
              "fillmode": "overlay",
              "size": 10,
              "solidity": 0.2
             }
            },
            "type": "bar"
           }
          ],
          "barpolar": [
           {
            "marker": {
             "line": {
              "color": "#E5ECF6",
              "width": 0.5
             },
             "pattern": {
              "fillmode": "overlay",
              "size": 10,
              "solidity": 0.2
             }
            },
            "type": "barpolar"
           }
          ],
          "carpet": [
           {
            "aaxis": {
             "endlinecolor": "#2a3f5f",
             "gridcolor": "white",
             "linecolor": "white",
             "minorgridcolor": "white",
             "startlinecolor": "#2a3f5f"
            },
            "baxis": {
             "endlinecolor": "#2a3f5f",
             "gridcolor": "white",
             "linecolor": "white",
             "minorgridcolor": "white",
             "startlinecolor": "#2a3f5f"
            },
            "type": "carpet"
           }
          ],
          "choropleth": [
           {
            "colorbar": {
             "outlinewidth": 0,
             "ticks": ""
            },
            "type": "choropleth"
           }
          ],
          "contour": [
           {
            "colorbar": {
             "outlinewidth": 0,
             "ticks": ""
            },
            "colorscale": [
             [
              0,
              "#0d0887"
             ],
             [
              0.1111111111111111,
              "#46039f"
             ],
             [
              0.2222222222222222,
              "#7201a8"
             ],
             [
              0.3333333333333333,
              "#9c179e"
             ],
             [
              0.4444444444444444,
              "#bd3786"
             ],
             [
              0.5555555555555556,
              "#d8576b"
             ],
             [
              0.6666666666666666,
              "#ed7953"
             ],
             [
              0.7777777777777778,
              "#fb9f3a"
             ],
             [
              0.8888888888888888,
              "#fdca26"
             ],
             [
              1,
              "#f0f921"
             ]
            ],
            "type": "contour"
           }
          ],
          "contourcarpet": [
           {
            "colorbar": {
             "outlinewidth": 0,
             "ticks": ""
            },
            "type": "contourcarpet"
           }
          ],
          "heatmap": [
           {
            "colorbar": {
             "outlinewidth": 0,
             "ticks": ""
            },
            "colorscale": [
             [
              0,
              "#0d0887"
             ],
             [
              0.1111111111111111,
              "#46039f"
             ],
             [
              0.2222222222222222,
              "#7201a8"
             ],
             [
              0.3333333333333333,
              "#9c179e"
             ],
             [
              0.4444444444444444,
              "#bd3786"
             ],
             [
              0.5555555555555556,
              "#d8576b"
             ],
             [
              0.6666666666666666,
              "#ed7953"
             ],
             [
              0.7777777777777778,
              "#fb9f3a"
             ],
             [
              0.8888888888888888,
              "#fdca26"
             ],
             [
              1,
              "#f0f921"
             ]
            ],
            "type": "heatmap"
           }
          ],
          "histogram": [
           {
            "marker": {
             "pattern": {
              "fillmode": "overlay",
              "size": 10,
              "solidity": 0.2
             }
            },
            "type": "histogram"
           }
          ],
          "histogram2d": [
           {
            "colorbar": {
             "outlinewidth": 0,
             "ticks": ""
            },
            "colorscale": [
             [
              0,
              "#0d0887"
             ],
             [
              0.1111111111111111,
              "#46039f"
             ],
             [
              0.2222222222222222,
              "#7201a8"
             ],
             [
              0.3333333333333333,
              "#9c179e"
             ],
             [
              0.4444444444444444,
              "#bd3786"
             ],
             [
              0.5555555555555556,
              "#d8576b"
             ],
             [
              0.6666666666666666,
              "#ed7953"
             ],
             [
              0.7777777777777778,
              "#fb9f3a"
             ],
             [
              0.8888888888888888,
              "#fdca26"
             ],
             [
              1,
              "#f0f921"
             ]
            ],
            "type": "histogram2d"
           }
          ],
          "histogram2dcontour": [
           {
            "colorbar": {
             "outlinewidth": 0,
             "ticks": ""
            },
            "colorscale": [
             [
              0,
              "#0d0887"
             ],
             [
              0.1111111111111111,
              "#46039f"
             ],
             [
              0.2222222222222222,
              "#7201a8"
             ],
             [
              0.3333333333333333,
              "#9c179e"
             ],
             [
              0.4444444444444444,
              "#bd3786"
             ],
             [
              0.5555555555555556,
              "#d8576b"
             ],
             [
              0.6666666666666666,
              "#ed7953"
             ],
             [
              0.7777777777777778,
              "#fb9f3a"
             ],
             [
              0.8888888888888888,
              "#fdca26"
             ],
             [
              1,
              "#f0f921"
             ]
            ],
            "type": "histogram2dcontour"
           }
          ],
          "mesh3d": [
           {
            "colorbar": {
             "outlinewidth": 0,
             "ticks": ""
            },
            "type": "mesh3d"
           }
          ],
          "parcoords": [
           {
            "line": {
             "colorbar": {
              "outlinewidth": 0,
              "ticks": ""
             }
            },
            "type": "parcoords"
           }
          ],
          "pie": [
           {
            "automargin": true,
            "type": "pie"
           }
          ],
          "scatter": [
           {
            "fillpattern": {
             "fillmode": "overlay",
             "size": 10,
             "solidity": 0.2
            },
            "type": "scatter"
           }
          ],
          "scatter3d": [
           {
            "line": {
             "colorbar": {
              "outlinewidth": 0,
              "ticks": ""
             }
            },
            "marker": {
             "colorbar": {
              "outlinewidth": 0,
              "ticks": ""
             }
            },
            "type": "scatter3d"
           }
          ],
          "scattercarpet": [
           {
            "marker": {
             "colorbar": {
              "outlinewidth": 0,
              "ticks": ""
             }
            },
            "type": "scattercarpet"
           }
          ],
          "scattergeo": [
           {
            "marker": {
             "colorbar": {
              "outlinewidth": 0,
              "ticks": ""
             }
            },
            "type": "scattergeo"
           }
          ],
          "scattergl": [
           {
            "marker": {
             "colorbar": {
              "outlinewidth": 0,
              "ticks": ""
             }
            },
            "type": "scattergl"
           }
          ],
          "scattermap": [
           {
            "marker": {
             "colorbar": {
              "outlinewidth": 0,
              "ticks": ""
             }
            },
            "type": "scattermap"
           }
          ],
          "scattermapbox": [
           {
            "marker": {
             "colorbar": {
              "outlinewidth": 0,
              "ticks": ""
             }
            },
            "type": "scattermapbox"
           }
          ],
          "scatterpolar": [
           {
            "marker": {
             "colorbar": {
              "outlinewidth": 0,
              "ticks": ""
             }
            },
            "type": "scatterpolar"
           }
          ],
          "scatterpolargl": [
           {
            "marker": {
             "colorbar": {
              "outlinewidth": 0,
              "ticks": ""
             }
            },
            "type": "scatterpolargl"
           }
          ],
          "scatterternary": [
           {
            "marker": {
             "colorbar": {
              "outlinewidth": 0,
              "ticks": ""
             }
            },
            "type": "scatterternary"
           }
          ],
          "surface": [
           {
            "colorbar": {
             "outlinewidth": 0,
             "ticks": ""
            },
            "colorscale": [
             [
              0,
              "#0d0887"
             ],
             [
              0.1111111111111111,
              "#46039f"
             ],
             [
              0.2222222222222222,
              "#7201a8"
             ],
             [
              0.3333333333333333,
              "#9c179e"
             ],
             [
              0.4444444444444444,
              "#bd3786"
             ],
             [
              0.5555555555555556,
              "#d8576b"
             ],
             [
              0.6666666666666666,
              "#ed7953"
             ],
             [
              0.7777777777777778,
              "#fb9f3a"
             ],
             [
              0.8888888888888888,
              "#fdca26"
             ],
             [
              1,
              "#f0f921"
             ]
            ],
            "type": "surface"
           }
          ],
          "table": [
           {
            "cells": {
             "fill": {
              "color": "#EBF0F8"
             },
             "line": {
              "color": "white"
             }
            },
            "header": {
             "fill": {
              "color": "#C8D4E3"
             },
             "line": {
              "color": "white"
             }
            },
            "type": "table"
           }
          ]
         },
         "layout": {
          "annotationdefaults": {
           "arrowcolor": "#2a3f5f",
           "arrowhead": 0,
           "arrowwidth": 1
          },
          "autotypenumbers": "strict",
          "coloraxis": {
           "colorbar": {
            "outlinewidth": 0,
            "ticks": ""
           }
          },
          "colorscale": {
           "diverging": [
            [
             0,
             "#8e0152"
            ],
            [
             0.1,
             "#c51b7d"
            ],
            [
             0.2,
             "#de77ae"
            ],
            [
             0.3,
             "#f1b6da"
            ],
            [
             0.4,
             "#fde0ef"
            ],
            [
             0.5,
             "#f7f7f7"
            ],
            [
             0.6,
             "#e6f5d0"
            ],
            [
             0.7,
             "#b8e186"
            ],
            [
             0.8,
             "#7fbc41"
            ],
            [
             0.9,
             "#4d9221"
            ],
            [
             1,
             "#276419"
            ]
           ],
           "sequential": [
            [
             0,
             "#0d0887"
            ],
            [
             0.1111111111111111,
             "#46039f"
            ],
            [
             0.2222222222222222,
             "#7201a8"
            ],
            [
             0.3333333333333333,
             "#9c179e"
            ],
            [
             0.4444444444444444,
             "#bd3786"
            ],
            [
             0.5555555555555556,
             "#d8576b"
            ],
            [
             0.6666666666666666,
             "#ed7953"
            ],
            [
             0.7777777777777778,
             "#fb9f3a"
            ],
            [
             0.8888888888888888,
             "#fdca26"
            ],
            [
             1,
             "#f0f921"
            ]
           ],
           "sequentialminus": [
            [
             0,
             "#0d0887"
            ],
            [
             0.1111111111111111,
             "#46039f"
            ],
            [
             0.2222222222222222,
             "#7201a8"
            ],
            [
             0.3333333333333333,
             "#9c179e"
            ],
            [
             0.4444444444444444,
             "#bd3786"
            ],
            [
             0.5555555555555556,
             "#d8576b"
            ],
            [
             0.6666666666666666,
             "#ed7953"
            ],
            [
             0.7777777777777778,
             "#fb9f3a"
            ],
            [
             0.8888888888888888,
             "#fdca26"
            ],
            [
             1,
             "#f0f921"
            ]
           ]
          },
          "colorway": [
           "#636efa",
           "#EF553B",
           "#00cc96",
           "#ab63fa",
           "#FFA15A",
           "#19d3f3",
           "#FF6692",
           "#B6E880",
           "#FF97FF",
           "#FECB52"
          ],
          "font": {
           "color": "#2a3f5f"
          },
          "geo": {
           "bgcolor": "white",
           "lakecolor": "white",
           "landcolor": "#E5ECF6",
           "showlakes": true,
           "showland": true,
           "subunitcolor": "white"
          },
          "hoverlabel": {
           "align": "left"
          },
          "hovermode": "closest",
          "mapbox": {
           "style": "light"
          },
          "paper_bgcolor": "white",
          "plot_bgcolor": "#E5ECF6",
          "polar": {
           "angularaxis": {
            "gridcolor": "white",
            "linecolor": "white",
            "ticks": ""
           },
           "bgcolor": "#E5ECF6",
           "radialaxis": {
            "gridcolor": "white",
            "linecolor": "white",
            "ticks": ""
           }
          },
          "scene": {
           "xaxis": {
            "backgroundcolor": "#E5ECF6",
            "gridcolor": "white",
            "gridwidth": 2,
            "linecolor": "white",
            "showbackground": true,
            "ticks": "",
            "zerolinecolor": "white"
           },
           "yaxis": {
            "backgroundcolor": "#E5ECF6",
            "gridcolor": "white",
            "gridwidth": 2,
            "linecolor": "white",
            "showbackground": true,
            "ticks": "",
            "zerolinecolor": "white"
           },
           "zaxis": {
            "backgroundcolor": "#E5ECF6",
            "gridcolor": "white",
            "gridwidth": 2,
            "linecolor": "white",
            "showbackground": true,
            "ticks": "",
            "zerolinecolor": "white"
           }
          },
          "shapedefaults": {
           "line": {
            "color": "#2a3f5f"
           }
          },
          "ternary": {
           "aaxis": {
            "gridcolor": "white",
            "linecolor": "white",
            "ticks": ""
           },
           "baxis": {
            "gridcolor": "white",
            "linecolor": "white",
            "ticks": ""
           },
           "bgcolor": "#E5ECF6",
           "caxis": {
            "gridcolor": "white",
            "linecolor": "white",
            "ticks": ""
           }
          },
          "title": {
           "x": 0.05
          },
          "xaxis": {
           "automargin": true,
           "gridcolor": "white",
           "linecolor": "white",
           "ticks": "",
           "title": {
            "standoff": 15
           },
           "zerolinecolor": "white",
           "zerolinewidth": 2
          },
          "yaxis": {
           "automargin": true,
           "gridcolor": "white",
           "linecolor": "white",
           "ticks": "",
           "title": {
            "standoff": 15
           },
           "zerolinecolor": "white",
           "zerolinewidth": 2
          }
         }
        },
        "title": {
         "text": "Presupuesto por Cuenta General"
        },
        "xaxis": {
         "anchor": "y",
         "categoryarray": [
          "3400",
          "7000",
          "1400",
          "3100",
          "1100",
          "1200",
          "3600",
          "2000",
          "3900",
          "2400",
          "5000",
          "6000",
          "2700",
          "1300",
          "5100",
          "5200",
          "2200",
          "3000",
          "2100",
          "7200",
          "6100",
          "4100",
          "2300",
          "1600",
          "2800",
          "3200",
          "2600",
          "2500",
          "3700",
          "3800",
          "2900",
          "3500",
          "3300",
          "5400",
          "5300"
         ],
         "categoryorder": "array",
         "domain": [
          0,
          1
         ],
         "tickangle": 90,
         "title": {
          "text": "Cuenta General"
         }
        },
        "yaxis": {
         "anchor": "x",
         "domain": [
          0,
          1
         ],
         "title": {
          "text": "Presupuesto Total"
         }
        }
       }
      }
     },
     "metadata": {},
     "output_type": "display_data"
    }
   ],
   "source": [
    "data = presupuestos_por_cuenta.reset_index()\n",
    "data.columns = [\"Cuenta General\", \"Presupuesto\"]\n",
    "fig = px.bar(\n",
    "    data,\n",
    "    x=\"Cuenta General\",\n",
    "    y=\"Presupuesto\",\n",
    "    title=\"Presupuesto por Cuenta General\",\n",
    "    labels={\"Cuenta General\": \"Cuenta General\", \"Presupuesto\": \"Presupuesto Total\"},\n",
    "    text=\"Presupuesto\",\n",
    "    color=\"Cuenta General\",\n",
    "    color_discrete_sequence=px.colors.sequential.Magma\n",
    ")\n",
    "\n",
    "fig.update_layout(xaxis_tickangle=90)\n",
    "fig.show()\n"
   ]
  },
  {
   "cell_type": "code",
   "execution_count": 37,
   "id": "089eaf7d-0613-49df-af96-82266b9511d3",
   "metadata": {},
   "outputs": [
    {
     "data": {
      "application/vnd.plotly.v1+json": {
       "config": {
        "plotlyServerURL": "https://plot.ly"
       },
       "data": [
        {
         "alignmentgroup": "True",
         "hovertemplate": "Etapa del Proyecto=%{x}<br>Presupuesto Total=%{text}<extra></extra>",
         "legendgroup": "SHOOT",
         "marker": {
          "color": "rgb(228, 241, 225)",
          "pattern": {
           "shape": ""
          }
         },
         "name": "SHOOT",
         "offsetgroup": "SHOOT",
         "orientation": "v",
         "showlegend": true,
         "text": [
          57377469.92999999
         ],
         "textposition": "auto",
         "type": "bar",
         "x": [
          "SHOOT"
         ],
         "xaxis": "x",
         "y": [
          57377469.92999999
         ],
         "yaxis": "y"
        },
        {
         "alignmentgroup": "True",
         "hovertemplate": "Etapa del Proyecto=%{x}<br>Presupuesto Total=%{text}<extra></extra>",
         "legendgroup": "ALL SHOW",
         "marker": {
          "color": "rgb(180, 217, 204)",
          "pattern": {
           "shape": ""
          }
         },
         "name": "ALL SHOW",
         "offsetgroup": "ALL SHOW",
         "orientation": "v",
         "showlegend": true,
         "text": [
          34804335.78
         ],
         "textposition": "auto",
         "type": "bar",
         "x": [
          "ALL SHOW"
         ],
         "xaxis": "x",
         "y": [
          34804335.78
         ],
         "yaxis": "y"
        },
        {
         "alignmentgroup": "True",
         "hovertemplate": "Etapa del Proyecto=%{x}<br>Presupuesto Total=%{text}<extra></extra>",
         "legendgroup": "POST",
         "marker": {
          "color": "rgb(137, 192, 182)",
          "pattern": {
           "shape": ""
          }
         },
         "name": "POST",
         "offsetgroup": "POST",
         "orientation": "v",
         "showlegend": true,
         "text": [
          11659353.440000001
         ],
         "textposition": "auto",
         "type": "bar",
         "x": [
          "POST"
         ],
         "xaxis": "x",
         "y": [
          11659353.440000001
         ],
         "yaxis": "y"
        },
        {
         "alignmentgroup": "True",
         "hovertemplate": "Etapa del Proyecto=%{x}<br>Presupuesto Total=%{text}<extra></extra>",
         "legendgroup": "DEVELOPMENT",
         "marker": {
          "color": "rgb(99, 166, 160)",
          "pattern": {
           "shape": ""
          }
         },
         "name": "DEVELOPMENT",
         "offsetgroup": "DEVELOPMENT",
         "orientation": "v",
         "showlegend": true,
         "text": [
          10171000
         ],
         "textposition": "auto",
         "type": "bar",
         "x": [
          "DEVELOPMENT"
         ],
         "xaxis": "x",
         "y": [
          10171000
         ],
         "yaxis": "y"
        },
        {
         "alignmentgroup": "True",
         "hovertemplate": "Etapa del Proyecto=%{x}<br>Presupuesto Total=%{text}<extra></extra>",
         "legendgroup": "PREP",
         "marker": {
          "color": "rgb(68, 140, 138)",
          "pattern": {
           "shape": ""
          }
         },
         "name": "PREP",
         "offsetgroup": "PREP",
         "orientation": "v",
         "showlegend": true,
         "text": [
          9104497.890000004
         ],
         "textposition": "auto",
         "type": "bar",
         "x": [
          "PREP"
         ],
         "xaxis": "x",
         "y": [
          9104497.890000004
         ],
         "yaxis": "y"
        },
        {
         "alignmentgroup": "True",
         "hovertemplate": "Etapa del Proyecto=%{x}<br>Presupuesto Total=%{text}<extra></extra>",
         "legendgroup": "2nd Unit",
         "marker": {
          "color": "rgb(40, 114, 116)",
          "pattern": {
           "shape": ""
          }
         },
         "name": "2nd Unit",
         "offsetgroup": "2nd Unit",
         "orientation": "v",
         "showlegend": true,
         "text": [
          6907249.840000001
         ],
         "textposition": "auto",
         "type": "bar",
         "x": [
          "2nd Unit"
         ],
         "xaxis": "x",
         "y": [
          6907249.840000001
         ],
         "yaxis": "y"
        },
        {
         "alignmentgroup": "True",
         "hovertemplate": "Etapa del Proyecto=%{x}<br>Presupuesto Total=%{text}<extra></extra>",
         "legendgroup": "WRAP",
         "marker": {
          "color": "rgb(13, 88, 95)",
          "pattern": {
           "shape": ""
          }
         },
         "name": "WRAP",
         "offsetgroup": "WRAP",
         "orientation": "v",
         "showlegend": true,
         "text": [
          2877096.829999999
         ],
         "textposition": "auto",
         "type": "bar",
         "x": [
          "WRAP"
         ],
         "xaxis": "x",
         "y": [
          2877096.829999999
         ],
         "yaxis": "y"
        },
        {
         "alignmentgroup": "True",
         "hovertemplate": "Etapa del Proyecto=%{x}<br>Presupuesto Total=%{text}<extra></extra>",
         "legendgroup": "Fringes",
         "marker": {
          "color": "rgb(228, 241, 225)",
          "pattern": {
           "shape": ""
          }
         },
         "name": "Fringes",
         "offsetgroup": "Fringes",
         "orientation": "v",
         "showlegend": true,
         "text": [
          1078562.2900000003
         ],
         "textposition": "auto",
         "type": "bar",
         "x": [
          "Fringes"
         ],
         "xaxis": "x",
         "y": [
          1078562.2900000003
         ],
         "yaxis": "y"
        },
        {
         "alignmentgroup": "True",
         "hovertemplate": "Etapa del Proyecto=%{x}<br>Presupuesto Total=%{text}<extra></extra>",
         "legendgroup": "SOFT",
         "marker": {
          "color": "rgb(180, 217, 204)",
          "pattern": {
           "shape": ""
          }
         },
         "name": "SOFT",
         "offsetgroup": "SOFT",
         "orientation": "v",
         "showlegend": true,
         "text": [
          957045
         ],
         "textposition": "auto",
         "type": "bar",
         "x": [
          "SOFT"
         ],
         "xaxis": "x",
         "y": [
          957045
         ],
         "yaxis": "y"
        },
        {
         "alignmentgroup": "True",
         "hovertemplate": "Etapa del Proyecto=%{x}<br>Presupuesto Total=%{text}<extra></extra>",
         "legendgroup": "COVID",
         "marker": {
          "color": "rgb(137, 192, 182)",
          "pattern": {
           "shape": ""
          }
         },
         "name": "COVID",
         "offsetgroup": "COVID",
         "orientation": "v",
         "showlegend": true,
         "text": [
          161300
         ],
         "textposition": "auto",
         "type": "bar",
         "x": [
          "COVID"
         ],
         "xaxis": "x",
         "y": [
          161300
         ],
         "yaxis": "y"
        }
       ],
       "layout": {
        "autosize": true,
        "barmode": "relative",
        "legend": {
         "title": {
          "text": "Etapa del Proyecto"
         },
         "tracegroupgap": 0
        },
        "template": {
         "data": {
          "bar": [
           {
            "error_x": {
             "color": "#2a3f5f"
            },
            "error_y": {
             "color": "#2a3f5f"
            },
            "marker": {
             "line": {
              "color": "#E5ECF6",
              "width": 0.5
             },
             "pattern": {
              "fillmode": "overlay",
              "size": 10,
              "solidity": 0.2
             }
            },
            "type": "bar"
           }
          ],
          "barpolar": [
           {
            "marker": {
             "line": {
              "color": "#E5ECF6",
              "width": 0.5
             },
             "pattern": {
              "fillmode": "overlay",
              "size": 10,
              "solidity": 0.2
             }
            },
            "type": "barpolar"
           }
          ],
          "carpet": [
           {
            "aaxis": {
             "endlinecolor": "#2a3f5f",
             "gridcolor": "white",
             "linecolor": "white",
             "minorgridcolor": "white",
             "startlinecolor": "#2a3f5f"
            },
            "baxis": {
             "endlinecolor": "#2a3f5f",
             "gridcolor": "white",
             "linecolor": "white",
             "minorgridcolor": "white",
             "startlinecolor": "#2a3f5f"
            },
            "type": "carpet"
           }
          ],
          "choropleth": [
           {
            "colorbar": {
             "outlinewidth": 0,
             "ticks": ""
            },
            "type": "choropleth"
           }
          ],
          "contour": [
           {
            "colorbar": {
             "outlinewidth": 0,
             "ticks": ""
            },
            "colorscale": [
             [
              0,
              "#0d0887"
             ],
             [
              0.1111111111111111,
              "#46039f"
             ],
             [
              0.2222222222222222,
              "#7201a8"
             ],
             [
              0.3333333333333333,
              "#9c179e"
             ],
             [
              0.4444444444444444,
              "#bd3786"
             ],
             [
              0.5555555555555556,
              "#d8576b"
             ],
             [
              0.6666666666666666,
              "#ed7953"
             ],
             [
              0.7777777777777778,
              "#fb9f3a"
             ],
             [
              0.8888888888888888,
              "#fdca26"
             ],
             [
              1,
              "#f0f921"
             ]
            ],
            "type": "contour"
           }
          ],
          "contourcarpet": [
           {
            "colorbar": {
             "outlinewidth": 0,
             "ticks": ""
            },
            "type": "contourcarpet"
           }
          ],
          "heatmap": [
           {
            "colorbar": {
             "outlinewidth": 0,
             "ticks": ""
            },
            "colorscale": [
             [
              0,
              "#0d0887"
             ],
             [
              0.1111111111111111,
              "#46039f"
             ],
             [
              0.2222222222222222,
              "#7201a8"
             ],
             [
              0.3333333333333333,
              "#9c179e"
             ],
             [
              0.4444444444444444,
              "#bd3786"
             ],
             [
              0.5555555555555556,
              "#d8576b"
             ],
             [
              0.6666666666666666,
              "#ed7953"
             ],
             [
              0.7777777777777778,
              "#fb9f3a"
             ],
             [
              0.8888888888888888,
              "#fdca26"
             ],
             [
              1,
              "#f0f921"
             ]
            ],
            "type": "heatmap"
           }
          ],
          "heatmapgl": [
           {
            "colorbar": {
             "outlinewidth": 0,
             "ticks": ""
            },
            "colorscale": [
             [
              0,
              "#0d0887"
             ],
             [
              0.1111111111111111,
              "#46039f"
             ],
             [
              0.2222222222222222,
              "#7201a8"
             ],
             [
              0.3333333333333333,
              "#9c179e"
             ],
             [
              0.4444444444444444,
              "#bd3786"
             ],
             [
              0.5555555555555556,
              "#d8576b"
             ],
             [
              0.6666666666666666,
              "#ed7953"
             ],
             [
              0.7777777777777778,
              "#fb9f3a"
             ],
             [
              0.8888888888888888,
              "#fdca26"
             ],
             [
              1,
              "#f0f921"
             ]
            ],
            "type": "heatmapgl"
           }
          ],
          "histogram": [
           {
            "marker": {
             "pattern": {
              "fillmode": "overlay",
              "size": 10,
              "solidity": 0.2
             }
            },
            "type": "histogram"
           }
          ],
          "histogram2d": [
           {
            "colorbar": {
             "outlinewidth": 0,
             "ticks": ""
            },
            "colorscale": [
             [
              0,
              "#0d0887"
             ],
             [
              0.1111111111111111,
              "#46039f"
             ],
             [
              0.2222222222222222,
              "#7201a8"
             ],
             [
              0.3333333333333333,
              "#9c179e"
             ],
             [
              0.4444444444444444,
              "#bd3786"
             ],
             [
              0.5555555555555556,
              "#d8576b"
             ],
             [
              0.6666666666666666,
              "#ed7953"
             ],
             [
              0.7777777777777778,
              "#fb9f3a"
             ],
             [
              0.8888888888888888,
              "#fdca26"
             ],
             [
              1,
              "#f0f921"
             ]
            ],
            "type": "histogram2d"
           }
          ],
          "histogram2dcontour": [
           {
            "colorbar": {
             "outlinewidth": 0,
             "ticks": ""
            },
            "colorscale": [
             [
              0,
              "#0d0887"
             ],
             [
              0.1111111111111111,
              "#46039f"
             ],
             [
              0.2222222222222222,
              "#7201a8"
             ],
             [
              0.3333333333333333,
              "#9c179e"
             ],
             [
              0.4444444444444444,
              "#bd3786"
             ],
             [
              0.5555555555555556,
              "#d8576b"
             ],
             [
              0.6666666666666666,
              "#ed7953"
             ],
             [
              0.7777777777777778,
              "#fb9f3a"
             ],
             [
              0.8888888888888888,
              "#fdca26"
             ],
             [
              1,
              "#f0f921"
             ]
            ],
            "type": "histogram2dcontour"
           }
          ],
          "mesh3d": [
           {
            "colorbar": {
             "outlinewidth": 0,
             "ticks": ""
            },
            "type": "mesh3d"
           }
          ],
          "parcoords": [
           {
            "line": {
             "colorbar": {
              "outlinewidth": 0,
              "ticks": ""
             }
            },
            "type": "parcoords"
           }
          ],
          "pie": [
           {
            "automargin": true,
            "type": "pie"
           }
          ],
          "scatter": [
           {
            "fillpattern": {
             "fillmode": "overlay",
             "size": 10,
             "solidity": 0.2
            },
            "type": "scatter"
           }
          ],
          "scatter3d": [
           {
            "line": {
             "colorbar": {
              "outlinewidth": 0,
              "ticks": ""
             }
            },
            "marker": {
             "colorbar": {
              "outlinewidth": 0,
              "ticks": ""
             }
            },
            "type": "scatter3d"
           }
          ],
          "scattercarpet": [
           {
            "marker": {
             "colorbar": {
              "outlinewidth": 0,
              "ticks": ""
             }
            },
            "type": "scattercarpet"
           }
          ],
          "scattergeo": [
           {
            "marker": {
             "colorbar": {
              "outlinewidth": 0,
              "ticks": ""
             }
            },
            "type": "scattergeo"
           }
          ],
          "scattergl": [
           {
            "marker": {
             "colorbar": {
              "outlinewidth": 0,
              "ticks": ""
             }
            },
            "type": "scattergl"
           }
          ],
          "scattermapbox": [
           {
            "marker": {
             "colorbar": {
              "outlinewidth": 0,
              "ticks": ""
             }
            },
            "type": "scattermapbox"
           }
          ],
          "scatterpolar": [
           {
            "marker": {
             "colorbar": {
              "outlinewidth": 0,
              "ticks": ""
             }
            },
            "type": "scatterpolar"
           }
          ],
          "scatterpolargl": [
           {
            "marker": {
             "colorbar": {
              "outlinewidth": 0,
              "ticks": ""
             }
            },
            "type": "scatterpolargl"
           }
          ],
          "scatterternary": [
           {
            "marker": {
             "colorbar": {
              "outlinewidth": 0,
              "ticks": ""
             }
            },
            "type": "scatterternary"
           }
          ],
          "surface": [
           {
            "colorbar": {
             "outlinewidth": 0,
             "ticks": ""
            },
            "colorscale": [
             [
              0,
              "#0d0887"
             ],
             [
              0.1111111111111111,
              "#46039f"
             ],
             [
              0.2222222222222222,
              "#7201a8"
             ],
             [
              0.3333333333333333,
              "#9c179e"
             ],
             [
              0.4444444444444444,
              "#bd3786"
             ],
             [
              0.5555555555555556,
              "#d8576b"
             ],
             [
              0.6666666666666666,
              "#ed7953"
             ],
             [
              0.7777777777777778,
              "#fb9f3a"
             ],
             [
              0.8888888888888888,
              "#fdca26"
             ],
             [
              1,
              "#f0f921"
             ]
            ],
            "type": "surface"
           }
          ],
          "table": [
           {
            "cells": {
             "fill": {
              "color": "#EBF0F8"
             },
             "line": {
              "color": "white"
             }
            },
            "header": {
             "fill": {
              "color": "#C8D4E3"
             },
             "line": {
              "color": "white"
             }
            },
            "type": "table"
           }
          ]
         },
         "layout": {
          "annotationdefaults": {
           "arrowcolor": "#2a3f5f",
           "arrowhead": 0,
           "arrowwidth": 1
          },
          "autotypenumbers": "strict",
          "coloraxis": {
           "colorbar": {
            "outlinewidth": 0,
            "ticks": ""
           }
          },
          "colorscale": {
           "diverging": [
            [
             0,
             "#8e0152"
            ],
            [
             0.1,
             "#c51b7d"
            ],
            [
             0.2,
             "#de77ae"
            ],
            [
             0.3,
             "#f1b6da"
            ],
            [
             0.4,
             "#fde0ef"
            ],
            [
             0.5,
             "#f7f7f7"
            ],
            [
             0.6,
             "#e6f5d0"
            ],
            [
             0.7,
             "#b8e186"
            ],
            [
             0.8,
             "#7fbc41"
            ],
            [
             0.9,
             "#4d9221"
            ],
            [
             1,
             "#276419"
            ]
           ],
           "sequential": [
            [
             0,
             "#0d0887"
            ],
            [
             0.1111111111111111,
             "#46039f"
            ],
            [
             0.2222222222222222,
             "#7201a8"
            ],
            [
             0.3333333333333333,
             "#9c179e"
            ],
            [
             0.4444444444444444,
             "#bd3786"
            ],
            [
             0.5555555555555556,
             "#d8576b"
            ],
            [
             0.6666666666666666,
             "#ed7953"
            ],
            [
             0.7777777777777778,
             "#fb9f3a"
            ],
            [
             0.8888888888888888,
             "#fdca26"
            ],
            [
             1,
             "#f0f921"
            ]
           ],
           "sequentialminus": [
            [
             0,
             "#0d0887"
            ],
            [
             0.1111111111111111,
             "#46039f"
            ],
            [
             0.2222222222222222,
             "#7201a8"
            ],
            [
             0.3333333333333333,
             "#9c179e"
            ],
            [
             0.4444444444444444,
             "#bd3786"
            ],
            [
             0.5555555555555556,
             "#d8576b"
            ],
            [
             0.6666666666666666,
             "#ed7953"
            ],
            [
             0.7777777777777778,
             "#fb9f3a"
            ],
            [
             0.8888888888888888,
             "#fdca26"
            ],
            [
             1,
             "#f0f921"
            ]
           ]
          },
          "colorway": [
           "#636efa",
           "#EF553B",
           "#00cc96",
           "#ab63fa",
           "#FFA15A",
           "#19d3f3",
           "#FF6692",
           "#B6E880",
           "#FF97FF",
           "#FECB52"
          ],
          "font": {
           "color": "#2a3f5f"
          },
          "geo": {
           "bgcolor": "white",
           "lakecolor": "white",
           "landcolor": "#E5ECF6",
           "showlakes": true,
           "showland": true,
           "subunitcolor": "white"
          },
          "hoverlabel": {
           "align": "left"
          },
          "hovermode": "closest",
          "mapbox": {
           "style": "light"
          },
          "paper_bgcolor": "white",
          "plot_bgcolor": "#E5ECF6",
          "polar": {
           "angularaxis": {
            "gridcolor": "white",
            "linecolor": "white",
            "ticks": ""
           },
           "bgcolor": "#E5ECF6",
           "radialaxis": {
            "gridcolor": "white",
            "linecolor": "white",
            "ticks": ""
           }
          },
          "scene": {
           "xaxis": {
            "backgroundcolor": "#E5ECF6",
            "gridcolor": "white",
            "gridwidth": 2,
            "linecolor": "white",
            "showbackground": true,
            "ticks": "",
            "zerolinecolor": "white"
           },
           "yaxis": {
            "backgroundcolor": "#E5ECF6",
            "gridcolor": "white",
            "gridwidth": 2,
            "linecolor": "white",
            "showbackground": true,
            "ticks": "",
            "zerolinecolor": "white"
           },
           "zaxis": {
            "backgroundcolor": "#E5ECF6",
            "gridcolor": "white",
            "gridwidth": 2,
            "linecolor": "white",
            "showbackground": true,
            "ticks": "",
            "zerolinecolor": "white"
           }
          },
          "shapedefaults": {
           "line": {
            "color": "#2a3f5f"
           }
          },
          "ternary": {
           "aaxis": {
            "gridcolor": "white",
            "linecolor": "white",
            "ticks": ""
           },
           "baxis": {
            "gridcolor": "white",
            "linecolor": "white",
            "ticks": ""
           },
           "bgcolor": "#E5ECF6",
           "caxis": {
            "gridcolor": "white",
            "linecolor": "white",
            "ticks": ""
           }
          },
          "title": {
           "x": 0.05
          },
          "xaxis": {
           "automargin": true,
           "gridcolor": "white",
           "linecolor": "white",
           "ticks": "",
           "title": {
            "standoff": 15
           },
           "zerolinecolor": "white",
           "zerolinewidth": 2
          },
          "yaxis": {
           "automargin": true,
           "gridcolor": "white",
           "linecolor": "white",
           "ticks": "",
           "title": {
            "standoff": 15
           },
           "zerolinecolor": "white",
           "zerolinewidth": 2
          }
         }
        },
        "title": {
         "text": "Presupuesto Total por Etapa"
        },
        "xaxis": {
         "anchor": "y",
         "autorange": true,
         "categoryarray": [
          "SHOOT",
          "ALL SHOW",
          "POST",
          "DEVELOPMENT",
          "PREP",
          "2nd Unit",
          "WRAP",
          "Fringes",
          "SOFT",
          "COVID"
         ],
         "categoryorder": "array",
         "domain": [
          0,
          1
         ],
         "range": [
          -0.5,
          9.5
         ],
         "tickangle": -45,
         "title": {
          "text": "Etapa del Proyecto"
         },
         "type": "category"
        },
        "yaxis": {
         "anchor": "x",
         "autorange": true,
         "domain": [
          0,
          1
         ],
         "range": [
          0,
          60397336.76842105
         ],
         "title": {
          "text": "Presupuesto Total"
         },
         "type": "linear"
        }
       }
      },
      "image/png": "[encoded data removed]",
      "text/html": [
       "<div>                            <div id=\"c5512557-b306-4f6d-af7f-bdc7fac47e41\" class=\"plotly-graph-div\" style=\"height:525px; width:100%;\"></div>            <script type=\"text/javascript\">                require([\"plotly\"], function(Plotly) {                    window.PLOTLYENV=window.PLOTLYENV || {};                                    if (document.getElementById(\"c5512557-b306-4f6d-af7f-bdc7fac47e41\")) {                    Plotly.newPlot(                        \"c5512557-b306-4f6d-af7f-bdc7fac47e41\",                        [{\"alignmentgroup\":\"True\",\"hovertemplate\":\"Etapa del Proyecto=%{x}\\u003cbr\\u003ePresupuesto Total=%{text}\\u003cextra\\u003e\\u003c\\u002fextra\\u003e\",\"legendgroup\":\"SHOOT\",\"marker\":{\"color\":\"rgb(228, 241, 225)\",\"pattern\":{\"shape\":\"\"}},\"name\":\"SHOOT\",\"offsetgroup\":\"SHOOT\",\"orientation\":\"v\",\"showlegend\":true,\"text\":[57377469.92999999],\"textposition\":\"auto\",\"x\":[\"SHOOT\"],\"xaxis\":\"x\",\"y\":[57377469.92999999],\"yaxis\":\"y\",\"type\":\"bar\"},{\"alignmentgroup\":\"True\",\"hovertemplate\":\"Etapa del Proyecto=%{x}\\u003cbr\\u003ePresupuesto Total=%{text}\\u003cextra\\u003e\\u003c\\u002fextra\\u003e\",\"legendgroup\":\"ALL SHOW\",\"marker\":{\"color\":\"rgb(180, 217, 204)\",\"pattern\":{\"shape\":\"\"}},\"name\":\"ALL SHOW\",\"offsetgroup\":\"ALL SHOW\",\"orientation\":\"v\",\"showlegend\":true,\"text\":[34804335.78],\"textposition\":\"auto\",\"x\":[\"ALL SHOW\"],\"xaxis\":\"x\",\"y\":[34804335.78],\"yaxis\":\"y\",\"type\":\"bar\"},{\"alignmentgroup\":\"True\",\"hovertemplate\":\"Etapa del Proyecto=%{x}\\u003cbr\\u003ePresupuesto Total=%{text}\\u003cextra\\u003e\\u003c\\u002fextra\\u003e\",\"legendgroup\":\"POST\",\"marker\":{\"color\":\"rgb(137, 192, 182)\",\"pattern\":{\"shape\":\"\"}},\"name\":\"POST\",\"offsetgroup\":\"POST\",\"orientation\":\"v\",\"showlegend\":true,\"text\":[11659353.440000001],\"textposition\":\"auto\",\"x\":[\"POST\"],\"xaxis\":\"x\",\"y\":[11659353.440000001],\"yaxis\":\"y\",\"type\":\"bar\"},{\"alignmentgroup\":\"True\",\"hovertemplate\":\"Etapa del Proyecto=%{x}\\u003cbr\\u003ePresupuesto Total=%{text}\\u003cextra\\u003e\\u003c\\u002fextra\\u003e\",\"legendgroup\":\"DEVELOPMENT\",\"marker\":{\"color\":\"rgb(99, 166, 160)\",\"pattern\":{\"shape\":\"\"}},\"name\":\"DEVELOPMENT\",\"offsetgroup\":\"DEVELOPMENT\",\"orientation\":\"v\",\"showlegend\":true,\"text\":[10171000],\"textposition\":\"auto\",\"x\":[\"DEVELOPMENT\"],\"xaxis\":\"x\",\"y\":[10171000],\"yaxis\":\"y\",\"type\":\"bar\"},{\"alignmentgroup\":\"True\",\"hovertemplate\":\"Etapa del Proyecto=%{x}\\u003cbr\\u003ePresupuesto Total=%{text}\\u003cextra\\u003e\\u003c\\u002fextra\\u003e\",\"legendgroup\":\"PREP\",\"marker\":{\"color\":\"rgb(68, 140, 138)\",\"pattern\":{\"shape\":\"\"}},\"name\":\"PREP\",\"offsetgroup\":\"PREP\",\"orientation\":\"v\",\"showlegend\":true,\"text\":[9104497.890000004],\"textposition\":\"auto\",\"x\":[\"PREP\"],\"xaxis\":\"x\",\"y\":[9104497.890000004],\"yaxis\":\"y\",\"type\":\"bar\"},{\"alignmentgroup\":\"True\",\"hovertemplate\":\"Etapa del Proyecto=%{x}\\u003cbr\\u003ePresupuesto Total=%{text}\\u003cextra\\u003e\\u003c\\u002fextra\\u003e\",\"legendgroup\":\"2nd Unit\",\"marker\":{\"color\":\"rgb(40, 114, 116)\",\"pattern\":{\"shape\":\"\"}},\"name\":\"2nd Unit\",\"offsetgroup\":\"2nd Unit\",\"orientation\":\"v\",\"showlegend\":true,\"text\":[6907249.840000001],\"textposition\":\"auto\",\"x\":[\"2nd Unit\"],\"xaxis\":\"x\",\"y\":[6907249.840000001],\"yaxis\":\"y\",\"type\":\"bar\"},{\"alignmentgroup\":\"True\",\"hovertemplate\":\"Etapa del Proyecto=%{x}\\u003cbr\\u003ePresupuesto Total=%{text}\\u003cextra\\u003e\\u003c\\u002fextra\\u003e\",\"legendgroup\":\"WRAP\",\"marker\":{\"color\":\"rgb(13, 88, 95)\",\"pattern\":{\"shape\":\"\"}},\"name\":\"WRAP\",\"offsetgroup\":\"WRAP\",\"orientation\":\"v\",\"showlegend\":true,\"text\":[2877096.829999999],\"textposition\":\"auto\",\"x\":[\"WRAP\"],\"xaxis\":\"x\",\"y\":[2877096.829999999],\"yaxis\":\"y\",\"type\":\"bar\"},{\"alignmentgroup\":\"True\",\"hovertemplate\":\"Etapa del Proyecto=%{x}\\u003cbr\\u003ePresupuesto Total=%{text}\\u003cextra\\u003e\\u003c\\u002fextra\\u003e\",\"legendgroup\":\"Fringes\",\"marker\":{\"color\":\"rgb(228, 241, 225)\",\"pattern\":{\"shape\":\"\"}},\"name\":\"Fringes\",\"offsetgroup\":\"Fringes\",\"orientation\":\"v\",\"showlegend\":true,\"text\":[1078562.2900000003],\"textposition\":\"auto\",\"x\":[\"Fringes\"],\"xaxis\":\"x\",\"y\":[1078562.2900000003],\"yaxis\":\"y\",\"type\":\"bar\"},{\"alignmentgroup\":\"True\",\"hovertemplate\":\"Etapa del Proyecto=%{x}\\u003cbr\\u003ePresupuesto Total=%{text}\\u003cextra\\u003e\\u003c\\u002fextra\\u003e\",\"legendgroup\":\"SOFT\",\"marker\":{\"color\":\"rgb(180, 217, 204)\",\"pattern\":{\"shape\":\"\"}},\"name\":\"SOFT\",\"offsetgroup\":\"SOFT\",\"orientation\":\"v\",\"showlegend\":true,\"text\":[957045],\"textposition\":\"auto\",\"x\":[\"SOFT\"],\"xaxis\":\"x\",\"y\":[957045],\"yaxis\":\"y\",\"type\":\"bar\"},{\"alignmentgroup\":\"True\",\"hovertemplate\":\"Etapa del Proyecto=%{x}\\u003cbr\\u003ePresupuesto Total=%{text}\\u003cextra\\u003e\\u003c\\u002fextra\\u003e\",\"legendgroup\":\"COVID\",\"marker\":{\"color\":\"rgb(137, 192, 182)\",\"pattern\":{\"shape\":\"\"}},\"name\":\"COVID\",\"offsetgroup\":\"COVID\",\"orientation\":\"v\",\"showlegend\":true,\"text\":[161300],\"textposition\":\"auto\",\"x\":[\"COVID\"],\"xaxis\":\"x\",\"y\":[161300],\"yaxis\":\"y\",\"type\":\"bar\"}],                        {\"template\":{\"data\":{\"histogram2dcontour\":[{\"type\":\"histogram2dcontour\",\"colorbar\":{\"outlinewidth\":0,\"ticks\":\"\"},\"colorscale\":[[0.0,\"#0d0887\"],[0.1111111111111111,\"#46039f\"],[0.2222222222222222,\"#7201a8\"],[0.3333333333333333,\"#9c179e\"],[0.4444444444444444,\"#bd3786\"],[0.5555555555555556,\"#d8576b\"],[0.6666666666666666,\"#ed7953\"],[0.7777777777777778,\"#fb9f3a\"],[0.8888888888888888,\"#fdca26\"],[1.0,\"#f0f921\"]]}],\"choropleth\":[{\"type\":\"choropleth\",\"colorbar\":{\"outlinewidth\":0,\"ticks\":\"\"}}],\"histogram2d\":[{\"type\":\"histogram2d\",\"colorbar\":{\"outlinewidth\":0,\"ticks\":\"\"},\"colorscale\":[[0.0,\"#0d0887\"],[0.1111111111111111,\"#46039f\"],[0.2222222222222222,\"#7201a8\"],[0.3333333333333333,\"#9c179e\"],[0.4444444444444444,\"#bd3786\"],[0.5555555555555556,\"#d8576b\"],[0.6666666666666666,\"#ed7953\"],[0.7777777777777778,\"#fb9f3a\"],[0.8888888888888888,\"#fdca26\"],[1.0,\"#f0f921\"]]}],\"heatmap\":[{\"type\":\"heatmap\",\"colorbar\":{\"outlinewidth\":0,\"ticks\":\"\"},\"colorscale\":[[0.0,\"#0d0887\"],[0.1111111111111111,\"#46039f\"],[0.2222222222222222,\"#7201a8\"],[0.3333333333333333,\"#9c179e\"],[0.4444444444444444,\"#bd3786\"],[0.5555555555555556,\"#d8576b\"],[0.6666666666666666,\"#ed7953\"],[0.7777777777777778,\"#fb9f3a\"],[0.8888888888888888,\"#fdca26\"],[1.0,\"#f0f921\"]]}],\"heatmapgl\":[{\"type\":\"heatmapgl\",\"colorbar\":{\"outlinewidth\":0,\"ticks\":\"\"},\"colorscale\":[[0.0,\"#0d0887\"],[0.1111111111111111,\"#46039f\"],[0.2222222222222222,\"#7201a8\"],[0.3333333333333333,\"#9c179e\"],[0.4444444444444444,\"#bd3786\"],[0.5555555555555556,\"#d8576b\"],[0.6666666666666666,\"#ed7953\"],[0.7777777777777778,\"#fb9f3a\"],[0.8888888888888888,\"#fdca26\"],[1.0,\"#f0f921\"]]}],\"contourcarpet\":[{\"type\":\"contourcarpet\",\"colorbar\":{\"outlinewidth\":0,\"ticks\":\"\"}}],\"contour\":[{\"type\":\"contour\",\"colorbar\":{\"outlinewidth\":0,\"ticks\":\"\"},\"colorscale\":[[0.0,\"#0d0887\"],[0.1111111111111111,\"#46039f\"],[0.2222222222222222,\"#7201a8\"],[0.3333333333333333,\"#9c179e\"],[0.4444444444444444,\"#bd3786\"],[0.5555555555555556,\"#d8576b\"],[0.6666666666666666,\"#ed7953\"],[0.7777777777777778,\"#fb9f3a\"],[0.8888888888888888,\"#fdca26\"],[1.0,\"#f0f921\"]]}],\"surface\":[{\"type\":\"surface\",\"colorbar\":{\"outlinewidth\":0,\"ticks\":\"\"},\"colorscale\":[[0.0,\"#0d0887\"],[0.1111111111111111,\"#46039f\"],[0.2222222222222222,\"#7201a8\"],[0.3333333333333333,\"#9c179e\"],[0.4444444444444444,\"#bd3786\"],[0.5555555555555556,\"#d8576b\"],[0.6666666666666666,\"#ed7953\"],[0.7777777777777778,\"#fb9f3a\"],[0.8888888888888888,\"#fdca26\"],[1.0,\"#f0f921\"]]}],\"mesh3d\":[{\"type\":\"mesh3d\",\"colorbar\":{\"outlinewidth\":0,\"ticks\":\"\"}}],\"scatter\":[{\"fillpattern\":{\"fillmode\":\"overlay\",\"size\":10,\"solidity\":0.2},\"type\":\"scatter\"}],\"parcoords\":[{\"type\":\"parcoords\",\"line\":{\"colorbar\":{\"outlinewidth\":0,\"ticks\":\"\"}}}],\"scatterpolargl\":[{\"type\":\"scatterpolargl\",\"marker\":{\"colorbar\":{\"outlinewidth\":0,\"ticks\":\"\"}}}],\"bar\":[{\"error_x\":{\"color\":\"#2a3f5f\"},\"error_y\":{\"color\":\"#2a3f5f\"},\"marker\":{\"line\":{\"color\":\"#E5ECF6\",\"width\":0.5},\"pattern\":{\"fillmode\":\"overlay\",\"size\":10,\"solidity\":0.2}},\"type\":\"bar\"}],\"scattergeo\":[{\"type\":\"scattergeo\",\"marker\":{\"colorbar\":{\"outlinewidth\":0,\"ticks\":\"\"}}}],\"scatterpolar\":[{\"type\":\"scatterpolar\",\"marker\":{\"colorbar\":{\"outlinewidth\":0,\"ticks\":\"\"}}}],\"histogram\":[{\"marker\":{\"pattern\":{\"fillmode\":\"overlay\",\"size\":10,\"solidity\":0.2}},\"type\":\"histogram\"}],\"scattergl\":[{\"type\":\"scattergl\",\"marker\":{\"colorbar\":{\"outlinewidth\":0,\"ticks\":\"\"}}}],\"scatter3d\":[{\"type\":\"scatter3d\",\"line\":{\"colorbar\":{\"outlinewidth\":0,\"ticks\":\"\"}},\"marker\":{\"colorbar\":{\"outlinewidth\":0,\"ticks\":\"\"}}}],\"scattermapbox\":[{\"type\":\"scattermapbox\",\"marker\":{\"colorbar\":{\"outlinewidth\":0,\"ticks\":\"\"}}}],\"scatterternary\":[{\"type\":\"scatterternary\",\"marker\":{\"colorbar\":{\"outlinewidth\":0,\"ticks\":\"\"}}}],\"scattercarpet\":[{\"type\":\"scattercarpet\",\"marker\":{\"colorbar\":{\"outlinewidth\":0,\"ticks\":\"\"}}}],\"carpet\":[{\"aaxis\":{\"endlinecolor\":\"#2a3f5f\",\"gridcolor\":\"white\",\"linecolor\":\"white\",\"minorgridcolor\":\"white\",\"startlinecolor\":\"#2a3f5f\"},\"baxis\":{\"endlinecolor\":\"#2a3f5f\",\"gridcolor\":\"white\",\"linecolor\":\"white\",\"minorgridcolor\":\"white\",\"startlinecolor\":\"#2a3f5f\"},\"type\":\"carpet\"}],\"table\":[{\"cells\":{\"fill\":{\"color\":\"#EBF0F8\"},\"line\":{\"color\":\"white\"}},\"header\":{\"fill\":{\"color\":\"#C8D4E3\"},\"line\":{\"color\":\"white\"}},\"type\":\"table\"}],\"barpolar\":[{\"marker\":{\"line\":{\"color\":\"#E5ECF6\",\"width\":0.5},\"pattern\":{\"fillmode\":\"overlay\",\"size\":10,\"solidity\":0.2}},\"type\":\"barpolar\"}],\"pie\":[{\"automargin\":true,\"type\":\"pie\"}]},\"layout\":{\"autotypenumbers\":\"strict\",\"colorway\":[\"#636efa\",\"#EF553B\",\"#00cc96\",\"#ab63fa\",\"#FFA15A\",\"#19d3f3\",\"#FF6692\",\"#B6E880\",\"#FF97FF\",\"#FECB52\"],\"font\":{\"color\":\"#2a3f5f\"},\"hovermode\":\"closest\",\"hoverlabel\":{\"align\":\"left\"},\"paper_bgcolor\":\"white\",\"plot_bgcolor\":\"#E5ECF6\",\"polar\":{\"bgcolor\":\"#E5ECF6\",\"angularaxis\":{\"gridcolor\":\"white\",\"linecolor\":\"white\",\"ticks\":\"\"},\"radialaxis\":{\"gridcolor\":\"white\",\"linecolor\":\"white\",\"ticks\":\"\"}},\"ternary\":{\"bgcolor\":\"#E5ECF6\",\"aaxis\":{\"gridcolor\":\"white\",\"linecolor\":\"white\",\"ticks\":\"\"},\"baxis\":{\"gridcolor\":\"white\",\"linecolor\":\"white\",\"ticks\":\"\"},\"caxis\":{\"gridcolor\":\"white\",\"linecolor\":\"white\",\"ticks\":\"\"}},\"coloraxis\":{\"colorbar\":{\"outlinewidth\":0,\"ticks\":\"\"}},\"colorscale\":{\"sequential\":[[0.0,\"#0d0887\"],[0.1111111111111111,\"#46039f\"],[0.2222222222222222,\"#7201a8\"],[0.3333333333333333,\"#9c179e\"],[0.4444444444444444,\"#bd3786\"],[0.5555555555555556,\"#d8576b\"],[0.6666666666666666,\"#ed7953\"],[0.7777777777777778,\"#fb9f3a\"],[0.8888888888888888,\"#fdca26\"],[1.0,\"#f0f921\"]],\"sequentialminus\":[[0.0,\"#0d0887\"],[0.1111111111111111,\"#46039f\"],[0.2222222222222222,\"#7201a8\"],[0.3333333333333333,\"#9c179e\"],[0.4444444444444444,\"#bd3786\"],[0.5555555555555556,\"#d8576b\"],[0.6666666666666666,\"#ed7953\"],[0.7777777777777778,\"#fb9f3a\"],[0.8888888888888888,\"#fdca26\"],[1.0,\"#f0f921\"]],\"diverging\":[[0,\"#8e0152\"],[0.1,\"#c51b7d\"],[0.2,\"#de77ae\"],[0.3,\"#f1b6da\"],[0.4,\"#fde0ef\"],[0.5,\"#f7f7f7\"],[0.6,\"#e6f5d0\"],[0.7,\"#b8e186\"],[0.8,\"#7fbc41\"],[0.9,\"#4d9221\"],[1,\"#276419\"]]},\"xaxis\":{\"gridcolor\":\"white\",\"linecolor\":\"white\",\"ticks\":\"\",\"title\":{\"standoff\":15},\"zerolinecolor\":\"white\",\"automargin\":true,\"zerolinewidth\":2},\"yaxis\":{\"gridcolor\":\"white\",\"linecolor\":\"white\",\"ticks\":\"\",\"title\":{\"standoff\":15},\"zerolinecolor\":\"white\",\"automargin\":true,\"zerolinewidth\":2},\"scene\":{\"xaxis\":{\"backgroundcolor\":\"#E5ECF6\",\"gridcolor\":\"white\",\"linecolor\":\"white\",\"showbackground\":true,\"ticks\":\"\",\"zerolinecolor\":\"white\",\"gridwidth\":2},\"yaxis\":{\"backgroundcolor\":\"#E5ECF6\",\"gridcolor\":\"white\",\"linecolor\":\"white\",\"showbackground\":true,\"ticks\":\"\",\"zerolinecolor\":\"white\",\"gridwidth\":2},\"zaxis\":{\"backgroundcolor\":\"#E5ECF6\",\"gridcolor\":\"white\",\"linecolor\":\"white\",\"showbackground\":true,\"ticks\":\"\",\"zerolinecolor\":\"white\",\"gridwidth\":2}},\"shapedefaults\":{\"line\":{\"color\":\"#2a3f5f\"}},\"annotationdefaults\":{\"arrowcolor\":\"#2a3f5f\",\"arrowhead\":0,\"arrowwidth\":1},\"geo\":{\"bgcolor\":\"white\",\"landcolor\":\"#E5ECF6\",\"subunitcolor\":\"white\",\"showland\":true,\"showlakes\":true,\"lakecolor\":\"white\"},\"title\":{\"x\":0.05},\"mapbox\":{\"style\":\"light\"}}},\"xaxis\":{\"anchor\":\"y\",\"domain\":[0.0,1.0],\"title\":{\"text\":\"Etapa del Proyecto\"},\"categoryorder\":\"array\",\"categoryarray\":[\"SHOOT\",\"ALL SHOW\",\"POST\",\"DEVELOPMENT\",\"PREP\",\"2nd Unit\",\"WRAP\",\"Fringes\",\"SOFT\",\"COVID\"],\"tickangle\":-45},\"yaxis\":{\"anchor\":\"x\",\"domain\":[0.0,1.0],\"title\":{\"text\":\"Presupuesto Total\"}},\"legend\":{\"title\":{\"text\":\"Etapa del Proyecto\"},\"tracegroupgap\":0},\"title\":{\"text\":\"Presupuesto Total por Etapa\"},\"barmode\":\"relative\"},                        {\"responsive\": true}                    ).then(function(){\n",
       "                            \n",
       "var gd = document.getElementById('c5512557-b306-4f6d-af7f-bdc7fac47e41');\n",
       "var x = new MutationObserver(function (mutations, observer) {{\n",
       "        var display = window.getComputedStyle(gd).display;\n",
       "        if (!display || display === 'none') {{\n",
       "            console.log([gd, 'removed!']);\n",
       "            Plotly.purge(gd);\n",
       "            observer.disconnect();\n",
       "        }}\n",
       "}});\n",
       "\n",
       "// Listen for the removal of the full notebook cells\n",
       "var notebookContainer = gd.closest('#notebook-container');\n",
       "if (notebookContainer) {{\n",
       "    x.observe(notebookContainer, {childList: true});\n",
       "}}\n",
       "\n",
       "// Listen for the clearing of the current output cell\n",
       "var outputEl = gd.closest('.output');\n",
       "if (outputEl) {{\n",
       "    x.observe(outputEl, {childList: true});\n",
       "}}\n",
       "\n",
       "                        })                };                });            </script>        </div>"
      ]
     },
     "metadata": {},
     "output_type": "display_data"
    }
   ],
   "source": [
    "etapas = data[data[\"Etapa\"].notna()]\n",
    "presupuesto_etapas = etapas.groupby(\"Etapa\")[\"BUDGET\"].sum().sort_values(ascending=False)\n",
    "df_etapas = presupuesto_etapas.reset_index()\n",
    "df_etapas.columns = [\"Etapa\", \"Presupuesto\"]\n",
    "fig = px.bar(\n",
    "    df_etapas,\n",
    "    x=\"Etapa\",\n",
    "    y=\"Presupuesto\",\n",
    "    title=\"Presupuesto Total por Etapa\",\n",
    "    labels={\"Etapa\": \"Etapa del Proyecto\", \"Presupuesto\": \"Presupuesto Total\"},\n",
    "    text=\"Presupuesto\",\n",
    "    color=\"Etapa\",\n",
    "    color_discrete_sequence=px.colors.sequential.Mint\n",
    ")\n",
    "\n",
    "fig.update_layout(xaxis_tickangle=-45)\n",
    "fig.show()\n"
   ]
  },
  {
   "cell_type": "code",
   "execution_count": 35,
   "id": "72a972ce-2568-4165-b6e8-1d8590dcde13",
   "metadata": {},
   "outputs": [
    {
     "name": "stdout",
     "output_type": "stream",
     "text": [
      "Top 10 subcuentas con mayor presupuesto:\n",
      "ACCT\n",
      "7003    11643574\n",
      "1101     8340000\n",
      "1401     7612289\n",
      "3193     7120297\n",
      "3412     6880105\n",
      "1201     5979120\n",
      "3683     5456700\n",
      "3410     4701050\n",
      "3902     4360556\n",
      "2494     3001630\n",
      "Name: BUDGET, dtype: object\n"
     ]
    }
   ],
   "source": [
    "data[\"REF\"] = data[\"REF\"].astype(str).str.strip()\n",
    "subcuentas = data[data[\"REF\"] == \"Sub cuenta\"]\n",
    "\n",
    "if subcuentas.empty:\n",
    "    print(\"No se encontraron subcuentas con ese nombre exacto.\")\n",
    "else:\n",
    "    top_subcuentas = subcuentas.groupby(\"ACCT\")[\"BUDGET\"].sum().sort_values(ascending=False).head(10)\n",
    "    print(\"Top 10 subcuentas con mayor presupuesto:\")\n",
    "    print(top_subcuentas)\n"
   ]
  },
  {
   "cell_type": "code",
   "execution_count": 39,
   "id": "27d2cd92-fa26-40ac-82a3-3e8a403902e7",
   "metadata": {},
   "outputs": [
    {
     "data": {
      "application/vnd.plotly.v1+json": {
       "config": {
        "plotlyServerURL": "https://plot.ly"
       },
       "data": [
        {
         "alignmentgroup": "True",
         "hovertemplate": "Código de Subcuenta=%{x}<br>Presupuesto Total=%{text}<extra></extra>",
         "legendgroup": "7003",
         "marker": {
          "color": "#0d0887",
          "pattern": {
           "shape": ""
          }
         },
         "name": "7003",
         "offsetgroup": "7003",
         "orientation": "v",
         "showlegend": true,
         "text": [
          11643574
         ],
         "textposition": "auto",
         "type": "bar",
         "x": [
          "7003"
         ],
         "xaxis": "x",
         "y": [
          11643574
         ],
         "yaxis": "y"
        },
        {
         "alignmentgroup": "True",
         "hovertemplate": "Código de Subcuenta=%{x}<br>Presupuesto Total=%{text}<extra></extra>",
         "legendgroup": "1101",
         "marker": {
          "color": "#46039f",
          "pattern": {
           "shape": ""
          }
         },
         "name": "1101",
         "offsetgroup": "1101",
         "orientation": "v",
         "showlegend": true,
         "text": [
          8340000
         ],
         "textposition": "auto",
         "type": "bar",
         "x": [
          "1101"
         ],
         "xaxis": "x",
         "y": [
          8340000
         ],
         "yaxis": "y"
        },
        {
         "alignmentgroup": "True",
         "hovertemplate": "Código de Subcuenta=%{x}<br>Presupuesto Total=%{text}<extra></extra>",
         "legendgroup": "1401",
         "marker": {
          "color": "#7201a8",
          "pattern": {
           "shape": ""
          }
         },
         "name": "1401",
         "offsetgroup": "1401",
         "orientation": "v",
         "showlegend": true,
         "text": [
          7612289
         ],
         "textposition": "auto",
         "type": "bar",
         "x": [
          "1401"
         ],
         "xaxis": "x",
         "y": [
          7612289
         ],
         "yaxis": "y"
        },
        {
         "alignmentgroup": "True",
         "hovertemplate": "Código de Subcuenta=%{x}<br>Presupuesto Total=%{text}<extra></extra>",
         "legendgroup": "3193",
         "marker": {
          "color": "#9c179e",
          "pattern": {
           "shape": ""
          }
         },
         "name": "3193",
         "offsetgroup": "3193",
         "orientation": "v",
         "showlegend": true,
         "text": [
          7120297
         ],
         "textposition": "auto",
         "type": "bar",
         "x": [
          "3193"
         ],
         "xaxis": "x",
         "y": [
          7120297
         ],
         "yaxis": "y"
        },
        {
         "alignmentgroup": "True",
         "hovertemplate": "Código de Subcuenta=%{x}<br>Presupuesto Total=%{text}<extra></extra>",
         "legendgroup": "3412",
         "marker": {
          "color": "#bd3786",
          "pattern": {
           "shape": ""
          }
         },
         "name": "3412",
         "offsetgroup": "3412",
         "orientation": "v",
         "showlegend": true,
         "text": [
          6880105
         ],
         "textposition": "auto",
         "type": "bar",
         "x": [
          "3412"
         ],
         "xaxis": "x",
         "y": [
          6880105
         ],
         "yaxis": "y"
        },
        {
         "alignmentgroup": "True",
         "hovertemplate": "Código de Subcuenta=%{x}<br>Presupuesto Total=%{text}<extra></extra>",
         "legendgroup": "1201",
         "marker": {
          "color": "#d8576b",
          "pattern": {
           "shape": ""
          }
         },
         "name": "1201",
         "offsetgroup": "1201",
         "orientation": "v",
         "showlegend": true,
         "text": [
          5979120
         ],
         "textposition": "auto",
         "type": "bar",
         "x": [
          "1201"
         ],
         "xaxis": "x",
         "y": [
          5979120
         ],
         "yaxis": "y"
        },
        {
         "alignmentgroup": "True",
         "hovertemplate": "Código de Subcuenta=%{x}<br>Presupuesto Total=%{text}<extra></extra>",
         "legendgroup": "3683",
         "marker": {
          "color": "#ed7953",
          "pattern": {
           "shape": ""
          }
         },
         "name": "3683",
         "offsetgroup": "3683",
         "orientation": "v",
         "showlegend": true,
         "text": [
          5456700
         ],
         "textposition": "auto",
         "type": "bar",
         "x": [
          "3683"
         ],
         "xaxis": "x",
         "y": [
          5456700
         ],
         "yaxis": "y"
        },
        {
         "alignmentgroup": "True",
         "hovertemplate": "Código de Subcuenta=%{x}<br>Presupuesto Total=%{text}<extra></extra>",
         "legendgroup": "3410",
         "marker": {
          "color": "#fb9f3a",
          "pattern": {
           "shape": ""
          }
         },
         "name": "3410",
         "offsetgroup": "3410",
         "orientation": "v",
         "showlegend": true,
         "text": [
          4701050
         ],
         "textposition": "auto",
         "type": "bar",
         "x": [
          "3410"
         ],
         "xaxis": "x",
         "y": [
          4701050
         ],
         "yaxis": "y"
        },
        {
         "alignmentgroup": "True",
         "hovertemplate": "Código de Subcuenta=%{x}<br>Presupuesto Total=%{text}<extra></extra>",
         "legendgroup": "3902",
         "marker": {
          "color": "#fdca26",
          "pattern": {
           "shape": ""
          }
         },
         "name": "3902",
         "offsetgroup": "3902",
         "orientation": "v",
         "showlegend": true,
         "text": [
          4360556
         ],
         "textposition": "auto",
         "type": "bar",
         "x": [
          "3902"
         ],
         "xaxis": "x",
         "y": [
          4360556
         ],
         "yaxis": "y"
        },
        {
         "alignmentgroup": "True",
         "hovertemplate": "Código de Subcuenta=%{x}<br>Presupuesto Total=%{text}<extra></extra>",
         "legendgroup": "2494",
         "marker": {
          "color": "#f0f921",
          "pattern": {
           "shape": ""
          }
         },
         "name": "2494",
         "offsetgroup": "2494",
         "orientation": "v",
         "showlegend": true,
         "text": [
          3001630
         ],
         "textposition": "auto",
         "type": "bar",
         "x": [
          "2494"
         ],
         "xaxis": "x",
         "y": [
          3001630
         ],
         "yaxis": "y"
        }
       ],
       "layout": {
        "autosize": true,
        "barmode": "relative",
        "legend": {
         "title": {
          "text": "Código de Subcuenta"
         },
         "tracegroupgap": 0
        },
        "template": {
         "data": {
          "bar": [
           {
            "error_x": {
             "color": "#2a3f5f"
            },
            "error_y": {
             "color": "#2a3f5f"
            },
            "marker": {
             "line": {
              "color": "#E5ECF6",
              "width": 0.5
             },
             "pattern": {
              "fillmode": "overlay",
              "size": 10,
              "solidity": 0.2
             }
            },
            "type": "bar"
           }
          ],
          "barpolar": [
           {
            "marker": {
             "line": {
              "color": "#E5ECF6",
              "width": 0.5
             },
             "pattern": {
              "fillmode": "overlay",
              "size": 10,
              "solidity": 0.2
             }
            },
            "type": "barpolar"
           }
          ],
          "carpet": [
           {
            "aaxis": {
             "endlinecolor": "#2a3f5f",
             "gridcolor": "white",
             "linecolor": "white",
             "minorgridcolor": "white",
             "startlinecolor": "#2a3f5f"
            },
            "baxis": {
             "endlinecolor": "#2a3f5f",
             "gridcolor": "white",
             "linecolor": "white",
             "minorgridcolor": "white",
             "startlinecolor": "#2a3f5f"
            },
            "type": "carpet"
           }
          ],
          "choropleth": [
           {
            "colorbar": {
             "outlinewidth": 0,
             "ticks": ""
            },
            "type": "choropleth"
           }
          ],
          "contour": [
           {
            "colorbar": {
             "outlinewidth": 0,
             "ticks": ""
            },
            "colorscale": [
             [
              0,
              "#0d0887"
             ],
             [
              0.1111111111111111,
              "#46039f"
             ],
             [
              0.2222222222222222,
              "#7201a8"
             ],
             [
              0.3333333333333333,
              "#9c179e"
             ],
             [
              0.4444444444444444,
              "#bd3786"
             ],
             [
              0.5555555555555556,
              "#d8576b"
             ],
             [
              0.6666666666666666,
              "#ed7953"
             ],
             [
              0.7777777777777778,
              "#fb9f3a"
             ],
             [
              0.8888888888888888,
              "#fdca26"
             ],
             [
              1,
              "#f0f921"
             ]
            ],
            "type": "contour"
           }
          ],
          "contourcarpet": [
           {
            "colorbar": {
             "outlinewidth": 0,
             "ticks": ""
            },
            "type": "contourcarpet"
           }
          ],
          "heatmap": [
           {
            "colorbar": {
             "outlinewidth": 0,
             "ticks": ""
            },
            "colorscale": [
             [
              0,
              "#0d0887"
             ],
             [
              0.1111111111111111,
              "#46039f"
             ],
             [
              0.2222222222222222,
              "#7201a8"
             ],
             [
              0.3333333333333333,
              "#9c179e"
             ],
             [
              0.4444444444444444,
              "#bd3786"
             ],
             [
              0.5555555555555556,
              "#d8576b"
             ],
             [
              0.6666666666666666,
              "#ed7953"
             ],
             [
              0.7777777777777778,
              "#fb9f3a"
             ],
             [
              0.8888888888888888,
              "#fdca26"
             ],
             [
              1,
              "#f0f921"
             ]
            ],
            "type": "heatmap"
           }
          ],
          "heatmapgl": [
           {
            "colorbar": {
             "outlinewidth": 0,
             "ticks": ""
            },
            "colorscale": [
             [
              0,
              "#0d0887"
             ],
             [
              0.1111111111111111,
              "#46039f"
             ],
             [
              0.2222222222222222,
              "#7201a8"
             ],
             [
              0.3333333333333333,
              "#9c179e"
             ],
             [
              0.4444444444444444,
              "#bd3786"
             ],
             [
              0.5555555555555556,
              "#d8576b"
             ],
             [
              0.6666666666666666,
              "#ed7953"
             ],
             [
              0.7777777777777778,
              "#fb9f3a"
             ],
             [
              0.8888888888888888,
              "#fdca26"
             ],
             [
              1,
              "#f0f921"
             ]
            ],
            "type": "heatmapgl"
           }
          ],
          "histogram": [
           {
            "marker": {
             "pattern": {
              "fillmode": "overlay",
              "size": 10,
              "solidity": 0.2
             }
            },
            "type": "histogram"
           }
          ],
          "histogram2d": [
           {
            "colorbar": {
             "outlinewidth": 0,
             "ticks": ""
            },
            "colorscale": [
             [
              0,
              "#0d0887"
             ],
             [
              0.1111111111111111,
              "#46039f"
             ],
             [
              0.2222222222222222,
              "#7201a8"
             ],
             [
              0.3333333333333333,
              "#9c179e"
             ],
             [
              0.4444444444444444,
              "#bd3786"
             ],
             [
              0.5555555555555556,
              "#d8576b"
             ],
             [
              0.6666666666666666,
              "#ed7953"
             ],
             [
              0.7777777777777778,
              "#fb9f3a"
             ],
             [
              0.8888888888888888,
              "#fdca26"
             ],
             [
              1,
              "#f0f921"
             ]
            ],
            "type": "histogram2d"
           }
          ],
          "histogram2dcontour": [
           {
            "colorbar": {
             "outlinewidth": 0,
             "ticks": ""
            },
            "colorscale": [
             [
              0,
              "#0d0887"
             ],
             [
              0.1111111111111111,
              "#46039f"
             ],
             [
              0.2222222222222222,
              "#7201a8"
             ],
             [
              0.3333333333333333,
              "#9c179e"
             ],
             [
              0.4444444444444444,
              "#bd3786"
             ],
             [
              0.5555555555555556,
              "#d8576b"
             ],
             [
              0.6666666666666666,
              "#ed7953"
             ],
             [
              0.7777777777777778,
              "#fb9f3a"
             ],
             [
              0.8888888888888888,
              "#fdca26"
             ],
             [
              1,
              "#f0f921"
             ]
            ],
            "type": "histogram2dcontour"
           }
          ],
          "mesh3d": [
           {
            "colorbar": {
             "outlinewidth": 0,
             "ticks": ""
            },
            "type": "mesh3d"
           }
          ],
          "parcoords": [
           {
            "line": {
             "colorbar": {
              "outlinewidth": 0,
              "ticks": ""
             }
            },
            "type": "parcoords"
           }
          ],
          "pie": [
           {
            "automargin": true,
            "type": "pie"
           }
          ],
          "scatter": [
           {
            "fillpattern": {
             "fillmode": "overlay",
             "size": 10,
             "solidity": 0.2
            },
            "type": "scatter"
           }
          ],
          "scatter3d": [
           {
            "line": {
             "colorbar": {
              "outlinewidth": 0,
              "ticks": ""
             }
            },
            "marker": {
             "colorbar": {
              "outlinewidth": 0,
              "ticks": ""
             }
            },
            "type": "scatter3d"
           }
          ],
          "scattercarpet": [
           {
            "marker": {
             "colorbar": {
              "outlinewidth": 0,
              "ticks": ""
             }
            },
            "type": "scattercarpet"
           }
          ],
          "scattergeo": [
           {
            "marker": {
             "colorbar": {
              "outlinewidth": 0,
              "ticks": ""
             }
            },
            "type": "scattergeo"
           }
          ],
          "scattergl": [
           {
            "marker": {
             "colorbar": {
              "outlinewidth": 0,
              "ticks": ""
             }
            },
            "type": "scattergl"
           }
          ],
          "scattermapbox": [
           {
            "marker": {
             "colorbar": {
              "outlinewidth": 0,
              "ticks": ""
             }
            },
            "type": "scattermapbox"
           }
          ],
          "scatterpolar": [
           {
            "marker": {
             "colorbar": {
              "outlinewidth": 0,
              "ticks": ""
             }
            },
            "type": "scatterpolar"
           }
          ],
          "scatterpolargl": [
           {
            "marker": {
             "colorbar": {
              "outlinewidth": 0,
              "ticks": ""
             }
            },
            "type": "scatterpolargl"
           }
          ],
          "scatterternary": [
           {
            "marker": {
             "colorbar": {
              "outlinewidth": 0,
              "ticks": ""
             }
            },
            "type": "scatterternary"
           }
          ],
          "surface": [
           {
            "colorbar": {
             "outlinewidth": 0,
             "ticks": ""
            },
            "colorscale": [
             [
              0,
              "#0d0887"
             ],
             [
              0.1111111111111111,
              "#46039f"
             ],
             [
              0.2222222222222222,
              "#7201a8"
             ],
             [
              0.3333333333333333,
              "#9c179e"
             ],
             [
              0.4444444444444444,
              "#bd3786"
             ],
             [
              0.5555555555555556,
              "#d8576b"
             ],
             [
              0.6666666666666666,
              "#ed7953"
             ],
             [
              0.7777777777777778,
              "#fb9f3a"
             ],
             [
              0.8888888888888888,
              "#fdca26"
             ],
             [
              1,
              "#f0f921"
             ]
            ],
            "type": "surface"
           }
          ],
          "table": [
           {
            "cells": {
             "fill": {
              "color": "#EBF0F8"
             },
             "line": {
              "color": "white"
             }
            },
            "header": {
             "fill": {
              "color": "#C8D4E3"
             },
             "line": {
              "color": "white"
             }
            },
            "type": "table"
           }
          ]
         },
         "layout": {
          "annotationdefaults": {
           "arrowcolor": "#2a3f5f",
           "arrowhead": 0,
           "arrowwidth": 1
          },
          "autotypenumbers": "strict",
          "coloraxis": {
           "colorbar": {
            "outlinewidth": 0,
            "ticks": ""
           }
          },
          "colorscale": {
           "diverging": [
            [
             0,
             "#8e0152"
            ],
            [
             0.1,
             "#c51b7d"
            ],
            [
             0.2,
             "#de77ae"
            ],
            [
             0.3,
             "#f1b6da"
            ],
            [
             0.4,
             "#fde0ef"
            ],
            [
             0.5,
             "#f7f7f7"
            ],
            [
             0.6,
             "#e6f5d0"
            ],
            [
             0.7,
             "#b8e186"
            ],
            [
             0.8,
             "#7fbc41"
            ],
            [
             0.9,
             "#4d9221"
            ],
            [
             1,
             "#276419"
            ]
           ],
           "sequential": [
            [
             0,
             "#0d0887"
            ],
            [
             0.1111111111111111,
             "#46039f"
            ],
            [
             0.2222222222222222,
             "#7201a8"
            ],
            [
             0.3333333333333333,
             "#9c179e"
            ],
            [
             0.4444444444444444,
             "#bd3786"
            ],
            [
             0.5555555555555556,
             "#d8576b"
            ],
            [
             0.6666666666666666,
             "#ed7953"
            ],
            [
             0.7777777777777778,
             "#fb9f3a"
            ],
            [
             0.8888888888888888,
             "#fdca26"
            ],
            [
             1,
             "#f0f921"
            ]
           ],
           "sequentialminus": [
            [
             0,
             "#0d0887"
            ],
            [
             0.1111111111111111,
             "#46039f"
            ],
            [
             0.2222222222222222,
             "#7201a8"
            ],
            [
             0.3333333333333333,
             "#9c179e"
            ],
            [
             0.4444444444444444,
             "#bd3786"
            ],
            [
             0.5555555555555556,
             "#d8576b"
            ],
            [
             0.6666666666666666,
             "#ed7953"
            ],
            [
             0.7777777777777778,
             "#fb9f3a"
            ],
            [
             0.8888888888888888,
             "#fdca26"
            ],
            [
             1,
             "#f0f921"
            ]
           ]
          },
          "colorway": [
           "#636efa",
           "#EF553B",
           "#00cc96",
           "#ab63fa",
           "#FFA15A",
           "#19d3f3",
           "#FF6692",
           "#B6E880",
           "#FF97FF",
           "#FECB52"
          ],
          "font": {
           "color": "#2a3f5f"
          },
          "geo": {
           "bgcolor": "white",
           "lakecolor": "white",
           "landcolor": "#E5ECF6",
           "showlakes": true,
           "showland": true,
           "subunitcolor": "white"
          },
          "hoverlabel": {
           "align": "left"
          },
          "hovermode": "closest",
          "mapbox": {
           "style": "light"
          },
          "paper_bgcolor": "white",
          "plot_bgcolor": "#E5ECF6",
          "polar": {
           "angularaxis": {
            "gridcolor": "white",
            "linecolor": "white",
            "ticks": ""
           },
           "bgcolor": "#E5ECF6",
           "radialaxis": {
            "gridcolor": "white",
            "linecolor": "white",
            "ticks": ""
           }
          },
          "scene": {
           "xaxis": {
            "backgroundcolor": "#E5ECF6",
            "gridcolor": "white",
            "gridwidth": 2,
            "linecolor": "white",
            "showbackground": true,
            "ticks": "",
            "zerolinecolor": "white"
           },
           "yaxis": {
            "backgroundcolor": "#E5ECF6",
            "gridcolor": "white",
            "gridwidth": 2,
            "linecolor": "white",
            "showbackground": true,
            "ticks": "",
            "zerolinecolor": "white"
           },
           "zaxis": {
            "backgroundcolor": "#E5ECF6",
            "gridcolor": "white",
            "gridwidth": 2,
            "linecolor": "white",
            "showbackground": true,
            "ticks": "",
            "zerolinecolor": "white"
           }
          },
          "shapedefaults": {
           "line": {
            "color": "#2a3f5f"
           }
          },
          "ternary": {
           "aaxis": {
            "gridcolor": "white",
            "linecolor": "white",
            "ticks": ""
           },
           "baxis": {
            "gridcolor": "white",
            "linecolor": "white",
            "ticks": ""
           },
           "bgcolor": "#E5ECF6",
           "caxis": {
            "gridcolor": "white",
            "linecolor": "white",
            "ticks": ""
           }
          },
          "title": {
           "x": 0.05
          },
          "xaxis": {
           "automargin": true,
           "gridcolor": "white",
           "linecolor": "white",
           "ticks": "",
           "title": {
            "standoff": 15
           },
           "zerolinecolor": "white",
           "zerolinewidth": 2
          },
          "yaxis": {
           "automargin": true,
           "gridcolor": "white",
           "linecolor": "white",
           "ticks": "",
           "title": {
            "standoff": 15
           },
           "zerolinecolor": "white",
           "zerolinewidth": 2
          }
         }
        },
        "title": {
         "text": "Top 10 Subcuentas con Mayor Presupuesto"
        },
        "xaxis": {
         "anchor": "y",
         "autorange": true,
         "categoryarray": [
          "7003",
          "1101",
          "1401",
          "3193",
          "3412",
          "1201",
          "3683",
          "3410",
          "3902",
          "2494"
         ],
         "categoryorder": "array",
         "domain": [
          0,
          1
         ],
         "range": [
          -0.5,
          9.5
         ],
         "tickangle": -45,
         "title": {
          "text": "Código de Subcuenta"
         },
         "type": "category"
        },
        "yaxis": {
         "anchor": "x",
         "autorange": true,
         "domain": [
          0,
          1
         ],
         "range": [
          0,
          12256393.684210526
         ],
         "title": {
          "text": "Presupuesto Total"
         },
         "type": "linear"
        }
       }
      },
      "image/png": "[encoded data removed]",
      "text/html": [
       "<div>                            <div id=\"5efc5f07-726d-4a55-90ba-c1c923f640e2\" class=\"plotly-graph-div\" style=\"height:525px; width:100%;\"></div>            <script type=\"text/javascript\">                require([\"plotly\"], function(Plotly) {                    window.PLOTLYENV=window.PLOTLYENV || {};                                    if (document.getElementById(\"5efc5f07-726d-4a55-90ba-c1c923f640e2\")) {                    Plotly.newPlot(                        \"5efc5f07-726d-4a55-90ba-c1c923f640e2\",                        [{\"alignmentgroup\":\"True\",\"hovertemplate\":\"C\\u00f3digo de Subcuenta=%{x}\\u003cbr\\u003ePresupuesto Total=%{text}\\u003cextra\\u003e\\u003c\\u002fextra\\u003e\",\"legendgroup\":\"7003\",\"marker\":{\"color\":\"#0d0887\",\"pattern\":{\"shape\":\"\"}},\"name\":\"7003\",\"offsetgroup\":\"7003\",\"orientation\":\"v\",\"showlegend\":true,\"text\":[11643574],\"textposition\":\"auto\",\"x\":[\"7003\"],\"xaxis\":\"x\",\"y\":[11643574],\"yaxis\":\"y\",\"type\":\"bar\"},{\"alignmentgroup\":\"True\",\"hovertemplate\":\"C\\u00f3digo de Subcuenta=%{x}\\u003cbr\\u003ePresupuesto Total=%{text}\\u003cextra\\u003e\\u003c\\u002fextra\\u003e\",\"legendgroup\":\"1101\",\"marker\":{\"color\":\"#46039f\",\"pattern\":{\"shape\":\"\"}},\"name\":\"1101\",\"offsetgroup\":\"1101\",\"orientation\":\"v\",\"showlegend\":true,\"text\":[8340000],\"textposition\":\"auto\",\"x\":[\"1101\"],\"xaxis\":\"x\",\"y\":[8340000],\"yaxis\":\"y\",\"type\":\"bar\"},{\"alignmentgroup\":\"True\",\"hovertemplate\":\"C\\u00f3digo de Subcuenta=%{x}\\u003cbr\\u003ePresupuesto Total=%{text}\\u003cextra\\u003e\\u003c\\u002fextra\\u003e\",\"legendgroup\":\"1401\",\"marker\":{\"color\":\"#7201a8\",\"pattern\":{\"shape\":\"\"}},\"name\":\"1401\",\"offsetgroup\":\"1401\",\"orientation\":\"v\",\"showlegend\":true,\"text\":[7612289],\"textposition\":\"auto\",\"x\":[\"1401\"],\"xaxis\":\"x\",\"y\":[7612289],\"yaxis\":\"y\",\"type\":\"bar\"},{\"alignmentgroup\":\"True\",\"hovertemplate\":\"C\\u00f3digo de Subcuenta=%{x}\\u003cbr\\u003ePresupuesto Total=%{text}\\u003cextra\\u003e\\u003c\\u002fextra\\u003e\",\"legendgroup\":\"3193\",\"marker\":{\"color\":\"#9c179e\",\"pattern\":{\"shape\":\"\"}},\"name\":\"3193\",\"offsetgroup\":\"3193\",\"orientation\":\"v\",\"showlegend\":true,\"text\":[7120297],\"textposition\":\"auto\",\"x\":[\"3193\"],\"xaxis\":\"x\",\"y\":[7120297],\"yaxis\":\"y\",\"type\":\"bar\"},{\"alignmentgroup\":\"True\",\"hovertemplate\":\"C\\u00f3digo de Subcuenta=%{x}\\u003cbr\\u003ePresupuesto Total=%{text}\\u003cextra\\u003e\\u003c\\u002fextra\\u003e\",\"legendgroup\":\"3412\",\"marker\":{\"color\":\"#bd3786\",\"pattern\":{\"shape\":\"\"}},\"name\":\"3412\",\"offsetgroup\":\"3412\",\"orientation\":\"v\",\"showlegend\":true,\"text\":[6880105],\"textposition\":\"auto\",\"x\":[\"3412\"],\"xaxis\":\"x\",\"y\":[6880105],\"yaxis\":\"y\",\"type\":\"bar\"},{\"alignmentgroup\":\"True\",\"hovertemplate\":\"C\\u00f3digo de Subcuenta=%{x}\\u003cbr\\u003ePresupuesto Total=%{text}\\u003cextra\\u003e\\u003c\\u002fextra\\u003e\",\"legendgroup\":\"1201\",\"marker\":{\"color\":\"#d8576b\",\"pattern\":{\"shape\":\"\"}},\"name\":\"1201\",\"offsetgroup\":\"1201\",\"orientation\":\"v\",\"showlegend\":true,\"text\":[5979120],\"textposition\":\"auto\",\"x\":[\"1201\"],\"xaxis\":\"x\",\"y\":[5979120],\"yaxis\":\"y\",\"type\":\"bar\"},{\"alignmentgroup\":\"True\",\"hovertemplate\":\"C\\u00f3digo de Subcuenta=%{x}\\u003cbr\\u003ePresupuesto Total=%{text}\\u003cextra\\u003e\\u003c\\u002fextra\\u003e\",\"legendgroup\":\"3683\",\"marker\":{\"color\":\"#ed7953\",\"pattern\":{\"shape\":\"\"}},\"name\":\"3683\",\"offsetgroup\":\"3683\",\"orientation\":\"v\",\"showlegend\":true,\"text\":[5456700],\"textposition\":\"auto\",\"x\":[\"3683\"],\"xaxis\":\"x\",\"y\":[5456700],\"yaxis\":\"y\",\"type\":\"bar\"},{\"alignmentgroup\":\"True\",\"hovertemplate\":\"C\\u00f3digo de Subcuenta=%{x}\\u003cbr\\u003ePresupuesto Total=%{text}\\u003cextra\\u003e\\u003c\\u002fextra\\u003e\",\"legendgroup\":\"3410\",\"marker\":{\"color\":\"#fb9f3a\",\"pattern\":{\"shape\":\"\"}},\"name\":\"3410\",\"offsetgroup\":\"3410\",\"orientation\":\"v\",\"showlegend\":true,\"text\":[4701050],\"textposition\":\"auto\",\"x\":[\"3410\"],\"xaxis\":\"x\",\"y\":[4701050],\"yaxis\":\"y\",\"type\":\"bar\"},{\"alignmentgroup\":\"True\",\"hovertemplate\":\"C\\u00f3digo de Subcuenta=%{x}\\u003cbr\\u003ePresupuesto Total=%{text}\\u003cextra\\u003e\\u003c\\u002fextra\\u003e\",\"legendgroup\":\"3902\",\"marker\":{\"color\":\"#fdca26\",\"pattern\":{\"shape\":\"\"}},\"name\":\"3902\",\"offsetgroup\":\"3902\",\"orientation\":\"v\",\"showlegend\":true,\"text\":[4360556],\"textposition\":\"auto\",\"x\":[\"3902\"],\"xaxis\":\"x\",\"y\":[4360556],\"yaxis\":\"y\",\"type\":\"bar\"},{\"alignmentgroup\":\"True\",\"hovertemplate\":\"C\\u00f3digo de Subcuenta=%{x}\\u003cbr\\u003ePresupuesto Total=%{text}\\u003cextra\\u003e\\u003c\\u002fextra\\u003e\",\"legendgroup\":\"2494\",\"marker\":{\"color\":\"#f0f921\",\"pattern\":{\"shape\":\"\"}},\"name\":\"2494\",\"offsetgroup\":\"2494\",\"orientation\":\"v\",\"showlegend\":true,\"text\":[3001630],\"textposition\":\"auto\",\"x\":[\"2494\"],\"xaxis\":\"x\",\"y\":[3001630],\"yaxis\":\"y\",\"type\":\"bar\"}],                        {\"template\":{\"data\":{\"histogram2dcontour\":[{\"type\":\"histogram2dcontour\",\"colorbar\":{\"outlinewidth\":0,\"ticks\":\"\"},\"colorscale\":[[0.0,\"#0d0887\"],[0.1111111111111111,\"#46039f\"],[0.2222222222222222,\"#7201a8\"],[0.3333333333333333,\"#9c179e\"],[0.4444444444444444,\"#bd3786\"],[0.5555555555555556,\"#d8576b\"],[0.6666666666666666,\"#ed7953\"],[0.7777777777777778,\"#fb9f3a\"],[0.8888888888888888,\"#fdca26\"],[1.0,\"#f0f921\"]]}],\"choropleth\":[{\"type\":\"choropleth\",\"colorbar\":{\"outlinewidth\":0,\"ticks\":\"\"}}],\"histogram2d\":[{\"type\":\"histogram2d\",\"colorbar\":{\"outlinewidth\":0,\"ticks\":\"\"},\"colorscale\":[[0.0,\"#0d0887\"],[0.1111111111111111,\"#46039f\"],[0.2222222222222222,\"#7201a8\"],[0.3333333333333333,\"#9c179e\"],[0.4444444444444444,\"#bd3786\"],[0.5555555555555556,\"#d8576b\"],[0.6666666666666666,\"#ed7953\"],[0.7777777777777778,\"#fb9f3a\"],[0.8888888888888888,\"#fdca26\"],[1.0,\"#f0f921\"]]}],\"heatmap\":[{\"type\":\"heatmap\",\"colorbar\":{\"outlinewidth\":0,\"ticks\":\"\"},\"colorscale\":[[0.0,\"#0d0887\"],[0.1111111111111111,\"#46039f\"],[0.2222222222222222,\"#7201a8\"],[0.3333333333333333,\"#9c179e\"],[0.4444444444444444,\"#bd3786\"],[0.5555555555555556,\"#d8576b\"],[0.6666666666666666,\"#ed7953\"],[0.7777777777777778,\"#fb9f3a\"],[0.8888888888888888,\"#fdca26\"],[1.0,\"#f0f921\"]]}],\"heatmapgl\":[{\"type\":\"heatmapgl\",\"colorbar\":{\"outlinewidth\":0,\"ticks\":\"\"},\"colorscale\":[[0.0,\"#0d0887\"],[0.1111111111111111,\"#46039f\"],[0.2222222222222222,\"#7201a8\"],[0.3333333333333333,\"#9c179e\"],[0.4444444444444444,\"#bd3786\"],[0.5555555555555556,\"#d8576b\"],[0.6666666666666666,\"#ed7953\"],[0.7777777777777778,\"#fb9f3a\"],[0.8888888888888888,\"#fdca26\"],[1.0,\"#f0f921\"]]}],\"contourcarpet\":[{\"type\":\"contourcarpet\",\"colorbar\":{\"outlinewidth\":0,\"ticks\":\"\"}}],\"contour\":[{\"type\":\"contour\",\"colorbar\":{\"outlinewidth\":0,\"ticks\":\"\"},\"colorscale\":[[0.0,\"#0d0887\"],[0.1111111111111111,\"#46039f\"],[0.2222222222222222,\"#7201a8\"],[0.3333333333333333,\"#9c179e\"],[0.4444444444444444,\"#bd3786\"],[0.5555555555555556,\"#d8576b\"],[0.6666666666666666,\"#ed7953\"],[0.7777777777777778,\"#fb9f3a\"],[0.8888888888888888,\"#fdca26\"],[1.0,\"#f0f921\"]]}],\"surface\":[{\"type\":\"surface\",\"colorbar\":{\"outlinewidth\":0,\"ticks\":\"\"},\"colorscale\":[[0.0,\"#0d0887\"],[0.1111111111111111,\"#46039f\"],[0.2222222222222222,\"#7201a8\"],[0.3333333333333333,\"#9c179e\"],[0.4444444444444444,\"#bd3786\"],[0.5555555555555556,\"#d8576b\"],[0.6666666666666666,\"#ed7953\"],[0.7777777777777778,\"#fb9f3a\"],[0.8888888888888888,\"#fdca26\"],[1.0,\"#f0f921\"]]}],\"mesh3d\":[{\"type\":\"mesh3d\",\"colorbar\":{\"outlinewidth\":0,\"ticks\":\"\"}}],\"scatter\":[{\"fillpattern\":{\"fillmode\":\"overlay\",\"size\":10,\"solidity\":0.2},\"type\":\"scatter\"}],\"parcoords\":[{\"type\":\"parcoords\",\"line\":{\"colorbar\":{\"outlinewidth\":0,\"ticks\":\"\"}}}],\"scatterpolargl\":[{\"type\":\"scatterpolargl\",\"marker\":{\"colorbar\":{\"outlinewidth\":0,\"ticks\":\"\"}}}],\"bar\":[{\"error_x\":{\"color\":\"#2a3f5f\"},\"error_y\":{\"color\":\"#2a3f5f\"},\"marker\":{\"line\":{\"color\":\"#E5ECF6\",\"width\":0.5},\"pattern\":{\"fillmode\":\"overlay\",\"size\":10,\"solidity\":0.2}},\"type\":\"bar\"}],\"scattergeo\":[{\"type\":\"scattergeo\",\"marker\":{\"colorbar\":{\"outlinewidth\":0,\"ticks\":\"\"}}}],\"scatterpolar\":[{\"type\":\"scatterpolar\",\"marker\":{\"colorbar\":{\"outlinewidth\":0,\"ticks\":\"\"}}}],\"histogram\":[{\"marker\":{\"pattern\":{\"fillmode\":\"overlay\",\"size\":10,\"solidity\":0.2}},\"type\":\"histogram\"}],\"scattergl\":[{\"type\":\"scattergl\",\"marker\":{\"colorbar\":{\"outlinewidth\":0,\"ticks\":\"\"}}}],\"scatter3d\":[{\"type\":\"scatter3d\",\"line\":{\"colorbar\":{\"outlinewidth\":0,\"ticks\":\"\"}},\"marker\":{\"colorbar\":{\"outlinewidth\":0,\"ticks\":\"\"}}}],\"scattermapbox\":[{\"type\":\"scattermapbox\",\"marker\":{\"colorbar\":{\"outlinewidth\":0,\"ticks\":\"\"}}}],\"scatterternary\":[{\"type\":\"scatterternary\",\"marker\":{\"colorbar\":{\"outlinewidth\":0,\"ticks\":\"\"}}}],\"scattercarpet\":[{\"type\":\"scattercarpet\",\"marker\":{\"colorbar\":{\"outlinewidth\":0,\"ticks\":\"\"}}}],\"carpet\":[{\"aaxis\":{\"endlinecolor\":\"#2a3f5f\",\"gridcolor\":\"white\",\"linecolor\":\"white\",\"minorgridcolor\":\"white\",\"startlinecolor\":\"#2a3f5f\"},\"baxis\":{\"endlinecolor\":\"#2a3f5f\",\"gridcolor\":\"white\",\"linecolor\":\"white\",\"minorgridcolor\":\"white\",\"startlinecolor\":\"#2a3f5f\"},\"type\":\"carpet\"}],\"table\":[{\"cells\":{\"fill\":{\"color\":\"#EBF0F8\"},\"line\":{\"color\":\"white\"}},\"header\":{\"fill\":{\"color\":\"#C8D4E3\"},\"line\":{\"color\":\"white\"}},\"type\":\"table\"}],\"barpolar\":[{\"marker\":{\"line\":{\"color\":\"#E5ECF6\",\"width\":0.5},\"pattern\":{\"fillmode\":\"overlay\",\"size\":10,\"solidity\":0.2}},\"type\":\"barpolar\"}],\"pie\":[{\"automargin\":true,\"type\":\"pie\"}]},\"layout\":{\"autotypenumbers\":\"strict\",\"colorway\":[\"#636efa\",\"#EF553B\",\"#00cc96\",\"#ab63fa\",\"#FFA15A\",\"#19d3f3\",\"#FF6692\",\"#B6E880\",\"#FF97FF\",\"#FECB52\"],\"font\":{\"color\":\"#2a3f5f\"},\"hovermode\":\"closest\",\"hoverlabel\":{\"align\":\"left\"},\"paper_bgcolor\":\"white\",\"plot_bgcolor\":\"#E5ECF6\",\"polar\":{\"bgcolor\":\"#E5ECF6\",\"angularaxis\":{\"gridcolor\":\"white\",\"linecolor\":\"white\",\"ticks\":\"\"},\"radialaxis\":{\"gridcolor\":\"white\",\"linecolor\":\"white\",\"ticks\":\"\"}},\"ternary\":{\"bgcolor\":\"#E5ECF6\",\"aaxis\":{\"gridcolor\":\"white\",\"linecolor\":\"white\",\"ticks\":\"\"},\"baxis\":{\"gridcolor\":\"white\",\"linecolor\":\"white\",\"ticks\":\"\"},\"caxis\":{\"gridcolor\":\"white\",\"linecolor\":\"white\",\"ticks\":\"\"}},\"coloraxis\":{\"colorbar\":{\"outlinewidth\":0,\"ticks\":\"\"}},\"colorscale\":{\"sequential\":[[0.0,\"#0d0887\"],[0.1111111111111111,\"#46039f\"],[0.2222222222222222,\"#7201a8\"],[0.3333333333333333,\"#9c179e\"],[0.4444444444444444,\"#bd3786\"],[0.5555555555555556,\"#d8576b\"],[0.6666666666666666,\"#ed7953\"],[0.7777777777777778,\"#fb9f3a\"],[0.8888888888888888,\"#fdca26\"],[1.0,\"#f0f921\"]],\"sequentialminus\":[[0.0,\"#0d0887\"],[0.1111111111111111,\"#46039f\"],[0.2222222222222222,\"#7201a8\"],[0.3333333333333333,\"#9c179e\"],[0.4444444444444444,\"#bd3786\"],[0.5555555555555556,\"#d8576b\"],[0.6666666666666666,\"#ed7953\"],[0.7777777777777778,\"#fb9f3a\"],[0.8888888888888888,\"#fdca26\"],[1.0,\"#f0f921\"]],\"diverging\":[[0,\"#8e0152\"],[0.1,\"#c51b7d\"],[0.2,\"#de77ae\"],[0.3,\"#f1b6da\"],[0.4,\"#fde0ef\"],[0.5,\"#f7f7f7\"],[0.6,\"#e6f5d0\"],[0.7,\"#b8e186\"],[0.8,\"#7fbc41\"],[0.9,\"#4d9221\"],[1,\"#276419\"]]},\"xaxis\":{\"gridcolor\":\"white\",\"linecolor\":\"white\",\"ticks\":\"\",\"title\":{\"standoff\":15},\"zerolinecolor\":\"white\",\"automargin\":true,\"zerolinewidth\":2},\"yaxis\":{\"gridcolor\":\"white\",\"linecolor\":\"white\",\"ticks\":\"\",\"title\":{\"standoff\":15},\"zerolinecolor\":\"white\",\"automargin\":true,\"zerolinewidth\":2},\"scene\":{\"xaxis\":{\"backgroundcolor\":\"#E5ECF6\",\"gridcolor\":\"white\",\"linecolor\":\"white\",\"showbackground\":true,\"ticks\":\"\",\"zerolinecolor\":\"white\",\"gridwidth\":2},\"yaxis\":{\"backgroundcolor\":\"#E5ECF6\",\"gridcolor\":\"white\",\"linecolor\":\"white\",\"showbackground\":true,\"ticks\":\"\",\"zerolinecolor\":\"white\",\"gridwidth\":2},\"zaxis\":{\"backgroundcolor\":\"#E5ECF6\",\"gridcolor\":\"white\",\"linecolor\":\"white\",\"showbackground\":true,\"ticks\":\"\",\"zerolinecolor\":\"white\",\"gridwidth\":2}},\"shapedefaults\":{\"line\":{\"color\":\"#2a3f5f\"}},\"annotationdefaults\":{\"arrowcolor\":\"#2a3f5f\",\"arrowhead\":0,\"arrowwidth\":1},\"geo\":{\"bgcolor\":\"white\",\"landcolor\":\"#E5ECF6\",\"subunitcolor\":\"white\",\"showland\":true,\"showlakes\":true,\"lakecolor\":\"white\"},\"title\":{\"x\":0.05},\"mapbox\":{\"style\":\"light\"}}},\"xaxis\":{\"anchor\":\"y\",\"domain\":[0.0,1.0],\"title\":{\"text\":\"C\\u00f3digo de Subcuenta\"},\"categoryorder\":\"array\",\"categoryarray\":[\"7003\",\"1101\",\"1401\",\"3193\",\"3412\",\"1201\",\"3683\",\"3410\",\"3902\",\"2494\"],\"tickangle\":-45},\"yaxis\":{\"anchor\":\"x\",\"domain\":[0.0,1.0],\"title\":{\"text\":\"Presupuesto Total\"}},\"legend\":{\"title\":{\"text\":\"C\\u00f3digo de Subcuenta\"},\"tracegroupgap\":0},\"title\":{\"text\":\"Top 10 Subcuentas con Mayor Presupuesto\"},\"barmode\":\"relative\"},                        {\"responsive\": true}                    ).then(function(){\n",
       "                            \n",
       "var gd = document.getElementById('5efc5f07-726d-4a55-90ba-c1c923f640e2');\n",
       "var x = new MutationObserver(function (mutations, observer) {{\n",
       "        var display = window.getComputedStyle(gd).display;\n",
       "        if (!display || display === 'none') {{\n",
       "            console.log([gd, 'removed!']);\n",
       "            Plotly.purge(gd);\n",
       "            observer.disconnect();\n",
       "        }}\n",
       "}});\n",
       "\n",
       "// Listen for the removal of the full notebook cells\n",
       "var notebookContainer = gd.closest('#notebook-container');\n",
       "if (notebookContainer) {{\n",
       "    x.observe(notebookContainer, {childList: true});\n",
       "}}\n",
       "\n",
       "// Listen for the clearing of the current output cell\n",
       "var outputEl = gd.closest('.output');\n",
       "if (outputEl) {{\n",
       "    x.observe(outputEl, {childList: true});\n",
       "}}\n",
       "\n",
       "                        })                };                });            </script>        </div>"
      ]
     },
     "metadata": {},
     "output_type": "display_data"
    }
   ],
   "source": [
    "\n",
    "if not subcuentas.empty:\n",
    "    top_subcuentas = subcuentas.groupby(\"ACCT\")[\"BUDGET\"].sum().sort_values(ascending=False).head(10)\n",
    "    df_top = top_subcuentas.reset_index()\n",
    "    df_top.columns = [\"Subcuenta\", \"Presupuesto\"]\n",
    "    \n",
    "    fig = px.bar(\n",
    "        df_top,\n",
    "        x=\"Subcuenta\",\n",
    "        y=\"Presupuesto\",\n",
    "        title=\"Top 10 Subcuentas con Mayor Presupuesto\",\n",
    "        labels={\"Subcuenta\": \"Código de Subcuenta\", \"Presupuesto\": \"Presupuesto Total\"},\n",
    "        text=\"Presupuesto\",\n",
    "        color=\"Subcuenta\",\n",
    "        color_discrete_sequence=px.colors.sequential.Plasma\n",
    "    )\n",
    "\n",
    "    fig.update_layout(xaxis_tickangle=-45)\n",
    "    fig.show()\n",
    "else:\n",
    "    print(\"No se encontraron subcuentas con ese nombre exacto.\")\n",
    "\n"
   ]
  },
  {
   "cell_type": "code",
   "execution_count": null,
   "id": "1f0a3daa-af23-456c-a366-ea8511af9b51",
   "metadata": {},
   "outputs": [],
   "source": []
  }
 ],
 "metadata": {
  "kernelspec": {
   "display_name": "Python 3 (ipykernel)",
   "language": "python",
   "name": "python3"
  },
  "language_info": {
   "codemirror_mode": {
    "name": "ipython",
    "version": 3
   },
   "file_extension": ".py",
   "mimetype": "text/x-python",
   "name": "python",
   "nbconvert_exporter": "python",
   "pygments_lexer": "ipython3",
   "version": "3.12.7"
  }
 },
 "nbformat": 4,
 "nbformat_minor": 5
}
